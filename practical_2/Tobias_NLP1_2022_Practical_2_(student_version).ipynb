{
  "cells": [
    {
      "cell_type": "markdown",
      "metadata": {
        "id": "ptMZZMQlfn7c"
      },
      "source": [
        "------\n",
        "**You cannot apply any changes to this file, so please make sure to save it on your Google Colab drive or download it as a .ipynb file.**\n",
        "\n",
        "------\n"
      ]
    },
    {
      "cell_type": "markdown",
      "metadata": {
        "id": "jILqpPLlE9r0"
      },
      "source": [
        "# Practical 2: Representing Sentences with Neural Models"
      ]
    },
    {
      "cell_type": "markdown",
      "metadata": {
        "id": "8JXOZ5uhQ8Qq"
      },
      "source": [
        "In this second practical, we will train neural network models to obtain sentence representations. We can then use these sentence representations for a downstream task such as sentiment classification. \n",
        "\n",
        "In this notebook, we will help you to develop models for your experiments. But this time, next to completing the notebook, **you are expected to write a four-page scientific report with your findings**. Please still submit the notebook together with your scientific report so that we can reproduce your experiments. (Note: if you find it useful, you can split this notebook into multiple notebooks. If you do so, keep it mind that it should be possible for your TAs to reproduce the entire content of the notebooks without having to ask for clarifications or to copy and paste functions from one sub-notebook to another.) Make sure your code corresponds to the description you give in the report; we will deduct points if this is not the case.\n",
        "\n",
        "**Important!** The main purpose of this lab is for you to learn how to answer research questions by experimenting and then writing a scientific report.\n",
        "So you will be *judged by the quality of your report* but will lose points if your experiments are not reproducible.\n",
        "You can find the requirements for the report at the end of this notebook.\n",
        "\n",
        "\n",
        "### Data set\n",
        "We will use the [Stanford Sentiment Treebank](https://nlp.stanford.edu/sentiment/) (SST), which provides sentences, their binary tree structure, and fine-grained sentiment scores.\n",
        "This dataset is different from the one we used in the first practical. \n",
        "In Practical 1, a review consisted of several sentences, and we had one sentiment score for the whole review. Now, a review consists of a single sentence, and we have a sentiment score for each node in the binary tree that makes up the sentence, including the root node (i.e., we still have an overall sentiment score for the entire review). We will look at an example below.\n",
        "\n",
        "In the first part of this practical we will only make use of the sentence tokens whereas in the second part we will also exploit the tree structure that is provided by the SST.\n",
        "\n",
        "We will cover the following approaches:\n",
        "\n",
        "- Bag-of-words (BOW)\n",
        "- Continuous bag-of-words (CBOW)\n",
        "- Deep continuous bag-of-words (Deep CBOW)\n",
        "- LSTM\n",
        "- Tree-LSTM\n"
      ]
    },
    {
      "cell_type": "markdown",
      "metadata": {
        "id": "YbNKef3lymaj"
      },
      "source": [
        "## Preparing the data"
      ]
    },
    {
      "cell_type": "markdown",
      "metadata": {
        "id": "9jxTkpg59FlU"
      },
      "source": [
        "Let's first download the data set and take a look."
      ]
    },
    {
      "cell_type": "code",
      "execution_count": 117,
      "metadata": {
        "id": "WZp53HmMP3F2"
      },
      "outputs": [],
      "source": [
        "import re\n",
        "import random\n",
        "import time\n",
        "import math\n",
        "import numpy as np\n",
        "import nltk\n",
        "import matplotlib.pyplot as plt\n",
        "plt.style.use('default')"
      ]
    },
    {
      "cell_type": "code",
      "execution_count": 118,
      "metadata": {
        "id": "TovFkDTgE_d6"
      },
      "outputs": [],
      "source": [
        "# !wget http://nlp.stanford.edu/sentiment/trainDevTestTrees_PTB.zip\n",
        "# !unzip trainDevTestTrees_PTB.zip"
      ]
    },
    {
      "cell_type": "code",
      "execution_count": 119,
      "metadata": {
        "id": "0IpAphkBO5eW"
      },
      "outputs": [],
      "source": [
        "# this function reads in a textfile and fixes an issue with \"\\\\\"\n",
        "def filereader(path): \n",
        "  with open(path, mode=\"r\", encoding=\"utf-8\") as f:\n",
        "    for line in f:\n",
        "      yield line.strip().replace(\"\\\\\",\"\")"
      ]
    },
    {
      "cell_type": "markdown",
      "metadata": {
        "id": "yP_jpquiprH8"
      },
      "source": [
        "Let's look at a data point. It is a **flattened binary tree**, with sentiment scores at every node, and words as the leaves (or *terminal nodes*)."
      ]
    },
    {
      "cell_type": "code",
      "execution_count": 120,
      "metadata": {
        "colab": {
          "base_uri": "https://localhost:8080/"
        },
        "id": "ylkIopm0QJML",
        "outputId": "684ccf57-9d6d-42e2-da73-832df5caf85f"
      },
      "outputs": [
        {
          "output_type": "stream",
          "name": "stdout",
          "text": [
            "(3 (2 It) (4 (4 (2 's) (4 (3 (2 a) (4 (3 lovely) (2 film))) (3 (2 with) (4 (3 (3 lovely) (2 performances)) (2 (2 by) (2 (2 (2 Buy) (2 and)) (2 Accorsi))))))) (2 .)))\n"
          ]
        }
      ],
      "source": [
        "s = next(filereader(\"trees/dev.txt\"))\n",
        "print(s)"
      ]
    },
    {
      "cell_type": "code",
      "execution_count": 121,
      "metadata": {
        "id": "7_U7HTFwdrWt"
      },
      "outputs": [],
      "source": [
        "# We can use NLTK to better visualise the tree structure of the sentence\n",
        "from nltk import Tree\n",
        "from nltk.treeprettyprinter import TreePrettyPrinter\n",
        "tree = Tree.fromstring(s)\n",
        "\n"
      ]
    },
    {
      "cell_type": "markdown",
      "metadata": {
        "id": "ekAWKsji9t93"
      },
      "source": [
        "The sentiment scores range from 0 (very negative) to 5 (very positive). Again, as you can see, every node in the tree is labeled with a sentiment score. For now, we will only use the score at the **root node**, i.e., the sentiment score for the complete sentence."
      ]
    },
    {
      "cell_type": "code",
      "execution_count": 122,
      "metadata": {
        "colab": {
          "base_uri": "https://localhost:8080/"
        },
        "id": "DKynLm0xPKr2",
        "outputId": "82156351-f4d3-4060-c3e3-f885a5076d10"
      },
      "outputs": [
        {
          "output_type": "stream",
          "name": "stdout",
          "text": [
            "['It', \"'s\", 'a', 'lovely', 'film', 'with', 'lovely', 'performances', 'by', 'Buy', 'and', 'Accorsi', '.']\n",
            "13\n"
          ]
        }
      ],
      "source": [
        "# Let's first make a function that extracts the tokens (the leaves).\n",
        "\n",
        "def tokens_from_treestring(s):\n",
        "  \"\"\"extract the tokens from a sentiment tree\"\"\"\n",
        "  return re.sub(r\"\\([0-9] |\\)\", \"\", s).split()\n",
        " \n",
        "# let's try it on our example tree\n",
        "tokens = tokens_from_treestring(s)\n",
        "print(tokens)\n",
        "print(len(tokens))"
      ]
    },
    {
      "cell_type": "markdown",
      "metadata": {
        "id": "B8vFkeqN-NLP"
      },
      "source": [
        "> *Warning: you could also parse a treestring using NLTK and ask it to return the leaves, but there seems to be an issue with NLTK not always correctly parsing the input, so do not rely on it.*"
      ]
    },
    {
      "cell_type": "code",
      "execution_count": 123,
      "metadata": {
        "id": "Akr9K_Mv4dym"
      },
      "outputs": [],
      "source": [
        "# We will also need the following function, but you can ignore this for now.\n",
        "# It is explained later on.\n",
        "\n",
        "SHIFT = 0\n",
        "REDUCE = 1\n",
        "\n",
        "\n",
        "def transitions_from_treestring(s):\n",
        "  s = re.sub(\"\\([0-5] ([^)]+)\\)\", \"0\", s)\n",
        "  s = re.sub(\"\\)\", \" )\", s)\n",
        "  s = re.sub(\"\\([0-4] \", \"\", s)\n",
        "  s = re.sub(\"\\([0-4] \", \"\", s)\n",
        "  s = re.sub(\"\\)\", \"1\", s)\n",
        "  return list(map(int, s.split()))"
      ]
    },
    {
      "cell_type": "code",
      "execution_count": 124,
      "metadata": {
        "colab": {
          "base_uri": "https://localhost:8080/"
        },
        "id": "mNtPdlwPgRat",
        "outputId": "6f3f80ff-cc32-4f93-b537-8e9a2c101bb5"
      },
      "outputs": [
        {
          "output_type": "stream",
          "name": "stdout",
          "text": [
            "trees/train.txt  8544\n",
            "trees/dev.txt    1101\n",
            "trees/test.txt   2210\n"
          ]
        }
      ],
      "source": [
        "# Now let's first see how large our data sets are.\n",
        "for path in (\"trees/train.txt\", \"trees/dev.txt\", \"trees/test.txt\"):\n",
        "  print(\"{:16s} {:4d}\".format(path, sum(1 for _ in filereader(path))))"
      ]
    },
    {
      "cell_type": "markdown",
      "metadata": {
        "id": "HexlSqTR_UrY"
      },
      "source": [
        "You can see that the number of sentences is not very large. That's probably because the data set required so much manual annotation. However, it is large enough to train a neural network on."
      ]
    },
    {
      "cell_type": "markdown",
      "metadata": {
        "id": "IfRjelOcsXuC"
      },
      "source": [
        "It will be useful to store each data example in an `Example` object,\n",
        "containing everything that we may need for each data point.\n",
        "It will contain the tokens, the tree, the top-level sentiment label, and \n",
        "the transitions (explained later)."
      ]
    },
    {
      "cell_type": "code",
      "execution_count": 245,
      "metadata": {
        "colab": {
          "base_uri": "https://localhost:8080/"
        },
        "id": "4I07Hb_-q8wg",
        "outputId": "f0da2392-77db-4ef3-97b5-20c6fe2528fc"
      },
      "outputs": [
        {
          "output_type": "stream",
          "name": "stdout",
          "text": [
            "train 8544\n",
            "dev 1101\n",
            "test 2210\n"
          ]
        }
      ],
      "source": [
        "from collections import namedtuple\n",
        "from nltk import Tree\n",
        "\n",
        "# A simple way to define a class is using namedtuple.\n",
        "Example = namedtuple(\"Example\", [\"tokens\", \"tree\", \"label\", \"transitions\"])\n",
        "\n",
        "   \n",
        "def examplereader(path, lower=False):\n",
        "  \"\"\"Returns all examples in a file one by one.\"\"\"\n",
        "  for line in filereader(path):\n",
        "    line = line.lower() if lower else line\n",
        "    tokens = tokens_from_treestring(line)\n",
        "    tree = Tree.fromstring(line)  # use NLTK's Tree\n",
        "    label = int(line[1])\n",
        "    trans = transitions_from_treestring(line)\n",
        "    yield Example(tokens=tokens, tree=tree, label=label, transitions=trans)\n",
        "\n",
        "def examplereader_subtrees(path, lower=False):\n",
        "  \"\"\"Returns all examples in a file one by one.\"\"\"\n",
        "  for line in filereader(path):\n",
        "    line = line.lower() if lower else line\n",
        "    tokens = tokens_from_treestring(line)\n",
        "    tree = Tree.fromstring(line)\n",
        "    sub_trees = tree.subtrees()\n",
        "    for sub_tree in sub_trees: # use NLTK's Tree. \n",
        "        label = int(sub_tree._label)\n",
        "        trans = compute_transition(sub_tree, [])\n",
        "        tokens = sub_tree.leaves()\n",
        "        yield Example(tokens=tokens, tree=tree, label=label, transitions=trans)\n",
        "     \n",
        "def examplereader_w_subtrees(path, lower=False):\n",
        "  \"\"\"Returns all examples in a file one by one.\"\"\"\n",
        "  for line in filereader(path):\n",
        "    line = line.lower() if lower else line\n",
        "    tokens = tokens_from_treestring(line)\n",
        "    tree = Tree.fromstring(line)\n",
        "    subtrees = tree.subtrees()\n",
        "    for sub_tree in subtrees:\n",
        "       line = ' '.join(str(sub_tree).split())  # use NLTK's Tree\n",
        "       label = int(line[1])\n",
        "       trans = transitions_from_treestring(line)\n",
        "       yield Example(tokens=tokens, tree=sub_tree, label=label, transitions=trans)\n",
        "\n",
        "def compute_transition(tree, res):\n",
        "  if len(tree)==1:\n",
        "    res.append(0)\n",
        "    return res\n",
        "  for node in tree:\n",
        "    compute_transition(node, res)\n",
        "  res.append(1)\n",
        "  return res\n",
        "\n",
        "\n",
        "# Let's load the data into memory.\n",
        "LOWER = False  # we will keep the original casing\n",
        "train_data = list(examplereader(\"trees/train.txt\", lower=LOWER))\n",
        "train_data2 = list(examplereader_subtrees(\"trees/train.txt\", lower=LOWER))\n",
        "train_data3 = list(examplereader_w_subtrees(\"trees/train.txt\", lower=LOWER))\n",
        "dev_data = list(examplereader(\"trees/dev.txt\", lower=LOWER))\n",
        "test_data = list(examplereader(\"trees/test.txt\", lower=LOWER))\n",
        "\n",
        "# print(\"train3\", len(train_data3))\n",
        "# print(\"train2\", len(train_data2))\n",
        "print(\"train\", len(train_data))\n",
        "print(\"dev\", len(dev_data))\n",
        "print(\"test\", len(test_data))"
      ]
    },
    {
      "cell_type": "markdown",
      "metadata": {
        "id": "6KM0bDyeVZtP"
      },
      "source": [
        "Let's check out an `Example` object."
      ]
    },
    {
      "cell_type": "code",
      "execution_count": 170,
      "metadata": {
        "colab": {
          "base_uri": "https://localhost:8080/"
        },
        "id": "J8mwcaZwxP1c",
        "outputId": "47ee59fd-0d65-4b75-ae9c-2a80e9b0c49b"
      },
      "outputs": [
        {
          "output_type": "stream",
          "name": "stdout",
          "text": [
            "First example: Example(tokens=['It', \"'s\", 'a', 'lovely', 'film', 'with', 'lovely', 'performances', 'by', 'Buy', 'and', 'Accorsi', '.'], tree=Tree('3', [Tree('2', ['It']), Tree('4', [Tree('4', [Tree('2', [\"'s\"]), Tree('4', [Tree('3', [Tree('2', ['a']), Tree('4', [Tree('3', ['lovely']), Tree('2', ['film'])])]), Tree('3', [Tree('2', ['with']), Tree('4', [Tree('3', [Tree('3', ['lovely']), Tree('2', ['performances'])]), Tree('2', [Tree('2', ['by']), Tree('2', [Tree('2', [Tree('2', ['Buy']), Tree('2', ['and'])]), Tree('2', ['Accorsi'])])])])])])]), Tree('2', ['.'])])]), label=3, transitions=[0, 0, 0, 0, 0, 1, 1, 0, 0, 0, 1, 0, 0, 0, 1, 0, 1, 1, 1, 1, 1, 1, 0, 1, 1])\n",
            "First example tokens: ['It', \"'s\", 'a', 'lovely', 'film', 'with', 'lovely', 'performances', 'by', 'Buy', 'and', 'Accorsi', '.']\n",
            "First example label: 3\n"
          ]
        }
      ],
      "source": [
        "example = dev_data[0]\n",
        "print(\"First example:\", example)\n",
        "print(\"First example tokens:\", example.tokens)\n",
        "print(\"First example label:\",  example.label)"
      ]
    },
    {
      "cell_type": "markdown",
      "metadata": {
        "id": "-WDSprDBVcr-"
      },
      "source": [
        "#### Vocabulary \n",
        "A first step in most NLP tasks is collecting all the word types that appear in the data into a vocabulary, and counting the frequency of their occurrences. On the one hand, this will give us an overview of the word distribution of the data set (what are the most frequent words, how many rare words are there, ...). On the other hand, we will also use the vocabulary to map each word to a unique numeric ID, which is a more handy index than a string."
      ]
    },
    {
      "cell_type": "code",
      "execution_count": 171,
      "metadata": {
        "id": "VvNgKx7usRSt"
      },
      "outputs": [],
      "source": [
        "# Here we first define a class that can map a word to an ID (w2i)\n",
        "# and back (i2w).\n",
        "\n",
        "from collections import Counter, OrderedDict, defaultdict\n",
        "\n",
        "\n",
        "class OrderedCounter(Counter, OrderedDict):\n",
        "  \"\"\"Counter that remembers the order elements are first seen\"\"\"\n",
        "  def __repr__(self):\n",
        "    return '%s(%r)' % (self.__class__.__name__,\n",
        "                      OrderedDict(self))\n",
        "  def __reduce__(self):\n",
        "    return self.__class__, (OrderedDict(self),)\n",
        "\n",
        "\n",
        "class Vocabulary:\n",
        "  \"\"\"A vocabulary, assigns IDs to tokens\"\"\"\n",
        "  \n",
        "  def __init__(self):\n",
        "    self.freqs = OrderedCounter()\n",
        "    self.w2i = {}\n",
        "    self.i2w = []\n",
        "\n",
        "  def count_token(self, t):\n",
        "    self.freqs[t] += 1\n",
        "    \n",
        "  def add_token(self, t):\n",
        "    self.w2i[t] = len(self.w2i)\n",
        "    self.i2w.append(t)    \n",
        "    \n",
        "  def build(self, min_freq=0):\n",
        "    '''\n",
        "    min_freq: minimum number of occurrences for a word to be included  \n",
        "              in the vocabulary\n",
        "    '''\n",
        "    self.add_token(\"<unk>\")  # reserve 0 for <unk> (unknown words)\n",
        "    self.add_token(\"<pad>\")  # reserve 1 for <pad> (discussed later)   \n",
        "    \n",
        "    tok_freq = list(self.freqs.items())\n",
        "    tok_freq.sort(key=lambda x: x[1], reverse=True)\n",
        "    for tok, freq in tok_freq:\n",
        "      if freq >= min_freq:\n",
        "        self.add_token(tok)"
      ]
    },
    {
      "cell_type": "markdown",
      "metadata": {
        "id": "kOvkH_llVsoW"
      },
      "source": [
        "The vocabulary has by default an `<unk>` token and a `<pad>` token. The `<unk>` token is reserved for all words which do not appear in the training data (and for which, therefore, we cannot learn word representations). The function of the `<pad>` token will be explained later.\n",
        "\n",
        "\n",
        "Let's build the vocabulary!\n"
      ]
    },
    {
      "cell_type": "code",
      "execution_count": 172,
      "metadata": {
        "colab": {
          "base_uri": "https://localhost:8080/"
        },
        "id": "GwGQgQQBNUSq",
        "outputId": "4274a48a-ae7d-4030-ff28-cf42ba7a0d10"
      },
      "outputs": [
        {
          "output_type": "stream",
          "name": "stdout",
          "text": [
            "Vocabulary size: 18280\n"
          ]
        }
      ],
      "source": [
        "# This process should be deterministic and should have the same result \n",
        "# if run multiple times on the same data set.\n",
        "\n",
        "v = Vocabulary()\n",
        "for data_set in (train_data,):\n",
        "  for ex in data_set:\n",
        "    for token in ex.tokens:\n",
        "      v.count_token(token)\n",
        "\n",
        "v.build()\n",
        "print(\"Vocabulary size:\", len(v.w2i))"
      ]
    },
    {
      "cell_type": "markdown",
      "metadata": {
        "id": "-UNIedPrPdCw"
      },
      "source": [
        "Let's have a closer look at the properties of our vocabulary. Having a good idea of what it is like can facilitate data analysis and debugging later on."
      ]
    },
    {
      "cell_type": "code",
      "execution_count": 173,
      "metadata": {
        "colab": {
          "base_uri": "https://localhost:8080/"
        },
        "id": "oJyuogmh0CA7",
        "outputId": "864d99c3-d21b-48bf-b7d0-04e270030b4c"
      },
      "outputs": [
        {
          "output_type": "stream",
          "name": "stdout",
          "text": [
            "1973\n"
          ]
        }
      ],
      "source": [
        "# What is the ID for \"century?\"\n",
        "print(v.w2i[\"century\"])"
      ]
    },
    {
      "cell_type": "code",
      "execution_count": 174,
      "metadata": {
        "colab": {
          "base_uri": "https://localhost:8080/"
        },
        "id": "O8OkPQ8Zv-rI",
        "outputId": "1baf6349-689a-4a5a-ec57-f713f66b0ba0"
      },
      "outputs": [
        {
          "output_type": "stream",
          "name": "stdout",
          "text": [
            "['<unk>', '<pad>', '.', ',', 'the', 'and', 'a', 'of', 'to', \"'s\"]\n"
          ]
        }
      ],
      "source": [
        "# What are the first 10 words in the vocabulary (based on their IDs)?\n",
        "print(v.i2w[:10])"
      ]
    },
    {
      "cell_type": "code",
      "execution_count": 175,
      "metadata": {
        "colab": {
          "base_uri": "https://localhost:8080/"
        },
        "id": "kmXwu02lOLWI",
        "outputId": "e8cfbf3a-c123-4282-9acf-403d2441e0a6"
      },
      "outputs": [
        {
          "output_type": "stream",
          "name": "stdout",
          "text": [
            "[('.', 8024), (',', 7131), ('the', 6037), ('and', 4431), ('a', 4403), ('of', 4386), ('to', 2995), (\"'s\", 2544), ('is', 2536), ('that', 1915)]\n"
          ]
        }
      ],
      "source": [
        "# What are the 10 most common words?\n",
        "print(v.freqs.most_common(10))"
      ]
    },
    {
      "cell_type": "code",
      "execution_count": 176,
      "metadata": {
        "colab": {
          "base_uri": "https://localhost:8080/"
        },
        "id": "__NDPaCeOT_m",
        "outputId": "73bee312-86fe-4618-9553-3af36624ba9e"
      },
      "outputs": [
        {
          "output_type": "stream",
          "name": "stdout",
          "text": [
            "9543\n"
          ]
        }
      ],
      "source": [
        "# And how many words are there with frequency 1?\n",
        "# (A fancy name for these is hapax legomena.)\n",
        "print(sum(1 for w, f in v.freqs.items() if f == 1))"
      ]
    },
    {
      "cell_type": "code",
      "execution_count": 177,
      "metadata": {
        "colab": {
          "base_uri": "https://localhost:8080/"
        },
        "id": "xKHocugctZGM",
        "outputId": "77d61fbc-f17c-4b70-ed0d-3902eb2a5621"
      },
      "outputs": [
        {
          "output_type": "stream",
          "name": "stdout",
          "text": [
            "['Spike', 'off-handed', 'prod', '26-year-old', 'half-hearted', 'subtlest', 'zinger-filled', 'graphics', 'bowser', 'ample', 'Sontag', 'connoisseurs', 'sure', 'reeked', 'teasing', 'Mulholland', 'sexploitation', 'disappointments', 'outpaces', 'claws']\n"
          ]
        }
      ],
      "source": [
        "# Finally 20 random words from the vocabulary.\n",
        "# This is a simple way to get a feeling for the data. \n",
        "# You could use the `choice` function from the already imported `random` package\n",
        "print(random.sample(v.i2w, 20))"
      ]
    },
    {
      "cell_type": "markdown",
      "metadata": {
        "id": "nGWaZahKV_dH"
      },
      "source": [
        "#### Sentiment label vocabulary"
      ]
    },
    {
      "cell_type": "code",
      "execution_count": 178,
      "metadata": {
        "colab": {
          "base_uri": "https://localhost:8080/"
        },
        "id": "AmTC-rvQelpl",
        "outputId": "308bc581-8df0-430e-8f7c-73880d2eb5f9"
      },
      "outputs": [
        {
          "output_type": "stream",
          "name": "stdout",
          "text": [
            "['very negative', 'negative', 'neutral', 'positive', 'very positive']\n",
            "very positive\n"
          ]
        }
      ],
      "source": [
        "# Now let's map the sentiment labels 0-4 to a more readable form\n",
        "i2t = [\"very negative\", \"negative\", \"neutral\", \"positive\", \"very positive\"]\n",
        "print(i2t)\n",
        "print(i2t[4])"
      ]
    },
    {
      "cell_type": "code",
      "execution_count": 179,
      "metadata": {
        "colab": {
          "base_uri": "https://localhost:8080/"
        },
        "id": "D7UI26DP2dr2",
        "outputId": "3e9b5005-8884-47c7-cb93-f3e725286c6d"
      },
      "outputs": [
        {
          "output_type": "stream",
          "name": "stdout",
          "text": [
            "OrderedDict([('very negative', 0), ('negative', 1), ('neutral', 2), ('positive', 3), ('very positive', 4)])\n",
            "4\n"
          ]
        }
      ],
      "source": [
        "# And let's also create the opposite mapping.\n",
        "# We won't use a Vocabulary for this (although we could), since the labels\n",
        "# are already numeric.\n",
        "t2i = OrderedDict({p : i for p, i in zip(i2t, range(len(i2t)))})\n",
        "print(t2i)\n",
        "print(t2i['very positive'])"
      ]
    },
    {
      "cell_type": "markdown",
      "metadata": {
        "id": "y0067ax54-rd"
      },
      "source": [
        "## PyTorch\n",
        "\n",
        "In Colab notebooks, the last available version of PyTorch is already installed.The current stable version is 1.7.\n",
        "\n",
        "*For installing PyTorch in your own computer, follow the instructions on [pytorch.org](pytorch.org) instead. This is for Google Colab only.*"
      ]
    },
    {
      "cell_type": "code",
      "execution_count": 180,
      "metadata": {
        "colab": {
          "base_uri": "https://localhost:8080/"
        },
        "id": "qKQMGtkR5KWr",
        "outputId": "dbe68b6e-d32d-4ad5-f9e8-220712ad1c7c"
      },
      "outputs": [
        {
          "output_type": "stream",
          "name": "stdout",
          "text": [
            "Using torch 1.13.0+cu116\n"
          ]
        }
      ],
      "source": [
        "import torch\n",
        "print(\"Using torch\", torch.__version__) # should say 1.7.0+cu101"
      ]
    },
    {
      "cell_type": "code",
      "execution_count": 181,
      "metadata": {
        "id": "mnvPcd_E1xH8"
      },
      "outputs": [],
      "source": [
        "# Let's also import torch.nn, a PyTorch package that  \n",
        "# makes building neural networks more convenient.\n",
        "from torch import nn"
      ]
    },
    {
      "cell_type": "code",
      "execution_count": 182,
      "metadata": {
        "colab": {
          "base_uri": "https://localhost:8080/"
        },
        "id": "BYt8uTyGCKc7",
        "outputId": "d6efccc6-0ea4-43f6-8ab2-72f282f83907"
      },
      "outputs": [
        {
          "output_type": "execute_result",
          "data": {
            "text/plain": [
              "device(type='cuda')"
            ]
          },
          "metadata": {},
          "execution_count": 182
        }
      ],
      "source": [
        "# PyTorch can run on CPU or on Nvidia GPU (video card) using CUDA\n",
        "# This cell selects the GPU if one is available.\n",
        "device = torch.device('cuda' if torch.cuda.is_available() else 'cpu')\n",
        "device"
      ]
    },
    {
      "cell_type": "code",
      "execution_count": 183,
      "metadata": {
        "id": "2d1VMOOYx1Bw"
      },
      "outputs": [],
      "source": [
        "# Seed manually to make runs reproducible\n",
        "# You need to set this again if you do multiple runs of the same model\n",
        "torch.manual_seed(42)\n",
        "\n",
        "# When running on the CuDNN backend two further options must be set for reproducibility\n",
        "if torch.cuda.is_available():\n",
        "  torch.backends.cudnn.deterministic = True\n",
        "  torch.backends.cudnn.benchmark = False"
      ]
    },
    {
      "cell_type": "markdown",
      "metadata": {
        "id": "uWBTzkuE3CtZ"
      },
      "source": [
        "# BOW"
      ]
    },
    {
      "cell_type": "markdown",
      "metadata": {
        "id": "TBAjYYySOA5W"
      },
      "source": [
        "Our first model is a rather simple neural **bag-of-words (BOW) model**.\n",
        "Unlike the bag-of-words model that you used in the previous lab, where we would look at the presence / frequency of words in a text, here we associate each word with a multi-dimensional vector which expresses what sentiment is conveyed by the word. In particular, our BOW vectors will be of size 5, exactly our number of sentiment classes. \n",
        "\n",
        "To classify a sentence, we **sum** the vectors of the words in the sentence and a bias vector. Because we sum the vectors, we lose word order: that's why we call this a neural bag-of-words model.\n",
        "\n",
        "```\n",
        "this   [0.0, 0.1, 0.1, 0.1, 0.0]\n",
        "movie  [0.0, 0.1, 0.1, 0.2, 0.1]\n",
        "is     [0.0, 0.1, 0.0, 0.0, 0.0]\n",
        "stupid [0.9, 0.5, 0.1, 0.0, 0.0]\n",
        "\n",
        "bias   [0.0, 0.0, 0.0, 0.0, 0.0]\n",
        "--------------------------------\n",
        "sum    [0.9, 0.8, 0.3, 0.3, 0.1]\n",
        "\n",
        "argmax: 0 (very negative)\n",
        "```\n",
        "\n",
        "The **argmax** of this sum is our predicted label.\n",
        "\n",
        "We initialize all vectors *randomly* and train them using cross-entropy loss."
      ]
    },
    {
      "cell_type": "markdown",
      "metadata": {
        "id": "rLtBAIQGynkB"
      },
      "source": [
        "#### Model class"
      ]
    },
    {
      "cell_type": "code",
      "execution_count": 184,
      "metadata": {
        "id": "QZfNklWf3tvs"
      },
      "outputs": [],
      "source": [
        "class BOW(nn.Module):\n",
        "  \"\"\"A simple bag-of-words model\"\"\"\n",
        "\n",
        "  def __init__(self, vocab_size, embedding_dim, vocab):\n",
        "    super(BOW, self).__init__()\n",
        "    self.vocab = vocab\n",
        "    \n",
        "    # this is a trainable look-up table with word embeddings\n",
        "    self.embed = nn.Embedding(vocab_size, embedding_dim)\n",
        "    \n",
        "    # this is a trainable bias term\n",
        "    self.bias = nn.Parameter(torch.zeros(embedding_dim), requires_grad=True)        \n",
        "\n",
        "  def forward(self, inputs):\n",
        "    # this is the forward pass of the neural network\n",
        "    # it applies a function to the input and returns the output\n",
        "\n",
        "    # this looks up the embeddings for each word ID in inputs\n",
        "    # the result is a sequence of word embeddings\n",
        "    embeds = self.embed(inputs)\n",
        "    \n",
        "    # the output is the sum across the time dimension (1)\n",
        "    # with the bias term added\n",
        "    logits = embeds.sum(1) + self.bias\n",
        "\n",
        "    return logits"
      ]
    },
    {
      "cell_type": "code",
      "execution_count": 185,
      "metadata": {
        "colab": {
          "base_uri": "https://localhost:8080/"
        },
        "id": "eKHvBnoBAr6z",
        "outputId": "9b68b3ad-6945-4b26-b300-6ed8548610ee"
      },
      "outputs": [
        {
          "output_type": "stream",
          "name": "stdout",
          "text": [
            "BOW(\n",
            "  (embed): Embedding(18280, 5)\n",
            ")\n"
          ]
        }
      ],
      "source": [
        "# Let's create a model.\n",
        "vocab_size = len(v.w2i)\n",
        "n_classes = len(t2i)\n",
        "bow_model = BOW(vocab_size, n_classes, v)\n",
        "print(bow_model)"
      ]
    },
    {
      "cell_type": "markdown",
      "metadata": {
        "id": "vfCx-HvMH1qQ"
      },
      "source": [
        "> **Hey, wait, where is the bias vector?**\n",
        "> PyTorch does not print Parameters, only Modules!\n",
        "\n",
        "> We can print it ourselves though, to check that it is there."
      ]
    },
    {
      "cell_type": "code",
      "execution_count": 186,
      "metadata": {
        "colab": {
          "base_uri": "https://localhost:8080/"
        },
        "id": "Fhvk5HenAroT",
        "outputId": "b209507d-7c23-4f68-b376-6c0c4a00608c"
      },
      "outputs": [
        {
          "output_type": "stream",
          "name": "stdout",
          "text": [
            "bias                     [5]          requires_grad=True\n",
            "embed.weight             [18280, 5]   requires_grad=True\n",
            "\n",
            "Total number of parameters: 91405\n",
            "\n"
          ]
        }
      ],
      "source": [
        "\n",
        "# Here we print each parameter name, shape, and if it is trainable.\n",
        "def print_parameters(model):\n",
        "  total = 0\n",
        "  for name, p in model.named_parameters():\n",
        "    total += np.prod(p.shape)\n",
        "    print(\"{:24s} {:12s} requires_grad={}\".format(name, str(list(p.shape)), p.requires_grad))\n",
        "  print(\"\\nTotal number of parameters: {}\\n\".format(total))\n",
        "    \n",
        "\n",
        "print_parameters(bow_model)"
      ]
    },
    {
      "cell_type": "markdown",
      "metadata": {
        "id": "WSAw292WxuP4"
      },
      "source": [
        "#### Preparing an example for input\n",
        "\n",
        "To feed sentences to our PyTorch model, we need to convert a sequence of tokens to a sequence of IDs. The `prepare_example` function below takes care of this for us. We then use these IDs as indices for the word embedding table. "
      ]
    },
    {
      "cell_type": "code",
      "execution_count": 187,
      "metadata": {
        "id": "YWeGTC_OGReV"
      },
      "outputs": [],
      "source": [
        "def prepare_example(example, vocab):\n",
        "  \"\"\"\n",
        "  Map tokens to their IDs for a single example\n",
        "  \"\"\"\n",
        "  \n",
        "  # vocab returns 0 if the word is not there (i2w[0] = <unk>)\n",
        "  x = [vocab.w2i.get(t, 0) for t in example.tokens]\n",
        "  \n",
        "  x = torch.LongTensor([x])\n",
        "  x = x.to(device)\n",
        "  \n",
        "  y = torch.LongTensor([example.label])\n",
        "  y = y.to(device)\n",
        "  \n",
        "  return x, y"
      ]
    },
    {
      "cell_type": "code",
      "execution_count": 188,
      "metadata": {
        "colab": {
          "base_uri": "https://localhost:8080/"
        },
        "id": "sfbdv9px3uFF",
        "outputId": "11e1f11a-20c9-4c1d-bee5-3eb784a8d3e6"
      },
      "outputs": [
        {
          "output_type": "stream",
          "name": "stdout",
          "text": [
            "x: tensor([[  28,    9,    6,  998,   16,   18,  998,  135,   32, 7688,    5,    0,\n",
            "            2]], device='cuda:0')\n",
            "y: tensor([3], device='cuda:0')\n"
          ]
        }
      ],
      "source": [
        "x, y = prepare_example(dev_data[0], v)\n",
        "print('x:', x)\n",
        "print('y:', y)"
      ]
    },
    {
      "cell_type": "markdown",
      "metadata": {
        "id": "oKNQjEc0yXnJ"
      },
      "source": [
        "#### Evaluation\n",
        "We now need to define an evaluation metric.\n",
        "How many predictions do we get right? The accuracy will tell us.\n",
        "Make sure that you understand this code block.\n"
      ]
    },
    {
      "cell_type": "code",
      "execution_count": 189,
      "metadata": {
        "id": "yGmQLcVYKZsh"
      },
      "outputs": [],
      "source": [
        "def simple_evaluate(model, data, prep_fn=prepare_example, **kwargs):\n",
        "  \"\"\"Accuracy of a model on given data set.\"\"\"\n",
        "  correct = 0\n",
        "  total = 0\n",
        "  model.eval()  # disable dropout (explained later)\n",
        "\n",
        "  for example in data:\n",
        "    \n",
        "    # convert the example input and label to PyTorch tensors\n",
        "    x, target = prep_fn(example, model.vocab)\n",
        "\n",
        "    # forward pass without backpropagation (no_grad)\n",
        "    # get the output from the neural network for input x\n",
        "    with torch.no_grad():\n",
        "      logits = model(x)\n",
        "    \n",
        "    # get the prediction\n",
        "    prediction = logits.argmax(dim=-1)\n",
        "    \n",
        "    # add the number of correct predictions to the total correct\n",
        "    correct += (prediction == target).sum().item()\n",
        "    total += 1\n",
        "\n",
        "  return correct, total, correct / float(total)"
      ]
    },
    {
      "cell_type": "markdown",
      "metadata": {
        "id": "5KlIGFXllWWm"
      },
      "source": [
        "We are using accuracy as a handy evaluation metric. Please consider using [alternative metrics](https://scikit-learn.org/stable/modules/classes.html#classification-metrics) for your experiments if that makes more theoretical sense. "
      ]
    },
    {
      "cell_type": "markdown",
      "metadata": {
        "id": "dIk6OtSdzGRP"
      },
      "source": [
        "#### Example feed\n",
        "For stochastic gradient descent (SGD) we will need a random training example for every update.\n",
        "We implement this by shuffling the training data and returning examples one by one using `yield`.\n",
        "\n",
        "Shuffling is optional so that we get to use this function to get validation and test examples, too."
      ]
    },
    {
      "cell_type": "code",
      "execution_count": 190,
      "metadata": {
        "id": "dxDFOZLfCXvJ"
      },
      "outputs": [],
      "source": [
        "def get_examples(data, shuffle=True, **kwargs):\n",
        "  \"\"\"Shuffle data set and return 1 example at a time (until nothing left)\"\"\"\n",
        "  if shuffle:\n",
        "    print(\"Shuffling training data\")\n",
        "    random.shuffle(data)  # shuffle training data each epoch\n",
        "  for example in data:\n",
        "    yield example"
      ]
    },
    {
      "cell_type": "markdown",
      "metadata": {
        "id": "g09SM8yb2cjx"
      },
      "source": [
        "#### Exercise: Training function\n",
        "\n",
        "Your task is now to complete the training loop below.\n",
        "Before you do so, please read the section about optimisation."
      ]
    },
    {
      "cell_type": "markdown",
      "metadata": {
        "id": "TVfUukVdM_1c"
      },
      "source": [
        "**Optimisation**\n",
        "\n",
        "As mentioned in the \"Intro to PyTorch\" notebook, one of the perks of using PyTorch is automatic differentiation. We will use it to train our BOW model. \n",
        "\n",
        "We train our model by feeding it an input, performing a **forward** pass, obtaining an output prediction, and calculating a **loss** with our loss function.\n",
        "After the gradients are computed in the **backward** pass, we can take a step on the surface of the loss function towards more optimal parameter settings (gradient descent). \n",
        "\n",
        "The package we will use to do this optimisation is [torch.optim](https://pytorch.org/docs/stable/optim.html). "
      ]
    },
    {
      "cell_type": "code",
      "execution_count": 191,
      "metadata": {
        "id": "KhQigDrQ--YU"
      },
      "outputs": [],
      "source": [
        "from torch import optim\n",
        "\n"
      ]
    },
    {
      "cell_type": "markdown",
      "metadata": {
        "id": "wGIvcTZU_Cez"
      },
      "source": [
        "Besides implementations of stochastic gradient descent (SGD), this package also implements the optimisation algorithm Adam, which we'll be using in this practical. \n",
        "For the purposes of this assignment you do not need to know what Adam does besides that it uses gradient information to update our model parameters by calling: \n",
        "\n",
        "```\n",
        "optimizer.step()\n",
        "```\n",
        "Remember when we updated our parameters in the PyTorch tutorial in a loop?\n",
        "\n",
        "\n",
        "```python\n",
        "# update weights\n",
        "learning_rate = 0.5\n",
        "for f in net.parameters():\n",
        "    # for each parameter, take a small step in the opposite dir of the gradient\n",
        "    p.data = p.data - p.grad.data * learning_rate\n",
        "\n",
        "```\n",
        "The function call optimizer.step() does effectively the same thing.\n",
        "\n",
        "*(If you want to know more about optimisation algorithms using gradient information, [this blog](http://ruder.io/optimizing-gradient-descent/.) gives a nice intuitive overview.)*"
      ]
    },
    {
      "cell_type": "code",
      "execution_count": 192,
      "metadata": {
        "id": "ktFnKBux25lD"
      },
      "outputs": [],
      "source": [
        "def train_model(model, optimizer, num_iterations=10000, \n",
        "                print_every=1000, eval_every=1000,\n",
        "                batch_fn=get_examples, \n",
        "                prep_fn=prepare_example,\n",
        "                eval_fn=simple_evaluate,\n",
        "                batch_size=1, eval_batch_size=None):\n",
        "  \"\"\"Train a model.\"\"\"  \n",
        "  iter_i = 0\n",
        "  train_loss = 0.\n",
        "  print_num = 0\n",
        "  start = time.time()\n",
        "  criterion = nn.CrossEntropyLoss() # loss function\n",
        "  best_eval = 0.\n",
        "  best_iter = 0\n",
        "  \n",
        "  # store train loss and validation accuracy during training\n",
        "  # so we can plot them afterwards\n",
        "  losses = []\n",
        "  accuracies = []  \n",
        "  \n",
        "  if eval_batch_size is None:\n",
        "    eval_batch_size = batch_size\n",
        "  \n",
        "  while True:  # when we run out of examples, shuffle and continue\n",
        "    for batch in batch_fn(train_data, batch_size=batch_size):\n",
        "\n",
        "      # forward pass\n",
        "      model.train()\n",
        "      x, targets = prep_fn(batch, model.vocab)\n",
        "      logits = model(x)\n",
        "\n",
        "      B = targets.size(0)  # later we will use B examples per update\n",
        "      \n",
        "      # compute cross-entropy loss (our criterion)\n",
        "      # note that the cross entropy loss function computes the softmax for us\n",
        "      loss = criterion(logits.view([B, -1]), targets.view(-1))\n",
        "      train_loss += loss.item()\n",
        "\n",
        "      # backward pass (tip: check the Introduction to PyTorch notebook)\n",
        "\n",
        "      # erase previous gradients\n",
        "      optimizer.zero_grad()\n",
        "      \n",
        "      # compute gradients\n",
        "      loss.backward()\n",
        "\n",
        "      # update weights - take a small step in the opposite dir of the gradient\n",
        "      optimizer.step()\n",
        "\n",
        "      print_num += 1\n",
        "      iter_i += 1\n",
        "\n",
        "      # print info\n",
        "      if iter_i % print_every == 0:\n",
        "        print(\"Iter %r: loss=%.4f, time=%.2fs\" % \n",
        "              (iter_i, train_loss, time.time()-start))\n",
        "        losses.append(train_loss)\n",
        "        print_num = 0        \n",
        "        train_loss = 0.\n",
        "\n",
        "      # evaluate\n",
        "      if iter_i % eval_every == 0:\n",
        "        _, _, accuracy = eval_fn(model, dev_data, batch_size=eval_batch_size,\n",
        "                                 batch_fn=batch_fn, prep_fn=prep_fn)\n",
        "        accuracies.append(accuracy)\n",
        "        print(\"iter %r: dev acc=%.4f\" % (iter_i, accuracy))       \n",
        "        \n",
        "        # save best model parameters\n",
        "        if accuracy > best_eval:\n",
        "          print(\"new highscore\")\n",
        "          best_eval = accuracy\n",
        "          best_iter = iter_i\n",
        "          path = \"{}.pt\".format(model.__class__.__name__)\n",
        "          ckpt = {\n",
        "              \"state_dict\": model.state_dict(),\n",
        "              \"optimizer_state_dict\": optimizer.state_dict(),\n",
        "              \"best_eval\": best_eval,\n",
        "              \"best_iter\": best_iter\n",
        "          }\n",
        "          torch.save(ckpt, path)\n",
        "\n",
        "      # done training\n",
        "      if iter_i == num_iterations:\n",
        "        print(\"Done training\")\n",
        "        \n",
        "        # evaluate on train, dev, and test with best model\n",
        "        print(\"Loading best model\")\n",
        "        path = \"{}.pt\".format(model.__class__.__name__)        \n",
        "        ckpt = torch.load(path)\n",
        "        model.load_state_dict(ckpt[\"state_dict\"])\n",
        "        \n",
        "        _, _, train_acc = eval_fn(\n",
        "            model, train_data, batch_size=eval_batch_size, \n",
        "            batch_fn=batch_fn, prep_fn=prep_fn)\n",
        "        _, _, dev_acc = eval_fn(\n",
        "            model, dev_data, batch_size=eval_batch_size,\n",
        "            batch_fn=batch_fn, prep_fn=prep_fn)\n",
        "        _, _, test_acc = eval_fn(\n",
        "            model, test_data, batch_size=eval_batch_size, \n",
        "            batch_fn=batch_fn, prep_fn=prep_fn)\n",
        "        \n",
        "        print(\"best model iter {:d}: \"\n",
        "              \"train acc={:.4f}, dev acc={:.4f}, test acc={:.4f}\".format(\n",
        "                  best_iter, train_acc, dev_acc, test_acc))\n",
        "        \n",
        "        return losses, accuracies"
      ]
    },
    {
      "cell_type": "markdown",
      "metadata": {
        "id": "XEPsLvI-3D5b"
      },
      "source": [
        "### Training the BOW model"
      ]
    },
    {
      "cell_type": "code",
      "execution_count": 193,
      "metadata": {
        "colab": {
          "base_uri": "https://localhost:8080/"
        },
        "id": "9luJnNuN_d3q",
        "outputId": "bace5e5d-42a5-4814-f3b2-b45cd55f96f9"
      },
      "outputs": [
        {
          "output_type": "stream",
          "name": "stdout",
          "text": [
            "BOW(\n",
            "  (embed): Embedding(18280, 5)\n",
            ")\n",
            "Shuffling training data\n",
            "Iter 1000: loss=5091.2717, time=1.04s\n",
            "iter 1000: dev acc=0.2180\n",
            "new highscore\n",
            "Iter 2000: loss=4839.0635, time=2.32s\n",
            "iter 2000: dev acc=0.2216\n",
            "new highscore\n",
            "Iter 3000: loss=4551.7887, time=3.59s\n",
            "iter 3000: dev acc=0.2325\n",
            "new highscore\n",
            "Iter 4000: loss=4566.0445, time=4.83s\n",
            "iter 4000: dev acc=0.2407\n",
            "new highscore\n",
            "Iter 5000: loss=4234.6843, time=6.07s\n",
            "iter 5000: dev acc=0.2389\n",
            "Iter 6000: loss=4418.4873, time=7.31s\n",
            "iter 6000: dev acc=0.2416\n",
            "new highscore\n",
            "Iter 7000: loss=4476.8547, time=8.54s\n",
            "iter 7000: dev acc=0.2470\n",
            "new highscore\n",
            "Iter 8000: loss=4404.8100, time=9.80s\n",
            "iter 8000: dev acc=0.2498\n",
            "new highscore\n",
            "Shuffling training data\n",
            "Iter 9000: loss=4275.6217, time=11.11s\n",
            "iter 9000: dev acc=0.2498\n",
            "Iter 10000: loss=4089.4838, time=12.34s\n",
            "iter 10000: dev acc=0.2534\n",
            "new highscore\n",
            "Done training\n",
            "Loading best model\n",
            "best model iter 10000: train acc=0.2595, dev acc=0.2534, test acc=0.2475\n"
          ]
        }
      ],
      "source": [
        "# If everything is in place we can now train our first model!\n",
        "bow_model = BOW(len(v.w2i), len(t2i), vocab=v)\n",
        "print(bow_model)\n",
        "\n",
        "bow_model = bow_model.to(device)\n",
        "\n",
        "optimizer = optim.Adam(bow_model.parameters(), lr=0.0005)\n",
        "bow_losses, bow_accuracies = train_model(\n",
        "    bow_model, optimizer, num_iterations=10000, \n",
        "    print_every=1000, eval_every=1000)"
      ]
    },
    {
      "cell_type": "code",
      "execution_count": 194,
      "metadata": {
        "colab": {
          "base_uri": "https://localhost:8080/",
          "height": 105
        },
        "id": "dvYLj8LIAzfS",
        "outputId": "e762ee05-3ffc-4560-88e2-d1d2f313ad65"
      },
      "outputs": [
        {
          "output_type": "execute_result",
          "data": {
            "text/plain": [
              "[<matplotlib.lines.Line2D at 0x7f3afee12580>]"
            ]
          },
          "metadata": {},
          "execution_count": 194
        },
        {
          "output_type": "display_data",
          "data": {
            "text/plain": [
              "<Figure size 640x480 with 1 Axes>"
            ],
            "image/png": "[encoded data removed]"
          },
          "metadata": {}
        }
      ],
      "source": [
        "# This will plot the validation accuracies across time.\n",
        "plt.plot(bow_accuracies)"
      ]
    },
    {
      "cell_type": "code",
      "execution_count": 195,
      "metadata": {
        "colab": {
          "base_uri": "https://localhost:8080/",
          "height": 105
        },
        "id": "vUHm9JfSI4po",
        "outputId": "cafa5fc8-1c74-4fb0-b795-f74c410f562b"
      },
      "outputs": [
        {
          "output_type": "execute_result",
          "data": {
            "text/plain": [
              "[<matplotlib.lines.Line2D at 0x7f3af5789940>]"
            ]
          },
          "metadata": {},
          "execution_count": 195
        },
        {
          "output_type": "display_data",
          "data": {
            "text/plain": [
              "<Figure size 640x480 with 1 Axes>"
            ],
            "image/png": "[encoded data removed]"
          },
          "metadata": {}
        }
      ],
      "source": [
        "# This will plot the training loss over time.\n",
        "plt.plot(bow_losses)"
      ]
    },
    {
      "cell_type": "markdown",
      "metadata": {
        "id": "Psxh-Le1BMDQ"
      },
      "source": [
        "Please note that we set the number of iterations to 30K as an indicative value, after which we simply stop training without checking for convergence. You should choose an appropriate number of iterations and motivate your decision. **This holds for all pre-set numbers of iteration in the following code blocks.**"
      ]
    },
    {
      "cell_type": "markdown",
      "metadata": {
        "id": "E9mB1_XhMPNN"
      },
      "source": [
        "# CBOW"
      ]
    },
    {
      "cell_type": "markdown",
      "metadata": {
        "id": "pWk78FvNMw4o"
      },
      "source": [
        "We now continue with a **continuous bag-of-words (CBOW)** model. (*This is not the same as the word2vec CBOW model!*)\n",
        "\n",
        "It is similar to the BOW model above, but now embeddings can have a dimension of *arbitrary size*. \n",
        "This means that we can choose a higher dimensionality and learn more aspects of each word. We will still sum word vectors to get a sentence representation, but now the size of the resulting vector will no longer correspond to the number of sentiment classes. \n",
        "\n",
        "So to turn the size of our summed vector into the number of output classes, we can *learn* a parameter matrix $W$ and multiply it by the sum vector $x$: $$Wx$$\n",
        "If the size of $x$ is `d x 1`, we can set $W$ to be `5 x d`, so that the output of the matrix multiplication will be the of the desired size, `5 x 1`. Then, just like for the BOW model, we can obtain a prediction using the argmax function."
      ]
    },
    {
      "cell_type": "markdown",
      "metadata": {
        "id": "gIjrCPfCwsXI"
      },
      "source": [
        "## Exercise: implement and train the CBOW model\n",
        "\n",
        "Write a class `CBOW` that:\n",
        "\n",
        "- has word embeddings with size 300\n",
        "- sums the word vectors for the input words (just like in `BOW`)\n",
        "- projects the resulting vector down to 5 units using a linear layer and a bias term (check out `nn.Linear`)\n",
        "\n",
        "Train your CBOW model and plot the validation accuracy and training loss over time."
      ]
    },
    {
      "cell_type": "code",
      "execution_count": 214,
      "metadata": {
        "id": "PEV22aR2MP0Q"
      },
      "outputs": [],
      "source": [
        "class CBOW(nn.Module):\n",
        "    def __init__(self, vocab_size, output_size, vocab, embedding_dim=300):\n",
        "        super(CBOW, self).__init__()\n",
        "        self.vocab = vocab\n",
        "\n",
        "        self.embed = nn.Embedding(vocab_size, embedding_dim)\n",
        "        self.linear = nn.Linear(embedding_dim, output_size, bias=True)\n",
        "        \n",
        "\n",
        "    def forward(self, inputs):\n",
        "        embeds = self.embed(inputs)\n",
        "        logits = self.linear(embeds.sum(1))\n",
        "        return logits"
      ]
    },
    {
      "cell_type": "code",
      "execution_count": 215,
      "metadata": {
        "colab": {
          "base_uri": "https://localhost:8080/"
        },
        "id": "R-GGfHrkERAB",
        "outputId": "292470af-15a0-458c-8531-0911cb13ac12"
      },
      "outputs": [
        {
          "output_type": "stream",
          "name": "stdout",
          "text": [
            "CBOW(\n",
            "  (embed): Embedding(18280, 300)\n",
            "  (linear): Linear(in_features=300, out_features=5, bias=True)\n",
            ")\n",
            "Shuffling training data\n",
            "Iter 1000: loss=2711.6783, time=2.93s\n",
            "iter 1000: dev acc=0.2461\n",
            "new highscore\n",
            "Iter 2000: loss=2325.1032, time=6.23s\n",
            "iter 2000: dev acc=0.2679\n",
            "new highscore\n",
            "Iter 3000: loss=2066.4311, time=9.65s\n",
            "iter 3000: dev acc=0.2752\n",
            "new highscore\n",
            "Iter 4000: loss=1981.2385, time=12.93s\n",
            "iter 4000: dev acc=0.2916\n",
            "new highscore\n",
            "Iter 5000: loss=1902.3482, time=16.24s\n",
            "iter 5000: dev acc=0.3106\n",
            "new highscore\n",
            "Iter 6000: loss=1899.1191, time=19.51s\n",
            "iter 6000: dev acc=0.2616\n",
            "Iter 7000: loss=1861.2334, time=22.66s\n",
            "iter 7000: dev acc=0.3243\n",
            "new highscore\n",
            "Iter 8000: loss=1886.8482, time=25.95s\n",
            "iter 8000: dev acc=0.2797\n",
            "Shuffling training data\n",
            "Iter 9000: loss=1723.8830, time=29.11s\n",
            "iter 9000: dev acc=0.2961\n",
            "Iter 10000: loss=1620.9319, time=32.25s\n",
            "iter 10000: dev acc=0.2752\n",
            "Done training\n",
            "Loading best model\n",
            "best model iter 7000: train acc=0.3818, dev acc=0.3243, test acc=0.3299\n"
          ]
        }
      ],
      "source": [
        "# If everything is in place we can now train our first model!\n",
        "cbow_model = CBOW(len(v.w2i), len(t2i), vocab=v)\n",
        "print(cbow_model)\n",
        "\n",
        "cbow_model = cbow_model.to(device)\n",
        "\n",
        "optimizer = optim.Adam(cbow_model.parameters(), lr=0.0005)\n",
        "cbow_losses, cbow_accuracies = train_model(\n",
        "    cbow_model, optimizer, num_iterations=10000, \n",
        "    print_every=1000, eval_every=1000)"
      ]
    },
    {
      "cell_type": "code",
      "execution_count": 216,
      "metadata": {
        "colab": {
          "base_uri": "https://localhost:8080/",
          "height": 105
        },
        "id": "kr7koKowERAB",
        "outputId": "ba36bac8-8ae7-4407-f1be-01ad6a913ca6"
      },
      "outputs": [
        {
          "output_type": "execute_result",
          "data": {
            "text/plain": [
              "[<matplotlib.lines.Line2D at 0x7eff426f6340>]"
            ]
          },
          "metadata": {},
          "execution_count": 216
        },
        {
          "output_type": "display_data",
          "data": {
            "text/plain": [
              "<Figure size 640x480 with 1 Axes>"
            ],
            "image/png": "[encoded data removed]"
          },
          "metadata": {}
        }
      ],
      "source": [
        "plt.plot(cbow_accuracies)"
      ]
    },
    {
      "cell_type": "code",
      "execution_count": 217,
      "metadata": {
        "colab": {
          "base_uri": "https://localhost:8080/",
          "height": 105
        },
        "id": "YykVxtdGERAB",
        "outputId": "a788ec61-b33e-423f-c8e5-1e38340c5284"
      },
      "outputs": [
        {
          "output_type": "execute_result",
          "data": {
            "text/plain": [
              "[<matplotlib.lines.Line2D at 0x7eff46f67610>]"
            ]
          },
          "metadata": {},
          "execution_count": 217
        },
        {
          "output_type": "display_data",
          "data": {
            "text/plain": [
              "<Figure size 640x480 with 1 Axes>"
            ],
            "image/png": "[encoded data removed]"
          },
          "metadata": {}
        }
      ],
      "source": [
        "plt.plot(cbow_losses)"
      ]
    },
    {
      "cell_type": "markdown",
      "metadata": {
        "id": "zpFt_Fo2TdN0"
      },
      "source": [
        "# Deep CBOW"
      ]
    },
    {
      "cell_type": "markdown",
      "metadata": {
        "id": "iZanOMesTfEZ"
      },
      "source": [
        "To see if we can squeeze some more performance out of the CBOW model, we can make it deeper and non-linear by adding more layers and, e.g., tanh-activations.\n",
        "By using more parameters we can learn more aspects of the data, and by using more layers and non-linearities, we can try to learn a more complex function. \n",
        "This is not something that always works. If the input-output mapping of your data is simple, then a complicated function could easily overfit on your training set, thereby leading to poor generalization. \n",
        "\n",
        "#### Exercise: write Deep CBOW class and train it\n",
        "\n",
        "Write a class `DeepCBOW`.\n",
        "\n",
        "In your code, make sure that your `output_layer` consists of the following:\n",
        "- A linear transformation from E units to D units.\n",
        "- A Tanh activation\n",
        "- A linear transformation from D units to D units\n",
        "- A Tanh activation\n",
        "- A linear transformation from D units to 5 units (our output classes).\n",
        "\n",
        "E is the size of the word embeddings (please use E=300) and D for the size of a hidden layer (please use D=100).\n",
        "\n",
        "We recommend using [nn.Sequential](https://pytorch.org/docs/stable/nn.html?highlight=sequential#torch.nn.Sequential) to implement this exercise."
      ]
    },
    {
      "cell_type": "code",
      "execution_count": 218,
      "metadata": {
        "id": "l8Z1igvpTrZq"
      },
      "outputs": [],
      "source": [
        "class DeepCBOW(nn.Module):\n",
        "\n",
        "    def __init__(self, vocab_size, embedding_dim, hidden_dim, output_dim, vocab):\n",
        "    # def __init__(self, vocab_size, output_size, vocab, embedding_dim=300, hidden_dim=100):\n",
        "        super(DeepCBOW, self).__init__()\n",
        "        self.vocab = vocab\n",
        "\n",
        "        self.embed = nn.Embedding(vocab_size, embedding_dim)\n",
        "        self.linear1 = nn.Linear(embedding_dim, hidden_dim)\n",
        "        self.linear2 = nn.Linear(hidden_dim, hidden_dim)\n",
        "        self.linear3 = nn.Linear(hidden_dim, output_dim)\n",
        "        self.activation = nn.Tanh()\n",
        "\n",
        "        self.net = nn.Sequential(\n",
        "            self.linear1,\n",
        "            self.activation,\n",
        "            self.linear2,\n",
        "            self.activation,\n",
        "            self.linear3\n",
        "        )\n",
        "\n",
        "    def forward(self, inputs):\n",
        "        embeds = self.embed(inputs)\n",
        "        logits = self.net(embeds.sum(1))\n",
        "        return logits"
      ]
    },
    {
      "cell_type": "code",
      "execution_count": 219,
      "metadata": {
        "colab": {
          "base_uri": "https://localhost:8080/"
        },
        "id": "ptTSG1taERAC",
        "outputId": "a0c7485a-8325-4fa9-e606-d22c2060ad45"
      },
      "outputs": [
        {
          "output_type": "stream",
          "name": "stdout",
          "text": [
            "DeepCBOW(\n",
            "  (embed): Embedding(18280, 300)\n",
            "  (linear1): Linear(in_features=300, out_features=100, bias=True)\n",
            "  (linear2): Linear(in_features=100, out_features=100, bias=True)\n",
            "  (linear3): Linear(in_features=100, out_features=5, bias=True)\n",
            "  (activation): Tanh()\n",
            "  (net): Sequential(\n",
            "    (0): Linear(in_features=300, out_features=100, bias=True)\n",
            "    (1): Tanh()\n",
            "    (2): Linear(in_features=100, out_features=100, bias=True)\n",
            "    (3): Tanh()\n",
            "    (4): Linear(in_features=100, out_features=5, bias=True)\n",
            "  )\n",
            ")\n",
            "Shuffling training data\n",
            "Iter 1000: loss=1573.0320, time=3.32s\n",
            "iter 1000: dev acc=0.2707\n",
            "new highscore\n",
            "Iter 2000: loss=1567.2096, time=7.06s\n",
            "iter 2000: dev acc=0.2906\n",
            "new highscore\n",
            "Iter 3000: loss=1579.3102, time=10.81s\n",
            "iter 3000: dev acc=0.3152\n",
            "new highscore\n",
            "Iter 4000: loss=1544.5786, time=14.57s\n",
            "iter 4000: dev acc=0.3025\n",
            "Iter 5000: loss=1527.1825, time=18.19s\n",
            "iter 5000: dev acc=0.2906\n",
            "Iter 6000: loss=1514.3143, time=21.80s\n",
            "iter 6000: dev acc=0.3061\n",
            "Iter 7000: loss=1502.0126, time=25.42s\n",
            "iter 7000: dev acc=0.3315\n",
            "new highscore\n",
            "Iter 8000: loss=1496.5783, time=29.35s\n",
            "iter 8000: dev acc=0.3361\n",
            "new highscore\n",
            "Shuffling training data\n",
            "Iter 9000: loss=1443.1859, time=33.36s\n",
            "iter 9000: dev acc=0.3442\n",
            "new highscore\n",
            "Iter 10000: loss=1339.2703, time=37.11s\n",
            "iter 10000: dev acc=0.3442\n",
            "Done training\n",
            "Loading best model\n",
            "best model iter 9000: train acc=0.4231, dev acc=0.3442, test acc=0.3480\n"
          ]
        }
      ],
      "source": [
        "# If everything is in place we can now train our first model!\n",
        "deepcbow_model = DeepCBOW(len(v.w2i), 300, 100, len(t2i), vocab=v)\n",
        "print(deepcbow_model)\n",
        "\n",
        "deepcbow_model = deepcbow_model.to(device)\n",
        "\n",
        "optimizer = optim.Adam(deepcbow_model.parameters(), lr=0.0005)\n",
        "deepcbow_losses, deepcbow_accuracies = train_model(\n",
        "    deepcbow_model, optimizer, num_iterations=10000, \n",
        "    print_every=1000, eval_every=1000)"
      ]
    },
    {
      "cell_type": "code",
      "execution_count": 220,
      "metadata": {
        "colab": {
          "base_uri": "https://localhost:8080/",
          "height": 105
        },
        "id": "rJxz2VULERAD",
        "outputId": "d47b78a8-6254-4ca9-8a32-7e710377873b"
      },
      "outputs": [
        {
          "output_type": "execute_result",
          "data": {
            "text/plain": [
              "[<matplotlib.lines.Line2D at 0x7effa59ac310>]"
            ]
          },
          "metadata": {},
          "execution_count": 220
        },
        {
          "output_type": "display_data",
          "data": {
            "text/plain": [
              "<Figure size 640x480 with 1 Axes>"
            ],
            "image/png": "[encoded data removed]"
          },
          "metadata": {}
        }
      ],
      "source": [
        "plt.plot(deepcbow_accuracies)"
      ]
    },
    {
      "cell_type": "code",
      "execution_count": 221,
      "metadata": {
        "colab": {
          "base_uri": "https://localhost:8080/",
          "height": 105
        },
        "id": "TjVWWOIAERAD",
        "outputId": "1aa15d1e-3948-41cd-f06f-67a31f1de003"
      },
      "outputs": [
        {
          "output_type": "execute_result",
          "data": {
            "text/plain": [
              "[<matplotlib.lines.Line2D at 0x7eff492d7880>]"
            ]
          },
          "metadata": {},
          "execution_count": 221
        },
        {
          "output_type": "display_data",
          "data": {
            "text/plain": [
              "<Figure size 640x480 with 1 Axes>"
            ],
            "image/png": "[encoded data removed]"
          },
          "metadata": {}
        }
      ],
      "source": [
        "plt.plot(deepcbow_losses)"
      ]
    },
    {
      "cell_type": "markdown",
      "metadata": {
        "id": "MQZ5flHwiiHY"
      },
      "source": [
        "# Pre-trained word embeddings"
      ]
    },
    {
      "cell_type": "markdown",
      "metadata": {
        "id": "9NX35vecmHy6"
      },
      "source": [
        "The Stanford Sentiment Treebank is a rather small data set, since it required fine-grained manual annotatation. This makes it difficult for the Deep CBOW model to learn good word embeddings, i.e. to learn good word representations for the words in our vocabulary.\n",
        "In fact, the only error signal that the network receives is from predicting the sentiment of entire sentences!\n",
        "\n",
        "To start off with better word representations, we can download **pre-trained word embeddings**. \n",
        "You can choose which pre-trained word embeddings to use:\n",
        "\n",
        "- **GloVe**. The \"original\" Stanford Sentiment classification [paper](http://aclweb.org/anthology/P/P15/P15-1150.pdf) used Glove embeddings, which are just another method (like *word2vec*) to get word embeddings from unannotated text. Glove is described in the following paper which you should cite if you use them:\n",
        "> Jeffrey Pennington, Richard Socher, and Christopher Manning. [\"Glove: Global vectors for word representation.\"](https://nlp.stanford.edu/pubs/glove.pdf) EMNLP 2014. \n",
        "\n",
        "- **Word2Vec**. This is the method that you learned about in class, described in:\n",
        "> Mikolov, Tomas, et al. [\"Distributed representations of words and phrases and their compositionality.\"](https://papers.nips.cc/paper/5021-distributed-representations-of-words-and-phrases-and-their-compositionality.pdf) Advances in neural information processing systems. 2013.\n",
        "\n",
        "Using these pre-trained word embeddings, we can initialize our word embedding lookup table and start form a point where similar words are already close to one another in the distributional semantic space. \n",
        "\n",
        "You can choose to keep the word embeddings **fixed** or to train them further, specialising them to the task at hand.\n",
        "We will keep them fixed for now.\n",
        "\n",
        "For the purposes of this lab, it is enough if you understand how word2vec works (whichever vectors you use), but if you are interested, we encourage you to also check out the GloVe paper.\n",
        "\n",
        "You can either download the word2vec vectors, or the Glove vectors.\n",
        "If you want to compare your results to the Stanford paper later on, then you should use Glove. \n",
        "**At the end of this lab you have the option to compare which vectors give you the best performance. For now, simply choose one of them and continue with that.**\n",
        "\n",
        "[**OPTIONAL in case you don't want to mount Google Drive:** instead of running all the 5 boxes below, you can 1) download the GloVe and word2vec in your local machine, 2) upload them on your Drive folder (\"My Drive\"). Then, uncomment the first 2 lines in box 6 before writing your code!]\n"
      ]
    },
    {
      "cell_type": "code",
      "execution_count": 196,
      "metadata": {
        "id": "lGYr02WWO993"
      },
      "outputs": [],
      "source": [
        "# This downloads the Glove 840B 300d embeddings.\n",
        "# The original file is at http://nlp.stanford.edu/data/glove.840B.300d.zip\n",
        "# Since that file is 2GB, we provide you with a *filtered version*\n",
        "# which contains all the words you need for this data set.\n",
        "\n",
        "# You only need to do this once.\n",
        "# Please comment this cell out after downloading.\n",
        "\n",
        "# !wget https://gist.githubusercontent.com/bastings/b094de2813da58056a05e8e7950d4ad1/raw/3fbd3976199c2b88de2ae62afc0ecc6f15e6f7ce/glove.840B.300d.sst.txt"
      ]
    },
    {
      "cell_type": "code",
      "execution_count": 197,
      "metadata": {
        "id": "6NLsgFGiTjmI"
      },
      "outputs": [],
      "source": [
        "# This downloads the word2vec 300D Google News vectors \n",
        "# The file has been truncated to only contain words that appear in our data set.\n",
        "# You can find the original file here: https://code.google.com/archive/p/word2vec/\n",
        "\n",
        "# You only need to do this once.\n",
        "# Please comment this out after downloading.\n",
        "# !wget https://gist.githubusercontent.com/bastings/4d1c346c68969b95f2c34cfbc00ba0a0/raw/76b4fefc9ef635a79d0d8002522543bc53ca2683/googlenews.word2vec.300d.txt"
      ]
    },
    {
      "cell_type": "code",
      "execution_count": 198,
      "metadata": {
        "cellView": "both",
        "colab": {
          "base_uri": "https://localhost:8080/"
        },
        "id": "GXBITzPRQUQb",
        "outputId": "b3146f21-bcfa-4ae1-a3b2-6602691d9fa6"
      },
      "outputs": [
        {
          "output_type": "stream",
          "name": "stdout",
          "text": [
            "Drive already mounted at /gdrive; to attempt to forcibly remount, call drive.mount(\"/gdrive\", force_remount=True).\n"
          ]
        }
      ],
      "source": [
        "# Mount Google Drive (to save the downloaded files)\n",
        "from google.colab import drive\n",
        "drive.mount('/gdrive')"
      ]
    },
    {
      "cell_type": "code",
      "execution_count": 199,
      "metadata": {
        "id": "uFvzPuiKSCbl"
      },
      "outputs": [],
      "source": [
        "# Copy word vectors *to* Google Drive\n",
        "\n",
        "# You only need to do this once.\n",
        "# Please comment this out after running it. \n",
        "# !cp \"glove.840B.300d.sst.txt\" \"/gdrive/My Drive/\"\n",
        "# !cp \"googlenews.word2vec.300d.txt\" \"/gdrive/My Drive/\""
      ]
    },
    {
      "cell_type": "code",
      "execution_count": 200,
      "metadata": {
        "id": "kUMH0bM6BuY9"
      },
      "outputs": [],
      "source": [
        "# If you copied the word vectors to your Drive before,\n",
        "# here is where you copy them back to the Colab notebook.\n",
        "\n",
        "# Copy Glove vectors *from* Google Drive\n",
        "!cp \"/gdrive/My Drive/glove.840B.300d.sst.txt\" .\n",
        "!cp \"/gdrive/My Drive/googlenews.word2vec.300d.txt\" ."
      ]
    },
    {
      "cell_type": "code",
      "execution_count": 201,
      "metadata": {
        "id": "xcpkoh6PIjfe"
      },
      "outputs": [],
      "source": [
        "# Uncomment these 2 lines below if went for the OPTIONAL method described above\n",
        "# !cp \"glove.840B.300d.sst.txt\" \"./\"\n",
        "# !cp \"googlenews.word2vec.300d.txt\" \"./\""
      ]
    },
    {
      "cell_type": "markdown",
      "metadata": {
        "id": "MX2GJVHILM8n"
      },
      "source": [
        "At this point you have the pre-trained word embedding files, but what do they look like?"
      ]
    },
    {
      "cell_type": "code",
      "execution_count": 202,
      "metadata": {
        "colab": {
          "base_uri": "https://localhost:8080/"
        },
        "id": "ChsChH14Ruxn",
        "outputId": "2ee85877-79b1-4617-8291-e64ac118cb4d"
      },
      "outputs": [
        {
          "output_type": "stream",
          "name": "stdout",
          "text": [
            "First 4 lines of Glove embeddings\n",
            ", -0.082752 0.67204 -0.14987 -0.064983 0.056491 0.40228 0.0027747 -0.3311 -0.30691 2.0817 0.031819 0.013643 0.30265 0.0071297 -0.5819 -0.2774 -0.062254 1.1451 -0.24232 0.1235 -0.12243 0.33152 -0.006162 -0.30541 -0.13057 -0.054601 0.037083 -0.070552 0.5893 -0.30385 0.2898 -0.14653 -0.27052 0.37161 0.32031 -0.29125 0.0052483 -0.13212 -0.052736 0.087349 -0.26668 -0.16897 0.015162 -0.0083746 -0.14871 0.23413 -0.20719 -0.091386 0.40075 -0.17223 0.18145 0.37586 -0.28682 0.37289 -0.16185 0.18008 0.3032 -0.13216 0.18352 0.095759 0.094916 0.008289 0.11761 0.34046 0.03677 -0.29077 0.058303 -0.027814 0.082941 0.1862 -0.031494 0.27985 -0.074412 -0.13762 -0.21866 0.18138 0.040855 -0.113 0.24107 0.3657 -0.27525 -0.05684 0.34872 0.011884 0.14517 -0.71395 0.48497 0.14807 0.62287 0.20599 0.58379 -0.13438 0.40207 0.18311 0.28021 -0.42349 -0.25626 0.17715 -0.54095 0.16596 -0.036058 0.08499 -0.64989 0.075549 -0.28831 0.40626 -0.2802 0.094062 0.32406 0.28437 -0.26341 0.11553 0.071918 -0.47215 -0.18366 -0.34709 0.29964 -0.66514 0.002516 -0.42333 0.27512 0.36012 0.16311 0.23964 -0.05923 0.3261 0.20559 0.038677 -0.045816 0.089764 0.43151 -0.15954 0.08532 -0.26572 -0.15001 0.084286 -0.16714 -0.43004 0.060807 0.13121 -0.24112 0.66554 0.4453 -0.18019 -0.13919 0.56252 0.21457 -0.46443 -0.012211 0.029988 -0.051094 -0.20135 0.80788 0.47377 -0.057647 0.46216 0.16084 -0.20954 -0.05452 0.15572 -0.13712 0.12972 -0.011936 -0.003378 -0.13595 -0.080711 0.20065 0.054056 0.046816 0.059539 0.046265 0.17754 -0.31094 0.28119 -0.24355 0.085252 -0.21011 -0.19472 0.0027297 -0.46341 0.14789 -0.31517 -0.065939 0.036106 0.42903 -0.33759 0.16432 0.32568 -0.050392 -0.054297 0.24074 0.41923 0.13012 -0.17167 -0.37808 -0.23089 -0.019477 -0.29291 -0.30824 0.30297 -0.22659 0.081574 -0.18516 -0.21408 0.40616 -0.28974 0.074174 -0.17795 0.28595 -0.039626 -0.2339 -0.36054 -0.067503 -0.091065 0.23438 -0.0041331 0.003232 0.0072134 0.008697 0.21614 0.049904 0.35582 0.13748 0.073361 0.14166 0.2412 -0.013322 0.15613 0.083381 0.088146 -0.019357 0.43795 0.083961 0.45309 -0.50489 -0.10865 -0.2527 -0.18251 0.20441 0.13319 0.1294 0.050594 -0.15612 -0.39543 0.12538 0.24881 -0.1927 -0.31847 -0.12719 0.4341 0.31177 -0.0040946 -0.2094 -0.079961 0.1161 -0.050794 0.015266 -0.2803 -0.12486 0.23587 0.2339 -0.14023 0.028462 0.56923 -0.1649 -0.036429 0.010051 -0.17107 -0.042608 0.044965 -0.4393 -0.26137 0.30088 -0.060772 -0.45312 -0.19076 -0.20288 0.27694 -0.060888 0.11944 0.62206 -0.19343 0.47849 -0.30113 0.059389 0.074901 0.061068 -0.4662 0.40054 -0.19099 -0.14331 0.018267 -0.18643 0.20709 -0.35598 0.05338 -0.050821 -0.1918 -0.37846 -0.06589\n",
            "\n",
            ". 0.012001 0.20751 -0.12578 -0.59325 0.12525 0.15975 0.13748 -0.33157 -0.13694 1.7893 -0.47094 0.70434 0.26673 -0.089961 -0.18168 0.067226 0.053347 1.5595 -0.2541 0.038413 -0.01409 0.056774 0.023434 0.024042 0.31703 0.19025 -0.37505 0.035603 0.1181 0.012032 -0.037566 -0.5046 -0.049261 0.092351 0.11031 -0.073062 0.33994 0.28239 0.13413 0.070128 -0.022099 -0.28103 0.49607 -0.48693 -0.090964 -0.1538 -0.38011 -0.014228 -0.19392 -0.11068 -0.014088 -0.17906 0.24509 -0.16878 -0.15351 -0.13808 0.02151 0.13699 0.0068061 -0.14915 -0.38169 0.12727 0.44007 0.32678 -0.46117 0.068687 0.34747 0.18827 -0.31837 0.4447 -0.2095 -0.26987 0.48945 0.15388 0.05295 -0.049831 0.11207 0.14881 -0.37003 0.30777 -0.33865 0.045149 -0.18987 0.26634 -0.26401 -0.47556 0.68381 -0.30653 0.24606 0.31611 -0.071098 0.030417 0.088119 0.045025 0.20125 -0.21618 -0.36371 -0.25948 -0.42398 -0.14305 -0.10208 0.21498 -0.21924 -0.17935 0.21546 0.13801 0.24504 -0.2559 0.054815 0.21307 0.2564 -0.25673 0.17961 -0.47638 -0.25181 -0.0091498 -0.054362 -0.21007 0.12597 -0.40795 -0.021164 0.20585 0.18925 -0.0051896 -0.51394 0.28862 -0.077748 -0.27676 0.46567 -0.14225 -0.17879 -0.4357 -0.32481 0.15034 -0.058367 0.49652 0.20472 0.019866 0.13326 0.12823 -1.0177 0.29007 0.28995 0.029994 -0.10763 0.28665 -0.24387 0.22905 -0.26249 -0.069269 -0.17889 0.21936 0.15146 0.04567 -0.050497 0.071482 -0.1027 -0.080705 0.30296 0.031302 0.26613 -0.0060951 0.10313 -0.39987 -0.043945 -0.057625 0.08702 -0.098152 0.22835 -0.005211 0.038075 0.01591 -0.20622 0.021853 0.0040426 -0.043063 -0.002294 -0.26097 -0.25802 -0.28158 -0.23118 -0.010404 -0.30102 -0.4042 0.014653 -0.10445 0.30377 -0.20957 0.3119 0.068272 0.1008 0.010423 0.54011 0.29865 0.12653 0.013761 0.21738 -0.39521 0.066633 0.50327 0.14913 -0.11554 0.010042 0.095698 0.16607 -0.18808 0.055019 0.026715 -0.3164 -0.046583 -0.051591 0.023475 -0.11007 0.085642 0.28394 0.040497 0.071986 0.14157 -0.021199 0.44718 0.20088 -0.12964 -0.067183 0.47614 0.13394 -0.17287 -0.37324 -0.17285 0.02683 -0.1316 0.09116 -0.46487 0.1274 -0.090159 -0.10552 0.068006 -0.13381 0.17056 0.089509 -0.23133 -0.27572 0.061534 -0.051646 0.28377 0.25286 -0.24139 -0.19905 0.12049 -0.1011 0.27392 0.27843 0.26449 -0.18292 -0.048961 0.19198 0.17192 0.33659 -0.20184 -0.34305 -0.24553 -0.15399 0.3945 0.22839 -0.25753 -0.25675 -0.37332 -0.23884 -0.048816 0.78323 0.18851 -0.26477 0.096566 0.062658 -0.30668 -0.43334 0.10006 0.21136 0.039459 -0.11077 0.24421 0.60942 -0.46646 0.086385 -0.39702 -0.23363 0.021307 -0.10778 -0.2281 0.50803 0.11567 0.16165 -0.066737 -0.29556 0.022612 -0.28135 0.0635 0.14019 0.13871 -0.36049 -0.035\n",
            "\n",
            "the 0.27204 -0.06203 -0.1884 0.023225 -0.018158 0.0067192 -0.13877 0.17708 0.17709 2.5882 -0.35179 -0.17312 0.43285 -0.10708 0.15006 -0.19982 -0.19093 1.1871 -0.16207 -0.23538 0.003664 -0.19156 -0.085662 0.039199 -0.066449 -0.04209 -0.19122 0.011679 -0.37138 0.21886 0.0011423 0.4319 -0.14205 0.38059 0.30654 0.020167 -0.18316 -0.0065186 -0.0080549 -0.12063 0.027507 0.29839 -0.22896 -0.22882 0.14671 -0.076301 -0.1268 -0.0066651 -0.052795 0.14258 0.1561 0.05551 -0.16149 0.09629 -0.076533 -0.049971 -0.010195 -0.047641 -0.16679 -0.2394 0.0050141 -0.049175 0.013338 0.41923 -0.10104 0.015111 -0.077706 -0.13471 0.119 0.10802 0.21061 -0.051904 0.18527 0.17856 0.041293 -0.014385 -0.082567 -0.035483 -0.076173 -0.045367 0.089281 0.33672 -0.22099 -0.0067275 0.23983 -0.23147 -0.88592 0.091297 -0.012123 0.013233 -0.25799 -0.02972 0.016754 0.01369 0.32377 0.039546 0.042114 -0.088243 0.30318 0.087747 0.16346 -0.40485 -0.043845 -0.040697 0.20936 -0.77795 0.2997 0.2334 0.14891 -0.39037 -0.053086 0.062922 0.065663 -0.13906 0.094193 0.10344 -0.2797 0.28905 -0.32161 0.020687 0.063254 -0.23257 -0.4352 -0.017049 -0.32744 -0.047064 -0.075149 -0.18788 -0.015017 0.029342 -0.3527 -0.044278 -0.13507 -0.11644 -0.1043 0.1392 0.0039199 0.37603 0.067217 -0.37992 -1.1241 -0.057357 -0.16826 0.03941 0.2604 -0.023866 0.17963 0.13553 0.2139 0.052633 -0.25033 -0.11307 0.22234 0.066597 -0.11161 0.062438 -0.27972 0.19878 -0.36262 -1.0006e-05 -0.17262 0.29166 -0.15723 0.054295 0.06101 -0.39165 0.2766 0.057816 0.39709 0.025229 0.24672 -0.08905 0.15683 -0.2096 -0.22196 0.052394 -0.01136 0.050417 -0.14023 -0.042825 -0.031931 -0.21336 -0.20402 -0.23272 0.07449 0.088202 -0.11063 -0.33526 -0.014028 -0.29429 -0.086911 -0.1321 -0.43616 0.20513 0.0079362 0.48505 0.064237 0.14261 -0.43711 0.12783 -0.13111 0.24673 -0.27496 0.15896 0.43314 0.090286 0.24662 0.066463 -0.20099 0.1101 0.03644 0.17359 -0.15689 -0.086328 -0.17316 0.36975 -0.40317 -0.064814 -0.034166 -0.013773 0.062854 -0.17183 -0.12366 -0.034663 -0.22793 -0.23172 0.239 0.27473 0.15332 0.10661 -0.060982 -0.024805 -0.13478 0.17932 -0.37374 -0.02893 -0.11142 -0.08389 -0.055932 0.068039 -0.10783 0.1465 0.094617 -0.084554 0.067429 -0.3291 0.034082 -0.16747 -0.25997 -0.22917 0.020159 -0.02758 0.16136 -0.18538 0.037665 0.57603 0.20684 0.27941 0.16477 -0.018769 0.12062 0.069648 0.059022 -0.23154 0.24095 -0.3471 0.04854 -0.056502 0.41566 -0.43194 0.4823 -0.051759 -0.27285 -0.25893 0.16555 -0.1831 -0.06734 0.42457 0.010346 0.14237 0.25939 0.17123 -0.13821 -0.066846 0.015981 -0.30193 0.043579 -0.043102 0.35025 -0.19681 -0.4281 0.16899 0.22511 -0.28557 -0.1028 -0.018168 0.11407 0.13015 -0.18317 0.1323\n",
            "\n",
            "and -0.18567 0.066008 -0.25209 -0.11725 0.26513 0.064908 0.12291 -0.093979 0.024321 2.4926 -0.017916 -0.071218 -0.24782 -0.26237 -0.2246 -0.21961 -0.12927 1.0867 -0.66072 -0.031617 -0.057328 0.056903 -0.27939 -0.39825 0.14251 -0.085146 -0.14779 0.055067 -0.0028687 -0.20917 -0.070735 0.22577 -0.15881 -0.10395 0.09711 -0.56251 -0.32929 -0.20853 0.0098711 0.049777 0.0014883 0.15884 0.042771 -0.0026956 -0.02462 -0.19213 -0.22556 0.10838 0.090086 -0.13291 0.32559 -0.17038 -0.1099 -0.23986 -0.024289 0.014656 -0.237 0.084828 -0.35982 -0.076746 0.048909 0.11431 -0.21013 0.24765 -0.017531 -0.14028 0.046191 0.22972 0.1175 0.12724 0.012992 0.4587 0.41085 0.039106 0.15713 -0.18376 0.26834 0.056662 0.16844 -0.053788 -0.091892 0.11193 -0.08681 -0.13324 0.15062 -0.31733 -0.22078 0.25038 0.34131 0.36419 -0.089514 -0.22193 0.24471 0.040091 0.47798 -0.029996 0.0019212 0.063511 -0.20417 -0.26478 0.20649 0.015573 -0.27722 -0.18861 -0.10289 -0.49773 0.14986 -0.010877 0.25085 -0.28117 0.18966 -0.065879 0.094753 -0.15338 -0.055071 -0.36747 0.24993 0.096527 0.23538 0.18405 0.052859 0.22967 0.12582 0.15536 -0.17275 0.33946 -0.10049 0.074948 -0.093575 -0.04049 -0.016922 -0.0058039 -0.18108 0.19537 0.45178 0.10965 0.2337 -0.09905 -0.078633 0.21678 -0.71231 -0.099759 0.33333 -0.1646 -0.091688 0.21056 0.023669 0.028922 0.1199 -0.12512 -0.026037 -0.062217 0.55816 0.0050273 -0.30888 0.038611 0.17568 -0.11163 -0.10815 -0.19444 0.29433 0.14519 -0.042878 0.18534 0.018891 -0.61883 0.13352 0.036007 0.33995 0.22109 -0.079328 0.071319 0.17678 0.16378 -0.23142 -0.1434 -0.098122 -0.019286 0.2356 -0.34013 -0.061007 -0.23208 -0.31152 0.10063 -0.15957 0.20183 -0.016345 -0.12303 0.022667 -0.20986 -0.20127 -0.087883 0.064731 0.10195 -0.1786 0.33056 0.21407 -0.32165 -0.17106 0.19407 -0.38618 -0.2148 -0.052254 0.023175 0.47389 0.18612 0.12711 0.20855 -0.10256 -0.12016 -0.40488 0.029695 -0.027419 -0.0085227 -0.11415 0.081134 -0.17228 0.19142 0.026514 0.043789 -0.12399 0.13354 0.10112 0.081682 -0.15085 0.0075806 -0.18971 0.24669 0.22491 0.35553 -0.3277 -0.21821 0.1402 0.28604 0.055226 -0.086544 0.02111 -0.19236 0.074245 0.076782 0.00081666 0.034097 -0.57719 0.10657 0.28134 -0.11964 -0.68281 -0.32893 -0.24442 -0.025847 0.0091273 0.2025 -0.050959 -0.11042 0.010962 0.076773 0.40048 -0.40739 -0.44773 0.31954 -0.036326 -0.012789 -0.17282 0.1476 0.2356 0.080642 -0.36528 -0.0083443 0.6239 -0.24379 0.019917 -0.28803 -0.010494 0.038412 -0.11718 -0.072462 0.16381 0.38488 -0.029783 0.23444 0.4532 0.14815 -0.027021 -0.073181 -0.1147 -0.0054545 0.47796 0.090912 0.094489 -0.36882 -0.59396 -0.097729 0.20072 0.17055 -0.0047356 -0.039709 0.32498 -0.023452 0.12302 0.3312\n",
            "\n",
            "First 4 lines of Google embeddings\n",
            "in 0.0703125 0.08691406 0.087890625 0.0625 0.06933594 -0.10888672 -0.08154297 -0.15429688 0.020751953 0.13183594 -0.11376953 -0.037353516 0.06933594 0.078125 -0.103027344 -0.09765625 0.044189453 0.10253906 -0.060791016 -0.036132812 -0.045410156 0.04736328 -0.12060547 -0.063964844 0.0022583008 0.037109375 -0.0029144287 0.11767578 0.061767578 0.063964844 0.08105469 -0.068847656 -0.021362305 0.05517578 -0.08544922 0.068847656 -0.12792969 -0.033203125 0.09863281 0.17578125 0.110839844 -0.03466797 -0.04711914 -0.008483887 0.035888672 0.103027344 0.026977539 -0.028686523 -0.005126953 0.10644531 0.059814453 0.09423828 0.033691406 -0.02709961 -0.09423828 0.0010299683 -0.048339844 0.034423828 0.08105469 -0.11328125 -0.08886719 0.035888672 -0.14550781 -0.24414062 -0.061523438 0.052978516 0.056884766 0.1796875 0.061035156 0.08691406 0.12402344 -0.040283203 0.022583008 0.17773438 -0.029663086 -0.029663086 0.1171875 0.03112793 -0.096191406 0.06640625 0.004699707 -0.080078125 0.06298828 -0.020629883 -0.0546875 -0.13574219 -0.06347656 0.083496094 -0.063964844 0.021484375 0.07714844 -0.037109375 -0.033691406 -0.18359375 -0.072753906 0.01586914 0.09326172 -0.061523438 -0.014221191 -0.0034484863 0.011108398 -0.15820312 -0.017089844 0.0061950684 -0.008728027 -0.080566406 -0.015258789 -0.087890625 0.003479004 -0.016113281 -0.012329102 0.09765625 -0.13964844 -0.0859375 -0.026855469 0.053955078 0.1328125 0.11279297 0.12109375 0.08544922 -0.0071105957 0.044677734 -0.14550781 -0.0032043457 -0.11767578 -0.06542969 0.07128906 -0.09423828 -0.030273438 0.12011719 0.080078125 -0.09472656 -0.16210938 -0.07763672 0.021240234 -0.08154297 0.0039367676 -0.15722656 -0.09814453 0.039794922 0.03930664 -0.009094238 0.103027344 0.067871094 -0.04272461 0.06347656 -0.049072266 0.020874023 -0.16699219 0.09326172 0.09375 0.006866455 0.053710938 0.052490234 -0.024414062 -0.032470703 -0.061523438 -0.005554199 0.096191406 0.037841797 0.012207031 -0.043945312 -0.0074768066 0.10546875 0.020385742 0.14550781 0.08203125 0.0057678223 0.0045776367 -0.09277344 -0.13867188 -0.057373047 -0.051513672 -0.13085938 -0.13964844 -0.020507812 -0.02709961 0.032714844 0.10498047 -0.0023345947 -0.022583008 0.00050354004 -0.110839844 0.08496094 -0.12988281 -0.017456055 -0.00035858154 0.107910156 0.08886719 0.044677734 0.025146484 0.023803711 0.08105469 0.02368164 -0.10986328 0.0053710938 -0.017700195 -0.033935547 -0.032958984 -0.1640625 0.095703125 -0.018310547 0.0053100586 -0.034423828 -0.044189453 -0.06640625 -0.017944336 -0.029663086 -0.007598877 -0.05126953 -0.05419922 0.08935547 -0.071777344 0.015258789 -0.08251953 -0.03173828 0.03564453 -0.021240234 -0.059326172 -0.013061523 0.046875 0.023071289 0.020996094 -0.07861328 -0.008056641 0.01953125 -0.005554199 0.041503906 0.027832031 0.01361084 0.03466797 -0.18261719 0.12011719 0.07421875 -0.041015625 -0.0099487305 0.04296875 -0.007293701 0.123046875 0.057617188 -0.053466797 -0.032226562 -0.009094238 -0.04663086 0.043945312 -0.05078125 0.068847656 0.0029907227 -0.004180908 -0.044189453 0.07373047 -0.012756348 0.06738281 0.006286621 0.07519531 -0.037841797 0.0048828125 0.044677734 -0.06738281 0.00970459 0.0047302246 0.020507812 0.07128906 0.17089844 0.17382812 0.055664062 0.091308594 -0.037353516 0.049804688 -0.03930664 0.044189453 0.0625 0.048583984 -0.053222656 0.048828125 -0.13085938 -0.028930664 -0.036132812 -0.060791016 -0.057373047 0.123046875 -0.08251953 -0.0119018555 0.125 0.0013580322 0.063964844 -0.10644531 -0.14355469 -0.042236328 0.024047852 -0.16894531 -0.08886719 -0.080566406 0.064941406 0.061279297 -0.04736328 -0.05883789 -0.047607422 0.014465332 -0.0625\n",
            "\n",
            "for -0.011779785 -0.04736328 0.044677734 0.06347656 -0.018188477 -0.063964844 -0.0013122559 -0.072265625 0.064453125 0.08642578 -0.16992188 -0.039794922 0.07128906 -0.025878906 0.018188477 0.13671875 0.14453125 -0.033691406 -0.09765625 -0.12011719 -0.079589844 0.0625 -0.06689453 0.07421875 0.022705078 0.033447266 -0.18066406 0.052001953 0.0138549805 0.09277344 0.0035095215 -0.009094238 -0.09716797 0.067871094 -0.0087890625 0.044189453 -0.13378906 -0.099609375 0.033203125 0.027954102 0.15527344 -0.017700195 0.014282227 -0.10986328 -0.08544922 -0.07324219 -0.024658203 0.17285156 0.061767578 0.08935547 -0.024291992 0.14160156 -0.032958984 0.02746582 -0.15527344 0.007873535 -0.07080078 0.043701172 0.006011963 -0.055908203 -0.14746094 0.028442383 -0.1328125 -0.17675781 -0.091308594 -0.05078125 -0.026000977 -0.1484375 -0.080566406 0.15039062 -0.04345703 0.07910156 0.033203125 0.09033203 0.022705078 -0.0625 0.1640625 0.0859375 -0.012390137 0.19628906 -0.06225586 0.022460938 -0.030151367 0.021240234 0.003326416 -0.055419922 -0.07324219 0.029785156 0.049804688 0.017456055 0.10449219 0.03881836 0.08496094 -0.24804688 0.06933594 -0.14941406 0.05834961 0.095703125 -0.033447266 0.06298828 0.021362305 -0.14550781 0.053710938 -0.09082031 -0.025390625 0.045410156 0.0053100586 -0.115722656 -0.01953125 0.12109375 0.032226562 0.09472656 -0.064453125 0.022705078 0.12060547 0.060302734 0.12060547 0.048828125 0.09326172 0.06689453 0.029296875 -0.034179688 -0.111328125 0.053466797 -0.025634766 0.017822266 0.06225586 -0.025878906 0.14550781 0.0625 0.107910156 -0.16308594 -0.09765625 -0.10595703 -0.08544922 -0.08886719 0.10107422 -0.079589844 0.008422852 0.024047852 0.13085938 0.05126953 0.08154297 0.09375 -0.05859375 -0.09667969 -0.028320312 -0.14550781 -0.14746094 0.14550781 -0.017578125 0.032958984 -0.08544922 -0.010986328 -0.037109375 -0.013671875 0.035888672 -0.008239746 0.05029297 -0.09472656 0.047851562 0.020751953 0.030639648 0.12988281 0.052734375 0.018798828 -0.017578125 0.03491211 0.018310547 -0.009887695 -0.18457031 -0.08984375 -0.029052734 -0.060791016 -0.05126953 -0.0023651123 0.06640625 -0.08251953 -0.040039062 0.096191406 -0.15429688 -0.15332031 0.028320312 0.013122559 0.029907227 -0.012145996 -0.09667969 0.024780273 0.19335938 0.013000488 0.024169922 -0.035888672 0.09863281 -0.09667969 -0.20019531 -0.013793945 0.0859375 -0.080078125 -0.17675781 -0.17480469 0.005126953 -0.03491211 -0.0546875 0.09375 -0.09326172 -0.011962891 -0.0005645752 0.09765625 0.024780273 -0.039794922 0.009765625 0.11816406 0.025756836 0.123046875 0.064453125 0.07080078 0.029296875 -0.049560547 -0.078125 0.028930664 0.045654297 -0.04296875 0.025878906 -0.051757812 0.140625 0.004272461 -0.037841797 0.02746582 0.060058594 0.028320312 0.028076172 -0.036621094 0.13085938 -9.679794e-05 -0.06933594 -0.022094727 0.067871094 -0.02331543 -0.015319824 -0.05834961 0.061035156 0.00064468384 0.0039978027 -0.07128906 0.091796875 0.026245117 0.020019531 0.03540039 -0.057861328 -0.029663086 0.02734375 0.025146484 0.060302734 0.13183594 -0.0043640137 0.0027313232 0.059814453 0.09863281 -0.091796875 -0.045898438 -0.017456055 0.038330078 -0.019165039 0.04638672 0.047851562 0.09814453 -0.040283203 0.09423828 -0.03466797 -0.042236328 0.0703125 -0.013671875 0.10644531 0.016479492 0.13183594 -0.0016937256 -0.008483887 -0.14257812 -0.04663086 -0.10986328 0.08203125 -0.041015625 -0.018920898 0.087890625 -0.0028076172 0.23828125 -0.04711914 -0.022949219 0.040771484 0.029296875 -0.022583008 0.0037231445 -0.08251953 0.08154297 0.00793457 0.00047683716 0.018432617 0.07128906 -0.03491211 0.024169922\n",
            "\n",
            "that -0.01574707 -0.028320312 0.083496094 0.05029297 -0.11035156 0.03173828 -0.014221191 -0.08984375 0.11767578 0.11816406 -0.071777344 -0.07714844 -0.068847656 0.07714844 -0.13867188 0.006500244 0.010986328 -0.015136719 -0.0009613037 -0.030273438 -0.00015830994 0.038330078 -0.024169922 -0.045898438 0.09472656 -0.05517578 -0.064941406 0.0061035156 0.0008544922 0.06201172 -0.05444336 0.014099121 0.022216797 -0.044921875 0.111328125 -0.03857422 0.05126953 0.025146484 0.016967773 0.06298828 0.13769531 0.13574219 0.06542969 -0.064453125 -0.024047852 -0.013366699 -0.037109375 0.0043029785 -0.01574707 0.019042969 0.10839844 0.044677734 -0.044921875 -0.095214844 0.08691406 0.08203125 0.0068359375 -0.13183594 0.0027313232 -0.075683594 0.022460938 0.171875 -0.048583984 0.038330078 -0.088378906 -0.017211914 0.021850586 0.13378906 0.010681152 0.049804688 0.038085938 -0.0052490234 0.061279297 -0.050048828 -0.10595703 0.055664062 0.15429688 0.17089844 0.048095703 0.12695312 0.08154297 -0.1015625 0.043945312 -0.013549805 -0.13378906 -0.15722656 0.024291992 0.20898438 -0.10205078 -0.09375 0.048583984 0.07519531 0.0035247803 -0.123535156 -0.024169922 -0.0013198853 0.038330078 0.007598877 0.017700195 0.043701172 -0.09814453 -0.05810547 0.014099121 0.041015625 -0.03540039 -0.022949219 -0.13085938 -0.14453125 0.028930664 -0.122558594 -0.07128906 -0.0071411133 -0.09667969 0.05859375 0.104003906 0.026367188 0.0075683594 0.036132812 0.040283203 0.052734375 -0.20410156 -0.033447266 -0.029052734 0.03173828 -0.123535156 -0.06738281 0.01586914 -0.08642578 0.012512207 -0.06298828 -0.12060547 0.0234375 -0.13183594 -0.11816406 -0.012145996 -0.10986328 0.095214844 -0.041992188 0.018310547 0.051757812 0.014953613 -0.15917969 -0.021728516 -0.005126953 0.035888672 -0.003036499 -0.078125 -0.05126953 -0.0074157715 0.087402344 -0.023925781 0.044189453 -0.11376953 0.021484375 -0.003829956 -0.04345703 -0.104003906 -0.18554688 -0.044921875 0.044921875 -0.044433594 0.019042969 -0.020996094 0.0134887695 0.015258789 -0.030395508 0.04663086 0.10253906 -0.0138549805 0.008239746 -0.052734375 0.01965332 -0.076171875 -0.08984375 0.043945312 0.00793457 0.012634277 -0.10839844 -0.018554688 -0.10449219 -0.15234375 -0.07910156 -0.028808594 -0.018676758 0.09716797 -0.008361816 -0.03540039 0.007537842 0.05810547 0.08203125 0.028808594 0.05102539 0.0031738281 -0.018554688 0.014953613 -0.072753906 -0.034179688 0.043945312 -0.048828125 -0.16113281 0.025634766 0.036621094 -0.00015354156 -0.0012588501 -0.039794922 -0.032226562 -0.01574707 0.060791016 0.09716797 -0.015014648 -0.033691406 -0.015319824 0.0046691895 0.032958984 -0.08203125 0.10644531 0.15429688 0.0087890625 -0.12011719 0.061279297 0.05859375 0.03881836 -0.015991211 -0.043945312 0.12011719 -0.07519531 0.125 0.03515625 0.072753906 0.087402344 0.021118164 -0.07373047 0.034423828 -0.09423828 0.01159668 -0.057128906 -0.07861328 0.015991211 0.075683594 0.030517578 0.0046081543 -0.14550781 -0.024780273 -0.107910156 0.068847656 0.05810547 0.125 -0.06542969 0.005279541 0.01184082 0.06982422 0.12695312 0.06542969 -0.017333984 0.119140625 -0.032470703 0.14453125 0.076660156 -0.032226562 -0.06591797 0.06298828 -0.0625 -0.096191406 0.10644531 -0.039794922 0.11621094 -0.00970459 -0.03540039 -0.06542969 0.05883789 0.16210938 0.05126953 0.15917969 0.095214844 0.076171875 -0.091796875 0.025146484 -0.07861328 0.08935547 -0.05859375 -0.040039062 0.045898438 0.03100586 0.0390625 0.03564453 -0.10595703 -0.037109375 -0.16113281 0.021362305 0.0012207031 -0.011291504 -0.015625 -0.033447266 -0.020629883 -0.01940918 0.063964844 0.020141602 0.006866455 0.061035156 -0.1484375\n",
            "\n",
            "is 0.0070495605 -0.07324219 0.171875 0.022583008 -0.1328125 0.19824219 0.11279297 -0.107910156 0.071777344 0.020874023 -0.123046875 -0.05908203 0.10107422 0.0107421875 0.14355469 0.25976562 -0.036376953 0.18554688 -0.07861328 -0.022705078 -0.12060547 0.17773438 0.049560547 0.017211914 0.079589844 -0.045654297 -0.18847656 0.18945312 -0.02319336 0.06298828 0.09765625 -0.019042969 -0.07910156 0.15234375 0.17382812 0.1015625 -0.16308594 0.114746094 0.10058594 -0.09277344 0.109375 0.05883789 -0.021606445 0.06347656 0.041992188 -0.008850098 0.032226562 0.10644531 0.064453125 -0.118652344 0.030517578 0.06689453 0.12207031 -0.08300781 0.171875 0.07861328 0.095214844 -0.0077819824 0.02319336 0.0234375 -0.016845703 0.15527344 -0.10986328 -0.17675781 -0.11621094 0.0234375 -0.010620117 0.052734375 -0.13378906 0.079589844 0.07373047 0.043945312 0.115234375 -0.020629883 0.07470703 -0.0115356445 0.080566406 0.041748047 0.080078125 0.3515625 0.09667969 -0.21289062 0.16503906 -0.078125 0.06982422 -0.0013961792 -0.091308594 0.12988281 0.25195312 -0.016113281 0.09326172 -0.14648438 -0.0015106201 -0.15136719 -0.026855469 -0.15722656 0.026367188 0.0859375 0.071777344 0.07714844 -0.0390625 0.05444336 -0.12792969 0.091308594 -0.18457031 -0.037597656 -0.027954102 -0.08984375 -0.11669922 -0.09863281 0.048095703 -0.16210938 -0.10888672 0.08496094 -0.045654297 0.15820312 -0.038085938 -0.08203125 0.203125 0.08642578 0.06933594 0.032226562 -0.16015625 0.09472656 -0.024658203 0.05419922 0.027954102 0.044921875 0.16992188 0.072753906 -0.036376953 -0.010253906 -0.017089844 -0.107421875 -0.0007019043 -0.07373047 0.25390625 0.056640625 0.03515625 -0.008605957 0.18554688 0.021484375 0.26367188 -0.023803711 -0.099121094 -0.041259766 -0.06933594 -0.11376953 0.050048828 -0.05883789 0.046142578 0.087402344 0.10546875 0.10644531 0.027954102 0.09472656 0.11621094 -0.17285156 -0.03491211 -0.20800781 0.059570312 0.104003906 -0.0017929077 0.05859375 -0.029785156 -0.037597656 0.048583984 -0.063964844 0.079589844 0.06933594 -0.10498047 -0.14453125 0.04345703 -0.068847656 -0.03564453 -0.01171875 0.013671875 -0.06591797 0.119140625 0.03125 -0.04638672 -0.0019683838 0.0073547363 -0.056640625 0.027832031 0.08251953 -0.0134887695 0.071777344 0.14453125 0.12792969 0.042236328 0.14160156 -0.018066406 0.021606445 -0.091796875 0.13378906 -0.1953125 -0.05029297 -0.037841797 -0.096191406 0.103027344 -0.106933594 -0.14746094 0.099609375 -0.23046875 0.22753906 -0.07519531 0.064941406 0.091796875 0.046875 0.06298828 0.06982422 0.046142578 0.09716797 -0.20214844 0.19921875 0.18652344 -0.119628906 -0.14257812 0.15039062 -0.033691406 -0.14550781 -0.0006904602 -0.07324219 0.13378906 0.03564453 -0.022949219 0.027709961 -0.07910156 0.20703125 -0.083496094 -0.049560547 0.03149414 0.1484375 0.055664062 -0.044921875 -0.079589844 0.004760742 -0.020751953 0.060058594 0.004760742 0.011169434 0.17285156 -0.13476562 0.030761719 -0.079589844 0.09033203 0.061035156 0.07714844 -0.05029297 -0.092285156 -0.26757812 0.107910156 0.0859375 0.06298828 0.107910156 -0.026733398 0.10205078 -0.12060547 0.052978516 0.09472656 -0.16503906 0.044189453 0.072265625 0.041259766 0.42578125 -0.103027344 -0.16015625 -0.09033203 -0.063964844 -0.048095703 0.14453125 0.06542969 0.049316406 0.05419922 0.13574219 -0.01928711 -0.21582031 -0.07421875 -0.14648438 0.011474609 -0.16503906 -0.10498047 0.0032043457 0.13476562 -0.003967285 -0.103515625 -0.13964844 0.10449219 -0.012573242 -0.23339844 -0.036376953 -0.09375 0.18261719 0.02709961 0.12792969 -0.024780273 0.011230469 0.1640625 0.106933594\n",
            "\n"
          ]
        }
      ],
      "source": [
        "# Exercise: Print the first 4 lines of the files that you downloaded.\n",
        "# What do you see?\n",
        "print(\"First 4 lines of Glove embeddings\")\n",
        "with open(\"glove.840B.300d.sst.txt\", \"r\") as f:\n",
        "    for line in f.readlines()[:4]:\n",
        "        print(line)\n",
        "\n",
        "\n",
        "print(\"First 4 lines of Google embeddings\")\n",
        "with open(\"googlenews.word2vec.300d.txt\", \"r\") as f:\n",
        "    for line in f.readlines()[:4]:\n",
        "        print(line)"
      ]
    },
    {
      "cell_type": "markdown",
      "metadata": {
        "id": "WIVCkUkE_IjR"
      },
      "source": [
        "#### Exercise: New Vocabulary\n",
        "\n",
        "Since we now use pre-trained word embeddings, we need to create a new vocabulary. \n",
        "This is because of two reasons:\n",
        "\n",
        "1. We do not have pre-trained word embeddings for all words in our SST training set, and we do not want words in our vocabulary for which we have no word embeddings.\n",
        "2. We should be able to look up the pre-trained word embedding for words in the validation and test set, even if these words are unseen in training. \n",
        "\n",
        "Now, create a new vocabulary object `v` based on the word set of pre-trained embeddings, and load the corresponding embeddings into a list `vectors`.\n",
        "\n",
        "The vocabulary `v` should consist of:\n",
        " - a  `<unk>` token at position 0,\n",
        " - a  `<pad>` token at position 1, \n",
        " - and then all words in the pre-trained embedding set.\n",
        " \n",
        "\n",
        "After storing each vector in a list `vectors`, turn the list into a numpy matrix like this:\n",
        "```python\n",
        " vectors = np.stack(vectors, axis=0)\n",
        "```\n",
        "\n",
        "Remember to add new embeddings for the `<unk>` and `<pad>` tokens, as they're not part of the word2vec/GloVe embeddings. These embeddings can be randomly initialized or 0-valued, think about what makes sense and see what the effects are.\n",
        " "
      ]
    },
    {
      "cell_type": "code",
      "execution_count": 203,
      "metadata": {
        "colab": {
          "base_uri": "https://localhost:8080/"
        },
        "id": "ITyyCvDnCL4U",
        "outputId": "299e7738-cdd3-45c6-d606-01e2386319d7"
      },
      "outputs": [
        {
          "output_type": "stream",
          "name": "stdout",
          "text": [
            "(20727, 300)\n"
          ]
        }
      ],
      "source": [
        "# class PretrainedVocabulary:\n",
        "#   def __init__(self):\n",
        "#     self.vocab = {}\n",
        "\n",
        "#   def add_token(self, t, vector):\n",
        "#     self.vocab[t] = vector\n",
        "\n",
        "#   def build(self, embedding_file):\n",
        "#     self.add_token(\"<unk>\", np.zeros(300))\n",
        "#     self.add_token(\"<pad>\", np.zeros(300))\n",
        "\n",
        "#     with open(embedding_file, \"r\") as f:\n",
        "#       for line in f.readlines():\n",
        "#         line = line.split(\" \")\n",
        "#         vector = np.array([x for x in line[1:]])\n",
        "#         self.add_token(line[0], vector)\n",
        "\n",
        "v = Vocabulary()\n",
        "vectors = [np.zeros(300), np.zeros(300)]\n",
        "with open(\"glove.840B.300d.sst.txt\", \"r\") as f:\n",
        "  for line in f.readlines():\n",
        "    line = line.split(\" \")\n",
        "    v.count_token(line[0])\n",
        "    vectors.append([float(x) for x in line[1:]])\n",
        "\n",
        "v.build()\n",
        "vectors = np.stack(vectors, axis=0)\n",
        "print(vectors.shape)"
      ]
    },
    {
      "cell_type": "markdown",
      "metadata": {
        "id": "xC-7mRyYNG9b"
      },
      "source": [
        "#### Exercise: words not in our pre-trained set\n",
        "\n",
        "How many words in the training, dev, and test set are also in your vector set?\n",
        "How many words are not there?\n",
        "\n",
        "Store the words that are not in the word vector set in the set below."
      ]
    },
    {
      "cell_type": "code",
      "execution_count": 204,
      "metadata": {
        "colab": {
          "base_uri": "https://localhost:8080/"
        },
        "id": "K6MA3-wF_X5M",
        "outputId": "91d713b3-89b8-41a4-dbc8-2a5e51344eef"
      },
      "outputs": [
        {
          "output_type": "stream",
          "name": "stdout",
          "text": [
            "dict_keys(['<unk>', '<pad>', ',', '.', 'the', 'and', 'to', 'of', 'a', 'in', ':', 'is', 'for', 'I', ')', '(', 'that', '-', 'on', 'you', 'with', \"'s\", 'it', 'The', 'are', 'by', 'at', 'be', 'this', 'as', 'from', 'was', 'have', 'or', '...', 'your', 'not', '!', '?', 'will', 'an', \"n't\", 'can', 'but', 'all', 'my', 'has', 'do', 'we', 'they', 'more', 'one', 'about', 'he', ';', \"'\", 'out', '$', 'their', 'so', 'his', 'up', 'It', '&', 'like', '/', '1', 'which', 'if', 'would', 'our', 'me', 'who', 'just', 'This', 'time', 'what', 'A', '2', 'had', 'when', 'there', 'been', 'some', 'get', 'were', 'other', 'also', 'In', 'her', 'them', 'You', 'new', 'We', 'no', 'any', 'people', 'than', 'into', 'only', '3', 'how', 'its', 'first', 'said', 'If', 'over', 'make', 'good', 'know', 'very', '%', 'am', 'now', 'see', 'may', 'she', 'could', 'most', 'then', \"'m\", 'use', 'these', 'did', 'And', 'way', 'New', '4', 'here', 'well', 'work', 'two', '=', 'think', 'much', 'should', 'us', 'years', 'many', 'back', 'because', '5', '#', 'For', 'after', 'He', 'need', 'year', 'even', 'does', 'really', 'through', 'want', 'great', 'him', 'where', 'go', 'day', '--', 'such', '10', '*', 'right', 'best', 'made', \"'re\", 'views', 'But', 'find', 'take', 'being', \"'ve\", 'those', 'information', 'before', 'used', 'off', 'love', 'home', 'too', '+', 'last', 'What', 'going', 'help', 'To', 'still', 'free', 'down', 'There', 'All', 'May', 'They', '6', 'life', 'same', 'around', \"'ll\", 'world', 'My', 'own', 'little', 'while', 'each', 'look', 'By', 'say', 'got', 'So', 'business', '7', 'As', 'That', 'part', 'both', 'long', 'better', 'every', 'Home', 'few', 'ago', 'things', 'between', '8', 'something', 'game', 'With', 'No', 'available', 'never', 'using', 'place', 'under', 'come', '12', 'online', 'another', 'system', 'found', 'How', 'When', 'days', 'without', 'always', 'On', 'different', '20', 'next', 'set', 'must', 'since', 'high', 'video', 's', 'sure', 'lot', 'Your', 'again', 'More', 'number', 'service', 'three', 'including', 'give', 'She', 'during', 'show', 'end', 'family', 'looking', 'thing', 'name', 'One', 'post', 'might', 'today', 'week', '15', 'old', 'why', 'put', 'Do', 'read', '11', '9', 'company', 'money', 'top', '30', 'big', 'man', 'book', 'area', 'full', 'page', 'keep', 'away', 'against', 'small', 'feel', 'support', 'ca', 'real', 'Of', 'times', \"'d\", 'says', 'school', 'play', 'left', 'team', 'water', 'point', 'music', 'Our', 'ever', 'having', 'News', 'second', 'able', 'order', 'children', 'within', 'City', 'Now', 'though', 'start', 'American', 'months', 'services', 'experience', 'car', 'until', 'case', 'making', 'getting', 'done', 'God', 'state', 'provide', 'course', 'At', 'list', 'June', 'change', 'local', 'enough', 'night', '100', 'hard', 'person', 'April', '18', 'let', 'line', 'From', '13', 'website', 'least', 'live', 'power', 'try', '25', 'doing', 'important', 'working', 'less', 'quality', 'group', 'care', 'makes', 'thought', 'side', 'call', 'United', 'per', 'room', 'actually', 'These', 'program', 'public', 'John', 'products', 'January', 'following', 'job', 'yet', 'called', 'buy', 'hours', 'already', 'Is', 'price', 'easy', 'design', 'far', 'World', 'please', 'State', 'THE', 'include', 'problem', 'open', 'health', 'food', 'women', 'US', 'based', 'went', 'body', 'County', 'house', 'process', 'needs', 'story', 'York', 'search', 'large', 'Not', 'together', 'came', 'bit', 'After', 'someone', 'run', 'Here', 'others', 'de', 'anything', 'often', 'fact', 'means', 'offer', 'country', 'control', 'once', 'friends', 'view', 'become', 'September', 'possible', 'several', 'Black', 'along', 'bad', 'market', 'city', 'fun', 'believe', 'nice', 'pretty', 'Please', 'product', 'August', 'seen', 'Day', 'web', 'form', 'took', 'results', 'Just', 'points', 'students', 'games', 'Center', 'past', 'started', 'School', '19', 'South', 'tell', 'level', 'Business', 'news', '22', 'government', 'kind', 'members', 'comes', 'head', 'light', 'Price', 'check', 'hand', 'minutes', 'North', 'TV', 'U.S.', 'hope', 'National', 'black', 'type', '50', 'above', 'whole', 'probably', 'software', 'season', 'everything', 'below', 'Thanks', 'either', 'Read', 'example', 'four', 'community', 'trying', 'Video', 'special', 'review', 'anyone', 'million', 'idea', 'States', 'access', 'added', 'contact', 'add', 'men', 'An', 'given', 'However', 'everyone', 'Search', 'value', 'Last', 'phone', 'quite', 'House', 'nothing', 'known', 'early', 'near', 'current', 'First', 'pay', 'Best', 'later', 'research', 'mind', 'question', 'personal', 'See', 'project', 'young', 'plan', 'told', 'offers', 'almost', 'development', 'movie', 'Internet', 'Some', 'true', 'link', 'month', 'Great', 'About', 'version', 'event', 'create', 'mean', 'future', 'size', 'West', 'taking', 'words', 'face', 'single', 'features', 'Time', 'close', 'white', 'beautiful', 'looks', 'via', 'history', 'reading', 'series', 'America', 'across', 'cost', 'seems', 'else', 'Why', 'visit', 'short', 'song', '26', 'front', 'works', 'White', 'Park', 'High', 'wanted', 'class', 'law', 'coming', 'whether', 'sex', 'share', 'problems', 'perfect', 'Get', 'weeks', 'His', 'film', 'low', 'taken', 'reason', 'details', 'soon', 'party', 'complete', 'child', 'questions', 'card', 'range', 'report', 'sale', 'rather', 'property', 'comments', 'Post', 'Love', 'hot', 'hotel', 'friend', 'issue', 'Well', 'understand', 'due', 'learn', 'heart', 'computer', 'office', 'Music', 'kids', 'stop', 'especially', 'English', 'watch', 'Friday', 'provides', 'simple', 'art', 'major', 'issues', 'UK', 'move', 'content', 'training', 'building', 'etc.', 'asked', 'miles', 'credit', 'couple', 'industry', 'Date', 'original', 'age', 'air', 'AND', 'five', 'date', 'Good', 'includes', 'Other', 'Street', 'study', 'half', 'social', 'shows', 'space', 'photos', 'present', 'happy', 'matter', 'turn', 'needed', 'David', 'gets', 'image', 'performance', 'media', 'Then', 'human', 'simply', 'stay', 'running', 'deal', 'living', 'girl', 'style', 'London', 'provided', 'ask', 'main', 'enjoy', 'member', 'energy', 'required', 'bring', 'further', 'Most', 'technology', 'upon', 'Are', 'playing', 'action', 'Add', 'rate', 'San', 'comment', 'saw', 'insurance', 'sound', 'code', 'takes', 'talk', 'Hotel', 'test', 'While', 'Sunday', 'key', 'stuff', 'woman', 'however', 'related', 'win', 'Saturday', 'California', 'various', 'among', 'usually', 'meet', 'parts', 'guys', 'behind', 'word', 'result', 'amount', 'store', 'yourself', 'wo', 'areas', 'position', 'return', 'field', 'interest', 'Red', 'guy', 'books', 'events', 'myself', 'hit', 'longer', 'Yes', 'leave', 'Big', 'items', 'total', 'remember', 'Mr.', 'wrong', 'address', 'lost', 'message', 'rest', 'natural', 'picture', 'cause', 'general', 'goes', 'created', 'favorite', 'color', 'drive', 'clear', 'outside', 'click', 'Part', 'paper', 'Life', 'shall', 'held', 'inside', 'Buy', 'private', '40', 'currently', 'morning', 'model', 'similar', 'maybe', 'designed', 'professional', 'heard', 'internet', 'writing', 'lead', 'hear', 'security', 'certain', 'cover', 'rights', 'Group', 'Full', 'period', 'account', 'sales', 'Can', 'third', 'pictures', 'common', 'addition', 'Washington', 'subject', 'record', 'likely', 'St.', 'saying', 'Monday', 'sites', 'hair', 'written', 'changes', 'James', 'source', 'received', 'continue', 'ready', 'photo', 'customers', 'sense', 'interesting', 'recent', 'Art', 'forward', 'weight', 'popular', 'reviews', 'wrote', 'ways', 'latest', 'Green', 'oil', 'instead', 'players', 'Inc.', 'East', 'Road', 'cut', 'strong', 'death', 'General', 'recently', 'save', 'thanks', 'late', 'Dr.', 'network', 'red', 'education', 'financial', 'cool', 'included', 'treatment', 'Thank', 'unique', 'Paul', 'send', 'write', 'baby', 'seem', 'player', 'Show', 'section', 'Company', 'Photo', 'Like', 'choose', 'thinking', 'amazing', 'choice', 'according', 'Christmas', 'travel', 'Blue', 'wish', 'Let', 'People', 'Michael', 'China', 'fine', 'center', 'allow', 'wait', 'increase', 'chance', 'final', 'Who', 'answer', 'Up', 'played', 'fast', 'likes', 'worth', 'Department', 'programs', 'release', 'box', 'material', 'tax', 'location', 'specific', '2000', 'ones', 'meeting', 'town', 'entire', 'individual', 'eyes', 'themselves', 'Texas', 'Real', 'girls', 'board', 'Wednesday', 'Be', 'particular', 'higher', 'huge', 'Women', 'medical', 'term', 'Club', 'Two', 'receive', 'marketing', 'hold', 'text', 'Book', 'tried', 'table', 'Oh', 'Me', 'itself', 'B', 'summer', 'gave', 'build', 'follow', 'easily', 'Canada', 'loss', 'Family', 'worked', 'Report', 'cheap', 'road', 'options', 'additional', 'wide', 'India', 'standard', 'Have', 'Next', 'opportunity', 'decided', 'step', 'role', 'lives', 'pages', 'national', 'ideas', 'parents', 'terms', 'collection', 'international', 'method', 'piece', 'S', 'Many', 'practice', 'title', 'skin', 'six', 'policy', 'door', 'green', 'wife', 'DVD', 'gives', 'excellent', 'Contact', 'knowledge', 'stock', 'production', 'interested', 'war', 'quickly', 'risk', 'Beach', 'son', 'sometimes', 'images', 'Or', 'Even', 'System', 'throughout', 'track', 'videos', 'starting', 'giving', 'lower', 'groups', 'looked', 'average', 'talking', 'shot', 'effect', 'wonderful', 'completely', 'political', 'hands', 'dog', 'moment', 'activities', 'sent', 't', 'knew', 'land', 'Game', 'Back', 'involved', 'band', 'Church', 'difficult', 'finally', '60', 'success', 'Check', 'built', 'felt', 'screen', 'Lake', 'himself', 'student', 'fit', 'II', 'clean', 'wants', 'born', 'album', 'fire', 'hour', '2002', 'language', 'potential', 'device', 'attention', 'equipment', 'feet', 'Live', 'King', 'mother', 'ability', 'Car', 'fall', 'extra', 'former', 'Year', 'variety', 'bed', 'cases', 'Since', 'necessary', 'Will', 'guess', 'allows', 'turned', 'Go', 'plans', 'published', 'blood', 'leading', 'effects', 'types', 'response', 'costs', 'began', 'focus', 'became', '`', 'consider', 'levels', 'learning', 'daily', 'happen', 'resources', 'Apple', 'No.', 'Make', 'weekend', 'exactly', 'wedding', 'Only', 'growth', 'note', 'Where', 'feature', 'sell', 'brought', 'ground', 'speed', 'base', 'trip', 'decision', 'pain', 'plus', 'Set', 'notes', 'environment', 'Public', 'X', 'D', 'Man', 'released', 'skills', 'rates', 'Series', 'effective', 'court', 'conditions', 'career', 'college', 'character', 'voice', 'War', 'CD', 'solution', 'safe', 'although', 'Mark', 'Association', 'digital', 'police', 'walk', 'break', 'directly', 'round', 'item', 'difference', 'shown', 'Press', 'sign', 'M', 'option', 'tools', 'projects', 'moving', '2001', 'places', 'function', 'situation', 'numbers', 'definitely', 'providing', 'Digital', 'stories', 'won', 'stand', 'Europe', 'paid', 'George', 'previous', 'display', 'feeling', 'French', 'floor', 'gift', 'race', 'legal', 'modern', 'Star', 'pick', 'camera', 'Watch', 'guide', 'yes', 'eat', 'lyrics', 'Jesus', 'pass', 'engine', 'estate', 'goal', 'gone', 'Sports', 'E', 'lots', 'limited', 'British', 'England', 'nature', 'cards', 'fans', 'expected', 'awesome', 'List', 'spent', 'Christian', 'certainly', 'entry', 'History', 'considered', 'planning', 'spend', 'claim', 'relationship', 'benefits', 'Games', 'blue', 'alone', 'J.', 'charge', 'machine', 'approach', 'Science', 'Robert', 'lines', 'Once', 'quick', 'brand', 'highly', 'schools', 'church', 'beginning', 'Food', 'Brown', 'match', 'W', 'changed', 'Men', 'homes', 'uses', 'unit', 'economic', 'ensure', 'Take', 'happened', 'Her', 'shop', 'PC', 'fully', 'movies', 'Program', 'bar', 'Old', 'songs', 'father', 'regular', 'Call', 'Another', 'sort', 'improve', 'Its', 'clients', 'expect', 'Australia', 'sounds', 'normal', 'fan', 'Each', 'reports', 'Chicago', 'memory', 'Bill', 'Hot', 'advice', 'deep', 'loved', 'serious', 'Project', 'bought', 'A.', 'Because', 'trade', 'n', 'multiple', 'Out', 'River', 'died', 'begin', 'pressure', 'towards', 'states', 'fight', 'knows', 'William', 'rooms', 'materials', 'analysis', 'gas', 'helps', 'Island', 'successful', 'b', 'European', 'cars', 'nearly', 'map', 'tool', 'direct', 'Although', 'stage', 'Care', 'author', 'com', 'Chris', 'developed', 'channel', 'eye', 'Valley', 'join', 'thank', 'fresh', 'Any', 'ball', 'watching', 'gold', 'official', 'basic', 'bottom', 'copy', 'rules', 'perhaps', 'whose', 'Times', 'Smith', 'update', 'double', 'force', 'moved', 'funny', 'Very', 'drug', 'military', '80', 'traditional', 'touch', 'gay', 'sold', 'commercial', 'cell', 'Mike', 'Light', 'significant', 'allowed', 'physical', 'apply', 'region', 'L', 'truly', 'window', 'activity', 'offered', 'growing', 'act', 'club', 'wall', 'require', 'poor', 'cash', 'names', 'middle', 'reported', 'Special', 'positive', 'met', 'press', 'Lord', 'evidence', 'surface', 'reach', 'star', '90', 'Long', 'vehicle', 'effort', 'led', 'heat', 'Water', 'whatever', 'weather', 'seeing', 'impact', 'Does', 'recommend', 'Over', 'construction', 'shopping', 'Mary', 'hotels', 'Maybe', 'sports', 'finish', 'N', 'selection', 'dead', 'daughter', 'waiting', 'Rock', 'Thomas', 'useful', 'figure', 'dark', 'husband', 'degree', 'boy', 'cancer', 'Little', 'science', 'Los', 'named', 'benefit', 'showing', 'purpose', 'rock', 'condition', 'earlier', 'Peter', 'vote', 'president', 'cold', 'beyond', 'updated', 'seconds', 'onto', 'Chinese', 'businesses', 'disease', 'reasons', 'associated', 'glass', 'healthy', 'supply', 'straight', 'develop', 'Us', 'Super', 'basis', 'Indian', 'easier', 'NOT', 'S.', 'setting', 'finished', 'lose', 'wear', 'teams', 'Hill', 'sweet', 'Welcome', 'connection', 'particularly', 'helpful', 'profile', 'offering', 'actual', 'budget', 'except', 'models', 'campaign', 'characters', 'street', 'kept', 'culture', 'families', 'opinion', 'calls', 'Director', 'traffic', 'Under', 'pool', 'opening', 'print', 'statement', 'driving', 'speak', 'delivery', 'Hall', 'La', 'powerful', 'tour', 'button', 'overall', 'bank', 'radio', 'truth', 'unless', 'immediately', 'kitchen', 'Bank', 'individuals', 'Children', 'buying', 'economy', 'regarding', 'fish', 'older', 'respect', 'holiday', 'generally', 'understanding', 'Box', 'responsible', 'Did', 'damage', 'enter', 'T', 'served', 'beach', 'correct', 'Night', 'finding', 'appear', 'notice', 'Joe', 'extremely', 'France', 'creating', 'letter', 'Baby', 'avoid', 'contains', '70', 'Tom', 'solutions', 'passed', 'R', 'stars', 'Parts', 'appropriate', 'serve', 'comfortable', 'Room', 'discussion', 'background', 'totally', 'greater', 'Wedding', 'scene', 'Every', 'topic', 'Journal', 'forum', 'wonder', 'director', 'mine', 'sleep', 'produce', 'Silver', '1999', 'records', 'and/or', 'package', 'married', 'investment', 'ahead', 'grow', 'annual', 'debt', 'M.', 'status', 'attack', 'bag', 'reference', 'battery', 'Plus', 'runs', 'Movie', 'miss', 'Christ', 'lack', 'Japan', 'happens', 'J', 'structure', 'IS', 'beat', 'la', 'population', 'Johnson', 'minute', 'bill', 'Africa', 'Richard', 'prior', 'mentioned', 'followed', 'helped', 'drop', 'metal', 'F', 'society', 'larger', 'fat', 'compared', 'pieces', 'Society', 'evening', 'shoes', 'challenge', 'contract', 'carry', 'hate', 'Their', 'welcome', 'Western', 'football', 'dating', 'Angeles', 'learned', 'fashion', 'Right', 'length', 'host', 'vs.', 'century', 'During', 'spot', 'self', 'movement', 'protect', '45', 'Young', 'Co.', 'selling', 'C.', 'studies', 'wine', 'park', 'error', 'reduce', 'Israel', 'tickets', 'described', 'absolutely', 'cute', 'ride', 'sorry', 'sources', 'Stock', 'produced', 'block', 'dress', 'patient', 'values', 'opportunities', 'windows', 'Steve', 'friendly', 'distance', 'station', 'coffee', 'audio', 'tree', 'existing', 'established', 'colors', 'direction', '1/2', 'seven', 'forget', 'reality', 'covered', 'famous', 'female', 'complex', 'otherwise', 'nation', 'yesterday', 'listen', 'According', 'interview', 'driver', 'German', 'primary', 'thousands', 'Boston', 'warm', 'Look', 'Lee', 'heavy', 'steps', 'doctor', 'biggest', 'thoughts', 'classic', 'sharing', 'efforts', 'handle', 'advantage', '1998', 'Daily', 'therefore', 'ten', 'Three', 'appears', 'requires', 'et', 'seemed', 'category', 'mix', 'ice', 'devices', 'rich', 'placed', 'Total', 'forms', 'Scott', 'exercise', 'closed', 'Japanese', 'beauty', 'adult', 'plays', 'score', 'goals', 'H', 'killed', 'soft', 'leader', 'Girl', 'dance', 'standards', 'dinner', 'putting', 'dry', 'manager', 'liked', 'Country', 'clearly', 'thus', 'communication', 'Girls', 'artist', 'End', 'plant', 'Play', 'presented', 'helping', 'experienced', 'foot', 'fair', 'Edition', 'spring', 'die', 'Happy', 'accept', 'prevent', 'highest', 'sun', 'starts', 'owners', 'Before', 'target', 'toward', 'solid', 'w', 'format', 'completed', 'becomes', 'brother', 'testing', 'doubt', 'Work', 'classes', 'Bush', 'continued', 'Case', 'Those', 'walking', 'competition', 'net', 'Americans', 'Job', 'central', 'parties', 'deals', 'properties', 'Martin', 'advanced', 'Earth', 'calling', 'keeping', 'remain', 'meaning', 'Sex', 'Hey', 'winter', 'Germany', 'shape', 'mention', 'balance', 'mostly', 'stores', 'elements', 'Ford', 'Using', 'Color', 'alternative', 'eating', 'theme', 'leaving', 'ended', 'trust', 'sexy', 'brain', 'technical', 'menu', 'claims', 'boys', 'animals', 'expensive', 'demand', 'wood', 'teaching', 'mom', 'separate', 'glad', 'opened', '300', 'Museum', 'caused', 'League', 'Jack', 'session', 'train', 'asking', 'feed', 'path', 'Both', 'workers', 'creative', 'drugs', '**', 'Jones', 'enjoyed', 'independent', 'dream', 'missing', 'peace', 'decide', 'Mexico', 'spending', 'foreign', 'teen', 'cable', 'gain', 'sit', 'teacher', 'slow', 'fear', 'Jersey', 'Summer', 'mode', 'plenty', 'Jim', 'recipe', 'aware', 'Spring', 'document', 'Off', 'Way', 'Shipping', 'sets', 'strategy', 'earth', 'operating', 'Place', 'flow', 'Auto', 'Fire', 'super', 'nor', 'television', 'meant', 'pair', 'laws', 'male', 'kill', 'lovely', 'sea', 'showed', 'taste', 'Kids', 'concept', 'strength', 'majority', 'frame', 'attempt', 'eight', 'anyway', 'determine', 'faith', 'fill', 'ring', 'perform', 'proper', 'cup', 'Garden', 'Class', 'adding', 'Order', 'Looking', 'smaller', 'critical', 'sitting', 'whom', 'discuss', 'mouth', 'discount', 'dollars', 'units', 'ideal', 'partner', 'Movies', 'busy', 'library', 'corporate', 'Bob', 'porn', 'fantastic', 'drink', 'Bar', 'crazy', 'description', '75', 'rent', 'agency', 'trial', 'ship', 'realize', 'Building', 'edge', 'Events', 'slightly', 'excited', 'department', 'becoming', 'marriage', 'maintain', 'guests', 'combination', 'object', 'returned', 'schedule', 'willing', 'transfer', 'Second', 'G', 'continues', 'Charles', 'essential', 'winning', 'flight', 'filled', 'leaves', 'mail', 'possibly', 'failed', 'plastic', 'hospital', 'Jackson', 'caught', 'seat', 'Still', 'holding', 'changing', 'bike', 'prepared', 'OK', 'Human', 'suggest', '1997', 'dogs', 'gonna', 'dedicated', 'W.', 'anywhere', 'artists', 'hearing', 'developing', 'detail', 'Canadian', '3D', 'rental', 'worse', 'Paris', 'senior', 'count', 'documents', 'R.', 'raised', 'techniques', 'Dog', 'Santa', 'trouble', 'manage', 'electronic', 'Williams', 'birthday', 'agreement', 'explain', 'Master', 'fuel', 'audience', 'volume', 'Yeah', 'Body', 'guitar', 'luck', 'proud', 'defense', 'fix', 'corner', 'remains', 'Town', 'O', 'hell', 'Features', 'Personal', 'bus', 'managed', 'removed', 'progress', 'Police', 'o', 'brings', 'connected', 'animal', 'quarter', 'joined', 'Festival', 'shared', 'Was', 'Professional', 'kid', 'flat', 'Action', 'Property', 'capacity', 'mission', 'Resources', 'Would', 'achieve', 'supposed', 'Credit', 'despite', 'Francisco', 'wind', 'applied', '48', 'cast', 'Which', 'exciting', 'oh', 'portion', 'updates', 'P', 'core', 'golf', 'plants', 'ran', 'none', 'reached', 'Georgia', 'pics', 'Heart', 'negative', 'battle', 'agent', 'episode', 'load', 'K', 'cream', 'generation', 'silver', 'Spanish', 'tomorrow', 'Talk', 'missed', 'appreciate', 'Story', 'flowers', 'waste', 'Bible', 'sister', 'advance', 'birth', 'detailed', 'Mr', 'factors', 'catch', 'bedroom', 'vacation', 'edition', 'Money', 'numerous', 'cities', 'D.', 'master', 'actions', 'performed', 'Point', 'Start', 'Film', 'teachers', 'Low', 'folks', 'Hope', 'lived', 'imagine', 'worry', 'square', 'recommended', 'Down', 'magazine', 'Magazine', 'L.', 'presence', 'Entertainment', 'spread', 'yeah', 'minimum', 'parking', 'election', 'exchange', 'Award', 'broken', 'Italian', 'comfort', 'religious', 'turns', 'treat', 'rise', 'sexual', 'afternoon', 'Episode', 'eventually', 'houses', 'Nice', 'boat', 'maximum', 'sample', 'relevant', 'pull', 'species', 'limit', 'stopped', 'entertainment', 'Pictures', 'abuse', 'markets', 'twice', 'Made', 'raise', 'register', 'paying', 'tonight', 'tough', 'administration', 'noticed', 'housing', 'standing', 'theory', 'wearing', 'seriously', 'serving', 'greatest', 'Asian', 'apartment', 'experiences', 'hits', 'telling', 'seeking', 'switch', 'signs', 'Matt', 'Hospital', 'deliver', 'feels', 'designs', 'rating', 'B.', 'Dark', 'concerned', 'trees', 'fees', 'manner', 'Private', 'Dr', 'messages', 'sugar', 'Space', 'faster', 'leads', 'cat', 'throw', 'internal', 'stress', 'ends', 'tells', 'forces', 'draw', 'guest', 'initial', 'Should', 'centre', 'indeed', 'gallery', 'layer', 'prescription', 'edit', '42', 'gun', 'input', 'sad', 'African', 'pack', 'properly', 'facts', 'Gift', 'Southern', 'charges', 'Need', 'secret', 'lunch', 'purposes', 'intended', 'residents', 'responsibility', 'stupid', 'Ryan', 'clothes', 'behavior', 'searching', 'loves', 'freedom', 'functions', 'Large', 'answers', 'medium', 'lights', 'stick', 'Sorry', 'previously', 'cross', 'failure', 'prefer', 'electric', 'Middle', 'forced', 'covers', 'films', 'Player', 'mark', 'PA', 'Louis', 'task', 'vision', 'ad', 'Child', 'allowing', 'environmental', 'scale', 'bigger', 'launch', 'specifically', 'worst', 'Friends', 'usual', 'Brian', 'arms', 'writer', 'locations', 'causes', 'paint', 'desire', 'topics', 'components', 'appeared', 'speech', 'decisions', 'brown', 'featuring', 'Remember', 'Leave', 'fell', 'sides', 'Sea', 'Land', '1995', 'Cheap', 'orders', 'wireless', 'leather', 'maintenance', 'hurt', 'III', 'automatically', 'combined', 'Easy', 'tea', 'suit', 'snow', 'spirit', 'chicken', 'license', 'award', 'reserved', 'Australian', 'picked', 'influence', 'expert', 'discovered', 'owned', 'U', 'Andrew', 'practices', 'installation', 'arrived', 'Days', 'aid', 'Original', 'relationships', 'truck', 'zone', 'obvious', 'compare', 'smart', 'professionals', 'THIS', '65', 'island', 'kinds', 'increasing', 'determined', 'treated', 'rain', 'contain', 'command', 'edited', 'bathroom', 'sick', 'considering', 'hundreds', 'measure', 'Whether', 'wild', 'teach', 'Italy', 'Creek', 'vehicles', 'Things', 'Four', 'surprised', 'Dave', 'begins', 'Ben', 'keeps', 'Band', 'Glass', 'pop', 'milk', 'Russian', 'horse', 'measures', 'obviously', 'factor', 'formed', 'Weight', 'recorded', 'upper', 'element', 'fly', 'taxes', 'roll', 'novel', 'false', 'chocolate', 'Age', 'speaking', 'push', 'resolution', 'Coast', 'gifts', 'Tim', 'exist', 'defined', 'mass', 'bright', 'i.e.', 'emergency', 'bet', 'Message', 'Asia', 'crime', 'fishing', 'Miami', 'seek', 'anymore', 'Q', 'tend', 'somewhere', 'journey', 'Awards', 'comprehensive', 'improved', 'committed', 'Song', 'Academy', 'airport', 'Never', 'soul', 'instance', 'yellow', 'herself', 'interests', 'studio', 'introduced', 'De', 'Hollywood', 'Pink', 'charged', 'fourth', 'grade', 'adults', 'recording', '400', 'Daniel', 'tight', 'quiet', 'ads', 'Sometimes', 'camp', 'replace', 'fruit', 'Taylor', 'appearance', 'affect', 'Henry', 'Has', 'university', 'Wow', 'Side', 'knowing', 'aspects', 'fighting', 'goods', 'Queen', 'winner', 'mental', 'Double', 'Try', 'rare', 'Sarah', 'legs', 'closer', 'Golden', 'agents', 'hole', 'presentation', 'Again', 'surprise', 'Frank', 'Lady', 'pet', 'watched', 'beer', 'ourselves', 'recovery', 'connect', 'Dan', 'Dance', 'educational', 'Wood', 'Harry', 'invention', 'shooting', 'Rose', 'Jewish', 'cheese', 'focused', 'featured', 'chain', 'concerns', 'remote', 'Complete', 'hardware', 'Through', 'familiar', 'authority', 'examples', 'carried', 'youth', 'Short', 'depending', 'choices', 'consumers', 'flash', 'shots', 'Finally', 'Trade', 'village', 'suitable', 'Electric', 'perfectly', 'Ca', 'listening', 'debate', 'Joseph', 'Leather', 'Kevin', 'religion', 'Beautiful', 'reduced', 'river', 'evil', 'cultural', 'accurate', 'bringing', 'follows', 'Death', 'Jeff', 'Cross', 'trading', 'executive', 'creation', 'challenges', 'F.', 'apart', 'therapy', 'buildings', 'receiving', '20th', 'Without', 'definition', 'agreed', 'Mother', 'importance', 'Hard', '1994', 'equal', 'confidence', 'partners', 'doors', 'hoping', 'Boy', 'historical', 'Ireland', 'Catholic', 'reasonable', 'Yet', 'tracks', 'fields', 'motion', 'losing', 'delivered', 'sheet', 'efficient', 'honest', 'violence', 'argument', 'context', 'mature', '120', 'concern', 'cooking', 'clothing', 'arm', 'bags', 'smile', 'Quick', 'Adam', 'plate', 'Disney', 'officer', 'smooth', 'filter', 'judge', 'retail', 'originally', 'turning', 'Northern', 'pink', 'Perhaps', 'climate', 'Indiana', 'degrees', 'Field', 'Sam', 'till', 'Instead', 'chief', 'positions', 'conversation', 'settings', 'Performance', '99', 'dates', 'massive', 'Bad', 'shoot', 'personally', 'lucky', 'chosen', 'Being', 'ticket', 'Seattle', 'Jason', 'photography', 'ordered', 'basically', 'Station', 'Father', 'cake', 'CEO', 'pleasure', 'jump', 'Sound', 'Holy', 'medicine', 'salt', 'chapter', 'musical', 'supplies', 'attached', 'talks', 'nine', 'log', 'talent', 'route', 'extended', 'Spain', 'Linux', 'holds', 'Enjoy', 'height', 'league', 'fairly', 'Having', 'typically', 'meat', 'entirely', 'walked', 'shower', '95', 'attacks', 'lady', 'stone', 'Speed', 'Tony', 'El', 'Orange', 'Meeting', 'letters', 'matters', 'perspective', 'accident', 'prove', 'crowd', 'thinks', 'millions', 'taught', 'Winter', 'Want', 'typical', 'pulled', 'forever', 'bunch', 'politics', 'stands', 'entered', 'Patch', 'happening', 'sport', 'returns', 'Beauty', 're', 'wondering', 'lets', 'competitive', 'moves', 'planned', 'saved', 'relatively', 'Unfortunately', 'Stage', 'Dallas', 'everyday', 'cutting', 'remaining', 'machines', 'Columbia', 'dangerous', 'extensive', 'Miss', 'f', 'gear', 'crisis', 'god', 'practical', '***', 'label', 'inspired', 'Final', 'Give', 'chair', 'discover', 'Channel', 'fabric', 'Eric', 'tiny', 'minor', 'engineering', 'lighting', 'Could', 'Max', 'shares', 'Modern', 'writes', 'Everything', 'objects', 'organic', 'east', 'Van', 'Russia', 'prepare', 'civil', 'candidate', 'painting', 'valuable', 'impossible', 'Alex', 'mixed', 'farm', 'phones', 'Everyone', 'enable', 'fellow', 'employment', 'apparently', 'suggested', 'OS', 'wins', 'figures', 'LA', 'supporting', 'pleased', 'expression', 'nude', 'telephone', 'somewhat', 'Stars', 'Diego', 'Yellow', 'neck', 'realized', '51', 'meal', 'reliable', 'slowly', 'encourage', 'upcoming', 'dropped', 'drawing', 'tired', 'cycle', 'lists', 'mountain', 'breast', 'ages', '1993', 'interior', 'Express', 'Denver', 'Boys', 'represent', 'hire', 'versions', 'Machine', '7th', '19th', 'Too', 'exact', 'normally', 'Content', 'comparison', 'explore', 'capable', 'graphics', 'Nothing', 'scientific', 'Ask', 'ancient', 'ingredients', 'occur', 'luxury', 'dad', 'Mrs.', 'walls', 'technologies', 'pure', 'ya', 'guarantee', 'participate', 'random', 'hundred', 'Really', 'Though', 'commitment', '21st', 'incredible', 'Miller', '1990', 'academic', 'heads', '52', 'illegal', 'pounds', 'Stephen', '10th', 'bear', 'unable', 'monitor', 'Davis', 'editor', '72', 'string', 'procedure', 'printed', 'nuclear', 'fail', 'wet', 'Mom', 'Five', 'frequently', '101', 'arts', 'visual', 'magic', 'respond', 'appeal', 'passing', 'Fun', 'parent', 'Making', 'G.', 'duty', 'effectively', 'Al', 'colour', 'acid', '8th', 'Irish', 'script', 'Jr.', 'Austin', 'native', 'Elizabeth', 'Iran', 'domestic', 'meetings', 'earned', 'improvement', 'Run', 'noise', 'Such', 'virtual', 'Theatre', '1992', 'describe', 'reporting', 'clinical', 'constantly', 'Stone', 'Know', 'Spirit', 'strategies', 'bath', 'True', 'affected', 'afraid', 'strange', 'Eastern', 'Fast', 'Picture', 'Ray', 'younger', 'drinking', 'tank', 'surrounding', 'patterns', 'presents', 'grown', 'yours', 'outstanding', 'Cat', 'gorgeous', 'criminal', 'delicious', 'stream', 'recognized', 'relief', 'Nick', 'alive', 'Choose', 'finds', 'programming', 'facing', 'styles', 'Ball', 'kick', 'joint', 'manual', 'forth', 'sending', 'neighborhood', 'acting', 'neither', 'Notes', 'circumstances', 'stuck', 'moments', 'hidden', 'border', 'broke', 'bridge', 'grew', 'spiritual', 'Better', 'justice', 'al.', 'empty', 'reaction', 'Sweet', 'contest', 'statements', 'technique', 'tv', 'discussed', 'wherein', 'channels', 'generated', 'singing', 'exam', 'ending', 'array', 'tape', 'profit', 'ultimate', 'Wilson', 'row', 'mainly', 'everybody', '85', 'threat', 'Dead', 'assume', 'lies', 'replaced', 'carefully', 'gotten', 'Birthday', 'admit', 'muscle', 'brief', 'believed', 'atmosphere', 'damn', 'naked', 'promise', 'integrated', 'directed', 'Secretary', 'adds', 'Stop', 'impressive', 'Philadelphia', 'Anyone', 'shirt', 'cuts', 'tested', 'thick', 'scored', 'successfully', 'Teen', 'conducted', 'streets', 'concert', 'dreams', 'T.', 'honor', 'riding', 'Zealand', 'okay', 'bodies', 'possibility', 'emotional', 'opposite', 'referred', 'Return', 'exposure', 'Camera', 'mile', 'talked', 'laugh', 'bars', 'earn', 'contemporary', 'decent', 'teeth', 'faces', 'planet', 'dollar', 'campus', 'crew', 'dealing', 'lessons', 'Bridge', 'viewed', 'innovative', 'saving', 'Alabama', 'draft', 'performing', 'Greek', 'Got', 'significantly', 'Ice', 'column', 'feelings', 'differences', 'plane', 'baseball', 'express', 'participants', 'thin', 'afford', 'Tennessee', 'investigation', 'Cool', 'Wild', 'Republic', 'flying', 'bowl', 'circuit', 'aspect', 'everywhere', 'serves', 'basketball', 'pic', 'attractive', 'packages', 'pro', 'constant', 'identity', 'Don', 'Ed', 'Course', 'passion', 'extreme', 'Working', 'nights', 'Think', 'addresses', 'depends', 'valid', 'Basketball', 'decades', '1991', 'unknown', 'proof', 'revealed', 'trailer', 'communications', 'Morning', 'Howard', 'wire', 'checking', 'sky', 'viewing', 'Nature', 'Future', 'scenes', 'tube', '66', 'situations', 'van', 'Tell', 'Am', 'depth', 'Ring', 'Jordan', 'ladies', 'Utah', 'carbon', 'crack', 'immediate', 'assets', '110', 'stayed', 'recognize', 'swimming', 'controlled', 'flag', 'bands', 'joy', 'shut', 'seats', 'aside', 'split', 'Kim', 'bonus', 'killing', 'acts', 'Hills', 'labor', 'lawyer', 'Camp', 'Despite', 'authors', 'Fair', 'organized', 'Farm', 'capture', 'codes', 'pocket', 'Allen', 'clock', 'division', 'Le', 'Based', 'Woman', 'convenient', 'skill', 'extension', 'lens', 'blow', 'adventure', 'weird', 'coast', 'loving', 'efficiency', 'Pet', 'inner', 'flights', 'Jane', 'relative', '11th', 'butter', 'tables', 'primarily', '15th', 'Anyway', 'shoulder', 'Overall', 'raw', 'memories', 'Major', 'consistent', 'racing', 'Moon', 'Left', 'tall', 'wow', 'lie', 'destination', 'tone', 'Bowl', 'Lane', 'represents', 'downtown', 'flower', 'Andy', 'preferred', 'displayed', 'writers', 'boxes', '98', 'wanna', 'titles', 'Anthony', '12th', 'suffering', 'enhance', 'smoke', 'Edward', 'permanent', 'proven', 'shift', 'trained', 'generate', 'Lewis', 'convert', 'copies', 'root', 'reduction', 'informed', 'awards', 'principles', 'amounts', 'somehow', 'liquid', 'Close', 'MY', 'dynamic', 'carrying', 'resistance', 'literally', 'extent', 'headed', 'favourite', 'suddenly', 'lay', 'Latin', 'mistake', 'necessarily', 'toys', 'puts', 'severe', 'enjoying', 'Prince', 'lake', 'invited', 'Ron', 'sessions', 'Blood', 'handling', 'Works', 'Dream', 'Iron', 'breaking', 'foundation', 'permission', 'falling', 'celebrate', 'yard', 'whenever', 'Him', 'Halloween', 'zip', 'sight', 'errors', 'causing', 'answered', 'closely', 'army', 'brilliant', 'superior', 'SO', 'plain', 'Gay', 'Phoenix', 'satellite', 'hey', 'creates', 'Gary', 'Crystal', 'tradition', 'lesson', 'Animal', 'hopefully', 'conflict', 'ships', 'lifestyle', 'careful', 'orange', 'boots', 'grand', 'Ocean', 'collect', 'Anderson', 'desired', 'hang', '13th', 'boards', 'giant', 'prison', 'trend', 'Angel', 'attitude', 'historic', 'serial', 'Scotland', 'lift', 'wanting', 'counter', 'Lost', 'awareness', '1989', 'arrested', 'favor', 'harder', 'automatic', 'holidays', 'humans', 'cotton', 'greatly', 'hat', 'era', 'thousand', 'Wars', 'hopes', 'expectations', 'believes', 'refer', 'pregnant', 'Sexy', 'stunning', 'Y', 'decade', 'vast', 'mouse', 'regard', 'pump', 'covering', 'existence', 'apartments', 'warning', 'aircraft', 'contained', 'chest', 'reputation', 'Includes', 'concerning', 'garage', 'clubs', 'collected', 'Simple', 'fingers', 'Sydney', 'producing', 'ease', 'patch', 'Fish', 'murder', 'Excellent', 'inspiration', 'aim', 'matches', 'fits', 'amateur', 'rated', 'architecture', 'Below', 'Drug', 'Jennifer', 'guard', 'Third', 'generic', 'instant', 'wealth', 'reflect', 'continuing', 'assembly', 'Korea', 'kinda', 'Matthew', 'Fine', 'flexible', 'introduction', 'urban', 'establish', 'loose', 'regardless', 'mixture', 'entitled', 'sing', 'Simon', 'staying', 'weak', 'marked', 'drawn', 'terrible', 'merely', 'achieved', 'Meet', 'intelligence', 'developers', 'limits', 'wave', 'Much', 'Roman', 'factory', 'powered', 'vary', 'Atlantic', 'Enterprise', 'sees', 'Eye', 'mini', 'victims', 'festival', 'nose', 'directions', 'Stay', 'entries', 'somebody', 'setup', 'crash', 'blame', 'broad', 'accessible', 'equivalent', 'holes', 'laid', 'juice', 'falls', 'personality', 'explains', 'preparation', 'enemy', 'Cut', 'breath', 'contribute', 'certified', 'K.', 'responses', 'risks', 'Always', 'struggle', 'driven', 'meets', 'anybody', 'nobody', 'researchers', 'Something', 'suspect', 'hanging', 'Bruce', 'solo', 'expressed', 'literature', 'closing', 'Driver', 'NBA', 'Moore', 'expand', 'dude', 'correctly', 'soil', 'arrive', 'suggests', 'plot', 'widely', 'drives', 'contrast', 'trail', 'Falls', 'Smart', 'debut', 'del', 'fake', 'consideration', 'sufficient', 'dancing', 'dirty', 'Rick', 'subjects', 'belt', 'di', 'landscape', 'sensitive', 'injuries', 'suppose', 'Pool', 'piano', 'bills', 'burn', 'releases', 'chances', 'Morgan', 'Alan', '96', 'marks', 'guaranteed', 'powers', 'strike', '88', 'exists', 'ongoing', 'Grant', 'choosing', 'crap', 'forest', 'Bear', '1988', 'stretch', 'belief', 'heading', 'western', 'ratio', 'boost', 'impressed', 'photographs', 'Moving', '71', 'grass', 'visible', 'conversion', 'Ten', 'storm', '800', 'exposed', 'cameras', 'soldiers', 'Wayne', 'sentence', 'powder', 'involving', 'opens', 'partnership', 'consists', 'finger', 'granted', 'lock', 'compatible', 'indicate', 'pregnancy', 'graphic', 'pot', 'da', 'Turkey', 'vital', 'Skin', 'scientists', 'centers', 'wake', '78', 'Battle', 'Enter', 'southern', 'recognition', 'Floor', 'hardly', 'dish', 'Deep', 'Orleans', 'expansion', 'Kate', 'awarded', 'Sure', 'Jay', 'occasion', 'zero', 'ultimately', 'strongly', 'challenging', 'guidelines', 'incident', 'smell', 'escape', 'routine', 'cry', 'Lisa', '77', 'wheels', 'diverse', 'Egypt', 'commonly', 'toy', 'spots', 'singer', 'laser', 'connections', 'pace', 'bone', 'suffer', 'household', 'hide', 'vintage', 'pointed', 'worried', 'Guy', 'NYC', 'mirror', 'summary', 'mess', '84', 'Interview', 'prayer', 'BMW', 'managing', 'actor', 'strategic', 'Sir', 'Brazil', 'suck', 'ill', 'Ms.', 'dust', 'le', 'Susan', 'incredibly', 'letting', 'Kong', 'guilty', 'Tel', 'ocean', 'consumption', 'Chicken', 'drama', 'Ultimate', 'exception', 'booking', 'offense', 'naturally', 'engaged', 'structures', 'Inside', 'behalf', 'surely', 'burning', 'newly', 'Six', 'joke', 'professor', 'Jews', 'sequence', 'absolute', 'brothers', 'Assembly', 'trips', 'journal', 'boss', 'latter', 'Rates', 'clips', 'tied', 'Flowers', 'moral', 'personnel', 'promotion', '82', 'Son', 'comedy', 'Dean', 'pants', 'fault', 'Rob', 'apple', '97', 'occurs', 'largely', 'involves', 'formal', 'struck', 'Secret', 'sleeping', 'Average', 'Cook', 'Funny', 'depression', 'Amazing', 'maintained', 'opposed', 'Jon', 'healing', 'wash', 'Topics', 'victim', 'egg', 'increasingly', 'fabulous', 'favorites', 'hall', 'reducing', 'stronger', 'rising', 'Alexander', 'scores', 'Larry', 'sand', 'rural', 'remained', 'anniversary', 'confident', 'breaks', 'babies', 'confused', 'Hunter', 'requirement', 'unusual', '86', 'comic', 'Charlie', 'offensive', 'Among', 'loud', 'secondary', 'passes', 'hearts', 'talented', 'fantasy', 'guidance', 'universe', 'workshop', 'injured', 'recall', 'Lights', 'odd', 'IV', 'philosophy', 'Rules', 'Greg', 'Universal', 'observed', 'versus', 'enterprise', 'oral', 'returning', 'tie', 'Prime', 'indicated', 'Cleveland', 'delay', 'fiction', 'angle', 'ear', 'extend', 'broadcast', 'Theater', 'dealer', 'Amy', '1987', 'Mississippi', 'attempts', 'Sept.', 'bid', 'Hong', 'Anne', 'transition', 'assistant', 'bound', 'clicking', 'sharp', 'romantic', 'formula', 'nations', 'Say', 'define', 'tissue', 'represented', 'satisfied', 'prints', 'tons', '1980', 'cheaper', 'Century', 'Must', 'Awesome', 'Christians', 'mood', 'assigned', 'officially', 'Remove', 'appointed', 'Johnny', 'reception', 'Blues', 'Miles', '89', 'roads', 'Letter', 'du', 'pray', '83', 'pitch', 'equally', 'elegant', '1986', 'pride', 'heaven', 'voting', 'Ever', 'concrete', 'entrance', 'Simply', 'PR', 'entering', 'Trailer', 'Written', 'loaded', '93', 'asks', 'forgot', 'dear', 'Looks', 'rings', 'Heat', 'circle', 'Rome', 'guns', 'Olympic', 'Dragon', 'survive', 'apparatus', 'Clean', 'variable', 'Mexican', 'accuracy', 'Pretty', 'mad', 'interviews', 'Snow', 'lifetime', 'angry', 'couples', 'Anna', 'painted', 'horses', 'rarely', 'curious', 'teens', 'Gray', 'Empire', 'raising', 'Barbara', 'describes', 'satisfaction', 'deserve', '87', 'wise', 'editing', 'explanation', 'Jimmy', 'Offers', 'Jerry', 'prime', 'hitting', 'museum', 'slide', 'enforcement', 'grab', 'sin', 'bug', 'communicate', 'Grey', 'suffered', 'lately', 'Laura', 'photographer', 'figured', 'Jose', 'appreciated', 'gained', 'Ladies', '94', 'packed', 'tracking', 'barely', 'Mind', 'childhood', 'concepts', 'conclusion', 'fluid', 'Christopher', 'translation', 'conservative', 'ordinary', 'displays', 'Sean', 'Adams', 'genuine', 'objective', 'elsewhere', 'Put', 'theater', 'contents', 'compete', 'k', 'respective', 'Several', 'Songs', 'prize', 'processor', 'vegetables', 'signals', 'dose', 'narrow', 'logic', 'Going', 'portable', 'tries', 'engage', 'feat', 'reviewed', 'instrument', 'wooden', 'Berlin', 'blend', 'Billy', 'upload', 'rank', 'northern', 'craft', 'scope', 'Josh', 'Fat', 'institution', 'flavor', 'relax', 'minds', 'Vietnam', 'enables', 'moon', 'roles', 'Jonathan', 'Harris', 'intense', '1984', 'template', 'Brothers', 'coat', 'relating', 'hero', 'fifth', 'complicated', 'Usually', 'combat', 'ABC', 'Due', 'reverse', 'performances', 'Ken', 'rush', 'sucks', 'accounting', 'jacket', 'strip', 'Antonio', 'rough', 'virtually', 'maker', 'Fresh', 'essentially', 'evolution', 'Given', 'Orlando', 'respectively', 'consequences', 'participation', 'soccer', 'finest', 'mistakes', 'diamond', 'shock', 'Friend', 'credits', 'Build', 'principal', 'dresses', 'instruments', 'pushed', 'stomach', 'None', 'conventional', 'relation', 'findings', 'boring', 'contacts', 'Between', 'references', 'blind', 'overnight', 'Freedom', 'demands', '10,000', 'Michelle', 'Brooklyn', 'Stewart', 'poster', 'mechanism', 'currency', 'maintaining', 'danger', 'tears', 'Zone', 'illness', 'icon', 'worship', 'tune', 'Hours', 'spaces', 'buttons', 'wholesale', 'quit', 'innovation', 'substantial', 'argue', 'disaster', 'Traffic', 'Steven', 'proved', 'girlfriend', 'Arkansas', 'shell', 'composition', 'difficulty', 'outcome', 'Franklin', 'episodes', 'Connection', 'potentially', 'Someone', 'contributions', 'peak', 'Vice', 'stops', 'sought', 'hill', 'introduce', 'mountains', 'Charlotte', 'collaboration', 'rapidly', 'delete', 'filling', 'celebration', 'attending', 'accused', 'losses', 'origin', 'deeply', 'lips', 'lawyers', 'applying', 'acquired', 'faced', 'signature', 'Further', 'supplied', 'exit', '105', 'ears', 'Pay', 'judgment', 'courts', 'wisdom', 'Perry', 'winners', 'ha', 'Labor', 'butt', 'combine', 'Half', 'slot', 'producer', 'classroom', 'rolling', 'pleasant', 'Lawrence', 'Besides', 'destroy', 'Cold', 'Walk', 'Russell', 'divided', 'picking', 'dishes', 'Luke', 'ignore', 'disabled', 'twenty', 'pilot', 'fewer', 'lying', 'bond', 'disappointed', 'bits', 'Nation', 'contribution', 'races', 'acres', 'harm', 'Nancy', 'Bedroom', 'ink', 'bitch', 'Korean', 'Ross', 'reveal', 'impression', 'em', 'lesbian', 'Feel', 'grace', 'studied', 'themes', 'Less', 'gap', 'Rich', 'periods', 'precious', 'swing', 'defensive', 'Dad', 'glasses', 'singles', 'framework', 'Jean', 'Craig', 'UN', 'Grace', 'liability', 'Temple', 'Hell', 'Terry', 'Roger', 'cart', 'Hamilton', 'mount', 'threads', 'horrible', 'tits', 'unlike', 'Jessica', 'Israeli', 'invest', 'Solid', 'interaction', 'pushing', 'reserve', 'Lodge', 'gotta', 'excess', 'stages', 'crucial', 'damaged', 'worn', 'measured', 'convenience', 'governments', 'Duke', 'initially', 'seeds', 'instantly', 'fundamental', 'walks', 'Block', 'Soul', 'carrier', 'plug', 'sheets', 'insight', 'exceptional', 'Pearl', 'Salt', 'hip', 'vice', 'heavily', 'tutorial', 'charity', 'max', 'layers', 'Alice', 'Nike', 'preview', 'rely', 'decline', 'Had', 'Adventure', 'Until', 'dramatic', 'buyer', 'agenda', 'invite', 'seller', 'upset', 'amongst', 'loop', '104', 'rocks', 'Shows', 'honestly', 'Kennedy', 'speaks', 'applies', 'exercises', 'reaching', 'Away', 'ownership', 'publishing', 'shame', 'reads', 'approaches', 'Dick', 'declared', 'Deal', 'highlights', 'indicates', 'Ian', 'ai', 'corn', 'Against', 'sum', 'sole', 'deeper', 'colored', 'entertaining', 'addiction', 'el', 'silly', 'pizza', 'signing', 'Rice', 'trick', 'substance', 'Soft', 'workout', 'Marriage', 'colleagues', 'Teacher', 'Fred', 'mystery', 'grounds', 'phrase', 'muscles', 'expense', 'penalty', 'segment', 'Reader', 'mounted', 'refused', 'Dogs', 'Lead', 'Same', 'Format', 'attract', 'Linda', 'attractions', 'Rachel', 'intelligent', 'dot', 'captured', 'demonstrate', 'aged', 'casual', 'Hits', 'humor', 'promised', 'profits', 'arguments', '1983', 'thrown', 'banking', 'Weekend', 'ed', 'happiness', 'sorts', 'Delhi', 'advantages', 'emphasis', 'Edge', 'Carter', '1970', 'Nelson', 'produces', 'Graham', 'stylish', 'Metro', 'mid', 'Whatever', 'Truth', 'Beyond', 'representation', 'Tiger', 'Warren', 'outer', 'Commerce', 'denied', 'rescue', 'intellectual', 'lab', 'stability', 'calm', 'dying', 'Cruise', 'Karen', 'actors', 'rapid', 'ugly', 'pin', 'drops', 'Arthur', 'involve', 'junior', 'hook', '180', 'roots', 'loads', 'besides', 'patent', 'brush', 'tongue', 'dual', 'defend', 'poverty', '1982', 'Eagle', 'liberal', 'terminal', 'gender', 'waters', 'Barry', 'Into', 'highlight', 'scared', 'locate', 'nervous', 'waves', 'completion', 'Traditional', 'resume', 'spray', 'complaint', 'poetry', 'targets', 'jazz', 'duties', 'throwing', 'dozen', 'acceptable', 'Parents', 'nuts', 'watches', 'kiss', 'delivers', 'holy', 'experiment', 'universal', 'innocent', 'subscription', 'essay', 'Worth', 'pulling', 'targeted', 'subsequent', 'struggling', 'Seven', 'representing', 'timing', 'admitted', 'Per', 'expanded', 'superb', 'spectacular', 'sons', 'Historical', 'Shot', 'witness', 'static', 'expecting', 'excuse', 'compact', 'forgotten', 'Manhattan', 'scan', 'jail', 'settled', 'Guard', 'enhanced', 'Native', 'rail', 'focusing', 'Bring', 'occasionally', 'apparent', 'alert', 'ought', 'Lots', 'surrounded', 'Flat', 'finishing', 'constructed', 'frames', 'mechanical', 'beliefs', 'soup', 'Mario', 'dealers', 'void', 'no.', 'parallel', 'frequent', 'spare', 'cure', 'restore', 'unfortunately', 'arrangements', 'Parker', 'discovery', 'Heavy', 'receives', 'spoken', 'Benefits', 'survival', 'Notice', 'chronic', 'Others', 'emotions', 'Safe', 'scoring', 'Douglas', 'complaints', 'Thanksgiving', 'calories', 'enemies', 'distinct', 'Broadway', 'hosts', 'Focus', 'searches', 'Marshall', 'dressed', 'absence', 'animation', 'artwork', 'inspection', 'Upon', 'worker', 'pen', 'Knight', 'Robin', 'fails', '1979', 'convinced', 'abstract', 'examination', 'Upper', 'candy', 'Campbell', 'annoying', 'overcome', 'destruction', 'nicely', 'abroad', 'threw', 'popularity', 'franchise', 'balanced', 'Revolution', 'locked', 'refers', 'resulted', 'realistic', 'movements', 'indoor', '140', 'durable', 'concentration', 'horror', 'asset', 'collections', 'Brother', 'paintings', 'costume', 'courtesy', 'succeed', 'divorce', 'remarkable', 'tail', 'slight', 'monster', 'bother', 'championship', 'Trip', 'fascinating', 'Twin', 'violent', 'enjoyable', 'drunk', 'venture', 'ridiculous', 'reminds', 'Woods', 'involvement', 'anger', 'Indians', 'connecting', 'consistently', 'conditioning', 'Roy', 'aimed', 'unlikely', 'outlet', 'facial', 'Carl', 'champion', 'possibilities', 'identification', 'scary', 'thoroughly', 'depend', 'aggressive', 'importantly', 'suicide', 'documentary', 'diversity', 'accomplished', 'democracy', 'relaxing', 'encounter', 'Together', 'feeding', 'Eve', 'laughing', 'fallen', 'ski', 'fancy', 'deleted', 'Monster', 'Baker', 'authentic', 'Problem', 'overview', 'wing', 'sudden', 'prevention', 'begun', 'passage', 'gathering', 'Die', 'import', 'labels', 'theatre', 'profiles', 'painful', 'edges', 'killer', 'makeup', 'footage', 'plates', 'Murray', 'Minutes', 'crimes', 'Columbus', 'abilities', 'trials', 'regards', 'Driving', 'contributed', 'Indeed', 'texture', 'musicians', 'Dennis', 'spell', 'adequate', 'grateful', 'tourist', 'glory', 'dated', 'Kid', 'interpretation', 'creativity', 'Heaven', 'excitement', 'hi', 'physically', 'physician', 'sake', 'armed', 'Almost', 'genre', 'safely', 'bottles', 'Makes', 'trusted', 'Potter', 'Opera', 'territory', 'celebrity', 'ate', 'photograph', 'shaped', 'Alternative', 'Scottish', 'frozen', 'Hour', 'Sugar', 'Cooper', 'wrap', 'actress', 'emerging', 'Birmingham', 'carries', 'hired', 'beautifully', 'spin', 'Donald', 'extraordinary', '123', 'Planet', 'handy', 'Ashley', 'Boat', 'focuses', 'defeat', 'Walter', 'deaths', 'honey', 'suggestion', 'hospitals', 'blank', 'Toy', 'delivering', 'ton', 'followers', '1978', 'odds', 'toilet', 'Past', 'hence', 'roughly', 'acquire', 'silent', 'buried', 'integrity', 'skilled', 'arrest', 'settle', 'scenario', 'manufactured', 'alleged', 'grey', 'magnetic', 'Harvard', 'hungry', 'gang', 'sophisticated', 'qualify', 'dialogue', 'chemicals', 'generations', 'intent', 'producers', 'examine', 'remind', 'alongside', 'suits', 'archive', 'neutral', 'tale', 'disagree', 'awful', 'demonstrated', 'badly', 'Chamber', 'criticism', 'minimal', 'capability', 'sub', 'catalog', 'Rule', 'anime', 'bulk', 'belong', 'evaluate', 'suspension', 'Celebrity', 'surprising', 'beaches', 'mate', 'promises', 'pad', 'Mitchell', 'derived', 'blessed', 'drum', 'shapes', 'Designed', 'Angels', 'Todd', 'occasions', 'gentle', 'romance', 'achievement', 'enormous', 'converted', 'Pick', 'steam', 'environments', 'stroke', 'handed', 'mask', 'forming', 'repeated', 'reveals', 'establishment', 'Margaret', 'Warner', 'poem', 'Chuck', 'Robinson', 'Move', 'beats', 'alike', 'Delta', 'slip', 'sisters', 'drag', 'bold', 'protecting', 'liver', 'Les', 'worthy', 'Playing', 'pursue', 'Mars', 'Ah', 'Shower', 'throat', 'Drop', 'intention', 'motorcycle', '1.2', 'Cherry', 'inform', 'nasty', 'Opening', 'Neil', 'dumb', 'directors', 'Bishop', 'composed', 'imagination', 'Unlike', 'affairs', 'penis', 'trim', 'wrapped', 'breathing', 'Generation', 'Philip', 'resolve', 'counts', 'accomplish', 'boats', 'sized', 'classical', 'execution', 'Gets', 'Pete', 'mainstream', 'rolled', 'Lines', 'Unless', 'bite', 'Harbor', 'sits', 'voices', 'chamber', 'remembered', 'Emily', 'Behind', 'exhibit', 'exploring', 'stays', 'Doug', 'con', 'Chain', 'epic', 'pie', 'canvas', 'seal', 'Julie', 'bomb', 'wars', 'Samuel', 'reward', 'associate', 'fed', 'screening', 'wildlife', 'dependent', 'Danny', 'judges', 'entity', 'Bond', 'Late', 'lemon', 'anytime', 'highway', 'fitting', 'exclusively', 'ties', 'Were', 'Strong', 'lover', 'determination', 'lovers', 'affects', 'charm', 'Crazy', 'athletes', 'sucking', 'considerable', 'placing', 'Cameron', 'Ghost', 'shadow', 'developments', 'beating', 'surfaces', 'bankruptcy', 'Bobby', 'Break', 'mere', 'attempted', 'adorable', 'engaging', 'caring', 'artificial', 'artistic', 'twin', 'spectrum', 'relate', 'Cute', 'Obviously', 'steady', 'paste', 'unemployment', 'assault', 'grip', 'Piano', 'climb', 'Rain', 'prominent', 'collective', 'torrent', 'Eyes', 'pays', 'tremendous', 'regime', 'tap', 'bow', 'workshops', 'Tonight', 'generous', 'aims', 'immune', 'seeks', 'Houses', 'makers', 'differently', 'landing', 'rape', 'refuse', 'silence', 'reminded', 'Giants', 'unlimited', '1975', 'globe', 'par', 'Evans', 'Wife', 'solely', 'veteran', 'dies', 'temple', 'Beijing', 'underground', 'treating', 'Either', 'behaviour', 'sink', 'backed', 'Rings', 'Fiction', 'Apparently', 'Hudson', 'requiring', 'so-called', 'unexpected', 'cares', 'fax', 'Studios', 'gray', 'wider', 'friendship', 'pound', 'Dawn', 'progressive', 'tourism', 'effectiveness', 'titled', 'Jeremy', 'logical', 'gently', 'Morris', 'tricks', 'jury', 'nail', 'pointing', 'endless', 'cartoon', 'celebrated', 'exterior', 'Rather', 'laundry', 'lazy', 'placement', 'Ali', 'Especially', 'Stanley', 'investing', 'grain', 'Ted', 'selecting', 'investigate', 'bearing', 'Places', 'devoted', 'Imagine', 'steal', 'Beat', 'revolution', 'Fans', 'heritage', 'betting', 'processed', 'secrets', '1972', 'accommodate', 'Ways', 'admission', 'discipline', 'Christianity', 'desert', 'specialized', 'underlying', 'thereof', 'Penn', 'sometime', 'nationwide', 'wallpaper', 'deserves', 'responsibilities', 'Count', 'assuming', 'duration', 'quest', 'mild', 'speeds', 'colorful', 'passionate', 'yield', '1973', 'precise', 'closest', 'Probably', 'welfare', 'legitimate', 'experiencing', 'enjoys', 'handled', 'folk', 'stones', 'accompanied', 'syndrome', 'graduated', 'tension', 'marine', 'Belt', 'Trek', 'operational', 'Roberts', 'Fight', 'gross', 'shelf', 'bikes', 'dimensions', 'lawn', 'Alpha', 'hilarious', 'Carol', 'Oscar', 'beings', 'pour', 'shoulders', 'twelve', 'lasting', 'difficulties', 'blast', 'tender', 'trash', 'praise', 'terrorist', '117', 'encouraging', 'bytes', 'Ward', 'centuries', 'operates', 'rolls', 'mothers', 'humanity', 'tear', 'convention', 'acceptance', 'touched', 'memorable', 'Poor', 'bored', 'flesh', 'worlds', 'swim', \"'em\", 'Heather', 'twist', 'province', 'intervention', 'relaxed', 'soap', 'coal', 'elite', 'informative', 'von', 'queen', 'Pure', 'funeral', 'Jerusalem', 'wherever', 'coupled', 'rejected', 'illustrated', 'burden', 'don', 'confusion', 'Graduate', 'shake', 'Consider', 'cultures', 'charming', 'subtle', 'departments', 'potatoes', 'grocery', 'visitor', 'Funeral', 'fence', 'Been', 'hop', 'tops', 'bones', '****', 'measurements', 'premier', 'assured', 'beneath', 'wondered', 'viewers', 'daughters', 'vacuum', 'portrait', 'nowhere', 'Chelsea', 'Jake', 'ignored', 'Kill', 'Circuit', 'exceed', 'lightweight', 'commentary', 'alternatives', 'Tank', 'isolated', 'heated', 'Copy', 'classified', 'wore', 'meaningful', 'beside', 'advised', 'puppy', 'rally', 'winds', 'handles', 'Lauren', 'Chase', 'failing', 'precisely', 'striking', 'crossed', 'laboratory', 'profession', 'Batman', 'physics', 'real-time', 'tribute', 'drawings', 'timely', 'preferably', 'shorter', 'calculated', 'controlling', 'kills', '1960', 'Wait', 'retain', 'Graphic', 'magical', 'Breaking', 'satisfy', 'deny', 'Murphy', 'Seriously', 'limitations', 'notion', 'legacy', 'bonds', 'psychological', 'reaches', 'sleeve', 'shed', 'Directors', '127', 'Evil', 'antique', 'Del', 'climbing', 'beloved', 'Far', 'Criminal', 'der', 'Sets', 'drew', 'legend', 'assignment', 'corruption', 'Holland', 'Rogers', 'strings', 'kingdom', 'sacrifice', 'dig', 'proceed', 'simultaneously', 'woods', 'clinic', 'closure', 'scratch', 'lighter', 'resist', 'Attack', '1971', 'built-in', 'reactions', 'mixing', 'intensity', 'minority', 'Tommy', 'theft', 'screens', 'waited', 'grows', 'Interesting', 'aging', 'hybrid', 'assess', 'teaches', 'Wells', 'clever', 'wines', 'Comedy', 'recommendation', 'elderly', 'generating', 'fetish', 'captain', 'inspiring', 'anonymous', 'abandoned', 'squad', 'Fabric', 'margin', 'complain', 'warned', 'Rush', 'Nicole', 'stepped', 'amp', 'shine', 'lap', 'creatures', 'knees', 'Ralph', 'reduces', 'ranks', 'cleaner', 'tub', 'competing', 'reflects', '1967', 'Writer', 'executed', 'dressing', 'flood', 'Harrison', 'instances', 'sunny', 'handful', 'curve', 'animated', 'conversations', 'sends', 'moisture', 'reflection', 'survived', 'qualities', 'AIDS', 'invitation', 'radical', 'motivation', 'marketplace', 'replacing', '``', 'darkness', 'dozens', 'idiot', 'organize', 'bride', 'independence', 'commands', 'transparent', 'Cheese', 'genius', 'variations', 'Otherwise', 'hottest', 'obligation', 'cousin', 'ethnic', 'Returns', 'appreciation', 'desperate', 'secretary', 'combines', 'mounting', 'adopt', 'punch', 'sooner', 'hoped', 'defeated', 'puzzle', 'essence', 'ye', 'instructor', 'Extreme', '3000', 'slave', 'relatives', 'explaining', 'Bears', 'demanding', 'floating', 'specialty', 'courage', 'fears', 'excessive', 'breed', 'Draft', 'belly', 'chick', 'legendary', 'Mason', 'suspended', 'Swedish', 'starter', 'interact', 'economics', 'Nobody', 'threatened', 'testimony', 'clue', 'shocked', 'tattoo', 'trails', 'implications', 'portions', 'drain', 'afterwards', 'neighbor', 'vessel', 'Dirty', 'Whole', 'vulnerable', 'Feature', 'strict', 'collar', 'Lion', 'meter', 'overwhelming', 'counting', 'saves', 'Photographer', 'occasional', 'Bryan', 'Ship', 'goodness', 'consciousness', 'flip', '9/11', 'Catherine', 'Palestinian', 'reasonably', 'brass', 'strikes', 'comics', 'controversial', 'Often', 'dough', 'sellers', 'shades', 'useless', 'contrary', 'accepting', 'Twilight', 'prospect', 'routes', 'Juan', 'midnight', 'Hit', 'Adventures', 'laughed', 'experimental', 'offset', 'patience', 'asleep', 'lounge', 'tourists', 'possess', 'Julia', 'Guardian', 'barrel', 'influenced', 'Featuring', 'punishment', 'careers', 'blues', 'pill', 'fate', 'editorial', 'magnificent', 'clouds', 'convince', 'thirty', 'ensures', 'seemingly', 'freely', 'corners', 'Rocky', 'Khan', 'raises', 'protective', 'perception', 'genes', 'tastes', 'literary', 'Brooks', 'Carlos', 'executives', 'Wonderful', 'suited', 'Beta', 'pork', 'repeatedly', 'motivated', 'Martha', 'Said', 'gradually', 'soldier', 'Blonde', 'collapse', 'descriptions', 'chemistry', 'exotic', 'Fisher', 'Dreams', 'Jesse', 'Guys', 'neat', 'transformation', 'honored', 'buddy', 'treats', 'well-known', 'substitute', 'breasts', 'bubble', 'significance', 'steering', 'Election', 'skip', 'confirmation', 'sticks', 'closet', 'Psychology', 'awhile', 'readily', 'dealt', 'embedded', 'stamp', 'partially', 'Norman', 'alternate', 'tasty', 'tends', 'critics', 'divine', 'feeds', 'delighted', 'heels', 'bare', 'affair', 'bang', 'departure', 'respected', 'icons', 'batch', 'Eddie', 'shorts', 'individually', 'exploration', 'sword', 'Oliver', 'pose', 'Daddy', 'Lucky', 'workplace', 'Mad', 'excellence', 'biography', 'bears', 'keen', 'adapted', 'traditions', 'deficit', 'boundaries', 'Highlights', 'crossing', 'tooth', 'Doors', 'archives', 'Drew', 'intimate', 'Bright', 'Outside', 'variation', 'preference', 'Rebecca', 'performs', 'slots', 'narrative', 'hood', 'offerings', 'catching', 'transform', 'fool', 'pollution', 'ESPN', 'eager', 'comparing', 'mall', 'adventures', 'desires', 'compelling', 'athletic', 'racist', 'belongs', '1950', 'sheep', 'Fame', 'portal', 'beads', 'Viewing', 'vibrant', 'verse', 'practically', 'surprisingly', 'proceedings', 'surgical', 'conscious', 'pile', 'partly', 'ranges', 'reminder', 'Foster', 'Shore', 'Thing', 'lean', 'Joel', 'deciding', 'draws', 'volumes', 'suggesting', 'U.', 'couch', 'bucks', 'countless', 'efficiently', 'paths', 'Betty', 'coating', 'Swimming', 'ours', 'achieving', 'Wave', 'drill', 'turkey', 'palm', 'trains', 'psychology', 'harsh', 'lane', 'touching', 'automated', 'enabling', 'Glenn', 'jokes', 'Skip', 'lobby', 'creator', 'Needs', 'snap', 'reflected', 'observation', 'hiding', 'torture', 'mysterious', 'restored', 'tactics', 'alien', 'sporting', 'tuned', 'advances', 'cooler', 'deer', 'strictly', 'wound', 'exhaust', 'Signs', 'extends', 'prescribed', 'venues', 'elementary', 'Sara', 'attraction', 'packs', 'Tomorrow', 'Spencer', 'promising', 'anticipated', 'spouse', 'incorporate', 'bless', 'Berry', 'terrorism', 'presenting', 'garbage', 'Iraqi', 'Egyptian', 'decides', 'Discovery', 'linear', 'terror', 'novels', 'delight', 'Vincent', 'cellular', 'unnecessary', 'resolved', 'Birds', 'tanks', 'observe', 'Teens', 'appearing', 'fights', 'Victor', 'circles', 'gaining', 'deemed', 'Patient', 'fame', 'veterans', 'shore', 'Hood', 'recovered', 'Berkeley', 'sheer', 'hint', 'chef', 'Numbers', 'fleet', 'junk', 'Blake', 'affecting', 'describing', 'uncomfortable', 'Holly', 'continually', 'versatile', 'marry', 'Gone', 'Wonder', 'synthetic', 'spreading', 'embrace', 'experiments', 'confusing', 'separation', 'Everybody', 'mechanisms', 'reporters', 'delayed', 'permits', 'theories', 'phenomenon', 'kissing', 'establishing', 'Stanford', 'Ideal', 'Lovely', 'Effective', 'shy', 'Veterans', 'recruiting', 'prizes', 'ups', 'urge', 'knock', 'dramatically', 'inspire', 'renowned', 'regret', 'sounded', 'Nathan', 'insane', 'Blair', 'Comes', 'orientation', 'Ellen', 'lightly', 'Fantastic', 'symbols', 'pressed', 'Boot', 'Comic', 'addressing', 'arena', 'graduation', 'mold', 'Jet', 'flows', 'occupied', 'Watson', 'throws', 'mesh', 'lecture', 'treasure', 'columns', 'sealed', 'insights', 'terrific', 'Marvel', 'pit', 'arrives', 'toxic', 'precision', 'heal', 'updating', 'homework', 'attachment', 'companion', 'accurately', 'bitter', 'cuisine', 'strain', 'accent', 'stadium', 'Singles', 'beaten', 'Hughes', 'existed', 'dominant', 'observations', 'indication', 'journalists', 'march', 'deadly', 'Joan', 'nerve', 'cinema', 'swap', 'backs', 'loses', 'emotion', 'niche', 'thrilled', 'cheat', 'Nurse', 'briefly', 'talents', 'casting', 'journalist', 'democratic', 'fighter', 'heroes', 'concentrate', 'stereo', 'proceeds', 'males', 'Heroes', 'rap', 'McDonald', 'borders', 'Shakespeare', 'audiences', 'Secrets', 'Portugal', 'Solo', 'appealing', 'Complex', 'Films', 'relates', 'robust', 'dive', 'challenged', 'screaming', 'Basically', 'roster', 'Taken', 'analyze', 'seasonal', 'Colin', 'Thinking', 'Lucy', 'evident', 'Newton', 'bout', 'predict', 'Viewed', 'teenage', 'gods', 'surf', 'travels', 'Simpson', '170', 'ethical', 'Smoking', 'potato', 'Cinema', 'complexity', 'Greatest', 'delicate', 'examined', 'distinctive', 'camps', 'Goes', 'alter', 'immigrants', 'Amber', 'longest', 'pre', 'blown', 'surveys', 'Shanghai', 'Fear', 'Triple', 'prospective', 'approached', 'clarity', 'Cuba', 'trademark', 'babes', 'Gibson', 'emerged', 'castle', 'Singh', 'Harvey', 'thorough', 'lacking', 'eternal', 'justify', 'underneath', 'Derek', 'builds', 'proportion', 'Provides', 'strips', 'Lil', 'Belgium', 'Personally', 'blessing', 'ethics', 'Poetry', 'Stuart', 'trace', 'fortune', 'contributing', 'heel', 'organ', 'RED', 'sensitivity', 'kicks', 'rewards', 'Uncle', 'Monroe', 'stir', 'dare', 'faithful', 'CIA', 'stake', 'compromise', 'arise', 'disclosure', 'Hands', 'distant', 'reportedly', 'comparable', 'loyal', 'riders', 'Wallace', 'boobs', 'desirable', 'bloody', 'remarks', 'Character', 'Superior', 'Selection', 'Ends', 'Nine', 'labour', 'headlines', 'Formula', 'traveled', 'cried', 'approaching', 'nails', 'acute', 'Mystery', 'suspected', 'sacred', 'foster', 'brave', 'recordings', 'Sunset', 'Holmes', 'technological', 'Cedar', 'nurses', 'smiling', 'Annie', 'Elvis', 'costumes', 'unlock', 'distinction', 'obligations', 'span', 'reviewing', 'laying', 'Important', 'rope', 'compiled', 'Casey', 'Except', 'expects', 'Lucas', 'slim', 'L.A.', 'Lock', 'recycling', 'Kiss', 'enthusiasm', 'dedication', 'springs', 'soundtrack', 'O.', 'costly', 'terrorists', 'Kenneth', 'Marcus', 'Cox', 'quietly', 'Edited', 'pub', 'creature', 'ghost', '1.8', 'Testament', 'Shoe', 'demonstration', 'Christine', 'weddings', 'evolved', 'poorly', 'convicted', 'Pan', 'transit', 'encountered', 'frustrated', 'Monica', 'grandmother', 'manages', 'controversy', 'Bang', 'subsequently', 'spirits', 'shelves', 'joins', 'fires', 'starring', 'plasma', 'matched', 'trap', '1920', 'firmly', 'solved', 'dimension', 'parade', 'employ', 'Leonard', 'allegedly', 'releasing', 'architectural', 'showcase', 'Nevertheless', 'achievements', 'shield', 'welcomed', 'meditation', 'refreshing', 'tunnel', 'fried', 'PlayStation', 'disabilities', 'tones', 'Reid', 'Broken', '20,000', 'Nicholas', 'bias', 'sweat', 'burst', 'Serving', 'needing', 'wrestling', 'baked', 'Trinity', 'hats', 'wit', 'Jeffrey', 'fulfill', 'enters', 'invested', 'washed', 'wool', 'Seems', 'Neither', 'finishes', 'educate', '1980s', 'Congrats', 'linking', 'gel', 'viewer', 'utilizing', 'wasted', 'Critical', 'er', 'sewing', 'forcing', 'opera', 'premises', 'follow-up', 'Fortunately', 'scripts', 'Charleston', 'grave', 'rhythm', 'Mediterranean', 'Hole', 'maintains', 'Arnold', 'Drama', 'coastal', 'combo', '!?', 'notable', 'hated', 'backyard', 'retreat', 'considerably', 'wonders', 'occupation', 'influences', 'rival', 'frustrating', 'inquiry', 'tragedy', 'Blade', 'Claire', 'heck', 'lit', 'china', 'celebrities', 'sustained', 'pumps', 'impacts', 'threshold', 'scientist', 'swear', 'happily', 'momentum', 'Orders', 'dentist', 'necessity', 'recruitment', 'Joshua', 'displaying', 'chase', 'ignorant', 'proves', 'answering', 'understands', 'namely', 'react', 'Chevy', 'Waste', 'Denmark', 'segments', 'blowing', 'lifted', 'schemes', 'crafts', 'spine', 'Might', 'crafted', 'varying', 'arriving', 'blanket', 'racial', 'pulse', 'Hence', 'jam', 'stuffed', 'souls', 'introducing', 'lingerie', 'quarters', 'Hunting', 'Nights', 'invasion', 'worries', 'dragon', 'Gregory', 'bullet', 'tunes', 'translate', 'cigarette', 'pulls', 'battles', 'purely', 'hooked', 'complaining', 'pickup', '1962', 'Famous', 'nominated', 'surfing', 'Bella', '1970s', 'revolutionary', 'avoiding', 'fare', 'inevitable', 'flies', 'slice', 'float', 'attach', 'Changing', 'cocktail', 'surveillance', 'soda', '24/7', 'documented', 'characteristic', 'jar', 'Absolutely', 'yarn', 'Independence', 'assembled', 'spite', 'weakness', 'sandwich', 'lonely', 'cattle', 'Thought', 'organizing', 'mill', 'firing', 'integral', 'Christina', 'Cal', 'Generally', 'invented', 'roller', 'hurts', 'conspiracy', 'fifteen', 'Provide', 'co', 'hose', 'MTV', 'whatsoever', 'delightful', 'boasts', 'highlighted', 'touches', 'navigate', 'lending', 'outline', 'Angela', 'imposed', 'pond', 'sticking', 'forests', 'inappropriate', 'corrupt', 'activists', 'Rare', 'lifting', 'Diane', 'Newcastle', 'avoided', 'punk', 'breathe', 'Saving', 'mentally', 'transformed', 'modest', 'utilized', 'prevents', 'grasp', 'angels', 'Kind', 'Marina', 'launching', 'merchant', 'dominated', 'bent', 'acted', 'fifty', 'Alfred', 'tendency', 'rip', 'und', 'revision', 'machinery', 'boom', 'associations', 'genuinely', 'Queens', 'combining', 'erotic', 'flags', 'Kathy', 'deposits', 'warmth', 'midst', 'polished', 'Sally', 'Boulevard', 'backgrounds', '1960s', 'Venice', 'Stevens', 'Gaza', 'supportive', 'threatening', 'altogether', 'Iranian', 'Ignore', 'Sullivan', 'Takes', 'Tales', 'frustration', 'mobility', 'attacking', 'Bread', 'investigating', 'beast', 'cow', 'shiny', 'Tracy', 'equation', 'loyalty', 'Griffin', 'Diesel', 'Dylan', 'Slim', 'arrow', 'Stress', 'demonstrates', 'teenagers', 'anchor', 'guessing', 'substances', 'doctrine', 'Bennett', 'Lifestyle', 'Slow', 'pretend', 'mud', 'thumbs', 'Sand', 'characterized', 'masters', 'awkward', 'Q.', 'solving', 'Few', 'hobby', 'wishing', 'structured', 'Loved', 'Spy', 'hairy', 'chaos', 'surgeon', 'handsome', 'prisoners', 'consequence', 'preliminary', 'rider', 'explosion', 'radar', 'Cam', 'invisible', 'supposedly', 'broader', 'lesser', 'probe', 'recreational', 'believing', 'unfortunate', 'resorts', 'hack', 'Mama', 'jealous', 'technically', 'crisp', 'definitions', 'liable', 'showers', 'fraction', 'forgive', 'classification', 'freeze', 'conflicts', 'Zoom', 'Sharp', 'breakdown', 'construct', 'ballot', 'humble', 'Strip', 'Leon', 'Divine', 'sentences', 'mercy', 'discretion', 'Watching', 'consistency', 'bargain', 'Ellis', 'Them', 'poet', 'grounded', 'Swift', 'Jackie', 'varies', 'Eight', 'enjoyment', 'locals', 'playoff', 'Reagan', 'Fields', 'surroundings', 'Dana', 'disappear', 'Portrait', 'dynamics', 'Calling', 'extensions', 'Floyd', 'glance', 'hints', 'princess', 'struggles', 'wounded', 'Hitler', 'Presents', 'Leading', 'profound', 'flame', 'improves', 'memorial', 'foul', 'encourages', 'sadly', 'Whenever', 'rocket', 'Merry', 'therapeutic', 'defines', 'debts', 'conviction', 'Sandra', 'Bean', 'Norton', 'develops', 'Yep', 'weigh', 'bra', 'candle', 'bull', 'slides', 'witnesses', 'masses', 'Travis', 'satisfying', 'salvation', 'ingredient', 'smallest', 'switches', 'incidents', 'pale', 'BA', 'Li', 'recycled', 'Hook', 'Pie', 'Ace', 'Midnight', 'Quite', 'ignorance', 'favour', 'teenager', 'thesis', 'rendered', 'clicks', 'gates', 'sunset', 'Throughout', 'mighty', 'Warrior', 'glue', 'altered', 'pitcher', 'pine', 'fighters', 'consuming', 'cricket', 'billing', 'mum', 'Parade', 'salaries', 'advertisement', 'empire', 'founding', 'eh', 'defining', 'Walt', 'Drawing', 'cage', 'Brett', 'duo', 'divide', 'senses', 'Mile', 'recreation', 'scandal', 'duck', 'Plays', 'journalism', 'strengths', 'conclusions', 'bizarre', 'distinguished', 'ruin', 'Beck', 'complications', 'Warm', 'grandfather', 'spinning', 'dip', 'Lily', 'Depending', 'rude', 'witnessed', 'sketch', 'glorious', 'streak', 'Raymond', 'realm', 'Myers', 'Bernard', 'consume', 'gravity', 'sucked', 'hardest', 'simulation', 'cope', 'Escape', 'nowadays', 'wears', 'struggled', 'brutal', 'sequences', 'Trying', 'kicking', 'rewarding', 'sights', 'stranger', 'spy', 'fatal', 'Warriors', 'cops', 'Hart', 'architect', 'sequel', 'influential', 'Yourself', 'wives', 'barriers', 'shallow', 'honors', 'assumption', 'deserved', 'torn', 'attitudes', 'introduces', 'bend', 'praying', 'Britney', 'households', 'arguing', 'laughter', 'undergraduate', 'performers', 'Owen', 'si', 'collaborative', 'nomination', 'blah', 'perfection', 'inviting', 'virgin', 'lo', 'promotes', 'sensation', 'Hispanic', 'exceptions', 'unity', 'AAA', 'Satin', '1959', 'miracle', 'toes', 'scam', 'Matrix', 'trapped', 'scenery', 'pencil', 'considers', 'fork', 'sampling', 'Lopez', 'pig', 'scent', 'owe', 'commerce', 'crowded', 'freshman', 'appeals', 'bronze', 'athlete', 'martial', 'competent', 'echo', 'Burns', 'smoothly', 'doc', 'practitioners', 'studios', 'Apart', 'Sunshine', 'cop', 'consumed', 'Luther', 'lively', 'tales', 'Rising', 'balloon', 'trauma', 'tailored', 'clutch', 'reject', 'Brady', 'escort', 'headache', 'rat', 'guilt', 'bucket', 'Wang', 'Adrian', 'Isle', 'Strange', 'guarantees', 'in-depth', 'Ash', 'Standing', 'laptops', 'sexually', 'envelope', 'plumbing', 'cracked', 'elevated', 'wallet', 'badge', 'tolerance', 'expressions', 'dosage', 'staring', 'dismissed', 'bolt', 'Portuguese', 'commenting', 'Geneva', 'pursuing', 'nationally', 'render', 'intentions', 'Shaw', 'fathers', 'mechanics', 'imagined', 'revealing', 'disturbing', 'terrain', 'Eventually', 'Enough', 'award-winning', 'Midwest', 'composer', 'sustain', 'pipeline', 'gem', 'por', 'abundance', 'Hugh', 'Pokemon', 'boil', 'stimulus', 'Memories', 'Lite', 'Translation', 'utterly', 'Luis', 'rounded', 'nevertheless', 'lame', 'bundle', 'readings', 'dull', 'bust', 'Highly', 'scenarios', 'depressed', 'dislike', 'fairy', 'nonsense', 'angles', 'Mostly', 'racism', 'opposing', 'skinny', 'Disneyland', 'sticky', 'dash', 'Forget', 'stiff', 'checkout', 'lord', 'refined', 'rage', 'dialog', 'societies', 'sterling', 'Killer', 'disappointing', 'renewal', 'brains', 'Eugene', 'monkey', 'nightmare', 'circular', 'buzz', 'strongest', 'clause', 'credibility', 'compassion', 'shadows', 'ART', '1957', 'tragic', 'Roses', 'Wade', 'candles', 'passive', 'Fortune', 'marathon', 'Pair', '1958', 'spicy', 'bump', 'pros', 'Pierce', 'straightforward', 'publicity', 'runner', 'Smoke', 'borrow', 'rushed', 'expose', 'Waiting', 'picnic', 'politically', 'Certainly', 'participant', 'Yale', 'sour', 'crush', 'swinging', 'decorating', 'myth', 'Sadly', 'elaborate', 'Erin', 'Com', 'rendering', 'Shawn', 'severely', 'openly', 'thoughtful', 'smiles', 'upside', 'Definitely', 'framed', 'bothered', 'Hawaiian', 'rises', 'steak', 'traditionally', 'Reynolds', 'sincere', 'grief', 'Daughter', 'Hopkins', 'emerge', 'criminals', 'daddy', 'appetite', 'pissed', 'stance', 'Alzheimer', 'Tattoo', 'VI', 'Bow', 'Gorgeous', 'connects', 'twisted', '270', 'spice', 'puppies', 'disappointment', 'implies', 'trades', 'glow', 'explicit', 'Kurt', 'Vampire', 'lottery', 'anxious', 'Pepper', 'pause', 'someday', 'Done', 'dock', 'Garcia', 'doses', 'sings', 'governance', 'cheating', 'shifts', 'succeeded', 'Coral', 'emotionally', 'illustrates', 'Citizen', 'adaptation', 'admire', 'mortality', 'trailers', 'snake', 'Willie', 'Meat', 'invites', 'shifting', 'surround', 'sturdy', '1955', 'infinite', 'breach', 'undoubtedly', 'Blind', 'spark', 'Limit', 'worthwhile', 'medal', 'glimpse', 'pronounced', 'simpler', 'screwed', 'Satan', 'Renaissance', 'origins', 'clarify', 'finale', 'simplicity', 'Ya', 'alliance', 'awake', 'scream', 'urgent', 'shoots', 'caution', 'ample', 'eighth', 'Afghan', 'bounce', 'interference', 'remainder', 'accepts', 'noble', 'doubled', 'overly', 'hurry', 'assurance', 'scare', 'Molly', 'cheer', 'Hate', 'wasting', 'Nearly', 'ambitious', 'Ribbon', 'Lynch', 'sounding', 'cheats', 'chill', 'squeeze', 'Seeking', 'wicked', 'Burning', 'crushed', 'markers', 'Ram', 'desperately', 'enthusiastic', 'partnerships', 'Meyer', 'Silent', 'eliminating', 'syrup', 'urine', 'lasts', 'tricky', 'Calvin', 'speculation', 'generates', 'shaking', 'explores', 'argues', 'liking', 'Identity', 'cozy', 'negotiate', 'toss', 'boxing', 'methodology', 'advertised', 'denial', 'Python', 'misses', 'vinegar', 'Diary', 'Paula', 'scattered', 'Klein', 'centered', 'Clothes', 'writings', 'swingers', 'T-shirt', 'dangers', 'Glory', 'Danish', 'frankly', 'cracks', 'spotlight', 'lengthy', 'hammer', 'modem', 'Bride', 'Natalie', 'compliment', 'transparency', 'Seth', 'Displaying', 'convey', 'stepping', 'specials', 'intriguing', 'virtue', 'lectures', 'ray', 'inability', 'intro', 'shocking', 'spends', 'crowds', 'Yard', 'naughty', 'hands-on', 'religions', 'wipe', 'filming', 'Nor', 'hatred', 'dawn', 'underwear', 'Damage', 'stretched', 'obstacles', 'toast', 'Morrison', 'activate', 'tuning', 'propaganda', 'rookie', 'shout', 'melt', 'ladder', 'abused', 'stretching', 'commercials', 'tissues', 'Welsh', 'progression', 'flush', 'peanut', 'Weddings', 'amid', 'nonetheless', 'cared', 'poses', 'comfortably', 'Cliff', 'Finder', 'knitting', 'Catch', 'whites', 'Madonna', 'trio', 'Throw', 'incomplete', 'XXX', 'Paid', 'survivors', 'intact', 'orgasm', 'beverage', 'laughs', '1954', 'vampire', 'minus', 'dancers', 'worrying', 'advocacy', 'filmed', 'Lives', 'enthusiasts', 'sneak', 'iconic', 'Waters', 'Nazi', 'Adults', 'closes', 'dumped', 'revenge', 'lengths', 'Hardy', 'coloring', 'bore', 'inherent', 'catches', 'Murder', 'Passion', 'Hmm', 'hype', 'indie', 'carved', 'hug', 'troubled', 'Guns', 'Seasons', 'playlist', 'lodging', 'arising', 'Sisters', 'insisted', 'honesty', 'absent', 'Pleasant', 'Claims', 'similarly', 'Seeing', 'unprecedented', 'duplicate', 'dense', 'Carey', 'Greene', '1950s', 'leap', 'mileage', 'lacks', 'Swim', 'definite', 'cult', 'Generic', 'rug', 'optimistic', 'Led', 'Rodriguez', 'cruel', 'surge', 'projection', 'responsive', 'Clare', 'civilization', 'drying', 'lightning', 'aesthetic', 'Resident', 'ego', 'Rosa', 'captures', 'Palestinians', 'pathetic', 'tens', 'glucose', 'perspectives', 'devastating', 'forty', 'slavery', 'performer', 'mankind', 'energetic', 'crude', 'Authentic', 'Apollo', 'positively', 'Pipe', 'Fellowship', 'proving', 'doubles', 'tightly', 'binary', 'dignity', 'practiced', 'diary', 'Maggie', 'appropriately', 'monsters', 'prone', 'comprise', 'aliens', 'Emperor', 'accompanying', 'blacks', 'surprises', 'Norwegian', 'darker', 'Mai', 'comparisons', '1953', 'exhausted', 'isolation', 'expressing', 'debris', 'starters', 'creamy', 'popped', 'halfway', 'False', 'Prophet', 'warnings', 'blows', 'retro', 'sleek', 'fusion', 'foil', 'merit', 'Proof', 'Allison', 'Burke', 'contests', 'constraints', 'adore', 'nursery', 'questioning', 'convincing', 'liner', 'juicy', 'obsessed', 'toddler', 'Totally', 'creepy', 'divisions', 'cloudy', 'traits', 'stud', 'foremost', 'singers', 'communicating', 'enhancing', 'Mean', 'celebrates', 'dysfunction', 'Bicycle', 'calculations', 'curves', 'shook', 'spill', 'persistent', 'entertain', 'chords', 'inhabitants', 'exquisite', 'Spears', 'gut', 'Dot', 'fond', 'gum', '1952', 'warrior', 'curiosity', 'continent', 'rats', 'irrelevant', 'distinguish', 'Aside', 'freight', 'Romantic', 'burns', 'buck', 'strangers', 'ruined', 'heights', 'Marilyn', 'unhappy', 'ignoring', 'stirring', '401', 'resolutions', 'portraits', 'lungs', 'jackets', 'Considering', 'jumps', 'timer', 'Elder', 'bombs', 'beers', 'Rouge', 'Fancy', 'arc', 'doubts', 'Powers', 'sweep', 'shortage', 'freak', 'abundant', 'scenic', \"'n\", 'sticker', 'extensively', 'marking', 'Gang', 'Petersburg', 'sentiment', 'Latino', 'implied', 'playground', 'absorb', 'Rug', 'lend', 'rode', 'tract', 'lowered', 'gadgets', 'verbal', 'absorbed', 'wounds', 'Freeman', 'bio', 'Mask', 'inquiries', 'acclaimed', 'overtime', 'kings', 'reflecting', 'jungle', 'escaped', 'uncertain', 'Sellers', 'explored', 'favors', 'Alien', 'Drives', 'addicted', 'Brussels', 'notably', 'premise', 'Venus', 'creations', 'undertaken', 'Wins', 'chess', 'discovering', 'gaps', 'imagery', 'encyclopedia', 'warn', 'Vertical', 'Meaning', 'headaches', 'Worlds', 'Quinn', 'Clara', 'Producer', 'elegance', 'Husband', 'suspects', 'Chronicles', 'interpret', 'indigenous', 'Alone', 'velocity', 'albeit', 'Lifetime', 'scrap', 'Katherine', 'yields', 'Mel', 'realizing', 'underway', 'fade', 'Beast', 'classics', 'Monte', 'Cuban', 'cardiac', 'remotely', 'terribly', 'seated', 'Chen', 'recovering', 'packaged', 'visually', 'bumper', 'explosive', 'feminine', 'reign', 'idiots', 'melted', 'inspirational', 'shining', 'compositions', 'impress', 'overwhelmed', 'Worst', 'hurting', 'Yo', 'Treasure', 'commodity', '1949', 'willingness', 'lifts', 'Seen', 'recognizes', 'infants', 'chorus', 'bowling', 'ritual', 'sympathy', 'themed', 'Ana', 'dolls', 'Daisy', 'Armed', 'gourmet', 'Visits', 'turf', 'evenings', 'cartoons', 'fog', 'Guaranteed', 'Weeks', 'productions', 'Harbour', 'deliberately', 'chasing', 'underwater', 'humidity', 'Courtney', 'behave', 'Uses', 'Cry', 'mixer', 'literacy', 'unclear', 'retrieve', 'expectation', 'excel', 'loops', 'messy', 'refuses', 'siblings', 'Zen', 'stimulate', 'capturing', 'assign', 'Pull', 'hates', 'Normally', 'sufficiently', 'historically', 'Brent', 'wonderfully', 'Shirley', 'Mat', 'Hawk', 'freaking', 'woven', 'rigid', 'spoon', 'grandparents', 'clerk', 'grains', 'Exactly', 'adjusting', 'ministers', 'breathtaking', 'vivid', 'eats', 'reunion', 'Feeling', 'economical', 'misleading', 'curtain', 'distances', 'dominate', 'unbelievable', 'rivals', 'Kane', 'Wise', 'ounce', 'relevance', 'personalities', 'Devils', 'fireworks', 'cows', 'overlooked', 'constitutes', 'lyric', 'Trouble', 'spider', 'Bollywood', 'crystals', 'Bowling', 'subscriber', 'charitable', 'feast', 'circa', 'Contains', 'credited', 'pat', 'theaters', 'slope', 'pleasing', 'elephant', 'examines', 'synthesis', 'accents', 'gifted', 'Characters', 'lush', 'detailing', 'embarrassing', 'flaws', 'Certain', 'tattoos', 'refresh', 'photographic', 'revelation', 'wholly', 'emailed', 'shifted', 'Rover', 'directing', 'continental', 'mistaken', 'uh', 'zombie', 'surviving', 'Teddy', 'sophomore', 'Elliott', 'civic', '70s', 'margins', 'Saved', 'kindness', 'outs', 'hormones', 'android', 'jaw', 'merge', 'miserable', 'batting', 'Martinez', 'Pieces', 'prince', 'examining', 'Vanessa', 'Ivy', 'dreaming', 'swept', 'Sense', 'rainbow', 'conscience', 'fills', 'collision', 'Spike', 'Bacon', 'notch', 'accompany', 'immense', 'puzzles', 'Strap', 'subjected', 'weighs', 'amazingly', 'dots', 'allergy', 'ashamed', 'ninth', 'fuels', 'hopeful', 'compressed', 'polite', 'Willis', 'farther', 'lick', '146', 'Tara', 'bombing', 'manipulation', 'unsure', 'splash', 'flashing', 'hollow', 'DJs', 'borrowed', 'Samantha', 'stitch', 'warfare', 'skies', 'swallow', 'quantum', 'high-end', 'Actress', 'all-time', 'WWII', 'sexuality', 'Mormon', 'thereafter', 'evolve', 'Matters', 'pains', 'pledge', 'waking', 'amusing', 'robots', 'Combine', 'crappy', 'illusion', 'spells', 'ensemble', 'imply', 'Watts', 'widget', 'overweight', 'Walsh', 'Streets', 'Malcolm', 'Typical', 'stockings', 'gratitude', 'discomfort', 'ruins', 'Initial', 'smarter', 'seasoned', 'curse', 'posing', 'evenly', 'Brilliant', 'distributors', 'comeback', 'Prepare', 'nerves', 'groove', 'confirms', 'Turns', 'ham', 'Disaster', 'secular', 'tempted', 'critic', 'chooses', 'exceptionally', 'Merchant', 'endorsement', 'installment', 'Tucker', 'distress', 'messenger', 'Ivory', 'exchanges', 'vague', 'Went', 'landmark', 'Sad', 'Wal-Mart', 'selfish', 'Soldier', 'definitive', 'R&D', 'Nixon', 'yourselves', 'Wesley', 'undergo', 'renting', 'Savage', 'rejection', 'minded', 'invaluable', 'philosophical', 'evolving', 'Gerald', 'exploit', 'coloured', 'peek', 'lowering', 'servants', 'capitalism', 'Nash', 'pupils', 'Pedro', 'Burger', 'clone', 'Canadians', 'Resistance', 'surrender', 'repeating', 'explanations', 'Lo', 'Serious', 'destiny', 'Kathleen', 'triangle', 'demographic', 'Fork', 'extras', 'balancing', 'anticipation', 'sausage', 'sweeping', 'thrust', 'Polished', 'assumes', 'bypass', 'Tale', 'welcomes', 'socially', 'innovations', 'boiling', 'pinch', 'Farmer', 'funky', '1938', '1937', 'surplus', 'Runner', 'noticeable', '7.00', 'Reno', 'Phantom', 'supermarket', 'Needed', 'multitude', 'ideally', 'encounters', 'ne', 'bisexual', 'prom', 'learnt', 'Ago', 'learns', 'forgiveness', 'predictable', 'critically', 'aiming', 'tossed', 'Snake', 'norm', 'freshly', 'Goldman', 'Witch', 'Leaves', 'Holocaust', 'insult', 'Phillip', 'refugees', 'semi', 'dunno', 'Coal', 'futures', 'landscapes', 'maturity', 'vent', 'stimulation', 'risky', 'theology', 'reel', 'buddies', 'hostile', 'hooks', 'Weber', 'pitched', 'Bo', 'steadily', 'deficiency', 'obscure', 'violated', 'blended', 'incorporates', 'saddle', 'Weird', 'impressions', 'exceeds', 'detached', 'goodies', 'endure', 'disgusting', 'retaining', 'bubbles', 'abandon', 'flames', 'witch', 'Bros.', 'elect', 'coral', 'Bentley', 'cardboard', 'absurd', 'Bon', 'northwest', 'piss', 'Catholics', 'prey', 'destructive', 'accomplishments', 'gears', 'Debate', 'uniquely', 'equals', 'canon', 'obsession', 'arbitrary', 'Saddam', 'critique', 'remembering', 'analytical', 'Dolls', 'professors', 'unavailable', 'unaware', 'fragile', 'biblical', 'inevitably', 'masterpiece', 'suffers', 'Gives', 'genres', 'Marks', 'variant', 'Vietnamese', 'Bubble', 'inadequate', 'aerial', 'Carmen', 'magnet', 'Roland', 'transported', 'rhetoric', 'whip', 'cheek', 'Proposal', 'classy', 'descent', 'spreads', 'burnt', 'Lovers', 'Cage', 'verdict', 'timeless', 'plea', 'questionable', 'madness', 'numbered', 'passages', 'utter', 'ho', 'respects', 'needles', 'subjective', '1933', 'relies', 'shaping', 'prisoner', 'Oriental', 'rails', 'denying', 'leaning', 'embarrassed', 'Fabulous', 'fierce', 'Putting', 'Quiet', 'reluctant', 'Austrian', 'Fraser', 'recognise', 'weaknesses', 'Hmmm', 'rainy', 'undo', 'neglected', 'sincerely', 'bees', 'Easily', 'relocation', 'sums', 'Ivan', 'hereby', \"o'clock\", 'biased', 'bind', 'longtime', 'Oprah', 'arguably', 'cushion', 'foolish', 'PBS', 'intentionally', 'Copenhagen', 'thriller', 'governmental', 'pity', 'collectively', 'morality', 'appraisal', 'reinforced', 'burger', 'sung', 'mixes', 'Carpenter', 'cleansing', 'potent', 'rash', 'rewarded', 'Bravo', 'transcript', 'contributes', 'gems', 'Laurel', 'Towers', 'skating', 'routinely', 'strokes', 'wizard', 'credible', 'demonstrating', 'stripped', 'recalls', 'backdrop', 'indoors', 'originated', 'Sitting', 'Stupid', 'ideology', 'Animated', 'affection', 'Heidi', 'Um', 'Thin', 'Helps', 'routines', 'popping', 'confined', 'hypothesis', 'reside', 'geared', 'prolonged', 'Happiness', 'detention', 'humanitarian', 'vagina', 'threaten', 'wrapping', 'curtains', 'dances', 'Expect', 'scarf', 'Vs.', 'phenomena', 'Digest', 'moist', 'provincial', 'spiral', 'bells', 'ballet', 'rant', 'Sanders', 'projector', 'nap', 'Michele', 'ripe', 'canned', 'reconstruction', 'fictional', 'sickness', 'Circus', 'tier', 'sparkling', 'offended', 'Triangle', '1934', 'adequately', 'Angelina', 'Plot', 'Davies', 'Freddie', 'vein', 'Scores', 'vibe', 'Avon', 'vulnerability', 'relying', 'bites', 'clan', 'seamless', 'mindset', 'pops', 'Dash', 'noisy', 'Elegant', 'economically', 'bullets', 'geographical', 'converts', 'wraps', 'alcoholic', 'reflective', 'simplest', 'Faces', 'Cabin', 'Belgian', 'coordinated', 'gossip', 'finely', '60s', 'employs', \"'n'\", 'juvenile', 'relieved', 'remake', 'unrelated', 'remembers', 'suburban', 'domination', 'accessibility', 'cons', 'R&B', '2,500', 'annoyed', 'Pa.', 'fulfilling', 'Spider-Man', 'atmospheric', 'champagne', 'traces', 'humour', 'textbook', 'day-to-day', 'Spider', 'Yang', 'unified', 'breakthrough', 'forbidden', 'Boyd', 'Winds', 'guiding', 'justification', 'darn', 'depicted', 'weighed', 'secretly', 'Pumpkin', 'arch', 'handheld', 'entertained', 'tackles', 'grind', 'pushes', 'symbolic', 'Pamela', 'Vera', 'Cannes', 'Castro', 'Allied', 'Hoffman', 'mentality', 'traveler', 'irony', 'Reunion', 'realization', 'Leigh', 'Croatia', 'reductions', 'loser', 'praised', 'refusing', 'suspicion', 'disposable', 'unforgettable', 'thrill', 'testimonials', 'mug', 'Mann', 'melting', 'Variety', 'detective', 'storyline', 'Anybody', 'cracking', 'Blessed', 'Soldiers', 'reviewers', 'counterparts', 'set-up', 'believer', 'grinding', 'outright', 'dependence', 'winding', 'reproduce', 'soothing', 'robbery', 'mob', 'dragged', 'comfy', 'stare', 'immigrant', 'Dover', 'downward', 'flawed', 'dreamed', 'rigorous', 'preserving', 'Bonds', 'mommy', 'outdated', 'Yankee', 'legends', 'configurations', 'pointless', 'discourse', 'parental', 'Directed', 'vacant', 'Hunger', 'fashioned', 'Lin', 'clash', 'apology', 'palette', 'Cube', 'Praise', 'conception', 'fluids', 'ecological', 'treasures', 'territories', 'depths', 'rocky', 'enhances', 'Michel', 'Romeo', 'accumulated', 'sadness', 'stakes', 'successor', 'bark', 'leaks', 'hip-hop', 'undergoing', 'psychic', 'slap', 'inferior', 'clipped', 'flick', 'artifacts', 'ironic', 'dilemma', 'Patriot', 'mornings', '163', 'Reef', 'stretches', 'Chan', 'Byron', 'cheeks', 'seldom', 'representations', 'Lonely', 'crosses', 'Bronx', 'widow', 'Intelligent', 'plots', 'Mitch', 'playful', 'photographed', 'Acting', 'Damon', 'Starts', 'greed', 'conceived', 'portrayed', 'intends', 'Cannon', 'deposited', 'primitive', 'gesture', 'figuring', 'stellar', 'paints', 'manipulate', 'satisfactory', 'meanwhile', 'merits', 'concludes', 'Tap', 'problematic', 'wreck', 'maid', 'IQ', 'ace', 'triumph', 'bonding', 'African-American', 'haul', 'Blow', 'nod', 'flavour', 'myths', 'Bucks', 'stacked', 'successes', 'Marvin', 'exemplary', 'catalyst', 'creators', 'endurance', 'benchmark', 'undertaking', 'attracting', 'grease', 'conventions', 'Stern', 'Truly', 'despair', 'compensate', 'symptom', 'trek', 'Thankfully', 'utmost', 'padded', 'rooted', 'chunk', 'demons', 'Ultimately', 'cube', 'advancing', 'clearer', 'fertility', 'grabs', 'Woody', 'mods', 'brushes', 'addictive', 'relied', 'scrutiny', 'Dangerous', 'distanced', 'Barrett', 'spit', 'splendid', 'Monsters', 'tense', 'dismiss', 'crawl', '2/3', 'Spend', 'stimulating', 'lifelong', 'atop', 'avid', 'tougher', 'Pandora', 'unpleasant', 'gaze', 'majors', 'remarkably', 'Na', 'world-class', 'Feels', 'understandable', 'downs', 'jelly', 'beg', 'registering', 'worms', 'outing', 'veins', 'ceremonies', '1930s', 'milestone', 'Revenge', 'exposing', 'Humor', 'exceeding', 'tolerate', 'Broadcast', 'continuity', 'awe', 'embraced', 'Offensive', 'Gambling', 'Schmidt', 'backward', 'Einstein', 'expands', 'guessed', 'Sixth', 'staple', 'nephew', 'Judith', 'Hal', 'compelled', 'attracts', 'theatrical', 'accomplishment', 'myriad', 'darling', 'outrageous', 'Lightweight', 'Crane', 'comparative', 'zombies', 'Chick', 'phenomenal', 'endangered', 'Melanie', 'transplant', 'victories', 'orbit', 'skirts', 'preaching', 'distracted', 'barbecue', 'blends', 'Somehow', 'addict', 'worm', 'Gothic', 'framing', 'Spare', 'unacceptable', 'devotion', 'preceded', 'Payne', 'Needless', 'infectious', 'Literary', 'savvy', '3-D', 'slowed', 'Trials', 'rubbish', 'pony', 'worthless', 'slick', 'Irvine', 'geek', 'Jacques', 'porno', 'owed', 'daytime', 'electoral', 'typed', 'whale', 'unstable', 'Rams', 'Silence', 'weaker', 'Dawson', 'blond', 'gays', 'envy', 'Mick', 'Ending', 'equations', 'chord', 'begging', 'programmer', 'reps', 'hierarchy', 'metropolitan', 'faint', 'yelling', 'Hussein', 'similarities', 'inconsistent', 'motorcycles', 'Opens', 'favored', 'humorous', 'rebel', 'insightful', 'withstand', 'Gauge', 'disco', 'privileged', 'dug', 'supernatural', 'prejudice', 'insists', 'drawers', 'adhere', 'pee', '1915', 'Myrtle', 'Battlefield', 'popcorn', 'belonged', 'crashing', 'balances', 'downside', 'destined', 'hash', 'Killing', 'endeavor', 'interrupted', 'peas', 'prevalent', 'festive', 'cutter', 'mars', 'coincidence', 'Twenty', 'fascinated', 'fantasies', 'warriors', 'sack', 'integrating', 'mock', 'comprehend', 'truths', 'Shadows', 'redemption', 'enacted', 'decay', 'holistic', 'Equal', 'bumps', 'grin', 'possessed', 'Dragons', 'intricate', 'masturbation', 'sharply', 'feathers', 'homosexual', 'proposes', 'dubbed', 'Thou', 'tick', 'regain', 'damned', 'Liu', 'realizes', 'pearls', 'plugged', 'deepest', 'Wong', 'utilizes', 'realities', 'apt', 'behold', 'schematic', 'Millions', 'resides', 'yacht', 'eternity', 'professionalism', 'lust', 'proportions', 'sketches', 'vain', 'simplify', 'mounts', 'chefs', 'Avengers', 'dodge', 'SAT', 'forgetting', 'Lang', 'notorious', 'digits', 'accidental', 'Papa', 'strains', 'amusement', 'ou', 'Aussie', 'Doyle', 'bathing', 'Stacy', 'purity', 'U.N.', 'Rafael', 'Wonderland', 'confronted', 'continuation', 'Augustine', 'tuna', 'HIV/AIDS', 'Knoxville', 'clocks', 'battling', 'aftermath', 'large-scale', 'circus', 'vanity', 'pursued', 'Pasadena', 'Nolan', 'cone', 'vicious', 'rightly', 'diapers', 'Ernest', 'populated', 'Somewhere', 'capsule', 'unconscious', 'refusal', 'swings', 'Twist', 'drained', 'Ensemble', 'insider', 'Oops', 'pedestrian', 'uncover', 'traps', 'thrilling', 'confront', 'restoring', 'entirety', 'panoramic', 'prop', 'gloss', 'Ops', 'X.', 'Randall', 'ambition', 'sensual', 'Coke', 'deliberate', 'Ethan', 'temptation', 'knot', 'PB', 'charms', 'Taxi', 'seas', 'unfamiliar', 'shouting', 'mainland', 'stationary', 'resurrection', 'disturbed', 'X-Men', 'Compared', 'standardized', 'pastry', 'exploitation', 'Audrey', 'fundamentals', 'adventurous', 'wrinkles', 'tactic', 'Morton', 'harmless', 'arrogant', 'motivate', 'fairness', 'misery', 'monkeys', 'cyber', 'faded', 'Enemy', 'paradigm', 'ringing', 'succession', 'Conrad', 'Zelda', 'anatomy', 'Moody', 'baggage', 'scratches', 'singular', 'Moves', 'Zoe', 'bounds', 'expiration', 'respectful', 'bodily', 'giants', 'herd', 'brushed', 'sorrow', 'wildly', 'probation', 'Lantern', 'explode', 'metaphor', 'collectible', 'odor', 'Afternoon', 'Chancellor', 'mediocre', 'Orchard', 'Olympus', 'spelled', 'layered', 'craving', 'Abbott', 'susceptible', 'ideals', 'boiler', 'cries', 'marvelous', 'highs', 'Everett', 'spontaneous', 'preschool', 'emphasized', 'Diaz', 'Traveler', 'Weaver', 'derivative', 'rests', 'naval', 'forefront', 'steals', 'Shame', 'lays', 'fuzzy', 'novice', 'haunted', 'nausea', 'bouquet', 'literal', 'speedy', 'Functions', 'porcelain', 'Lone', 'Piper', 'same-sex', 'nominal', 'visions', 'obstacle', 'translates', 'Roberto', 'ver', 'Brendan', 'expressly', 'righteousness', 'hem', 'calculating', 'Caesar', 'youngsters', 'conceptual', 'enduring', 'Nicolas', 'wander', 'prevalence', 'Ventura', 'disposition', 'tad', 'Static', 'Cuts', 'depressing', 'Esther', 'Synthetic', 'lump', 'threatens', 'Tune', 'hugely', 'confuse', 'Walls', 'energies', 'tucked', 'Panic', 'authenticity', 'mysteries', 'possesses', 'compromised', 'dire', 'stunned', 'faults', 'greedy', '295', 'Judaism', 'high-tech', 'glossy', 'occupational', 'reminiscent', 'spirituality', 'fundamentally', 'clown', 'resemble', 'folds', 'wisely', 'Claus', 'staged', 'chop', 'Pray', 'edits', 'Charming', 'recycle', 'Val', 'Claude', 'perceptions', 'monument', 'meaningless', 'snapshot', 'Initially', 'bowel', 'percussion', 'idol', 'Norris', 'repetitive', 'daunting', 'hears', 'combustion', 'primer', 'Killed', 'rustic', 'Matches', 'shines', 'Sharks', 'scar', 'blender', 'topical', 'gigantic', 'predominantly', 'Mood', 'feminist', 'oversized', 'shores', 'Das', 'Barney', 'aisle', 'kitten', 'testosterone', 'Lieutenant', 'Fathers', 'volatile', 'obsolete', 'crank', 'Napoleon', 'Conan', 'noises', 'resembles', 'tempting', 'permitting', 'smash', 'naive', 'reminding', 'Efficient', 'Naomi', 'enforced', 'benefited', 'guru', 'founders', 'Goose', 'horns', 'accelerated', 'limbs', 'Playboy', 'cheerful', 'urges', 'redundant', 'ghosts', 'sympathetic', 'Picnic', 'Jolie', 'preach', 'vastly', 'bald', 'shave', 'tenth', 'peculiar', 'intentional', 'indulge', 'transitions', 'aspiring', 'conditioned', 'cue', 'Chips', 'implements', 'compassionate', 'frightening', 'predecessor', 'unchanged', 'discoveries', 'Audience', 'retains', 'faulty', 'sucker', 'Begins', 'eventual', 'Zhang', 'tailor', 'villain', 'Conduct', 'murders', 'fringe', 'superstar', 'Runs', 'storytelling', 'Rookie', 'Dustin', 'brew', 'Han', 'trimmed', 'homosexuality', 'loudly', 'generosity', 'thinner', 'Friedman', 'Tyson', 'petite', 'shouted', 'Clint', 'ins', 'upscale', 'animations', 'imaginary', 'miracles', 'Wes', 'windshield', 'Bound', 'Critics', 'pertinent', 'reef', 'Stein', 'competence', 'digit', 'ropes', 'broadly', 'tease', 'motives', 'Assassin', 'Sit', 'astonishing', 'emergence', 'pristine', 'inmates', 'Bloody', 'viewpoint', 'lacked', 'flawless', 'sweetness', 'inflammatory', 'Funk', 'columnist', 'priceless', 'louder', 'highways', 'Randolph', 'pleasures', 'shakes', 'Beware', 'retiring', 'chew', 'unpredictable', 'LITTLE', 'banquet', 'quirky', 'downhill', 'Hogan', 'Sparks', 'Possibly', 'trilogy', 'digest', 'screams', 'Juliet', 'enthusiast', 'flashes', 'Russians', 'overlook', 'stocked', 'innocence', 'marginal', 'specifics', 'admired', 'forged', 'Choices', 'prose', 'Whereas', 'injected', 'Bates', 'cabins', 'weave', 'dim', 'tearing', 'fools', 'stripe', 'erase', 'guts', 'fluffy', 'topping', 'knots', 'induce', 'eagerly', 'Onion', 'sermon', 'caliber', 'interpretations', 'toughest', 'aggressively', 'assert', 'greatness', 'tapping', 'dependable', 'monopoly', 'Schneider', 'sacrifices', 'motions', 'youthful', 'unsuccessful', 'respectable', 'saga', 'staging', 'optimism', 'slips', 'gracious', 'reliance', 'historians', 'surveyed', 'Simpsons', 'recommending', 'old-fashioned', 'filmmaker', 'Frankie', 'Evelyn', 'repairing', 'reflections', 'demise', 'Reese', 'intrigued', 'glamour', 'splitting', 'catchy', 'tummy', 'crossover', 'observer', 'resonance', 'scooter', \"O'Neill\", 'doomed', 'Harlem', 'filler', 'distraction', 'palate', 'blending', 'famed', 'rewritten', 'inspector', 'Swingers', 'maternal', 'starred', 'Rudy', 'Finds', 'comedian', 'Iris', 'Stands', 'daring', 'Barker', 'settlers', 'Splash', 'depart', 'flaw', 'Def', 'novelty', 'Mariah', 'sinks', 'fading', 'richer', 'sci-fi', 'butterflies', 'Yu', 'Completely', 'Exploring', 'flop', 'Levy', 'Nightmare', 'genocide', 'Kathryn', 'soaked', 'accountant', 'poised', '50s', 'labeling', 'goose', 'mortal', 'Immediately', 'testament', 'cooker', 'spoil', 'disadvantage', 'piercing', 'grips', 'veil', 'neatly', 'grad', 'Busy', 'outward', 'formulas', 'boast', 'testify', 'twists', 'witty', 'whistle', 'plague', 'Darling', 'tended', '?!?', 'flute', 'Scooter', 'slightest', 'friendships', 'mythology', 'ripping', 'Xmas', 'akin', 'fuse', 'bouncing', 'paved', 'parody', 'surrounds', 'pornography', 'inherently', 'impulse', 'Wrote', 'biting', 'flair', 'showcases', 'dwell', 'reconciliation', 'traced', 'furious', 'checklist', 'battlefield', 'funniest', 'razor', 'puppet', 'investigator', 'Extremely', 'seams', 'completes', 'ventures', 'Israelis', 'bastard', 'crafting', 'gamble', 'bliss', 'snaps', 'aspirations', 'interiors', 'conquer', 'outrage', 'tortured', 'boiled', 'trivial', 'omitted', 'funk', 'adolescents', 'piles', 'pleasantly', 'losers', 'carpets', 'pulp', 'Diaries', 'dimensional', 'skipped', 'amidst', 'limb', 'contempt', 'mugs', 'Finn', 'inspires', 'longevity', 'Watched', 'dope', 'Hanson', 'girlfriends', 'suspend', 'pairing', 'stupidity', 'injustice', 'cassette', 'heroic', 'manners', 'Nasty', 'Bart', 'noticing', 'Fuller', 'voyage', 'gowns', 'liar', 'Thumbs', 'spun', 'self-esteem', 'padding', 'lipstick', 'instinct', 'unexpectedly', 'Jar', 'stubborn', 'Fence', 'paycheck', 'simmer', 'unparalleled', 'beginnings', 'ridiculously', 'depicts', 'confession', 'cumulative', 'sparked', 'devote', 'loosely', 'plunge', 'slash', 'Odd', 'Groove', 'Hicks', 'Cunningham', 'coping', 'scams', 'contend', 'hairs', 'rehearsal', 'immensely', 'convictions', 'postcard', 'horrific', 'filmmakers', 'depicting', 'fuss', 'mistress', 'forwards', 'disappoint', 'Beginners', 'terrified', 'wary', 'eclipse', 'rogue', 'Donovan', 'cooks', 'separates', 'imaginative', 'banging', 'poetic', 'ineffective', 'malls', 'characterization', 'Franco', 'marching', 'optic', 'stray', 'declares', 'crushing', 'hotter', 'dime', 'earns', 'schooling', 'graceful', 'Paramount', 'stuffing', 'bankrupt', 'paced', 'unusually', 'trumpet', 'imprisonment', 'sober', 'compass', 'coherent', 'terrifying', 'Triumph', 'Stitch', 'suppression', 'messing', 'thankfully', 'stunt', 'frank', 'tedious', 'Boris', 'embarrassment', 'collage', 'Lips', 'Blossom', 'cheering', 'robbed', 'pun', 'Gee', 'waits', 'Mafia', 'scratching', 'Theology', 'comforting', 'whining', 'wig', 'Giles', 'specimen', 'shocks', 'heap', 'riot', 'tighter', 'Kudos', 'casualties', 'killers', 'hail', 'assassination', 'styled', 'Griffith', 'temporal', 'bleed', 'smoother', 'Denis', 'carnival', 'Rosemary', 'Sofia', 'illumination', 'effortlessly', 'Anton', 'passions', 'volcano', 'Mandy', 'Fleming', 'unfinished', 'Pelosi', 'Attraction', 'disastrous', 'abuses', 'punches', 'Riviera', 'Elm', 'Sight', 'unpaid', 'Ones', 'telescope', 'refugee', 'drunken', 'displacement', 'decisive', 'articulate', 'Clyde', 'inactive', 'mist', 'bathtub', 'blur', 'tremendously', 'Kendall', 'orgy', 'confirming', 'real-life', 'Holden', 'Bermuda', 'bishops', 'Whale', 'comprehension', 'Brave', 'tensions', 'Sticky', 'communal', 'two-thirds', 'fencing', 'Olympia', 'ideological', 'rebellion', 'hides', 'progressed', 'Filled', 'directs', 'intimacy', 'Importance', 'fab', 'petty', 'illustrating', 'rabbits', '1899', 'resumes', 'attentive', 'outta', 'cheesy', 'spans', 'bully', 'vampires', 'urgency', 'goats', 'tidy', 'expresses', 'encompasses', 'chewing', 'dictate', 'notions', 'irritating', 'Woven', 'mosque', 'slippery', 'embracing', 'heartbeat', 'cafes', 'squeezed', 'restraint', 'Flynn', 'adolescent', 'visuals', 'illuminated', 'backbone', 'dues', 'itching', 'sweetheart', 'memoir', 'Gallagher', 'best-selling', 'Crimes', 'presses', 'Sonny', 'counterpart', 'flee', 'portray', 'insanity', 'Hilary', 'regimen', 'rationale', 'superhero', 'Becker', 'Cary', 'Doris', 'gosh', 'glamorous', 'Fiji', 'trusts', 'cannon', 'sweating', 'morally', 'pianist', 'tapped', 'Haunted', 'Accuracy', 'oily', 'realism', 'indicative', 'kinky', 'Demi', 'breadth', 'Dante', 'dragons', 'sloppy', 'aquatic', 'undermine', 'yell', 'seizures', 'majestic', 'insulting', 'moron', 'Maid', 'establishes', 'conflicting', 'downright', 'sleepy', 'pop-up', 'Allows', 'subtitles', 'lookin', 'striving', 'tar', 'zoning', 'admitting', 'rivalry', 'Panther', 'stark', 'Sheridan', 'teasing', 'stacks', 'hectic', 'asylum', 'eyebrows', 'disregard', 'Goldberg', 'Yorker', 'Horton', 'deserving', 'longing', 'groundbreaking', 'homage', 'drastic', 'chilled', 'full-length', 'climax', 'Viva', 'Sushi', 'craftsmanship', 'Diva', 'fingering', 'lows', 'pancakes', 'incapable', 'Armenian', 'moderately', 'CGI', 'ashes', 'discreet', 'richest', 'concentrating', 'hitch', 'devastated', 'preferable', 'discarded', 'hating', 'crackers', 'maiden', 'emphasizes', 'suspense', 'Kraft', 'catastrophic', 'Ryder', 'aided', 'Recall', 'philosopher', 'cape', 'massacre', 'Aliens', 'spoiler', 'deleting', 'docs', 'contender', 'skeleton', 'debating', 'promoter', 'choke', 'Speaks', 'Macy', 'brethren', 'turmoil', 'confrontation', 'Sailor', 'rhythms', 'prolific', 'Drops', 'Stevenson', 'Weiss', 'radioactive', 'sane', 'cheated', 'reap', 'rendition', 'Forrest', 'sway', 'cruelty', 'flux', 'temper', 'Lucia', 'bows', 'uneven', 'tranquil', 'Noon', 'user-friendly', 'glued', '1940s', 'salvage', 'Janice', 'strives', 'Georgian', 'attendant', 'leftover', 'blunt', 'elusive', 'staggering', 'Brit', 'trusting', 'Everywhere', 'strands', 'Hardwood', 'verge', 'pies', 'drone', 'paranoid', 'insomnia', 'spiders', 'Dolly', 'endured', 'topless', 'beware', 'alterations', 'proficient', 'accumulate', 'initiation', 'Corpus', 'reckless', 'Impossible', 'Musicians', 'precedent', 'absorbing', 'fi', 'Minority', 'Superb', 'PA.', 'derive', 'stereotypes', 'dazzling', 'Scratch', 'astounding', 'haunting', 'Ordinary', 'Oscars', 'blush', 'gestures', 'tweak', 'acknowledges', 'chaotic', 'liberation', 'Partly', 'strategically', 'acquainted', 'misuse', 'coke', 'starving', 'frontier', 'declines', 'harvesting', 'stranded', '007', 'plausible', 'spouses', 'prevail', 'cynical', 'ambitions', 'Domino', 'formidable', 'persona', 'overload', 'integrates', 'coarse', 'predators', 'pinned', 'plethora', 'cutting-edge', 'mystical', 'Gil', 'coaster', 'disappears', 'polishing', 'shortest', 'capped', 'twentieth', 'captive', 'gravy', 'operative', 'Xerox', 'Solaris', 'weary', 'Newfoundland', 'weaving', 'soaring', 'spanning', 'fertile', 'strangely', 'fooled', 'sip', 'vitality', 'irrational', 'entrepreneurial', 'radiant', 'Wedge', 'Clause', 'perpetual', 'Brings', 'liberties', 'chilly', 'Trains', 'violates', 'techno', 'spins', 'Axis', 'dusty', 'PHONE', 'cerebral', 'stalls', 'Trey', 'Deadly', 'Tango', 'Springer', 'Eleven', 'Franz', 'Rae', 'Atom', 'fragment', 'scrapbook', 'merry', 'spaghetti', 'upbeat', 'admiration', 'hardship', 'Ghosts', 'dorm', 'diluted', 'Holds', 'disguise', 'bland', 'emerges', 'effortless', 'universally', 'Rumor', 'leash', 'transporting', 'intern', 'Stuffed', 'mantra', 'Lazy', 'misunderstood', 'Grave', 'crawling', 'cylinders', 'contrasting', 'deferred', 'Frankly', 'quaint', 'intellect', 'punched', 'spiritually', 'debated', 'widescreen', 'forgiven', 'irresponsible', 'weakened', 'needy', 'indictment', 'repetition', 'tart', 'Abdul', 'chops', 'alarming', 'oops', 'hopeless', 'repeats', 'dipped', 'JFK', 'Terri', 'stumble', 'fiery', 'ants', 'Madame', 'provocative', 'handicap', 'ethnicity', 'superficial', 'Dolby', 'sentiments', 'fest', 'biz', 'humility', 'Cinderella', 'Fatal', 'Carrying', 'Sucking', 'Communion', 'protagonist', 'horribly', 'hefty', 'Debut', 'microscope', 'empathy', 'thirst', 'slack', 'nostalgia', 'redeem', 'masculine', 'gag', 'Legendary', 'brilliantly', 'advises', 'digitally', 'patriotic', 'spectacle', 'rot', 'Chances', 'swords', 'creep', 'aesthetics', 'chilling', 'Colorful', 'honorable', 'brightly', 'Edmund', 'Kung', 'Reyes', 'Sergio', 'owes', 'presume', 'Gentle', 'regeneration', 'wink', 'continual', 'lousy', 'joyful', 'Magnolia', 'fabricated', 'fascination', 'Wolfe', 'endeavors', 'sailors', 'doubling', 'maze', 'bedtime', 'affinity', 'Amos', 'Sundance', 'swiftly', '8-10', 'sanity', 'mundane', 'instincts', 'tackling', 'Monty', 'reactive', 'halftime', 'smack', 'Scarlet', 'honoring', 'olives', 'rewrite', 'Chill', 'rejects', 'Berg', 'ke', 'tipped', 'lingering', 'Essentially', 'MacDonald', 'Booty', 'timeout', 'conceive', 'high-profile', 'Ellie', 'crises', 'contemplating', 'AMC', 'sting', 'heroine', 'right-wing', 'overdose', 'tunnels', 'upfront', 'activism', 'excursion', 'crave', 'deception', 'Clouds', 'patiently', 'fearful', 'engages', 'gangs', 'estrogen', 'qualifies', 'Occasionally', 'Guided', 'grim', 'Ark', 'demographics', 'Clive', 'surreal', 'Simone', 'documenting', 'lessen', 'disconnected', 'tendencies', 'linguistic', 'earnest', 'Giovanni', 'ghetto', 'Guilty', 'restless', 'floppy', 'distinctly', 'Phi', 'pivotal', 'scripting', 'Silly', 'infusion', 'warmed', 'marvel', 'relentless', 'recognizable', 'mosaic', 'rotten', 'Lola', 'cues', 'advert', 'intensely', 'seaside', 'ponder', 'Officially', 'taps', 'virtues', 'principals', 'cultivated', 'rite', 'Crush', 'reversal', 'casts', 'flourish', 'modeled', 'sparks', 'commanding', 'Thirty', 'rampant', 'wafer', 'Townsend', 'peter', 'dread', 'sublime', 'Philippe', 'marrow', 'natives', 'furry', 'Tu', 'validated', 'alas', 'booming', 'Toward', 'staircase', 'mildly', 'delights', 'imprint', 'instability', 'sophistication', 'muddy', 'pardon', 'percentages', 'skipping', 'WW', 'immature', 'enlightened', 'alternating', 'bogus', 'reminders', 'havoc', 'substantive', 'frosting', 'expressive', 'spikes', 'cinematic', 'cultivation', 'hinge', 'José', 'buff', 'compensated', 'stirred', 'dubious', 'Jonah', 'raging', 'enriched', 'robotic', 'Armenia', 'persistence', 'indispensable', 'narrator', 'café', 'abound', 'Eileen', 'wrought', 'unseen', 'Able', 'Laurence', 'intimidating', 'Skins', 'perennial', 'helm', 'unrealistic', 'Returning', 'afforded', 'regrets', 'directive', 'exaggerated', 'restrictive', 'Wives', 'fueled', 'disciplined', 'proficiency', 'oatmeal', 'clueless', 'preteen', 'brilliance', 'hardened', 'transforms', 'overdue', 'Worse', 'invariably', 'MGM', 'Bartlett', 'icy', 'duly', 'melodic', 'Told', 'sands', 'relocated', 'Mermaid', 'flavours', 'hypocrisy', 'submarine', 'Chateau', 'Fifty', 'homicide', 'Loud', 'sewage', 'amused', 'Glitter', 'BMX', 'distract', 'Seas', 'Bombay', 'chimney', 'evidenced', 'benign', 'EMI', 'slew', 'booths', 'ambience', 'dreaded', 'jealousy', 'hostage', 'screenplay', 'yielded', 'Jules', 'frenzy', 'troubling', 'slender', 'jones', 'Alas', 'interpreting', 'Dickens', 'DV', 'implication', 'hinges', 'heavyweight', 'unfold', 'sailor', 'LDS', 'Marker', 'joys', 'manifestation', 'Knows', 'nudity', 'morals', 'plentiful', 'Tender', 'first-time', 'sacrificing', 'doorstep', 'Underwood', 'tossing', 'freeway', 'Trademark', 'agile', 'Plato', 'oddly', 'invade', 'disturbance', 'hardy', 'Bridget', 'Scream', 'sibling', 'murderer', 'Farrell', 'Katz', 'fret', 'B.S.', 'Baja', 'experimentation', 'courageous', 'face-to-face', 'clinically', 'plight', 'backstage', 'aspire', 'drains', 'twisting', 'systematically', 'painfully', 'nightmares', 'flowering', 'heartfelt', 'progresses', 'Aviv', 'Lynne', 'flattering', 'gripping', 'candid', 'inventive', 'stew', 'fury', 'jams', 'cherished', 'buggy', 'courtroom', 'escapes', 'curls', 'swallowing', 'floats', 'wandered', 'inflated', 'childish', 'Turks', 'notwithstanding', 'Irwin', 'asphalt', 'splits', 'blossom', 'refreshed', 'blatant', 'arrogance', 'Minnie', 'vine', 'actresses', 'anthology', 'Malone', 'peninsula', 'Amish', 'willingly', 'informs', 'profoundly', 'avoids', 'casually', 'Schultz', 'negatives', 'placeholder', 'three-dimensional', 'applaud', 'leveling', 'tongues', 'lends', 'sunk', 'doubtful', 'embark', 'Travels', 'hoops', 'stamina', 'captivating', 'Jacqueline', 'misunderstanding', 'consciously', 'Tomatoes', 'indefinitely', 'plainly', 'humiliation', 'aura', 'procedural', 'sheds', 'quartet', 'paranormal', 'accuse', 'nightclub', 'wastes', 'nicest', 'nostalgic', 'portrayal', 'vaguely', 'streamlined', 'admittedly', 'insignificant', 'sacrificed', 'theatres', 'stitched', 'eccentric', 'Eddy', 'offend', 'non-stop', 'sarcasm', 'assures', 'Resurrection', 'Kramer', 'explosions', 'lavish', 'unanswered', 'lunar', 'reliably', 'satire', 'noteworthy', 'quests', 'Wilde', 'slapped', 'watercolor', 'Browning', 'Dirk', 'digs', 'insecure', 'punching', \"ol'\", 'speculative', 'acknowledging', 'Forced', 'Freddy', 'opaque', 'Crossroads', 'simulate', 'vanished', 'scares', 'Vega', 'blockbuster', 'quota', 'Combining', 'incompetent', 'societal', 'stylist', 'sinister', 'regimes', 'shaken', 'salute', 'clears', 'dotted', 'Juni', 'respecting', 'exposes', 'S.C.', 'foreground', 'schizophrenia', 'mar', 'roadside', 'undercover', 'Larson', 'lad', 'reinforcement', 'valentine', 'extremes', 'immortal', 'imitation', 'pathology', 'trimming', 'adulthood', 'avenues', 'rhyme', 'vectors', 'ole', 'exploits', 'Clown', 'congratulate', 'Fundamentals', 'residences', 'spawn', 'enlightenment', 'awakening', 'Spectacular', 'Toro', 'nurturing', 'desperation', 'sleeper', 'Hamlet', 'exceedingly', 'uplifting', 'irresistible', 'interpersonal', 'catastrophe', 'heightened', 'implicit', 'sensational', 'ache', 'Thriller', 'novelist', 'Letterman', 'teamwork', 'overwhelmingly', 'beasts', 'logically', 'whopping', 'meltdown', 'uncertainties', 'librarian', 'leftovers', 'enchanting', 'archival', 'Vin', 'conveyor', 'FILM', 'comparatively', 'pronounce', 'thinkers', 'openness', 'savage', 'familiarity', 'sociology', 'simplistic', 'decidedly', 'wrench', '9-11', 'Conversations', 'sterile', 'miscellaneous', 'know-how', 'tightening', 'rooting', 'overlapping', 'mourning', 'Tang', 'renders', 'bothers', 'resemblance', 'Leone', 'lurking', 'dreadful', 'Driven', 'empowerment', 'Beard', 'achieves', 'serene', 'brink', 'plum', 'clones', 'insults', 'contradiction', 'dearly', 'praises', 'Strikes', 'concession', 'subconscious', 'walker', 'seriousness', 'Woo', 'TNT', 'elbows', 'one-of-a-kind', 'Shepard', 'plagued', 'Nicholson', 'bursting', 'strained', 'stab', 'Hewitt', 'dwarf', 'Sa', 'devoid', 'misguided', 'painters', 'diplomacy', 'Springsteen', 'innate', 'etched', 'documentaries', 'seventeen', 'goodwill', 'narratives', 'distractions', 'sweaty', 'rom', 'leukemia', 'Sliding', 'Wash.', 'ailments', 'Principle', 'ambiguous', 'betrayed', 'sarcastic', 'Bernstein', 'inhabited', 'Tori', 'newcomers', 'airborne', 'succeeds', 'depict', 'sank', 'Bees', 'visualize', 'selves', 'evangelical', 'Rubin', 'cello', 'agony', 'goofy', 'discerning', 'Delight', 'inclination', 'knowingly', 'capitalize', 'blasts', 'profiling', 'downtime', 'inexperienced', 'everlasting', 'Wally', 'Sabrina', 'disgrace', 'anonymity', 'corpse', 'mating', 'villains', 'hormonal', 'suitcase', 'handicapped', 'probes', 'Tolkien', 'distracting', 'immersed', 'adherence', 'redeemed', 'richness', 'Pauline', 'visionary', 'antics', 'abruptly', 'monumental', 'revelations', 'uphill', 'Sting', 'lyrical', 'originality', 'graves', 'earthly', 'Hurley', 'defeats', 'impeccable', 'Eastwood', 'compromising', 'showdown', 'Rye', '1873', 'kidnapping', 'queens', 'fluent', 'banged', 'spotting', 'impatient', 'woodland', 'brow', 'Hip-Hop', 'platter', 'boredom', 'tack', 'cheered', 'Mention', 'midway', 'magically', 'adorned', 'asparagus', 'hiatus', 'LL', 'clad', 'extraordinarily', 'shortcomings', 'varsity', 'Dong', 'startling', 'Abrams', 'whimsical', 'greasy', 'Bourne', '10-year', 'imagining', 'tenor', 'viability', 'humane', 'deterioration', 'prompting', 'Terrible', 'Hitchcock', 'close-up', 'Grease', 'guarded', 'puff', 'believable', 'Pokémon', 'heed', 'nifty', 'Pluto', 'adjective', 'philosophers', 'poignant', 'seeming', 'screenings', 'claws', 'battered', 'Ledger', 'hailed', 'surpassed', 'pacing', 'Chin', 'Lagoon', 'mellow', 'Thief', 'Dummies', 'Malik', 'blueprint', 'lite', 'gritty', 'attributable', 'Creates', 'descend', 'stale', 'mute', 'Exciting', 'Graffiti', 'fore', 'Troll', 'mandates', 'spirited', 'gothic', 'inject', 'reacting', 'Surprisingly', 'shaky', 'sweetest', 'Caucasian', 'blurred', 'preserves', 'garnered', 'Gentlemen', 'bursts', 'Javier', 'Peaks', 'plump', 'resembling', 'instruct', 'loneliness', 'diversion', 'drowned', 'blasting', 'exhaustion', 'AWAY', 'seductive', 'anchored', 'milestones', 'civilized', 'Glover', 'vengeance', 'prominence', 'workings', 'Detox', 'prominently', 'Desmond', 'Marquis', 'cling', 'Regis', 'Scandinavian', 'thunderstorms', 'edged', 'bilingual', 'televised', 'tame', 'pedigree', 'fiddle', 'airs', 'brutally', 'shedding', 'Hu', 'psychiatrist', 'Trades', 'needless', 'bolster', 'millennium', 'psyche', 'awfully', 'saturation', 'tentative', 'contenders', 'adapting', 'lent', 'slump', 'infinitely', 'intolerance', 'Wrath', 'condensed', 'vigorously', 'bustling', 'Sensitive', 'Swinging', 'dishonest', 'swung', 'Confessions', 'admirable', 'standout', 'revived', 'diner', 'Lit', 'infused', 'warp', 'cafeteria', 'Skinner', 'suicidal', 'budding', 'boosted', 'ruthless', 'fast-paced', 'Werner', 'Beckett', 'bleak', 'Nicky', 'Theological', 'ops', 'characterize', 'acidic', 'futuristic', 'Lacey', 'crotch', 'Abel', 'Smaller', 'Argentine', 'Austen', 'Ritchie', 'plotting', 'Beautifully', 'knocks', 'Quentin', 'fashions', 'debuts', 'Judging', 'Wraps', 'stiffness', 'Freud', 'hue', 'heavy-duty', 'Ally', 'unconditional', 'obnoxious', 'Abbas', 'Performances', 'adrenaline', 'inadvertently', 'whipping', 'moan', 'fuller', 'Swamp', 'wrists', 'disbelief', 'ascertain', 'rusty', 'Rockwell', 'freaks', 'feminism', 'geeks', 'Erika', 'survives', 'Reveals', 'tempered', 'Moonlight', 'zest', 'Likely', 'relish', 'freshness', 'intermittent', 'ironically', 'lovingly', 'imaginable', 'ticks', 'leaps', 'influx', 'puzzled', 'proclaim', 'incarnation', 'backlash', 'charismatic', 'unconventional', 'footing', 'stature', 'conceal', 'Olivier', 'quieter', 'interchangeable', 'retrospective', 'disgust', 'Americana', 'imperfect', 'two-way', 'requisite', 'exhausting', 'betrayal', 'wholesome', 'intrusion', 'Titus', 'wrestler', 'Sewer', 'endlessly', 'Shapiro', 'plateau', \"C'mon\", 'facet', 'violently', 'gymnastics', 'airy', 'disturb', 'classify', 'computerized', 'fishes', 'numb', 'unleashed', 'darkest', 'boils', 'brand-new', 'stills', '451', 'Romero', 'manipulating', 'Pearce', 'facade', 'rethink', 'two-day', 'coffin', 'Kissing', 'powerhouse', 'stalking', 'hostess', 'Mummy', 'articulated', 'envisioned', 'outings', 'Ver', 'sentimental', 'would-be', 'blazing', 'urgently', 'elevate', 'Reilly', 'penetrating', 'Shining', 'lighted', 'confidently', 'smashing', 'extremists', 'echoes', 'collegiate', 'parallels', 'taboo', 'chills', 'Frankenstein', 'underrated', 'sluggish', 'top-notch', 'Spiderman', 'bends', 'Extraordinary', 'coma', 'whine', 'enormously', 'Kaufman', 'discern', 'porous', 'acclaim', 'spree', 'unnamed', 'creatively', 'interrogation', 'illicit', 'Ka', 'miraculous', 'Garth', 'Dumb', 'montage', 'eagles', 'bidder', 'Rudd', 'WWF', 'Waltz', 'drown', 'worldly', 'truthful', 'contradictory', 'Schwarzenegger', 'minimalist', 'poking', 'victorious', 'unbelievably', 'grit', 'ballroom', 'pervasive', 'intrigue', 'scum', 'settles', 'wacky', 'trajectory', 'composing', 'excessively', 'savory', 'pitfalls', 'thirsty', 'Pal', 'stimulates', 'bastards', 'locale', 'ensuing', 'chiefly', 'claw', 'richly', 'uniqueness', 'snapping', 'castles', 'Favor', 'symbolism', 'Massacre', 'edgy', 'contagious', 'culprit', 'screwing', 'fruitful', 'prank', 'eye-catching', 'stuffs', 'depiction', 'embraces', 'scented', 'tidal', 'stereotype', 'Pixar', 'Eisenhower', 'goggles', 'Aniston', 'deem', 'grinder', 'predator', 'idiotic', 'newcomer', 'emphasizing', 'pastel', 'treasured', 'magician', 'tiring', 'fleeing', 'fu', 'Ferris', 'decoder', 'cleavage', 'sprouts', 'procession', 'Dani', 'begs', 'Mueller', 'flashy', 'iced', 'strides', 'blowout', 'clashes', 'motivations', 'unnoticed', 'trolls', 'Haynes', 'SNL', 'slain', 'pleasurable', 'rake', 'underestimate', 'anchors', 'Brits', 'affirm', 'ugh', 'Jarvis', 'Zipper', 'outraged', 'Mild', 'duel', 'Novak', 'chanting', 'shovel', 'correctness', 'attackers', 'increments', 'predecessors', 'Kirsten', 'criticizing', 'stink', 'anthropology', 'ecstasy', 'revolt', 'persuasive', 'intimidated', 'veneer', 'tis', 'lofty', 'painless', 'allegiance', 'gasp', 'harmed', 'Bouquet', 'Spielberg', 'cloak', 'Ghetto', 'sparse', 'misdemeanor', 'mindless', 'creeping', 'devastation', 'redundancy', 'labelled', 'endings', 'amaze', 'Gong', 'careless', 'shootings', 'endeavour', 'enticing', 'chuckle', 'provoke', 'masked', 'dramas', 'sap', 'unnatural', 'taxing', 'disgusted', 'dominates', 'dives', 'agendas', 'resentment', 'opting', 'thinly', 'curling', 'deceptive', 'cracker', 'insanely', 'Rises', 'Showtime', 'famine', 'puppets', 'Tunes', 'cameo', 'Zeus', 'ordeal', 'depleted', 'acidity', 'Easier', 'Eh', 'Entertaining', 'doctorate', 'austerity', 'Sum', 'dared', 'rhythmic', 'dreamy', 'semen', 'creed', 'smear', 'Beau', 'contrasts', 'noses', 'commonplace', 'tasteful', 'hateful', 'shear', 'horrors', 'soar', 'Fahrenheit', 'muster', 'obligatory', 'punctuation', 'kin', 'extracting', 'foo', 'Hartley', 'symmetry', 'realistically', 'crafty', 'aching', 'acquires', 'first-class', 'reefs', 'kudos', 'itch', 'Hare', 'Raphael', 'scarcely', 'ingenious', 'parrot', 'peaked', 'outage', 'dizzy', 'scandals', 'drumming', 'perfected', 'indifferent', 'augmentation', 'auditorium', 'heaps', 'binds', 'Elmo', 'pedestal', 'sprung', 'downfall', 'blondes', 'unfolding', 'gathers', 'Automatically', 'chatter', 'mistakenly', 'Spinning', 'provoking', 'affluent', 'Snacks', 'wiser', 'positives', 'fad', 'Velocity', 'hovering', 'giggle', 'onstage', 'Kidd', 'esteemed', 'unveil', 'intellectually', 'luscious', 'moods', 'fused', 'boasting', 'limp', 'blurry', 'ticking', 'Garry', 'Wilder', 'Expanded', 'physique', 'crawled', 'laden', 'leisurely', 'bitten', 'runner-up', 'shred', 'spawned', 'prowess', 'frantic', 'chronicles', 'smoky', 'Roach', 'Violent', 'illuminate', 'glaring', 'snapshots', 'verbally', 'disguised', 'complexities', 'dictates', 'sitcom', 'arithmetic', 'Smokey', 'Daphne', 'restrained', 'dissolution', 'biographical', 'artworks', 'derives', 'individuality', 'lobbyists', 'autistic', 'interfering', 'melts', 'futile', 'fraternity', 'youngster', 'shouts', 'earthy', 'happiest', 'adept', 'fades', \"'80s\", 'unlucky', 'Barrow', 'Clooney', 'Judd', 'sprinkled', 'tackled', 'retreats', 'P.C.', 'wills', 'latent', 'improperly', 'communicates', 'atrocities', 'gutter', 'omission', 'prostitute', 'vile', 'Technically', 'devise', 'Fist', 'narration', 'vomit', 'towering', 'bangs', 'remembrance', 'Thatcher', 'shameful', 'diaries', 'webcast', 'luminous', 'dangerously', 'time-consuming', 'noticeably', 'choking', 'steaming', 'last-minute', 'flavorful', 'raft', 'freeing', 'scrape', 'dysfunctional', 'disparate', 'weakest', 'chore', 'Gilmore', 'Finch', 'tightened', 'Killers', 'Byzantine', 'riff', 'appreciates', 'Demons', 'spooky', 'soothe', 'beacon', 'Corbett', 'stand-up', 'appetizer', 'penned', 'orthodox', 'enlightening', 'distilled', 'referencing', 'muted', 'lovable', 'lighten', 'hysterical', 'paws', 'meticulous', 'Kicks', 'Norma', 'elliptical', 'misplaced', 'obsessive', 'rappers', 'Sen', 'grounding', 'couture', 'Chung', 'tangled', 'Godfather', 'Bullock', 'elegantly', 'passionately', 'stunts', 'moaning', 'fullness', 'Yorkers', 'roaring', 'psychedelic', 'riffs', 'frustrations', 'outsiders', 'iteration', 'uneasy', 'Remains', 'synchronized', 'occurrences', 'Swanson', 'choreography', 'divides', 'extremist', 'Housekeeping', 'hideous', 'stump', 'insecurity', 'Bale', 'stabbing', 'dismal', 'calculus', 'accomplishing', 'clowns', 'middle-class', 'extravagant', 'Pulp', 'bedside', 'drawbacks', 'Palma', 'reassuring', 'revered', 'augmented', 'fluff', 'nuances', 'sincerity', 'retaliation', 'Beanie', 'abrasive', 'perseverance', 'blanks', 'consolation', 'confronting', 'Sweetheart', 'Beatrice', 'joyous', 'aroused', 'stalk', 'exhilarating', 'heartbreaking', 'skateboard', 'runaway', 'appalling', 'impacting', 'McKay', 'Collision', 'blackout', 'affectionate', 'suitably', 'mayhem', 'angst', 'Fidelity', 'jumbo', 'bloated', 'Yi', 'undeniable', 'wildest', 'dormant', 'rambling', 'Achilles', 'manifestations', 'Alarms', 'cohesive', 'serenity', 'shrug', 'diver', 'wearer', 'panorama', 'noir', 'understated', 'Beneath', 'uncut', 'fearless', 'conformity', 'motifs', 'buildup', 'Steamboat', 'Unexpected', 'spies', 'middle-aged', 'evoke', 'annoyance', 'exploiting', 'sprawling', 'comedians', 'Ambrose', 'perch', 'delve', 'assassin', 'glitches', 'portrays', 'tainted', 'Poets', 'pact', 'jeopardy', 'shootout', 'encompassing', 'grieving', 'lore', 'hyper', 'satisfies', 'tug', 'orphans', 'linger', 'Westbrook', 'fart', 'bestowed', 'ROSE', 'negativity', 'galore', 'Hallmark', 'nighttime', 'Clancy', 'constructs', 'diminishing', 'Chalk', 'brutality', 'viewpoints', 'parsing', 'Melrose', 'cross-country', 'motherhood', 'warmly', 'grenade', 'turbulent', 'adaptations', 'muse', 'illusions', 'garnish', 'insiders', 'Cho', 'swirl', 'overboard', 'Hilarious', 'Prelude', 'Routine', 'pawn', 'motorized', 'surfer', 'unsuspecting', 'flowed', 'concentrates', 'Mojo', 'poo', 'Alain', 'Enchanted', 'adversity', 'freaky', 'Amir', 'diva', 'septic', 'hinted', 'solemn', 'clothed', 'apex', 'dips', 'gloomy', 'playwright', 'fumes', 'pondering', 'delinquent', 'confines', 'swirling', 'chemically', 'observes', 'glide', 'boldly', 'crystalline', 'appreciative', 'behaving', 'borderline', 'illuminating', 'adultery', 'Began', 'comedic', 'unintended', 'Signals', 'nationalism', 'behind-the-scenes', 'meticulously', 'vat', 'Ran', 'Leroy', 'prognosis', 'distinguishing', 'noodle', 'Bubba', 'on-screen', 'monstrous', 'repression', 'horrified', 'Joaquin', 'Literally', 'assaults', 'smartest', 'Harmon', 'peroxide', 'sharper', 'tenderness', 'timeframe', 'substitutes', 'ambiguity', 'adolescence', 'abrupt', 'absorbs', 'snail', 'Elmer', 'PTA', 'inhabit', 'Ja', 'gore', 'oblivious', 'Frequent', 'continuum', 'flops', 'flushed', 'soulful', 'Tuck', 'McDowell', 'voyeur', 'revoked', 'modern-day', 'shading', 'subtly', 'flicks', 'artifact', 'uniformly', 'unfolds', 'Thirteen', 'knockout', 'alluring', 'PG-13', 'sinner', 'whistles', 'deli', 'energized', 'Lux', 'fearing', 'specificity', 'cumbersome', 'contentious', 'EYE', 'prehistoric', 'unbearable', 'Bard', 'understatement', 'impart', 'unfairly', 'paranoia', 'Lizard', 'melancholy', 'wan', 'Gently', 'Generations', 'Nadia', 'Boyz', 'orphan', 'eerie', 'mergers', 'Schumacher', 'peril', 'Margarita', 'filmmaking', 'Perfectly', 'peep', 'bruised', 'kinetic', 'biscuit', 'Kahn', 'gloom', 'Lolita', 'matured', 'astronauts', 'Clever', 'enact', 'Successfully', 'throbbing', 'parting', 'conveying', 'Doo', 'expertly', 'phony', 'comedies', 'diverted', 'recovers', 'submerged', 'shabby', 'gracefully', 'Tells', 'watery', 'proverbial', 'clumsy', 'all-around', 'Bubbles', 'gangster', 'horizons', 'yarns', 'wrestle', 'commend', 'whispers', 'Afraid', 'ramifications', 'pinnacle', 'slogans', 'signify', 'Seeks', 'anguish', 'fortified', 'bon', 'self-contained', 'hallmark', 'payoff', 'triangles', 'punishing', 'skates', 'side-by-side', 'pesky', 'liberated', 'weeping', \"'70s\", 'Sensation', 'hindsight', 'distinctions', 'fascist', 'fanatic', 'sexist', 'Hubert', 'contours', 'equate', 'swipe', 'indifference', 'purge', 'Raja', 'mattered', 'Chasing', 'GUYS', 'potency', 'oppressive', 'garner', 'prophetic', 'fleeting', 'thematic', 'exposition', 'restroom', 'catalytic', 'Barlow', 'ordinances', 'synagogue', 'Astoria', 'stoked', 'Promises', 'startled', 'provoked', 'someplace', 'all-inclusive', 'aptly', 'smuggling', 'Taiwanese', 'Hardly', 'sixties', 'zeal', 'captions', 'bubbly', 'summertime', 'reverence', 'hunk', 'weep', 'Neighbor', 'Boring', 'McLaughlin', 'off-season', 'outweigh', 'musicals', 'bordering', 'populace', 'respite', 'rhetorical', 'McGrath', 'Strictly', 'vividly', 'spitting', 'insistence', 'Halle', 'agreeable', 'Horrible', 'Psycho', 'bluff', 'funnier', 'iceberg', 'blatantly', 'collapses', 'camouflage', 'balm', 'spout', 'comin', 'cleverly', 'traverse', 'Mira', 'steamy', 'vulgar', 'abiding', 'muy', 'air-conditioning', 'to-do', 'brittle', 'recalling', 'guise', 'vibes', 'nagging', 'ninety', 'swimmer', 'puberty', 'sampler', 'bravery', 'upsetting', 'parlor', 'sneaky', 'cliche', 'worldview', 'elves', 'Catcher', 'Reign', 'relegated', 'elemental', 'profanity', 'deepen', 'Consequences', 'Intended', 'Ranges', 'laughable', 'undead', 'superbly', 'rips', 'knack', 'watered', 'workable', 'abbreviated', 'much-needed', 'spectator', 'ludicrous', 'congenital', 'accompanies', 'excite', 'hypocritical', 'build-up', 'overflowing', 'fiercely', 'teaming', 'Russo', 'half-hour', 'hurried', 'Kappa', 'delusional', 'bile', 'hymn', 'intimately', 'Brody', 'braided', 'adopts', 'Barrie', 'crippled', 'scripted', 'all-star', 'supple', 'laced', 'Barely', 'Kurdish', 'intellectuals', 'approximation', 'brisk', 'trembling', 'Requiem', 'juggling', 'Expands', 'Foreman', 'Becomes', 'ridicule', 'fragmented', 'hippie', 'jockey', 'menace', 'jargon', 'Baird', 'immaculate', 'drizzle', 'conveys', 'Communism', 'debilitating', 'right-hand', 'Everytime', 'guardians', 'smelly', 'impulses', 'contradictions', 'fillers', 'tweaked', 'gimmick', 'punitive', 'devotees', 'aspiration', 'retrospect', 'rockers', 'fists', 'fanatics', 'crammed', 'gurus', 'Replacing', 'jerking', 'Leagues', 'anomaly', 'affords', 'marvellous', 'sizzling', 'cunning', 'Scorpion', 'ante', 'hangover', 'anti-virus', 'Regan', 'rigged', 'culmination', 'ingenuity', 'Sling', 'subordinate', 'sham', 'evergreen', 'cascade', 'mischief', 'presumption', 'sumptuous', 'Siegel', 'bittersweet', 'glee', 'bigotry', 'Revisited', 'strung', 'G.I.', 'stoned', 'embodies', 'chronicle', 'misfortune', 'unaffected', 'Faithful', 'Ridley', 'Saigon', 'dismay', 'summons', 'sexes', 'charisma', 'improvised', 'cringe', 'monarch', 'tacky', 'rapport', 'anew', 'wartime', 'hypnotic', 'arresting', 'Quotations', 'Notwithstanding', 'astronaut', 'demeanor', 'unloading', 'strut', 'paralyzed', 'Josef', 'enthusiastically', 'long-range', 'recital', 'ominous', 'perpetrators', 'installments', 'masterpieces', 'dissatisfied', 'resonate', 'caste', 'retina', 'minimally', 'glorified', 'sandal', 'predicament', 'Koreans', \"'90s\", 'embellished', 'yearning', 'intelligently', 'serpent', 'moody', 'tides', 'adored', 'uncanny', 'gaping', 'skewed', 'crock', 'folly', 'invaders', 'Motown', 'grossly', 'mystic', 'spoof', 'sorely', 'negligible', 'metaphysical', 'portraying', 'grader', 'babysitter', 'graveyard', 'decadent', 'alarmed', 'Hanks', 'railing', 'diplomat', 'Amid', 'Armageddon', 'libido', 'narrated', 'Delivers', 'nonfiction', 'Pageant', 'self-help', 'Mastering', 'doggie', 'rebirth', 'eloquent', 'artistry', 'friggin', 'incandescent', 'rarity', 'metaphors', 'whirlwind', 'Fears', 'McCann', 'endemic', 'unresolved', 'Pryor', 'markedly', 'Heller', 'sabotage', 'Shocking', 'IMAX', 'narcotics', 'ethos', 'Burr', 'pours', 'psychotic', 'bloodstream', 'inflict', 'unstoppable', 'Possession', 'murderous', 'eternally', 'decency', 'boomers', 'Nicely', 'wannabe', 'autopsy', 'hazy', 'footnote', 'ripper', 'Axel', 'comical', 'afloat', 'nutty', 'affirmation', 'schoolgirl', 'creme', 'disdain', 'innumerable', 'dogma', 'insulted', 'Changer', 'rebellious', 'Shrek', 'persecuted', 'overwhelm', 'grandeur', 'Excessive', 'Mohawk', 'probing', 'Kimmel', 'grasping', 'Metropolis', 'lumps', 'propelled', 'Recalls', 'drooling', 'apocalypse', 'dispense', 'Rosario', 'trump', 'junkie', 'flattened', 'craftsmen', 'black-and-white', 'prod', 'Hannibal', 'amazement', 'Blockbuster', 'Seinfeld', 'Hatfield', 'patched', 'gazing', 'Ramsay', 'streamed', 'Decent', 'squarely', 'pretended', 'banter', 'Socrates', 'old-school', 'Exxon', 'skateboarding', 'powerfully', 'Strangers', 'swan', 'unquestionably', 'musings', 'condensation', 'Throwing', 'companionship', 'admiring', 'collaborators', 'widen', 'warped', 'tonal', 'stinks', 'conspicuous', 'Alexandre', 'reigns', 'ron', 'burgeoning', 'meaty', 'Parisian', 'evokes', 'improvisation', 'goo', 'transports', 'erratic', 'moratorium', 'resists', 'usher', 'slapping', 'thrills', 'horrifying', 'bumping', 'hinged', 'Aladdin', 'Sleeper', 'remorse', 'D.J.', 'intrusive', 'shimmering', 'skillful', 'whence', 'nationalist', 'Sensual', 'impetus', 'Ritter', 'Lan', 'Slick', 'embody', 'thought-provoking', 'oblivion', 'bouts', 'nonstop', 'Savvy', 'miserably', 'evolves', 'horrid', 'avalanche', 'insensitive', 'gruesome', 'Oddly', 'Siberian', 'Damned', 'wade', 'calibrated', 'humming', 'barrage', 'unsurpassed', 'sensibility', 'Curves', 'Enron', 'conceivable', 'recount', 'rapids', 'flashback', 'delectable', 'journalistic', '1790', 'Grief', 'majesty', 'tabloid', 'fruition', 'buffs', 'ahem', 'venerable', 'Viewers', 'slug', 'senseless', 'bounces', 'Waldo', 'Effectively', 'distinguishes', 'pleas', 'payback', 'Asphalt', 'year-end', \"'til\", 'heaviest', \"'60s\", 'tapestry', 'sugary', 'cheeky', 'numbness', 'testimonial', 'loom', 'recite', 'jolly', 'strenuous', 'Vampires', 'favorably', 'appropriated', 'sheen', 'evocative', 'indulgence', 'explodes', 'Goo', 'Crocodile', 'triumphant', 'perverted', 'masterful', 'Rowling', 'kung', 'Bray', 'suggestive', 'Jacobson', 'Orwell', 'splendor', 'Carrera', 'André', 'ape', 'setups', 'undeniably', 'objectionable', 'Macbeth', 'marginally', 'tequila', 'collide', 'overt', 'wondrous', 'frontman', 'undone', 'marquee', 'esoteric', 'Siege', 'Kang', 'siren', 'gels', 'Pax', 'best-known', 'ignite', 'reassure', 'Mana', 'facilitator', 'Texan', 'underdog', 'Godfrey', 'appalled', 'Andrei', 'manifesto', 'prejudices', 'liberalism', 'VH1', 'terrier', 'Melville', 'Godzilla', 'Hogwarts', 'underestimated', 'Versace', 'feral', 'hand-held', 'aptitude', 'ardent', 'sequels', 'apartheid', 'pore', 'well-established', 'cursing', 'waffle', 'savor', 'degraded', 'severed', 'commended', 'Ranks', 'penchant', 'contemplation', 'stormy', 'bouncy', 'revolve', 'Rainy', 'Liza', 'Griffiths', 'rotting', 'plotted', 'tragedies', 'Ikea', 'arctic', 'relentlessly', 'Veggie', 'Sparkling', 'Isabelle', 'raving', 'clutches', 'forgets', 'family-friendly', 'Akira', 'flatter', 'Longest', 'conclusive', 'brim', 'preferring', 'humankind', 'ducts', 'gravitational', 'unexplained', 'Puts', 'evaporation', 'literate', 'Cleopatra', 'greased', 'seduce', 'anatomical', 'envious', 'pleases', 'psychologically', 'embarking', 'relays', 'detriment', 'pretentious', 'on-board', 'lucid', 'pathological', 'Mule', 'hyped', 'Tarantino', 'bona', 'tracts', 'sandbox', 'Granger', 'compulsive', 'unbalanced', 'alternately', 'prima', 'detachment', 'purported', 'Highlander', 'Maguire', 'Snowman', 'aesthetically', 'wide-ranging', 'ut', 'genesis', 'timid', 'Yanks', 'suckers', 'Cortez', 'visceral', 'laziness', 'Nickelodeon', 'uncles', 'shameless', 'baffled', 'contemporaries', 'emptiness', 'fondly', 'parable', 'Wen', 'Radcliffe', 'ex-wife', 'puzzling', 'Kingsley', 'orchestrated', 'fandom', 'Mattel', 'Jeanette', 'Beating', 'well-written', 'adjectives', 'Exhibits', 'lowly', 'underworld', 'captivated', 'sporadic', 'Berkley', 'Shorty', 'conversational', 'Alias', 'manic', 'feeble', 'expiry', 'samurai', 'Molina', 'Nervous', 'deteriorating', 'endearing', 'hysteria', 'solidly', 'quintessential', 'ancillary', 'Benoit', 'bumpy', 'niches', 'cross-section', 'eighties', 'convict', 'Nikita', 'Whitaker', 'streaks', 'clams', 'Terrific', 'densely', 'butler', 'Mika', 'Intimate', 'mined', 'ruminations', 'avant-garde', 'unprepared', 'abyss', 'sassy', 'Handsome', 'winged', 'creeps', 'uncontrolled', 'demonic', 'Adaptation', 'two-hour', 'African-Americans', 'Sleek', 'never-ending', 'unthinkable', 'decomposition', 'gamut', 'Orgasm', 'uncomplicated', 'precinct', 'Derry', 'rattling', 'Rosenthal', 'Fails', 'undermined', 'Napoli', 'Aidan', 'logistical', 'gratifying', 'intertwined', 'pegs', 'coherence', 'Analyze', 'weaponry', 'over-the-top', 'abundantly', 'eviction', 'ploy', 'screenwriter', '30-year', 'filth', 'Jagger', 'Passionate', 'BV', 'Justine', 'exaggeration', 'smug', 'adhering', 'degrading', 'troupe', 'induces', 'cranky', 'bruising', 'Throws', 'unsettling', 'ROCKS', 'resonant', 'humiliated', 'stereotypical', 'deceit', 'graced', 'murky', 'giddy', 'shudder', 'flimsy', 'Sly', 'glimpses', 'instinctively', 'holocaust', 'trims', 'hampered', 'Cedric', 'fide', 'weathered', 'two-dimensional', 'perverse', 'Buff', 'goth', 'freebie', 'Chaplin', 'ethereal', 'Howie', 'solace', 'Beers', 'upsets', 'anarchy', 'spiced', 'grinning', 'aversion', 'armchair', 'ballast', 'hastily', 'applauded', 'seduction', 'fathom', 'primal', 'lax', 'riveting', 'betray', 'late-night', 'Amazingly', 'Prozac', 'intermediary', 'eyelids', 'campfire', 'modesty', 'conscientious', 'inspirations', 'milking', 'anti-war', 'pauses', 'Boomers', 'werewolf', 'forceful', 'rein', 'Tuxedo', 'pessimistic', 'Electra', 'Lanes', 'Hush', 'improbable', 'Borg', 'Spade', 'weaves', 'wretched', 'one-sided', 'Masterpiece', 'hostages', 'luster', 'Craven', 'discouraging', 'governs', 'symmetrical', 'hooker', 'giggles', 'chewy', 'Octopus', 'Aggressive', 'Weinstein', 'Weighted', 'stricken', 'untold', 'evade', 'perpetrated', 'ransom', 'fatally', 'spiked', 'inert', 'nobility', 'treacherous', 'drags', 'disobedience', 'lightest', 'grating', 'Firth', 'dreary', 'nerdy', 'vistas', 'longs', 'genitals', 'Deeds', 'Affleck', 'defiance', 'intolerant', 'Dungeons', 'Accidental', 'encountering', 'Fabian', 'avert', 'Slight', 'co-star', 'prettiest', 'Criterion', 'fuses', 'unintentionally', 'Chai', 'categorize', 'undermining', 'Hanukkah', 'turntable', 'Sandler', 'Prejudice', 'hopelessly', 'lifeless', 'virtuous', 'Valium', 'drenched', 'POW', 'intimidate', 'Rarely', 'afterlife', 'Hepburn', 'matchmaking', 'contrived', 'arduous', 'Creepy', 'canning', 'resent', 'thoughtfully', 'Sven', 'exalted', 'geeky', 'skeptics', 'steeped', 'Salle', 'tempt', 'Clements', 'farce', 'recyclable', 'delicately', 'existential', 'repellent', 'boardwalk', 'rife', 'sultry', 'astray', 'fueling', 'hallways', 'charting', 'inconsistencies', 'Marisa', 'adamant', 'Kangaroo', 'prism', 'manhood', 'propensity', 'opium', 'delightfully', 'Lear', 'enigmatic', 'carnage', 'symbolizes', 'Confusion', 'pious', 'belated', 'breezy', 'Submarine', 'industrialized', 'locales', 'unchecked', 'deliciously', 'Alfonso', 'steadfast', 'leaping', 'Attempts', 'distressing', 'aboriginal', 'Smarter', 'seduced', 'veritable', 'espionage', 'overshadowed', 'inertia', 'expulsion', 'fishy', 'sensibilities', 'Bette', 'sexism', 'stylized', 'justifies', 'nourishing', 'maneuvers', 'drinker', 'puddle', 'paraphrase', 'underlined', 'lured', 'familial', 'skeletons', 'staggered', 'apprehension', 'Tron', 'discloses', 'Undercover', 'overtake', 'storylines', 'patchwork', 'watchful', 'fussy', 'grasped', 'obscured', 'sly', 'immersive', 'superman', 'stalker', 'spat', 'participatory', 'unmistakable', 'desolate', 'menacing', 'fictitious', 'extravaganza', 'interplay', 'straining', 'Insomnia', 'Kline', 'immerse', 'slumber', 'world-renowned', 'shoving', 'Familiar', 'herring', 'Kidman', 'Fidel', 'Ayurveda', 'clinch', 'life-changing', 'perpetually', 'adage', 'endorses', 'thrives', 'overrun', 'pitiful', 'pitted', 'fling', 'wilt', 'biologically', 'elicit', 'psycho', 'CELL', 'Characterization', 'aisles', 'unclean', 'complicate', 'distort', 'bracing', 'feces', 'transcend', 'cuddly', '18-year-old', 'Encounters', 'estranged', 'amassed', 'Feathers', 'copious', 'Bertrand', 'microwaves', 'purest', 'GUN', 'pornographic', 'Dodger', 'paces', 'tickle', 'cub', 'palpable', 'Lush', 'littered', 'inept', 'Goliath', 'Jed', 'innovators', 'stately', 'offsets', 'defunct', 'instructive', 'astute', 'Ode', 'gait', 'multi-million', 'doubtless', 'Tarzan', 'protestors', 'grown-up', 'expanse', 'inversion', 'Loaf', 'Sinks', 'Kept', 'benevolent', 'obscurity', 'Bergman', 'Cruel', 'Carmichael', 'Zhao', 'liberating', 'apes', 'interestingly', 'gall', 'substituting', 'Deeper', 'Chong', 'malnutrition', 'Lethal', 'convoluted', 'Jiang', 'Girlfriends', 'operas', 'nurtured', 'cheery', 'fosters', 'Hearst', 'heartbreak', 'arbitrarily', 'resorting', 'absurdity', 'corny', 'cocky', 'unsuccessfully', 'resourceful', 'hammering', 'triumphs', 'rut', 'Dragonfly', 'regal', 'graces', 'cram', 'Mixes', 'Witherspoon', 'oftentimes', 'no-brainer', 'overkill', 'heartache', 'forcefully', 'spasms', 'misty', 'presiding', 'Stallion', 'churning', 'peels', 'confluence', 'onscreen', 'Freaks', 'romp', 'UB', 'blockage', 'Challenging', 'objectivity', 'Somewhat', 'tolerable', 'furiously', 'blemishes', 'haunts', 'redneck', 'lagging', 'lunatic', 'Padre', 'Notorious', 'sketchy', 'hoods', 'ferocious', 'bearded', 'SLA', 'unattractive', 'lackluster', 'spaceship', 'Yoda', 'howling', 'small-scale', 'Happily', 'temptations', 'Steinberg', 'branched', 'irreversible', 'prevails', 'craziness', 'heresy', 'monologue', 'bitterly', 'assertive', 'cowardly', 'discontent', 'struts', 'curiously', 'Stiff', 'manipulative', 'Gallo', 'morbidity', 'Spalding', 'Usual', 'dumplings', '15-year-old', 'fluke', 'illogical', 'stomp', 'despicable', 'appease', 'Carlin', 'Cahill', 'racked', 'in-between', 'baroque', 'clout', '20-year-old', 'Liar', 'lament', 'crazed', 'condone', 'cinematography', 'boasted', 'Waking', 'Guillermo', 'purposeful', 'indulging', 'hogs', 'limbo', 'bummer', 'uncompromising', 'athleticism', 'Greta', 'selfless', 'treatise', 'abusers', 'blinding', 'upholstered', 'loopholes', 'underscores', 'fledgling', 'cohesion', 'protagonists', 'waged', 'storyteller', 'tireless', 'vu', 'eroded', 'chainsaw', 'unintentional', 'stylistic', 'antidote', 'outwardly', 'punishable', 'Comedian', 'Balkans', 'shenanigans', 'miraculously', 'contradicts', 'clocked', 'purposefully', 'UHF', 'nocturnal', 'François', 'Asbury', 'fresher', 'impair', 'horde', 'puke', 'neglecting', 'scant', 'camaraderie', 'Femme', 'secondhand', 'exacting', 'Lau', 'Johnnie', 'inhale', 'momentary', 'Worthy', 'exploratory', 'nuanced', 'flashbacks', 'ragged', 'eyeballs', 'Scooby', 'undisputed', 'first-rate', 'stroked', 'jock', '9.50', 'quirks', 'stinky', 'satirical', 'aborted', 'egregious', 'departs', 'prequel', 'graphically', 'legion', 'mischievous', 'Lai', 'amuse', 'grueling', 'good-looking', 'hammers', 'insatiable', 'potion', 'colonel', 'unimaginable', 'Fairly', 'Janine', 'hippies', 'viewfinder', 'jerky', 'relic', 'mesmerizing', 'crooks', 'namesake', 'choreographed', 'thwart', 'spin-off', 'gangsta', 'Mendes', 'fisher', 'prosthetic', 'fondness', 'Menace', 'Horns', 'fairytale', 'malice', 'tragically', 'timelines', 'Glazed', 'scrubbing', 'precarious', 'snuck', 'cynicism', 'resonates', 'videogame', 'wishful', 'breakdowns', 'intently', 'brine', 'ills', 'personable', 'hoot', 'ravaged', 'meager', 'muck', 'finesse', 'totalitarian', 'nada', 'Rambo', 'Gosling', 'cliché', 'distortions', 'MIB', 'one-hour', 'bong', 'exclamation', 'lukewarm', 'infidelity', 'trumps', 'carousel', 'chases', 'wreckage', 'incomprehensible', 'Sturdy', 'ruffle', 'Ballot', 'dwellers', 'fulfills', 'Storytelling', 'Vicente', 'audacity', 'scooped', 'delicacy', 'troopers', 'warmest', 'Posey', 'trot', 'Stealing', 'Bradbury', 'excels', 'plunging', 'brat', 'marketable', 'Painful', 'justifying', 'footnotes', 'alienated', 'emptying', 'retribution', 'condescending', 'gunfire', 'invincible', 'uproar', 'long-running', 'sleepless', 'dynamite', 'SLC', 'fingernails', 'Kurds', 'unqualified', 'churn', 'Follows', 'well-rounded', 'exquisitely', 'Enigma', 'soggy', 'Julianne', 'rousing', 'inventing', 'videotape', 'Smackdown', 'shadowy', 'jaded', 'stunningly', 'grotesque', 'dares', 'leaky', 'Nicks', 'caricature', 'ilk', 'reconciled', 'Chainsaw', 'breathless', 'laid-back', '14-year-old', 'Merci', 'macho', 'interlocking', 'breathes', 'grandkids', 'post-war', 'carol', 'English-language', 'crux', 'Auschwitz', 'Juliette', 'unread', 'takeoff', 'tiresome', 'atrocious', 'willful', 'Uncertainty', 'DiCaprio', 'modulated', 'dainty', 'gliding', 'detract', '12-year-old', 'fifties', 'Colgate', 'negate', 'open-minded', 'Strangely', 'grub', 'Yiddish', 'throwback', 'breezes', 'Slap', 'woe', 'whit', 'commune', 'depictions', 'closeness', 'inflate', 'exiled', 'heady', 'Schaefer', 'figurative', 'Asks', 'Paltrow', 'Mora', 'nonexistent', 'Starship', 'transcends', 'lauded', 'violinist', 'Sophisticated', 'strikingly', 'stuffy', 'Gangster', 'skillfully', 'J.M.', 'hamburgers', 'rainbows', 'structuring', 'stomping', 'Expecting', 'admirers', 'anecdote', 'thorn', 'delusions', 'Reginald', 'underscore', 'loathe', 'Thurman', 'fraught', 'stardom', 'grainy', 'fateful', 'fright', 'alienation', 'swaying', 'open-ended', 'mediocrity', 'dashing', 'anti-Semitism', 'cashing', 'burdened', 'sickening', 'conjure', 'Orson', 'heinous', 'Ricci', 'redeeming', 'Loyal', 'Loses', 'coldest', 'up-and-coming', 'modestly', 'Awful', 'composure', 'Caine', 'hindered', 'Hawke', 'blob', 'unequivocally', 'heartily', 'voluptuous', 'tumultuous', 'Hayek', 'fable', 'strangest', 'conflicted', 'Huston', 'jackass', '22-year-old', 'Drunken', 'sadistic', 'wading', 'cutout', 'riddle', 'recreated', 'titans', 'morbid', 'Tupac', 'promenade', 'jagged', 'self-control', 'sociological', 'Ackerman', 'high-energy', 'defies', 'Hitchens', 'bourgeois', 'tagline', 'Fairies', 'tangy', 'infrequently', 'must-see', 'Anakin', 'Yong', 'groan', 'unruly', 'glacial', 'truncated', 'comforted', 'ushered', 'Altar', 'juncture', 'tributes', 'anchoring', 'scorn', 'reunions', 'heyday', 'harrowing', 'calibre', 'succumb', 'bloodshed', 'fantastically', 'custom-made', 'reserving', 'rigorously', 'sweetly', 'transplanted', 'protracted', 'choppy', 'excesses', 'crusty', 'veiled', 'anarchist', 'perplexed', 'MPAA', 'disapproval', 'hallucinations', 'instructs', 'dreamer', 'reputations', 'firmer', 'Altman', 'impressively', 'digested', 'Hanley', 'stinging', 'sorority', 'dismantle', 'ENOUGH', 'heartless', 'splashing', 'sparring', 'Halfway', 'Curling', 'playbook', 'fanboy', 'gusto', 'poodle', 'flickering', 'Vinnie', 'faked', 'inseparable', 'Horner', 'Lame', 'rudimentary', 'Paxton', 'uplift', 'Eyre', 'simmering', 'flaky', 'dissection', 'Informative', 'Ghostbusters', 'juggle', 'Scorsese', 'liberally', 'debatable', 'backseat', 'Kmart', 'doubting', 'cartons', 'opposites', 'repressed', 'wrecks', 'populist', 'stylists', 'undermines', 'spades', 'invigorating', 'Chao', 'heroism', 'oo', 'eloquently', 'marathons', 'pep', 'Verne', 'overtly', 'baggy', 'navel', 'channeling', 'authenticate', 'reactionary', 'chronically', 'perils', 'ramblings', 'supremely', 'shattering', 'mid-range', 'consummate', 'truffle', 'randy', 'Hermitage', 'Looney', 'full-blown', 'blight', 'opacity', 'botched', '13-year-old', 'unifying', 'full-fledged', 'randomness', 'convincingly', 'nonsensical', 'seizing', 'goers', 'Cows', 'Spit', 'Remarkable', 'rhino', 'yawn', 'gullible', 'barbed', 'Barrymore', 'Serbs', 'upheaval', 'idealistic', 'Genevieve', 'Christophe', 'renown', 'democracies', 'alchemy', 'countenance', 'Coppola', 'abomination', 'salient', 'Sopranos', 'smartly', 'smirk', 'assassins', 'normative', 'plastered', 'nuance', 'engulfed', 'dispel', 'palatable', 'pretends', 'tickled', 'awkwardly', 'wielding', 'calamity', 'compulsion', 'chimes', 'Pow', 'affectionately', 'affirms', 'sunburn', 'kiosks', 'revitalize', 'bravely', 'glancing', 'Theron', 'unwittingly', 'intoxication', 'hapless', 'reincarnation', 'intrepid', 'defiant', 'entree', 'incessant', 'kindred', 'keel', 'slowest', 'Bigelow', 'scandalous', 'low-key', 'projectile', 'descends', 'centering', 'harnesses', 'Shallow', 'maniac', 'orbits', 'distillation', 'action-packed', 'tinkering', 'indignation', 'busts', 'sleazy', 'explorations', 'sympathize', 'intuitively', 'undeveloped', 'marred', 'predictably', 'sedentary', 'tact', 'celebratory', 'dishonesty', 'extrusion', 'unearthed', 'pegged', 'Fierce', 'ferret', 'Flick', 'inexplicable', 'Segal', 'failings', 'sold-out', 'earnestly', 'ensues', 'revel', 'oversize', 'cad', 'boundless', 'subtlety', 'Toes', 'Nemesis', 'bogged', 'Forster', 'cheerfully', 'arcane', 'Distances', 'magnified', 'Lina', 'Woolf', 'feisty', 'nimble', 'meditative', 'Uma', 'mojo', 'superfluous', 'evoked', 'Jeopardy', 'Parton', 'sprawl', 'euphoria', 'Margot', 'humbling', 'outlandish', 'affirming', 'alleys', 'Herzog', 'extortion', 'homophobia', 'figuratively', 'Tres', 'all-out', 'mimics', 'disappointments', 'equalizer', 'Goldie', 'privy', 'trombone', 'Helms', 'torturing', 'Germanic', 'publicist', 'anxieties', 'parrots', 'stumbles', 'spectacularly', 'Tries', 'angling', 'effecting', 'mushy', 'shoddy', 'affections', 'Archibald', 'impulsive', 'romances', 'sparking', 'extant', 'brooding', 'Barbarian', 'yearn', 'clunky', 'satisfactorily', 'expectant', 'choirs', 'unbroken', 'dissolves', 'replete', 'rapes', 'serials', 'Weil', 'wanton', 'Shu', 'likened', 'ponytail', 'Troopers', 'tasteless', 'likeable', 'princesses', 'robberies', 'tangle', 'gleaned', 'auspicious', 'A.C.', 'skips', 'head-on', 'intoxicating', 'rung', 'torpedo', 'frighten', 'overuse', 'Filmmaker', 'extradition', 'grapple', 'shiver', 'burrito', 'intrinsically', 'well-defined', 'diminishes', 'excruciating', 'Gaye', 'handguns', 'gags', 'punctuated', 'Rea', 'stupidly', 'trashy', 'masala', 'impersonal', 'Ridiculous', 'Broomfield', 'tormented', 'scribe', 'adoration', 'dichotomy', 'riddled', 'Hinton', 'salvaged', 'Awkward', 'exuberant', 'Trapped', 'annex', 'Kieran', 'combatants', 'posse', '19th-century', 'assesses', 'persistently', 'Determined', 'gimmicks', 'unwavering', 'Ignoring', 'doodle', 'blunder', 'hard-earned', 'bristles', 'backstory', 'keenly', 'sieve', 'Hades', 'Redford', 'morph', 'spectacles', 'wildcard', 'cuter', 'die-hard', 'sequins', 'brimming', 'faking', 'eventful', 'Frodo', 'snappy', 'willfully', 'Legally', 'subversive', 'illuminates', 'awry', 'shreds', 'lull', 'bewildered', 'live-action', 'rattled', 'splashed', 'entangled', 'weakly', 'shortness', 'victimized', 'Clue', 'autobiographical', 'Stays', 'ode', 'motocross', 'slipper', 'suspending', 'Fluffy', 'cautions', 'Mehta', 'ascension', 'revisiting', 'likable', 'posterity', 'overgrown', 'pranks', 'intersect', 'forte', 'Gifford', 'Antitrust', 'O.K.', 'gushing', 'agnostic', 'fringes', 'intolerable', 'shockingly', 'commendable', 'Guzman', 'naïve', 'smitten', 'Coolidge', 'working-class', 'crushes', 'expend', 'morphed', 'repetitions', 'Welles', 'Bambi', 'Shatner', 'fetching', 'Tonga', 'brunt', 'Bai', 'EXIT', 'Coburn', 'keg', 'concoction', 'Kev', 'mein', 'Stomp', 'Plummer', 'J.K.', 'Genet', 'tantalizing', 'Cyndi', 'inhuman', 'tenderly', 'dumbest', 'sneeze', 'Pug', 'gifting', 'wreak', 'Suffice', 'Memorable', 'hounds', 'meandering', 'whirl', 'gory', 'notches', 'deviant', 'Confirms', 'dazzle', 'needlessly', 'bickering', 'principled', 'jolt', 'Supposedly', 'aggravating', 'whiny', 'flamboyant', 'gasping', 'sandwiched', 'Jakob', 'self-interest', 'sparkles', 'valiant', 'Helene', 'daft', 'Releasing', 'sanded', 'ballerina', 'Moulin', 'coolness', 'stench', 'observant', 'tribulations', 'gratefully', 'defiantly', 'slaps', 'adapts', 'generational', 'shun', 'gratuitous', 'Smokers', 'frat', 'penetrates', 'heartwarming', 'Stooges', 'acumen', 'rowdy', 'Entertainer', 'lightness', 'provocation', 'high-powered', 'Callie', 'after-school', 'conundrum', 'confuses', 'disservice', 'hallmarks', 'glides', 'seater', 'unwillingness', 'Delia', 'novella', 'idiocy', 'sensuality', 'profane', 'holographic', 'unwise', 'trove', 'Rembrandt', 'incoherent', 'saddest', 'trumpets', 'sobering', 'Kafka', 'Franc', 'uneventful', 'animator', 'swims', 'Harsh', 'genial', 'lingers', 'gong', 'awe-inspiring', 'Laramie', 'big-time', 'Kissinger', 'Obvious', 'Carrey', 'somber', 'unorthodox', 'lint', 'Barrels', 'metaphorical', 'Kubrick', 'Adolescents', 'Fontaine', 'indulgent', '10-year-old', 'mercenary', 'Pretend', 'imitating', 'hyperbole', 'epiphany', 'glimmer', 'Sorcerer', 'civility', 'ingest', 'transcendent', 'fatality', 'dimmer', 'sustains', 'counterproductive', 'McGowan', 'sustenance', 'succinct', 'shocker', 'Stonehenge', 'fanatical', 'miniseries', 'Burkina', 'infuse', 'smoothed', 'Stallone', 'lectured', 'damning', 'suspiciously', 'Undoubtedly', 'wanders', 'inexplicably', 'wounding', 'soapy', 'stave', 'twenty-first', 'Columbine', 'Freaky', 'swagger', 'idiom', 'reworked', 'cuteness', 'warden', 'deranged', 'unhappiness', 'undercut', 'mysticism', 'subsided', 'cadence', 'disingenuous', 'arouse', 'fundamentalists', 'poise', 'Spreads', 'painkillers', 'Imitation', 'fanciful', 'detractors', 'bled', 'skyscraper', 'Heartbreak', 'self-determination', 'odyssey', 'Collateral', 'co-operative', 'sci', 'spits', 'opulent', 'pedagogy', 'Tully', 'slanted', 'Inuit', 'downsizing', 'aficionados', 'monotonous', 'artistically', 'pretense', 'Tchaikovsky', 'drab', 'ready-made', 'contemplative', 'offbeat', 'drifts', 'idealism', 'recesses', 'overpowered', 'Pentecostal', 'Lookin', 'convinces', 'jazzy', 'falcon', 'italics', 'silliness', 'crucifixion', 'weighty', 'Maud', 'twinkle', 'blushing', 'adherents', 'postmodern', 'burlesque', 'eagerness', 'intermittently', 'unsettled', 'Tailored', 'deceptively', 'erasing', 'cross-cultural', 'cautionary', 'depraved', 'scariest', 'little-known', 'Karim', 'Reaches', 'sensitivities', 'lewd', 'Daring', 'swamped', 'ditched', 'crumb', 'moustache', 'Dario', 'jarring', 'impossibly', 'ramble', 'yung', 'oozing', 'agonizing', 'inquisitive', 'tiniest', 'Marvelous', 'complacency', 'whiff', 'slugs', 'Ismail', 'spousal', 'parodies', 'ex-girlfriend', 'taut', 'Bela', 'searing', 'zealous', 'loco', 'tailor-made', 'aberration', 'exudes', 'redone', 'tome', 'Selby', 'tosses', 'bothersome', 'futility', 'Goofy', 'devious', 'Hibiscus', 'snagged', 'Elie', 'undergrad', 'sympathies', 'lingo', 'overcomes', 'pausing', 'erupt', 'Wanderers', 'accomplishes', 'heretofore', 'mind-blowing', 'merges', 'Transporter', 'stirs', 'tremble', 'spotlights', 'tacked', 'bombshell', 'nascent', 'spotty', 'skunk', 'repulsive', 'raunchy', '65th', 'wailing', 'small-town', 'bypassing', 'turd', 'self-conscious', 'substandard', 'indulged', 'zips', 'admirer', 'pompous', 'Bebe', 'Significantly', 'vices', 'woefully', 'well-balanced', 'indigestion', 'unending', 'sensuous', 'avis', 'bluntly', 'topple', 'maverick', 'perplexing', 'shrewd', 'Scrooge', 'kiddie', 'Antonia', 'grandiose', 'chastity', 'Demands', 'caterer', 'Hawley', 'darned', 'post-production', 'baffle', 'sag', 'Murdock', 'baffling', 'Armenians', 'Niro', 'Mideast', 'unrelenting', 'labors', 'drivel', 'Ilya', 'lapel', 'raucous', 'Cassel', 'Faso', 'Drowning', 'sketchbook', 'prologue', 'wobbly', 'pulsating', 'down-to-earth', 'monastic', 'injustices', 'Wiseman', 'Tropic', 'virtuoso', 'courtship', 'no-nonsense', 'abysmal', 'Fisk', 'existent', 'maxim', '26-year-old', 'Hrs', 'drips', 'multifaceted', 'stagnation', 'eponymous', 'enamored', 'wattage', 'hairline', 'afterthought', 'serviceable', 'Bundy', 'Meant', 'improvise', 'decisively', 'stalked', 'reopens', 'N.M.', 'mush', 'ecologically', 'avant', 'lags', 'dearth', 'latches', 'Wilco', 'Examines', 'X-Files', 'Shakes', 'vignettes', 'Dumas', 'pungent', 'innocuous', 'glows', 'spunk', 'satanic', 'juxtaposition', 'charred', 'Coupling', 'overtones', 'eerily', 'muffled', 'jumpsuit', 'Snatch', 'fuelled', 'conceptions', 'stoop', 'snooze', 'travesty', 'enigma', 'embellishment', 'Measured', 'inane', 'unsolved', 'wagers', 'leaner', 'directorial', 'tenuous', 'pandering', 'bigoted', 'forsaken', 'Clones', 'dyslexia', 'diss', 'chemists', 'aristocratic', 'mired', 'colonialism', 'full-on', 'Combines', 'motionless', 'flagging', 'unholy', 'Cristo', 'Denzel', 'alienate', 'Sorority', 'fluctuating', 'labored', 'whimsy', 'thyself', 'aloft', 'Earns', 'characterizes', '51st', 'diverting', 'invokes', 'Monsoon', 'excites', 'instilled', 'antagonists', 'resurrect', 'theorist', 'bugged', 'wayward', 'surrendering', 'heartland', 'aftertaste', 'Ayala', 'fatter', 'admirably', 'posturing', 'uncovers', 'Ballistic', 'dwells', 'insistent', 'Bland', 'superstitious', 'Charlize', 'touts', 'smeared', 'unscathed', 'Elmore', 'Seine', 'impresses', 'thrashing', 'Foolish', 'donna', 'narcissistic', 'skimpy', 'ever-growing', 'untrained', 'Gandalf', 'stuttering', 'quench', 'shackles', 'relayed', 'well-deserved', 'aloof', 'imagines', 'energizing', 'purportedly', 'Visually', 'Aldrich', 'benefitted', 'smarts', 'grinds', 'artsy', 'stifling', 'hookers', 'smothered', 'Matheson', 'bard', 'smacks', 'artful', 'recreating', 'Lambs', 'deftly', 'Frida', '15-year', 'teeming', 'raps', 'captives', 'Credibility', 'trimmings', 'bohemian', 'buoy', 'geriatric', 'Gump', 'Château', 'antiseptic', 'springing', 'kiddies', 'Westerners', 'saddled', 'uninteresting', 'criminally', 'Pap', 'preposterous', 'Professionally', 'heist', 'environs', 'darkly', 'terminally', 'clique', 'farts', 'McFarlane', 'intricately', 'introspection', 'neurotic', 'cranked', 'Ong', 'milieu', 'Macaroni', 'lapses', 'retrograde', 'voyages', 'weirdness', 'fantastical', 'cipher', 'spied', 'molestation', 'retelling', 'Invincible', 'incessantly', 'perceptive', 'enveloped', 'Shearer', 'fabulously', 'porridge', 'emphatic', 'rarest', 'modernized', 'Tian', 'criticizes', 'aristocracy', 'derailed', 'shards', 'Knees', 'rigor', 'infiltrated', 'introspective', 'handkerchief', 'brazen', 'errant', 'Everlasting', 'Tunisian', 'lustrous', 'yesteryear', 'unassuming', 'Fugitive', 'scathing', 'Chesterton', 'Shaggy', 'Emilie', 'superlative', 'uncharted', 'faintly', 'courting', 'Maintains', 'pollute', 'tundra', 'flocking', 'Wahlberg', 'violins', 'Kincaid', 'unspeakable', 'spouting', 'blip', 'moronic', 'thrusts', 'irreverent', 'thrillers', 'patriarchal', 'light-hearted', 'Ganesh', 'refreshingly', 'bask', 'wry', 'Poetic', 'Constantly', 'Addams', 'sickly', 'assuredly', 'Notting', 'robustness', 'flourishes', 'tenacious', 'modernize', 'fumbled', 'incarnations', 'lashing', 'wrenching', 'quotient', 'Stiller', 'flowery', 'bitchy', 'Mandel', 'inescapable', 'Meow', 'unsatisfied', 'shelved', 'boldness', 'autopilot', 'hibernation', 'Amidst', 'astonishingly', 'clear-cut', 'Ferrara', 'assimilated', 'sportsmanship', 'undoing', 'lopsided', 'feel-good', 'remade', 'surfacing', '11-year-old', 'Gilliam', 'hiss', 'ebb', 'four-star', 'Elizabethan', 'Tierney', 'match-up', 'Refreshing', 'meddling', 'laborious', 'institutionalized', 'Coen', 'haute', 'solemnly', 'shivers', 'Jia', 'vertigo', 'one-dimensional', 'impenetrable', 'gulp', 'painstaking', 'kilt', 'eminently', 'Allegiance', 'Earnest', 'abject', 'dazed', 'Cinematic', 'accumulates', 'elicited', 'half-dozen', 'Suspects', 'Skulls', 'outrageously', 'starry', 'embroiled', 'rediscover', 'brainer', 'appetites', 'Tunis', 'Polanski', 'recharged', 'odour', 'interfaith', 'E.T.', 'springboard', 'complicity', 'frenzied', 'lapping', 'uncomfortably', 'so-so', 'synergistic', 'bolder', 'lobbies', 'idiosyncratic', 'sketched', 'fumbles', 'connoisseur', 'overworked', 'dissidents', 'discernible', 'melodrama', 'dwarfs', 'malaise', 'shamelessly', 'overused', 'spontaneity', 'sneaks', 'puns', 'Audiences', 'bygone', 'Maids', 'Colosseum', 'noxious', 'CQ', 'inconceivable', 'infecting', 'trappings', 'Kwan', 'peppered', 'Stripped', 'opts', 'foursome', 'analgesic', 'taunt', 'demented', 'bode', 'single-handedly', 'overdone', 'Landau', 'beatings', 'Sade', 'doomsday', 'preaches', 'bottomless', 'impervious', 'co-wrote', 'Grumpy', 'tattered', 'culled', 'Schindler', 'crème', 'ephemeral', 'Pacino', 'Veggies', 'shrill', 'dimming', 'Arnie', 'extraterrestrial', 'allegory', 'cursory', 'goosebumps', 'thirty-five', 'dogged', 'adoring', 'transvestite', 'hilariously', 'softens', 'imparted', 'amiss', 'Caruso', 'lingered', 'wetsuit', 'Crit', 'quintet', 'instalment', 'moulds', 'prickly', 'multiplex', 'cliches', 'Imperfect', 'faceless', 'engrossing', 'episodic', 'compendium', 'Captures', 'Sober', 'Candid', 'quiver', 'revolutionaries', 'bearable', 'remakes', 'deafening', 'Simultaneously', 'Alcatraz', 'Passions', 'epicenter', 'anarchists', 'self-awareness', 'servitude', 'austere', 'inner-city', 'dismissive', 'Nerds', 'biennial', 'overbearing', 'rip-off', 'caustic', 'tinge', 'unbridled', 'idling', 'frothy', 'mimicking', 'tongue-in-cheek', 'relevancy', 'Jackass', 'eye-opening', 'Believer', 'magnify', 'DreamWorks', 'preamble', 'sordid', 'Arguably', 'dished', 'immorality', 'cobbled', 'Aaliyah', 'brash', 'Renner', 'outweighs', 'passable', 'Magi', 'indelible', 'Thoroughly', 'cocoon', \"'50s\", 'alienating', 'Leaks', 'racy', 'dizzying', 'humanly', 'interwoven', 'Meatballs', 'predictability', 'naught', 'outcast', 'delves', 'lighthearted', 'pinks', 'Salma', 'discord', 'supercharged', 'flopped', 'Chou', 'forgettable', 'buoyant', 'shaggy', 'Eisenberg', 'preconceived', 'harvests', 'well-meaning', 'amalgam', 'trope', 'muddled', 'potholes', 'Gilligan', 'Gyllenhaal', 'unfaithful', 'hilarity', 'scheming', 'gymnast', 'Mirren', 'twinkling', 'henna', 'subjecting', 'ghastly', 'Nair', 'piecing', 'mismatched', 'conspiracies', 'dumber', 'unedited', 'superhuman', 'attuned', 'deceitful', 'trite', 'conjures', 'distasteful', 'transgression', 'thump', 'reprieve', 'Persuasion', 'exuberance', 'awash', 'sporadically', 'soars', 'Wai', 'tabloids', 'Tolstoy', 'undertones', 'Applegate', 'lusty', 'disintegration', 'Newcomer', 'miniscule', 'Catechism', 'graze', 'overstated', 'childlike', 'pique', 'spirals', 'obsessions', 'Bibi', 'irrevocable', 'hushed', 'stubbornly', 'fireball', 'e-mailing', 'waxes', 'Primavera', 'meshes', 'weirdo', 'slurs', 'pokes', 'biopic', 'Guillen', 'Sheds', 'self-centered', 'splendour', 'squashed', 'fetishes', 'demeaning', 'sportsmen', 'Enduring', 'portraiture', 'reruns', 'squandered', 'crass', 'yank', 'Holm', 'Scarface', 'borrows', 'inconsequential', 'García', 'Gianni', 'whiplash', 'glitz', 'receding', 'ugliest', 'Munch', 'outnumber', 'penance', 'airtime', 'Martyr', 'Pender', 'educates', 'lifelike', 'categorization', 'icky', 're-release', 'Involving', 'LeBlanc', 'Errol', 'yikes', 'archetypal', 'audacious', 'seedy', 'uninspired', 'Ninety', 'fervently', 'Gangs', 'Duvall', 'shapely', 'abridged', 'personas', 'fancied', 'mystique', 'magnificence', 'faraway', 'lethargic', 'Aragorn', 'artfully', 'elevates', 'visualizing', 'eloquence', 'Bots', 'bundling', 'ambivalent', 'spinoff', 'exemplify', 'titular', 'concealment', 'veracity', 'dingy', 'disjointed', 'Purdy', 'pap', 'freezers', 'gleefully', 'Oliveira', 'absurdly', 'pessimism', 'unjustified', 'dissipated', 'numbing', 'operatic', 'crawls', 'amiable', 'earmarks', 'awakens', 'meow', 'Vibes', 'doings', 'boisterous', 'Pianist', 'Rodrigues', 'outbursts', 'dutifully', 'thinnest', 'Biggie', 'distinguishable', 'close-ups', 'grievous', 'delving', 'underdeveloped', 'lumpy', '2-D', 'stupidest', 'full-bodied', 'showy', 'subculture', 'co-stars', 'caved', 'Merely', 'hard-hitting', 'infuriating', 'Feral', 'A-list', 'quibble', 'helluva', 'inconclusive', 'steers', 'A.S.', 'empathize', 'frenetic', 'unfulfilled', 'anemic', 'scrappy', 'massacres', 'boomer', 'Boasting', 'sanctified', 'chipper', 'overblown', 'wheezing', 'Stains', 'Clarissa', 'suspenseful', 'inexperience', 'saucy', 'pithy', 'unexplored', 'devotes', 'dud', 'tepid', 'tinged', 'Trier', 'tantamount', 'deft', 'handily', 'Softly', 'voice-over', 'immediacy', 'bender', 'naturalistic', 'mercilessly', 'Nia', 'excepting', 'rigors', 'whoop', 'blacked', 'three-hour', 'developmentally', 'imparting', 'Cusack', 'dislocation', 'characterizing', 'banal', 'inimitable', '10-inch', 'overpower', 'adrift', 'wrenches', 'self-righteous', 'reconsideration', 'bores', 'censure', 'stoke', 'chokes', 'depress', 'chasm', 'summery', 'uptight', 'anyplace', 'Equilibrium', 'impatiently', 'casings', 'gluing', 'standup', 'Uwe', 'offends', 'Petri', 'riveted', 'hellish', 'treachery', 'fumbling', 'entertains', 'Disguise', 'Snowball', 'blaring', 'dollop', 'aimlessly', 'canines', 'resolute', 'Kazan', 'ferment', 'lactating', 'visualized', 'crypt', 'Fincher', 'pawns', 'Altogether', 'glories', 'confrontational', 'Paradiso', 'intrigues', 'antithesis', 'Makin', 'parochial', 'heaped', 'Wyman', 'frayed', 'contraption', 'trickery', 'fiend', 'Risky', 'awkwardness', 'enthralling', 'ably', 'Coarse', 'feasting', 'mythic', 'felons', 'fluttering', 'star-studded', 'Dull', 'spot-on', 'masquerade', 'radiates', 'permeates', 'attentions', 'Directing', 'marvels', 'slacker', 'flatly', 'maddening', 'trifle', 'musty', 'Ratner', 'compels', 'lullaby', 'flip-flop', 'quickie', 'subtleties', 'gloriously', 'heavyweights', 'humping', 'ugliness', 'scrutinize', 'Weimar', 'interstitial', 'modus', 'stepmother', 'twister', 'handsomely', 'ravishing', 'Alternately', 'aspires', 'tirade', 're-create', 'schoolers', 'treading', 'clamoring', 'singularly', 'overrides', 'masterfully', 'Slack', 'masquerading', 'makings', 'venomous', 'Crypt', 'vanishes', 'fluidity', 'yawning', 'kid-friendly', 'Eudora', 'Pauly', 'reinvented', 'reworking', 'viciously', 'limping', 'tidings', 'authentically', 'riddles', 'Grenoble', 'jaunt', 'Represents', 'chuckles', 'Coy', 'muttering', 'treads', 'Ranging', 'scarier', 'softest', 'fixated', 'Takashi', 'cognizant', 'get-go', 'chiller', 'conspicuously', 'Musketeers', 'confrontations', 'sizzle', 'loveable', 'purports', 'diabolical', 'reprehensible', 'caricatures', 'liven', 'deflated', 'Escapes', 'land-based', 'blissfully', 'three-year-old', 'Woodard', 'bushels', 'Argentinian', 'Putty', 'loathing', 'truest', 'flailing', 'resuscitation', 'Ayres', 'confessional', 'Breitbart', 'weaned', 'omnipotent', 'cameos', 'imbued', 'heaving', 'laurels', 'chimpanzees', '6-year-old', 'Hornby', 'innuendo', 'culminates', 'Supremes', 'Kunis', 'enchantment', 'machinations', 'Jean-Claude', 'patchy', 'unearth', 'Chanukah', 'macabre', 'groans', 'quivering', 'Breen', 'old-time', 'metaphorically', 'savour', 'co-written', 'clichés', 'wide-angle', 'judicious', 'gourd', 'virulent', 'shambles', 'throes', 'low-budget', 'annals', 'Humorous', 'Photographed', 'unleashes', 'knee-jerk', 'overheated', 'tie-in', 'gaudy', 'awed', 'undying', 'wintry', 'gibberish', 'permeate', 'Reversal', 'Niels', 'Peralta', 'disrupts', 'prefabricated', 'unnerving', 'withered', 'lurks', 'Schaeffer', 'aggressiveness', 'jabs', 'one-shot', 'uninitiated', 'Graceland', 'pantheon', 'far-fetched', 'collie', 'Limbo', 'Andersson', 'averse', 'word-of-mouth', 'Filmmakers', 'patting', 'Zealanders', 'stoner', 'grown-ups', 'Touched', 'tingle', 'toasts', 'Demonstrates', 'secretions', 'well-made', 'margaritas', 'unsung', 'depravity', 'lavishly', 'indignant', 'ashtray', 'appetizing', 'undetermined', 'ergo', 'malleable', 'Swank', 'evoking', 'confounded', 'McCracken', 'Ahhhh', 'impersonation', 'espoused', 'reshaping', 'distaste', 'drowsy', 'Heidegger', 'Sweetest', 'well-developed', 'purport', 'infatuation', 'Assured', 'Ado', 'obtuse', 'flattening', 'otherworldly', 'symbiotic', 'dubbing', 'irreparable', 'inadvertent', 'exasperated', 'McAdams', 'Elvira', 'purists', 'seduces', 'rigidly', 'stifled', 'rerun', 'combustible', 'concocted', 'teenaged', 'inexcusable', 'conduits', 'redeemable', 'underlines', 'coincidences', '8-year-old', 'resentful', 'inextricably', 'gander', 'suffocating', 'intractable', 'Costner', 'Shafer', 'humanist', 'overflows', 'letdown', 'arousing', 'melodramatic', 'plucking', 'subtitled', 'comprehensible', 'DOA', 'Uncertain', 'winded', 'ces', 'Disgusting', 'butchered', 'trippy', 'underwhelming', 'anti-', 'Angelique', 'preemptive', 'mistaking', 'Sy', 'bod', 'unfathomable', 'Leavitt', 'Oscar-winning', 'amicable', 'Reiner', 'slog', 'Heist', 'unremarkable', 'balding', 'science-fiction', 'unadulterated', 'exude', 'implausible', 'matinee', 'ponders', 'Imogen', 'deja', 'Miyazaki', 'intelligible', 'ruse', '90-minute', 'self-image', 'zany', 'Neeson', 'transparently', 'contemplates', 'Lacking', 'Calculated', 'Celebrated', 'Adrien', 'diversions', 'Vonnegut', 'ooze', 'weirdly', 'Ia', 'methodically', 'backdrops', 'gargantuan', 'wide-eyed', 'résumé', 'thunderous', 'burlap', 'ravages', 'dispatching', 'box-office', 'beckons', 'progenitor', 'blockbusters', 'reclaiming', 'Neverland', 'Renoir', 'chatty', 'ruthlessly', 'tots', 'snazzy', 'stylishly', 'personified', 'Hutchins', 'upping', 'monologues', 'wail', 'bonanza', 'Deliverance', 'dynamism', 'flat-out', 'Kool-Aid', 'incendiary', 'gunning', 'punchy', 'stabs', 'downer', 'Bittersweet', 'Caulfield', 'conjured', 'deathly', 'skateboards', 'fast-moving', 'claustrophobic', 'Cherish', 'monotony', 'docile', 'Sterile', 'Translating', 'Kaufmann', 'multi-dimensional', 'empathetic', 'grumbling', 'endgame', 'reparations', 'crazier', 'tux', 'squirm', 'hovers', 'João', 'Energetic', 'Exposing', 'Qualities', 'jaw-dropping', 'oddities', 'Sylvie', 'predisposed', 'Goya', 'infantile', 'humanism', 'multi-layered', 'Croc', 'crackle', 'brats', 'aggrieved', 'Thi', 'emblematic', 'cruelly', 'incisive', 'imitations', 'FISHER', 'Sisterhood', 'Explosions', 'magnificently', 'writhing', 'Pinocchio', 'sniping', '2-day', 'precocious', 'mores', 'fun-loving', 'grumble', 'gobble', 'rehash', 'zap', 'barbs', 'hyperbolic', 'Marinated', 'euphemism', 'fancies', 'parables', 'sharpener', 'stupendous', 'Crispin', 'desolation', 'unwieldy', 'Bicentennial', 'unease', 'lazily', 'obscenity', 'sappy', 'Aesop', 'underpinnings', 'facades', 'heaviness', 'conceit', 'Shakespearean', 'refreshes', 'allusions', 'cogent', 'daydreaming', 'arty', 'adrenalin', 'forthright', 'subcontinent', 'Ravel', 'Quirky', 'irritates', 'fatherhood', 'bewildering', 'Sharpie', 'Suggests', 'climactic', 'bumbling', 'Ecclesiastes', 'ripoff', 'co-director', 'thud', '40-year-old', 'revolting', 'gutsy', 'recompense', 'hitman', 'connoisseurs', 'boarders', 'ripening', 'circumstantial', 'candor', 'larceny', 'burly', 'spurts', 'Tsai', 'imperfection', 'Leppard', 'pathos', 'point-to-point', 'costumed', 'cinematographer', 'Milla', 'wane', 'belittle', 'Dazzling', 'microcosm', 'didactic', 'Cleaver', 'Baz', 'gasps', 'disconnection', 'clashing', 'welt', 'afresh', 'gyro', 'headlong', 'poof', 'specter', 'repugnant', 'Jie', 'Blob', 'moat', 'Orc', 'haphazard', 'evasive', 'downing', 'Purgatory', 'coughed', 'inkling', 'permutations', 'ferocity', 'obsessively', '20th-century', 'stoic', 'customarily', 'oozes', 'irrevocably', 'slasher', 'mending', 'copycat', 'McCulloch', 'handiwork', 'seeping', 'Grisham', 'discourages', 'omnibus', 'four-year-old', 'faceoff', 'Busby', 'subtext', 'kickass', 'whirling', 'Shag', 'amok', 'Disappointing', 'Goodall', 'jumble', 'humanistic', 'Mulholland', 'infomercial', 'tripe', 'dredge', 'narcissism', 'vim', 'hard-pressed', 'scooping', 'competently', 'heralds', 'self-made', 'devilish', 'Schrader', 'underdogs', 'slapstick', 'overwritten', 'disoriented', 'delirium', 'honeys', 'togetherness', 'preteens', 'bleu', 'ethnicities', 'Memento', 'Dogma', 'SECRETARY', 'tenet', 'lunacy', 'bluffs', 'Curiously', 'muddle', 'squirts', 'denizens', 'intensifying', 'self-expression', 'Kathie', 'Spacey', 'unflattering', 'elude', 'Woodman', 'oddity', 'spunky', 'pained', 'viewings', 'self-promotion', 'bravado', 'hunky', 'dystopian', 'easygoing', 'impressionable', 'disagreeable', 'splatter', 'A.I.', 'fleshed', 'Clueless', 'provokes', 'lo-fi', 'cloaked', 'patronizing', 'captors', 'evaporates', 'mannerisms', 'terrors', 'Nouvelle', 'faltering', 'Quitting', 'CHARLIE', 'placid', 'tearful', 'ribbing', 'self-destructive', 'recessive', 'good-natured', 'outtakes', 'Latifah', 'wistful', 'womanhood', 'snore', 'Speck', 'S&M', 'candidly', 'wickedly', 'antagonism', 'consigned', 'Aimed', 'easy-going', 'egotistical', 'Consistently', 'cuss', 'surefire', 'nary', 'posthumously', 'sub-par', 'unwrapped', 'devaluation', 'misfits', 'interdependence', 'inflection', 'befall', 'hairdo', 'newness', 'A-Team', 'Myer', 'wimp', 'grisly', 'Cotswolds', 'Raimi', 'family-oriented', 'malnourished', 'Bernal', 'Brosnan', 'ineffectual', 'Quaid', 'Rosenbaum', 'Tyco', 'epilogue', 'dupe', 'made-up', 'deploys', 'assembles', 'Vittorio', 'Bruin', 'underlies', 'ethnographic', 'Tobey', 'storytellers', 'plaguing', 'coulda', 'characteristically', 'Godard', '18th-century', 'caretakers', 'unpretentious', 'Statham', 'capricious', 'oodles', 'Rothman', 'astringent', 'jumbled', 'nightmarish', 'wallow', 'epics', 'workman', 'campy', 'unreachable', 'rote', 'entwined', 'Disturbing', 'ushers', 'fortify', 'crescendo', 'Dubya', 'Zucker', 'time-honored', 'Belongs', 'twirling', 'garde', 'Wittgenstein', 'Chicago-based', 'kitsch', 'facile', 'rancid', 'Gabriele', 'fascinate', 'Dunst', 'Lauper', 'Sleepless', 'above-average', 'Banderas', 'bemused', 'outrun', 'Wim', 'Abandon', 'hoopla', 'Purely', 'schoolboy', 'misogyny', 'Stockwell', 'dampened', 'well-intentioned', 'environmentalism', 'chuckling', 'dank', 'one-liners', 'Obstacles', 'luckiest', 'celibacy', 'partisans', 'chimps', 'Butterworth', 'Gere', 'merrily', 'eavesdropping', 'Puccini', 'Jean-Luc', 'McConaughey', 'strays', 'paradoxically', 'drive-by', 'marveled', 'operandi', 'entranced', 'iota', \"''\", 'Bolero', 'formulaic', 'Sia', 'diction', 'snags', 'introverted', 'travail', 'dissing', 'pageants', 'Dripping', 'Warmth', 'disappoints', 'whimper', 'flinch', 'roars', 'Dey', 'Buttercup', 'run-of-the-mill', 'ambivalence', 'Proves', 'blasphemous', 'underarm', 'frisky', 'monotone', 'kaleidoscope', 'straddle', 'self-inflicted', 'notations', 'arthritic', 'twisty', 'asinine', 'big-name', 'life-size', 'scruffy', 'Blanchett', 'Chaotic', 'iconography', 'islanders', 'deconstruction', 'impartiality', 'war-torn', 'cynic', 'moldy', 'mannered', 'superficially', 'pimps', 'rekindle', 'entrée', 'weirder', 'frolic', 'sedate', 'heavy-handed', 'Hunk', 'laudable', 'Herrmann', 'diatribe', 'negated', 'plundered', 'peculiarly', 'portrayals', 'snide', 'panache', 'subservient', 'mull', 'Kilmer', 'trotting', 'unsteady', 'Freudian', 'sorrowful', 'revisionist', 'screenplays', 'Cimarron', 'tropes', 'annoyances', 'resolutely', 'breath-taking', 'implosion', 'injects', 'Ratliff', 'delineate', 'nouvelle', 'Thoughtful', 'Manages', 'soulless', 'freighter', 'crummy', 'thoughtfulness', 'minefield', 'Probes', 'decorum', 'Sascha', 'foreboding', 'saddens', 'suburbia', 'critiquing', 'computer-generated', 'cutesy', 'throwaway', 'affable', 'backwater', 'meander', 'eye-popping', 'coinage', 'Enriched', 'ornamentation', 'schoolhouse', 'degrades', 'disarming', 'Yuen', 'insular', 'lark', 'Astonishing', 'uninhibited', 'scintillating', 'Gooding', 'all-powerful', 'winks', 'cathartic', '33-year-old', 'conspire', 'modicum', 'pointedly', 'Touches', 'defensible', 'flopping', 'oeuvre', 'Epps', 'Spirited', 'Diggs', 'pasty', 'Unsurprisingly', 'unabashed', 'playfulness', 'escapades', 'omniscient', 'watchable', 'Gordy', 'helpfully', 'vastness', 'unmistakably', 'Vile', 'immaculately', 'royals', 'stylings', 'vowing', 'corkscrew', 'Bellini', 'affluence', 'missteps', 'chump', 'Remembers', 'aplenty', 'uncluttered', 'Dumbo', 'frightful', 'Quietly', 'whet', 'damsel', 'Helga', 'unsavory', 'ballpoint', 'unconnected', 'fil', 'languishing', 'caper', 'Danilo', 'lurid', 'Nesbitt', 'embers', 'veered', 'long-lived', 'duds', 'earplugs', 'drug-related', 'propels', 'EEE', 'Scrappy', 'distracts', 'thoroughfare', 'Wasabi', 'well-crafted', 'transcendence', 'glitzy', 'Whaley', 'melancholic', 'annoyingly', 'germinate', 'screenwriting', 'buoys', 'prim', 'mournful', 'ignites', 'threefold', 're-do', 'Chilling', 'heft', 'teetering', 'Paulette', 'majorly', 'nakedness', 'warlord', 'soured', 'after-hours', 'Entirely', 'brainless', 'litmus', 'Tense', 'shrapnel', 'midlife', 'parlance', 'Gerardo', 'infatuated', 'abhorrent', 'underbelly', 'delirious', 'heartening', 'brotherly', 'grooved', 'Derrida', 'tacks', 'Ze', 'Dense', 'Quelle', 'squirming', 'harshness', 'instilling', 'exhilaration', 'Tok', 'Chekhov', 'Tout', 'cleverness', 'midsection', 'tickles', 'Highlighted', 'oomph', 'succumbing', 'caffeinated', 'revives', 'Mindless', 'dead-end', 'pared', 'Compelling', 'Walken', 'riled', 'Remarkably', 'J.R.R.', 'slowness', 'Everyman', 'toothless', 'sociopath', 'self-absorbed', 'sideshow', 'forewarned', 'hand-drawn', 'dissecting', 'eclipses', 'suspecting', 'punchline', 'disconnects', 'mail-order', 'unappealing', 'cacophony', 'conspirators', 'textural', 'big-screen', 'slop', 'Soderbergh', 'Winger', 'villainous', 'characterizations', 'vivacious', 'underwritten', 'Dwarfs', 'redemptive', 'rackets', 'raison', 'Sits', 'withering', 'bogs', 'assailants', 'reeks', 'immaturity', 'honorably', 'Scooby-Doo', 'morphs', 'shallower', 'hooters', 'Parris', 'uglier', 'gorgeously', 'ill-advised', 'Handled', 'Lilo', 'entrapment', 'Levant', 'buoyed', 'camouflaged', 'confining', 'hustler', 'Arquette', 'jovial', 'coming-of-age', 'squint', 'vaudeville', 'four-legged', 'royally', 'Sounding', 'overture', 'far-flung', 'allegorical', 'flabby', 'paperbacks', 'sexiness', 'mettle', 'grouper', 'amateurish', 'distorts', 'foreshadowing', 'savored', 'loony', 'unconcerned', 'alarmingly', 'Unbreakable', 'omits', 'doldrums', 'standouts', 'fragmentary', 'wordy', 'strutting', 'Witty', 'redundancies', 'unabashedly', 'Escaping', 'shriek', 'frustrates', 'Kurosawa', 'Beavis', '45-minute', 'Deuces', 'ditty', 'naturalism', 'ineptitude', 'fascinates', 'wordless', 'aground', 'recreates', 'o.k.', 'myopic', 'verve', 'impersonating', 'pillowcases', 'stasis', 'spliced', 'morsels', 'ame', 'Jiri', 'wince', 'jeweled', 'vaunted', 'theocracy', 'squander', 'quietness', 'rouse', 'self-discovery', 'grimy', 'loopy', 'passe', 'posits', 'harmoniously', 'Seemingly', 'prescient', 'blurs', 'serendipity', 'off-putting', 'knockoff', 'embarrassingly', 'maggots', 'stereotyped', 'arguable', 'milked', 'Screenwriter', 'Closely', 'reconfigured', 'entertainments', 'travelogue', 'Sarandon', 'purr', 'burr', 'triumphantly', 'stupor', 'Spider-man', 'discerned', 'virtuosity', 'Frontal', 'one-night', 'reams', 'regrettably', 'Fiennes', 'pander', 'Antlers', 'creeped', 'unhinged', 'spiffy', 'romanticism', 'sugar-free', 'staid', 'point-and-shoot', 'third-person', 'internalized', 'pent', 'infamy', 'Alternating', 'reinvention', 'hobbled', 'undeserved', 'disillusionment', 'surrenders', 'civics', 'coldly', 'name-calling', 'distancing', 'dabbling', 'ringside', 'mopping', 'expound', 'Babbitt', 'statesmen', 'Campion', 'Argentinean', 'straight-up', 'subplot', 'four-hour', 'clamor', 'Gollum', 'Largely', 'Pinochet', 'post-modern', 'Geddes', 'artistes', 'skids', 'Damme', 'rock-solid', 'well-behaved', 'terrorizing', 'technicality', 'Rho', 'decrepit', 'feature-length', 'cradles', 'Velma', 'Generates', 'uninspiring', 'Prophecies', 'Brecht', 'tinsel', 'pleaser', 'whitewash', 'syrupy', 'flaunting', 'career-best', 'Charly', 'inexorably', 'platitudes', 'sentimentality', 'unturned', 'self-indulgent', 'Boll', 'strangeness', 'stymied', 'drowns', 'glosses', 'Braveheart', 'bucked', '50-year-old', 'silences', 'Consists', 'garish', 'flirts', 'Ignorant', 'unrealized', 'mourns', 'exploitative', 'chafing', 'Argento', 'enveloping', 'mugging', 'reiterates', 'mirth', 'cartoonish', 'patter', 'gimmicky', 'messianic', 'weightless', 'B-12', 'goodly', 'juiced', 'unafraid', 'Dreyfus', 'paucity', 'presumes', 'Undisputed', 'nauseating', 'repelled', 'Jackal', 'cannibal', 'Barbershop', 'indoctrinated', 'payoffs', 'shoestring', 'disturbingly', 'Utterly', 'barbershop', 'spiteful', 'hustling', 'SC2', 'adorns', 'pleasuring', 'weariness', 'zeitgeist', 'story-telling', 'nubile', 'low-grade', 'unfunny', 'Dilbert', 'D.W.', 'infusing', 'interviewees', 'Gryffindor', 'unoriginal', 'Kerrigan', 'well-done', 'deathbed', 'amoral', 'Lise', 'Ambitious', 'redux', 'breathtakingly', 'fussing', 'concoctions', 'plying', 'queasy', 'Snipes', 'Sommers', 'Capra', '2525', 'undercurrent', 'pretence', 'garbled', 'pre-teen', 'uncommonly', 'Middle-earth', 'expository', 'cutthroat', 'Andie', 'creaking', 'larger-than-life', 'in-your-face', 'tics', 'cussing', 'gesturing', 'neglects', 'fizz', 'constricted', 'rumblings', 'uncool', 'charmer', 'splendidly', 'wiggling', 'reptilian', 'reaffirms', 'inequities', 'glib', 'orchestrate', 'undertone', 'sterility', 'snicker', 'H.G.', 'skirmishes', 'Executed', 'retrospectively', 'conned', 'aspired', 'rollicking', 'Cronenberg', 'artiste', 'floundering', 'domineering', 'deep-seated', 'bombastic', 'aimless', 'McMullen', 'celluloid', 'glint', 'mean-spirited', 'savagely', 'glorifying', '4ever', 'Jacobi', 'barf', 'labours', 'locusts', 'merited', 'hos', 'fantasized', 'featherweight', 'long-winded', 'pathetically', 'boatload', 'shifty', 'Maryam', 'generically', 'Trivial', 'spoofing', 'Arty', 'natured', 'inadequately', 'surrealism', 'ambiguities', 'Pogue', 'overcooked', 'bleep', 'unimpressive', 'squeamish', 'screenwriters', 'unrequited', 'Dalrymple', 'aplomb', 'incongruous', 'evaded', 'preachy', 'co-opted', 'crisper', 'Villeneuve', 'cryin', 'Tosca', 'residuals', 'Mulan', 'reversals', 'canter', 'fill-in', 'temperamental', 'shatters', 'self-loathing', 'kooky', 'demeanour', 'flatulence', 'wallowing', 'charmingly', 'surest', 'unexplainable', 'Lacks', 'igloo', 'Tootsie', 'tumult', 'Deserves', 'Dramas', 'Englishmen', 'vulgarity', 'strolls', 'sure-fire', 'insipid', 'brandishing', 'blustery', 'artefact', 'comatose', 'Morph', 'drive-thru', 'drudgery', 'unevenly', 'pretensions', 'school-age', 'parachutes', 'flinging', 'patchouli', 'tortuous', 'straddles', 'unelected', 'McWilliams', 'regurgitation', 'molto', 'mire', 'insufficiently', 'faulted', 'unprovoked', 'cold-blooded', 'Vague', 'winking', 'wizardry', 'Gai', 'hems', 'comebacks', 'misdirected', 'decommissioned', 'overwhelms', 'groggy', 'valiantly', 'platonic', 'conceited', 'motherland', 'interminable', 'hotdog', 'Flatbush', 'dishonor', 'plodding', 'Philbin', 'Intriguing', 'atheistic', 'NC-17', 'Rorschach', 'fictions', 'unseemly', 'Seldom', 'moviegoers', 'intergalactic', 'unflinching', 'coasting', 'groupies', 'revels', 'Utter', 'Hip-hop', 'WEIRD', 'well-worn', 'frighteningly', 'melding', 'unconvincing', 'trifecta', 'elicits', 'pasts', 'escapism', 'frowns', 'Tackles', 'freakish', 'all-American', 'emulates', 'Snuggle', 'Resnick', 'saintly', 'underappreciated', 'leniency', 'Redgrave', 'self-aware', 'socio-political', 'grownups', 'Seagal', 'recklessness', 'Nanette', 'bizarrely', 'regalia', 'touchstone', 'bared', 'Lampoon', 'comically', 'lyricism', 'disintegrating', 'cliched', 'specious', 'zeroes', 'vapid', 'Miramax', 'strangling', 'detracts', 'Patric', 'ascends', 'deteriorates', 'beguiling', 'itinerant', 'boilerplate', 'Malkovich', 'conquers', 'unapologetic', 'wordplay', 'uhhh', 'Bueller', 'sisterhood', 'reverie', 'lumbering', 'putrid', 'unfocused', 'unsatisfying', 'usurp', 'badness', 'screed', 'minty', 'linearity', 'Fatale', 'whacking', 'Exceptionally', 'Firestorm', 'enliven', 'unrepentant', 'ick', 'reenactment', 'aristocrat', 'preschooler', 'worn-out', 'cheapo', 'broadside', 'Infidelity', 'snowballs', 'amusements', 'libretto', 'Spectators', 'Tonto', 'essayist', 'hicks', 'rekindled', 'evacuations', 'dreamlike', 'infuses', 'Believes', 'startle', 'italicized', 'rez', 'Weigel', 'writer/director', 'Jeffs', 'half-hearted', 'Suspend', 'revulsion', 'minutiae', 'tightrope', 'showmanship', 'eccentricity', 'dreadfully', 'jingles', 'jokers', 'vicarious', 'spews', 'Eccentric', 'indomitable', 'kidnappings', 'orchestrating', 'nurtures', 'Contempt', 'squinting', 'Illuminating', 'middling', 'long-suffering', 'pop-culture', 'Moot', 'deadpan', 'suffocate', 'reverent', 'misfit', 'anthropomorphic', 'make-believe', 'retaliatory', 'unsurprising', 'post-9', 'Desperately', 'meanest', 'irresistibly', 'Bewitched', 'long-held', 'treatises', 'spoofs', 'Mobius', 'grungy', 'trifling', 'distill', 'irreconcilable', 'slow-moving', 'pasteurized', 'dicey', 'Beresford', 'coda', 'Lavinia', 'hokey', 'Interacting', 'populating', 'fearlessly', 'despondent', 'dawns', 'thematically', 'insensitivity', 'confection', 'Gellar', 'Vivi', 'underutilized', 'conjuring', 'heart-warming', 'zippy', 'nine-year-old', 'emaciated', 'Iditarod', 'incognito', 'follies', 'Transforms', 'putters', 'gazes', 'gruelling', 'Pabst', 'interludes', 'auteur', 'millisecond', 'marvelously', 'loathsome', 'articulates', 'Thrilling', 'First-time', 'Elysian', 'oddest', 'rapt', 'seductively', 'Dench', 'Swept', 'questing', 'foibles', 'indisputably', 'aristocrats', 'discards', 'Branagh', 'Predictably', 'Sleepers', 'inexorable', 'Cranky', 'WASP', 'spellbinding', 'Jeong', 'unaccountable', 'inventiveness', 'fritters', 'no-frills', 'insufferable', 'pillage', 'eye-opener', 'misogynistic', 'thought-out', 'prepackaged', 'Kinnear', 'Mamet', 'flaccid', 'half-baked', 'expounded', 'deform', 'Theirs', 'anachronistic', 'frailty', 'haywire', 'psychopathic', 'low-tech', 'Achieves', 'solidity', 'torments', 'barbarism', 'antsy', 'sabotaged', 'Amaro', 'unimaginative', 'pyrotechnics', 'unsaid', 'misadventures', 'smorgasbord', 'Gainsbourg', 'disrespected', 'Schiffer', 'hedonistic', 'Shiner', 'Cheech', 'Banger', 'unbearably', 'dour', 'sympathetically', 'crudely', 'recycles', 'artifice', 'restate', 'swooping', 'surrealist', 'heart-wrenching', 'Flawed', 'scrawled', 'thankless', 'old-world', 'relishes', 'transpose', 'Zellweger', 'repackaged', 'doze', 'agitator', 'suffocation', '50-year', 'reassembled', 'unknowable', 'skittish', 'baloney', 'Kaos', 'begrudge', 'rambunctious', 'Harland', 'carnivore', 'edifying', 'SOOOOO', 'genteel', 'obsessive-compulsive', 'unsophisticated', 'jolted', 'Suffers', 'Reggio', 'persecutions', 'bloodbath', 'mikes', 'mucking', 'Moretti', 'Porky', 'startlingly', 'cliques', 'Pryce', 'chins', 'resonances', 'Ararat', 'Shyamalan', 'stilted', 'tried-and-true', 'cookie-cutter', 'Streamlined', 'wispy', 'excruciatingly', 'attics', 'condescension', 'effusion', 'earnestness', 'wonderment', 'Liana', 'cringing', 'wall-to-wall', 'echelons', 'vacuous', 'languid', 'grimace', 'Sparkles', 'sardonic', 'indistinct', 'clumsily', 'flippant', 'professes', 'Dramatically', 'costuming', 'swipes', 'contemptuous', 'shtick', 'mindsets', 'sledgehammer', 'BMWs', 'plucky', 'roller-coaster', 'theatrics', 'schtick', 'smoothes', 'self-styled', 'free-for-all', 'phonograph', 'Petter', 'vexing', 'self-appointed', 'Tweedy', 'despairing', 'loitering', 'half-assed', 'Softener', 'revelatory', 'discordant', 'polemic', 'eludes', 'shamefully', 'nonchalant', 'fallible', 'plotline', 'Grenier', 'stickiness', 'meanders', 'Oscar-nominated', 'Moderately', 'self-preservation', 'commander-in-chief', 'vagueness', 'passivity', 'co-writer', 'Houseboat', 'soiree', 'Turpin', 'grasps', 'ransacked', 'frazzled', 'blithely', 'flurries', 'folksy', 'lulled', 'sleaze', 'stylistically', 'irrepressible', 'Rehearsals', 'Landings', 'self-sacrifice', 'missive', 'commercialism', 'engulfing', 'outshine', 'overstuffed', 'Cagney', 'telemarketers', 'begets', 'amuses', 'Screenwriting', 'girlish', 'castrated', 'Contenders', 'bluster', 'boozy', 'mass-market', 'slow-motion', 'strongman', 'listless', 'Kahlo', 'self-assured', 'improvisations', 'harps', 'dutiful', 'navigates', 'single-minded', 'flog', 'fairy-tale', 'underlay', 'Uplifting', 'stanzas', 'plausibility', 'Day-Lewis', 'eroticism', 'Behan', 'formalism', 'grimly', 'snobbery', 'Rewarding', 'Janey', 'Carnahan', 'all-night', 'squabbling', 'DeVito', 'deceptions', 'Frei', 'sanguine', 'agape', 'washout', 'hemlock', 'Wiser', 'rehashed', 'undeserving', 'frothing', 'tinny', 'lameness', 'Veronique', 'retold', \"O'Fallon\", 'savagery', 'disinterest', 'ostentatious', 'fireballs', 'rapid-fire', 'tooled', 'ridiculousness', 'self-consciousness', 'hmmmmm', 'farcical', 'Majid', 'mulls', 'Maggio', 'wreaked', 'droning', 'afterschool', 'gravitas', 'Arkin', 'canny', 'ethnography', 'catharsis', 'cloying', 'cesspool', 'ruinous', 'skilfully', 'sensationalism', 'Jovovich', 'sameness', 'work-in-progress', 'misogynist', 'deconstruct', 'thirty-three', 'insinuating', 'comic-book', 'self-deprecating', 'suffices', 'purer', 'unsympathetic', 'hallucinogenic', 'inscrutable', 'empress', 'emphasising', 'doting', 'griping', 'Balzac', 'befuddled', 'Exists', 'unmoved', 'gratify', 'unceasing', 'MapQuest', 'Bardem', 'knock-off', 'noblest', 'matron', 'ill-informed', 'qual', 'meekly', 'talkers', 'Leaping', 'stillborn', 'curio', 'prosaic', 'Straightforward', 'milks', 'dopey', 'P.T.', 'expeditious', 'shoot-out', 'daydreams', 'Friel', 'travails', 'tedium', 'salacious', 'rediscovering', 'inclusiveness', 'laughably', 'nadir', 'neophyte', 'untidy', 'Unforgiven', 'one-room', 'Bursting', 'deconstructed', 'Ghandi', 'Punish', 'dodges', 'Hardman', 'great-grandson', 'obscenely', 'unguarded', 'Gantz', 'grayish', 'vainly', 'neater', 'quintessentially', 'Hickenlooper', 'Gosford', 'contemptible', 'Fanboy', 'tangents', 'marquis', 'Senegalese', 'peeved', 'quadrangle', 'parent-child', 'Belushi', 'minor-league', 'sneering', 'veers', 'hallelujah', 'Twinkie', 'extra-large', 'trickster', 'shrugging', 'masterly', 'shallows', 'slivers', 'undisciplined', 'unravels', 'quashed', 'baboon', 'unmotivated', 'splashy', 'Weissman', 'ineffable', 'misconstrued', 'blooper', 'painterly', 'hideously', 'conniving', 'on-camera', 'levity', 'sleight', 'major-league', 'disguising', 'titillating', 'bounties', 'R-rated', 'bloodless', 'Battista', 'hackneyed', 'dulled', 'mind-numbing', 'brainy', 'swooning', 'subplots', 'underscoring', 'Goths', 'falters', 'millennial', 'Flashy', 'dozing', 'Sendak', 'racehorse', 'Fingered', 'consoled', 'overdoses', 'undoubted', 'Arwen', 'Mediocre', 'uppity', 'epitaph', 'forges', 'homespun', 'engorged', 'Legged', 'veering', 'high-octane', 'fogging', 'Tarantula', 'wistfully', 'grouchy', 'Begley', 'anguished', 'cowering', 'Sidewalks', 'Hawn', 'clichéd', 'eke', 'frustratingly', 'resurrecting', 'Lyne', 'persuades', 'quicksand', 'instigator', 'furrow', 'unknowing', 'stand-off', 'non-threatening', 'facetious', 'patronising', 'misfire', 'Afghani', 'drawn-out', 'Carlito', 'dramatist', 'Hideo', 'jostling', 'intelligentsia', 'stomps', 'Laced', 'fluidly', 'reputedly', 'Lillard', 'conciliatory', 'apolitical', 'smugly', 'off-screen', 'Buscemi', 'C.I.', 'indulges', 'alchemical', 'bullseye', 'evocation', 'Uneven', 'jammies', 'Keener', 'umpteenth', 'dispassionate', 'bobbed', 'counterculture', 'redefinition', 'matter-of-fact', 'overdoing', 'Bui', 'strenuously', 'life-altering', 'bawdy', 'thumbing', 'solemnity', 'grosses', 'escapade', 'dithering', 'trudge', 'Hossein', 'hell-bent', 'reassures', 'ponderous', 'vivre', 'whole-heartedly', 'absurdities', 'Miike', 'deliberative', 'Spousal', 'everyman', 'humorously', 'Kapur', 'decrying', 'Worthless', 'fidget', 'stockbroker', 'pastiche', 'Gremlins', 'hermetic', 'downbeat', 'poetics', 'whiney', 'compulsively', 'praiseworthy', 'guises', 'mouthpieces', 'decibel', 'loosens', 'snickers', 'droll', 'closed-door', 'hard-won', 'roundhouse', 'ho-hum', 'Crikey', 'overwrought', 'unadorned', 'Dumber', 'Fairlane', 'blue-chip', 'ill-conceived', 'squandering', 'Salton', 'sanctimonious', 'dustbin', 'sharpens', 'boho', 'stinker', 'marveling', 'stripped-down', 'astoundingly', 'Rollerball', 'Greenlight', 'reductive', 'captivates', 'multilayered', 'thievery', 'Elaborate', 'soul-searching', 'second-rate', 'brazenly', 'gutless', 'reminiscence', 'Bola', 'invulnerable', 'Shimizu', 'Goodfellas', 'Spanish-American', 'Broder', 'nerve-wracking', 'Gallic', 'yuppie', 'intentioned', 'Sever', 'Imax', 'mishandled', 'cynics', 'publicists', 'Overly', 'perfunctory', 'avarice', 'marginalization', 'ironies', 'ostensible', 'gunfight', 'fizzle', 'ghoulish', 'Dangerfield', 'hodgepodge', 'unwary', 'tatters', 'swashbuckling', \"'40s\", 'uncommitted', 'fashioning', 'Undone', 'barbers', 'decorates', 'immortals', 'infirmity', 'Luhrmann', 'oppositions', 'Banzai', 'grizzled', 'Creeps', 'costumer', 're-creation', 'Continually', 'writer-director', 'Sacre', 'overburdened', 'ploughing', 'exterminator', 'generalities', 'conflagration', 'tartness', 'Jez', 'ingeniously', 'dispossessed', 'Minkoff', 'Lugosi', 'hysterics', 'slyly', 'reek', 'Exploits', 'kitschy', 'xXx', 'Pollak', 'slathered', 'bewitched', 'sardine', 'disappointingly', 'hook-ups', 'Delirious', 'Metaphors', 'avalanches', 'Halos', 'subtler', 'Appropriately', 'Harmless', 'Nostra', 'Dafoe', 'Menzel', 'bestowing', 'tamer', 'squalor', 'Reminiscent', 'ramshackle', 'disloyal', 'screwy', 'churns', 'Rife', 'nuked', 'betters', 'Genuinely', 'twitchy', 'nastier', 'lioness', 'repetitious', 'anarchic', 'Mocking', 'action-adventure', 'thrall', 'fantasia', 'pretension', 'stooping', 'Darkly', 'Fai', 'averting', 'point-of-view', 'chomp', 'craven', 'mild-mannered', 'self-knowledge', 'befits', 'gut-wrenching', 'ribcage', 'poignancy', 'convolution', 'creaky', 'grandstanding', 'no-holds-barred', 'plumbed', 'Predictable', '100-year', 'pageantry', 'finery', 'ten-year-old', 'gawk', 'weepy', 'skidding', 'Sontag', 'repetitively', 'polemical', 'disorienting', 'neurosis', 'mimicry', 'lightens', 'winsome', 'reheated', 'big-budget', 'livelier', 'heartstrings', 'valedictorian', 'psychedelia', 'rehashing', 'Iles', 'mystifying', 'sociopaths', 'confusions', 'Tomei', 'Insanely', 'reaffirming', 'impostor', 'dullness', 'happenstance', 'Undiscovered', 'scuttled', 'brawn', 'liveliness', 'miscalculation', 'shriveled', 'endear', 'urbane', 'sturdiness', 'pay-off', 'Morgen', 'shorn', 'gambles', 'crystallize', 'Gaunt', 'well-formed', 'downplaying', 'sadism', 'entrancing', 'Chyna', 'Catch-22', 'amusingly', 'Loosely', 'dishonorable', 'acerbic', 'all-male', 'Eisenstein', 'unforced', 'fast-forward', 'astonish', 'swank', 'sulking', 'Patricio', 'energizes', 'broached', 'resuscitate', 'B-movie', 'unashamedly', 'skateboarder', 'impressionistic', 'ravaging', 'opportunism', 'Originality', 'thinness', 'acrid', 'Gaping', 'playthings', 'Featherweight', 'Laissez', 'limerick', 'Lecter', 'Coven', \"'30s\", 'freewheeling', 'Shekhar', 'theorizing', 'humdrum', 'unaccustomed', 'Polson', 'wryly', 'contrivance', 'homogenized', 'three-minute', 'rapturous', 'conspiratorial', 'self-righteousness', 'cross-dressing', 'Sayles', 'lingual', 'tarantula', 'insignificance', 'sprightly', 'Leoni', 'Indecent', 'rumbles', 'beached', 'round-robin', 'overexposed', 'Welty', 'voyeuristic', 'actuary', 'Pascale', 'Drags', 'off-center', 'Maelstrom', 'Besson', 'Powerpuff', 'staggeringly', 'imperious', 'Delhomme', 'two-lane', 'Cosa', 'Shaky', 'succumbs', 'bastions', 'Tezuka', 'disreputable', 'memorialize', 'masochistic', 'self-reflection', 'muting', 'pursuers', 'shimmers', 'loveless', 'Elegantly', 'unhappily', 'lovebirds', 'fatigues', 'jettisoned', 'Ferrera', 'madcap', 'self-important', 'unpleasantness', 'pandemonium', 'Insurrection', 'morose', 'reinvigorated', 'bratty', 'uncoordinated', 'all-stars', 'inoffensive', 'bare-bones', 'Aiello', 'stupider', 'low-cut', 'tawdry', 'signpost', 'pubescent', 'harmlessly', 'ballsy', 'contentedly', 'picture-perfect', 'Jonze', 'epochs', 'melds', 'perilously', 'gob', 'Ice-T', 'hogwash', 'Rugrats', 'envelops', 'well-executed', 'backstabbing', 'achingly', 'DeNiro', 'cop-out', 'dead-on', 'Culkin', 'drumbeat', 'minutely', 'denouement', 'rivaling', 'airless', 'saccharine', 'talk-show', 'P.O.V.', 'afflicts', 'down-home', 'brawny', 'referential', 'Linklater', 'flattens', 'overplayed', 'waster', 'Manhunter', 'Marmite', 'threadbare', 'nihilistic', 'glum', 'interrelationships', 'embellishing', 'humorless', 'uneasily', 'labyrinthine', 'zealously', 'Vulgar', 'Severely', 'fastballs', 'curlers', 'distended', 'Americanized', 'self-indulgence', 'wallop', 'Muniz', 'Bugsy', 'M-16', 'welled', 'peopled', 'subgenre', 'natter', 'escapist', 'theatrically', 'shapeless', 'Farrelly', 'Afterschool', 'telegrams', 'jolts', 'ardently', 'songbird', 'frankness', 'blips', 'adorably', '40-minute', 'heart-felt', 'well-timed', 'living-room', 'hands-off', 'Sturges', 'curmudgeon', 'fiendish', 'idolized', 'romantics', '70-year-old', 'spooks', 'unhurried', 'uncouth', 'I.Q.', 'exposé', 'Retard', 'devastatingly', 'American-style', 'Privates', 'fearlessness', 'love-hate', 'lazier', 'tug-of-war', 'subcultures', 'unapologetically', 'wheezy', 'stodgy', 'off-kilter', 'imbue', 'poetically', 'Cardoso', 'eccentricities', 'insubstantial', 'hums', 'low-down', 'Michell', 'imaginatively', 'regimented', 'pint-sized', 'redeems', 'watered-down', 'crooning', 'extravagantly', '2455', 'precipitously', 'heart-breaking', 'Mullan', 'waterlogged', 'mangle', 'Bruckheimer', 'Patchy', 'ennui', 'self-interested', 'befallen', 'secularists', 'mumbles', 'destin', 'Shreve', 'exasperating', 'self-examination', 'acolytes', 'hijinks', 'Runyon', 'brainpower', 'disquieting', 'elapse', 'herrings', 'colorfully', 'interlocked', 'peddled', 'Tinseltown', 'hippest', 'undercuts', 'half-naked', 'provocations', 'end-of-year', 'taxicab', 'terrifically', 'brassy', 'machismo', 'saps', 'perdition', 'vigils', 'overcook', 'hot-button', 'revisionism', 'beaut', 'crisply', 'wisp', 'dystopia', 'mongrel', 'Ichi', 'temerity', 'serenely', 'wanes', 'goofball', 'Danang', 'demographically', 'drug-induced', 'banality', 'Feelgood', 'true-to-life', 'provocatively', 'b.s.', 'yawns', 'stepmom', 'silliest', '49-year-old', 'mumbo', 'parodied', 'irksome', 'large-format', 'Deepa', 'timelessness', 'Stoppard', 'dazzles', 'cutoffs', 'Schwartzman', 'Absorbing', 'Amari', 'toe-to-toe', 'joie', 'shootouts', 'Buckaroo', 'Steers', 'rambles', 'vaporize', 'overstating', 'clink', 'puzzlement', 'snared', 'dramatized', 'ensnared', 'quaking', 'careening', 'afflicting', 'wincing', 'Wimmer', 'Superbly', 'Manas', 'stepdad', 'Sparse', 'pummel', 'horrendously', 'made-for-TV', 'luminary', 'Trainspotting', 'Butthead', 'Baran', 'sourness', 'unwatchable', 'ill-fitting', 'mishmash', 'gamely', 'screwball', 'mummified', 'subjugate', 'wreaks', 'expressiveness', 'eschews', 'newfangled', 'Brash', 'even-handed', 'pleasingly', 'mother-daughter', 'V.S.', 'melange', 'offal', 'crackles', 'accentuating', 'hoary', 'patronized', 'verging', 'Fuhrman', 'restatement', 'jackasses', 'non-starter', 'ill-equipped', 'mind-bending', 'Hailed', 'dehumanizing', 'Affirms', 'overloads', 'exhibitionism', 'blubber', 'laugh-out-loud', 'ballerinas', 'sun-drenched', 'Emerges', 'romanticized', 'Brilliantly', 'woozy', 'passive-aggressive', 'Binks', 'pre-dawn', 'Adrift', 'Helmer', 'Longley', 'Plympton', 'kung-fu', 'foul-mouthed', 'page-turner', 'Zemeckis', 'credulity', 'Stale', 'nanosecond', 'Abomination', 'Payoff', 'well-oiled', 'Bratt', 'SL2', 'soupy', 'helpings', 'deconstructing', 'hustlers', 'maudlin', 'Qualls', 'piquant', 'off-beat', 'SATs', 'Giannini', 'Boogaloo', 'ruthlessness', 'forgivable', 'trots', 'slather', 'syncopated', 'logistically', 'sidekicks', 'Bullwinkle', 'iconoclastic', 'Anchored', 'plummets', 'weasels', 'toss-up', 'bedfellows', 'broiling', 'moralistic', 'Dass', 'enactments', 'hackles', 'ardor', 'irreparably', 'claustrophobia', 'studiously', 'hamstrung', 'Magnifique', 'exigencies', 'huskies', 'perversely', 'fresh-faced', 'howler', 'puerile', 'existentialism', 'Boasts', 'pallid', 'off-the-wall', 'galvanize', 'plod', 'believability', 'horrifically', 'discontented', 'super-sized', 'clunker', 'vex', 'Brisk', 'Liotta', 'preoccupations', 'derisive', 'clean-cut', 'Lilia', 'signposts', 'Twenty-three', 're-imagining', 'lackadaisical', 'creepiest', 'Carré', 'ballplayer', 'quibbles', \"d'etre\", 'plex', 'madmen', 'Dahmer', 'hammy', 'freshening', 'resents', 'quirkiness', 'quixotic', 'nutjob', 'Venezuelans', 'gnat', '65-year-old', 'pokey', 'borderlands', 'Undressed', 'proficiently', 'byways', 'Rifkin', 'intelligibility', 'clanging', 'has-been', 'perpetrating', 'space-based', 'betrayals', 'high-minded', 'bons', 'Stepford', 'backhanded', 'Zany', 'Mildly', 'jugglers', 'depressingly', 'naptime', 'metaphoric', 'action-oriented', 'smutty', 'life-affirming', 'dualistic', 'devilishly', 'suffused', 'agreeably', 'simple-minded', 'Roussillon', 'spiritualism', 'credulous', 'surrealistic', 'stifles', 'unerring', 'typifies', 'Switchblade', 'what-if', 'overshadows', 'obnoxiously', '4W', 'Benjamins', 'personifies', 'roiling', 'insinuation', 'fryers', 'regurgitated', 'anti-Catholic', 'inarticulate', 'boorish', 'Truffaut', 'oversimplification', 'Plimpton', 'leaden', 'redolent', 'sunnier', 'virtuosic', 'Deliciously', 'nail-biting', 'damsels', 'dunce', 'tactfully', 'sodden', 'nosedive', 'consumerist', 'do-over', 'Fiorentino', 'Involves', 'self-consciously', 'affectation', 'preprogrammed', 'unexamined', 'clotted', 'oration', 'reassuringly', 'dexterous', 'Kumble', 'buffeted', 'latrine', 'clumsiness', 'rawness', 'all-ages', 'Tso', 'improbably', 'doppelganger', 'Unfaithful', 'wishy-washy', 'sloppiness', 'otherness', 'propulsive', 'retooling', 'Blimp', 'Homeric', 'Uneasy', 'Gondry', 'upstage', 'unmolested', 'bonehead', 'Clumsy', 'disquiet', 'post-Soviet', 'bestial', 'doofus', 'smallness', 'MacDowell', 'villians', 'imminently', 'Oleander', 'staggers', 'dilutes', 'stammering', 'vies', 'swill', 'Massoud', 'diatribes', 'self-evaluation', 'Charade', 'amble', 'giggly', 'diffuses', 'self-importance', 'crowd-pleasing', 'prissy', 'gaiety', 'Troubling', 'percolating', 'sniffle', 'Rohypnol', 'capitalizes', 'grotesquely', 'child-rearing', 'Collapses', 'roughshod', 'looseness', 'troubadour', 'Inventive', 'Granddad', 'retooled', 'Perdition', 'whodunit', 'exhilarated', 'unpleasantly', 'pitifully', 'Homeboy', 'alacrity', 'leafing', 'Corny', 'provocateur', 'trenchant', 'freshened', 'Boldly', 'materializes', 'spry', 'Hayao', 'lulls', 'shockwaves', 'sainthood', 'well-structured', 'deliriously', 'Tunney', 'florid', 'heart-stopping', 'Conforms', 'binging', 'guilt-free', 'gulps', 'highbrow', 'murder-suicide', 'profundity', 'T&A', 'firebrand', 'Burdette', 'Plutonium', 'split-screen', 'Intermezzo', 'laconic', 'Zaza', 'Cassavetes', 'Wildly', 'partway', 'filmic', 'yearnings', 'Kurupt', 'unobtrusively', 'time-travel', 'lecherous', 'swathe', 'heedless', 'reductionist', 'fencer', 'upstaged', 'impish', 'leavened', 'Lightness', 'verges', 'Dolman', 'irreverence', 'insistently', 'Haneke', 'adroit', 'ungainly', 'dramatization', 'sophomoric', 'good-hearted', 'calcified', 'Campanella', 'Stinks', 'auto-pilot', 'M.I.T.', 'fetishism', 'Brainy', 'Bettany', 'Brutally', 'go-round', 'hallucinatory', 'gestalt', 'Hélène', 'not-too-distant', 'compassionately', 'incarnated', 'presuppose', 'Arteta', 'astronomically', 'recognizably', 'Grating', 'slobbering', 'last-second', 'wide-screen', 'grandly', 'self-referential', 'teary-eyed', 'naturalness', 'Heathers', 'Boni', 'turgid', 'Pompeo', 'transmute', 'witless', 'scriptwriter', 'Foxworthy', 'Shinya', 'spindly', 'perversity', 'drop-dead', 'laughingly', 'flagrantly', 'wedgie', 'Black-and-white', 'Rocawear', 'Meticulously', 'elbowed', 'shuns', 'crematorium', 'sags', 'paean', 'Dreary', 'comeuppance', 'Sandrine', 'trifles', 'Goyer', 'Propelled', 'hang-ups', 'sleep-deprived', 'Sacrifices', 'quizzical', 'reeked', 'retread', 'swaggering', 'unrecoverable', 'elegy', 'byzantine', 'porthole', 'folktales', 'off-the-cuff', 'six-time', 'Lohman', 'entendre', 'run-on', 'ebullient', 'bungling', 'Asquith', 'Extremities', 'hooting', 'unreality', 'mid-section', 'Chomp', 'Wachowski', 'misperception', 'wallflower', 'irk', 'Dogtown', 'reeking', 'savaged', 'coeducational', 'character-driven', 'Barris', 'second-guess', 'creepiness', 'well-thought', 'fetid', 'dramatize', 'Gidget', 'bloodletting', 'Tremors', 'All-in-all', 'scummy', 'britches', 'waltzes', 'camerawork', 'hippopotamus', 'psyches', 'dramatics', 'rumination', 'wonderous', 'dreck', 'downplays', 'Raccoons', 'lobotomy', 'astounds', 'Lovingly', 'top-heavy', 'soufflé', 'Wenders', 'well-constructed', 'abhors', 'unspeakably', 'anti-establishment', 'Doorstep', 'unmentioned', 'Ryoko', 'neuroses', 'humanize', 'cadavers', 'seacoast', 'Malle', 'Sugarman', 'paper-thin', 'Richly', 'demigod', 'Devotees', 'airhead', 'cruelties', 'Dormer', 'Heartwarming', 'Friggin', 'Showgirls', 'Aranda', 'Lasker', 'segues', 'Suge', 'flotsam', 'Diop', 'capably', 'bludgeon', 'absurdist', 'desiccated', 'masochism', 'soberly', 'non-believer', 'dramedy', 'unflappable', 'Subversive', 'populates', 'animatronic', 'Zoolander', 'telegraphed', 'inauspicious', 'moodiness', 'Samira', 'earthbound', 'mesmerize', 'incoherence', 'Mazel', 'sillier', 'claptrap', 'Hanna-Barbera', 'back-story', 'Mason-Dixon', 'raindrop', 'Uzumaki', 'undemanding', 'SOLELY', 'Deliberately', 'cavorting', 'Gibney', 'hard-edged', 'flinching', 'sulky', 'indecipherable', 'shape-shifting', 'middle-of-the-road', 'self-satisfied', 'Shamu', 'bowser', 'treacle', 'Unbearable', 'satisfyingly', 'Ving', 'wearisome', 'Horrid', 'cockney', 'bravura', 'Noyce', 'jaundiced', 'nonbelievers', 'glinting', 'satiric', 'first-timer', 'hairpiece', 'repartee', 'single-handed', 'scarily', 'withholds', 'thuggery', 'Manipulative', 'let-down', 'Spader', 'manifestos', 'chicanery', 'profanities', 'Enticing', '21/2', 'Almodovar', 'antidotes', 'histrionics', 'mockumentary', 'show-off', 'serviceability', 'rose-colored', 'pulpy', 'straight-ahead', 'shrewdly', 'untalented', 'unemotional', 'Rodan', 'superficiality', 'Conceptually', 'besotted', 'philandering', 'cleaving', 'Screenwriters', 'disintegrates', '60-second', 'warthog', 'undernourished', 'topnotch', 'frailties', 'ratchets', 'Sunk', 'impudent', 'Drumline', 'egregiously', 'epiphanies', 'feminized', 'flava', 'bogging', 'Zwick', 'prepubescent', 'Admirable', 'elegiac', 'Jaunty', 'indescribably', 'cadences', 'densest', 'weightlessness', 'pizazz', 'willies', 'Depression-era', 'Demme', 'Swims', 'Tends', 'arcana', 'compellingly', 'Greengrass', 'middle-age', 'costars', 'rom-com', 'evanescent', 'inauthentic', 'playwriting', 'Balk', 'knock-offs', 'Sinise', 'Painfully', 'despising', 'sloppily', 'Tadpole', 'Rambles', 'valueless', 'Gauls', 'intriguingly', 'jolting', 'Tarkovsky', 'Saldanha', 'gauzy', 'Marries', 'juxtapose', 'twirls', 'brogue', 'coos', 'bodacious', 'voice-overs', 'enthrall', 'obviousness', 'cheapen', 'slavishly', 'sublimely', 'pessimists', 'buffoons', '28K', 'unlikable', 'Ostensibly', 'lushly', 'frisk', 'huggers', 'Brooms', 'touchy-feely', 'intermingling', 'uselessly', 'undiminished', 'wavers', 'mingles', 'fatalism', 'Burstein', 'awfulness', 'impassive', 'oh-so', 'Topkapi', 'nervy', 'fire-breathing', 'moralizing', 'cut-and-paste', 'flavorless', 'imitative', 'pileup', 'nuttiness', 'atmospherics', 'Balto', 'portent', 'spinoffs', 'survivable', 'elan', 'Kjell', 'sneers', 'atonal', 'weirded', 'trivialize', 'heart-pounding', 'submerging', 'worshipful', 'pranksters', 'broken-down', 'Taymor', 'Leguizamo', 'narcissists', 'tov', 'outselling', 'blacken', 'cold-hearted', 'overripe', 'Real-life', 'comedy-drama', 'recapturing', 'lowbrow', 'stringently', 'Phifer', 'repulse', 'pathologically', 'Weaves', 'laziest', 'ensnare', 'messiness', 'Yvan', 'gamesmanship', 'near-future', 'devolves', 'Dodgy', 'basted', 'slo-mo', 'Trekkie', 'erotically', 'tomfoolery', 'surfeit', 'megalomaniac', 'blab', 'Potemkin', 'Old-fashioned', 'Sweetly', 'Bartleby', 'enjoyably', 'workmanlike', 'exalts', 'solipsism', 'Tambor', 'VeggieTales', 'strictness', 'dampens', 'slugfest', 'resoundingly', 'Crudup', 'movingly', 'harks', 'derails', 'undercurrents', 'Imposter', 'Unspeakable', 'diverges', 'overhearing', 'Shattering', 'maddeningly', 'endearingly', 'patrolman', 'unapproachable', 'self-hatred', 'herbivore', 'tormentor', 'plucks', 'viscerally', 'goulash', 'streetwise', 'monstrously', 'Wonton', 'Stirs', 'salesmanship', 'overlong', 'Brockovich', 'blare', 'chirpy', 'heart-rending', 'pitch-perfect', 'Stuffy', 'fudged', 'special-interest', 'Hoult', 'slights', 'anti-human', 'Tavernier', 'Jelinek', 'blundering', 'cleverest', 'Bedouins', 'fisticuffs', '72-year-old', 'quick-witted', 'mumbo-jumbo', 'degenerating', 'fiendishly', 'Sica', 'mimetic', 'joyless', 'Lanie', 'imprimatur', 'Turturro', 'Dickensian', 'antic', 'Wobbly', 'wretchedness', 'classicism', 'Sorvino', 'Chokes', 'cleverer', 'undistinguished', 'Play-Doh', 'arthouse', 'brio', 'deportment', 'romped', 'Adobo', 'Binoche', 'juxtapositions', 'Bravado', 'dogmatism', 'uproarious', 'three-ring', 'misanthropic', 'prurient', 'peppering', 'Engages', 'Congeniality', 'expressively', 'mesmerised', 'churlish', 'Caddyshack', 'miscast', 'Thandie', 'Smothered', 'Exquisitely', 'misfires', 'cat-and-mouse', 'prattle', 'blood-soaked', 'schlock', 'break-ups', 'Bogs', 'Chimpanzees', 'lampoon', 'blithe', 'Shum', 'gunplay', 'Shankman', 'eccentrics', 'high-spirited', 'Cliffhanger', 'punchlines', 'knucklehead', 'self-congratulatory', 'Naipaul', 'denuded', 'Psychologically', 'fifteen-year-old', 'dabbles', 'transgressive', 'libertine', 'chitchat', 'Ozu', 'sisterly', 'indigestible', 'Characterisation', 'Peppered', 'Carvey', 'sixth-grade', 'clear-eyed', 'hothouse', 'slovenly', 'sellouts', 'Murderous', 'Bickle', 'Sluggish', 'ambling', 'Sydow', 'wizened', 'ditties', 'reverberates', 're-enactments', 'telenovela', 'categorisation', 'Lathan', 'grubbing', 'loneliest', 'Musketeer', 'super-cool', 'thoughtlessly', 'Hugely', 'middles', 'fanatically', 'self-actualization', 'hooliganism', 'hide-and-seek', 'give-and-take', 'seaworthy', 'gobbler', 'boldface', 'errs', 'Swiftly', 'histrionic', 'sickeningly', 'inexpressible', 'callow', 'unlikeable', 'unsentimental', 'husband-and-wife', 'Andys', 'wazoo', 'ageism', 'fuzziness', 'Ziyi', 'Beatnik', 'Leys', 'Bjarne', 'bludgeoning', 'gored', 'Slackers', 'Cynics', 'Ronn', 'Maneuvers', 'blandly', 'moviemaking', 'Amélie', 'mélange', 'stoops', 'verisimilitude', 'lolling', 'Flotsam', 'subliminally', 'mutates', 'windup', 'directionless', 'Pasolini', 'guiltless', 'standbys', 'beheadings', 'embalmed', 'Honoré', 'Aan', 'trounce', 'badder', 'catsup', 'low-rent', 'grossest', 'hile', 'third-best', 'adroitly', 'documentarian', 'veiling', 'skims', 'digressions', 'hijacks', 'rueful', 'look-see', 'Gulzar', 'dim-witted', 'Farenheit', 'jokey', 'waddling', '3-year-olds', 'ribald', 'scorcher', 'humanizing', 'Mothman', 'low-life', 'Connoisseurs', 'Baio', 'mope', 'last-place', 'Rohmer', 'jangle', 'death-defying', 'Weirdly', 'tweener', 'uncreative', 'dwindles', 'loquacious', 'naiveté', 'blandness', 'dimwitted', 'twentysomething', 'purposeless', 'Neuwirth', 'limpid', 'interweaves', 'DePalma', 'chillingly', 'kibosh', 'skewering', 'hopefulness', 'McDormand', 'Celebi', 'Smug', 'egomaniac', 'unimpeachable', 'lurches', 'unblinking', 'whirls', 'Nakata', 'Donati', 'hit-or-miss', 'Fantasma', 'traffics', 'gorgeousness', 'lamentations', 'lensing', 'sympathizing', 'sanitised', 'dilettante', 'Downbeat', 'mordant', 'self-delusion', 'limply', 'meanderings', 'tit-for-tat', 'Akasha', 'Seamstress', 'Muzak', 'orchestrates', 'Melodrama', 'semi-autobiographical', 'lulling', 'rip-roaring', 'self-hating', 'Huppert', 'Invigorating', 'implodes', 'contrivances', 'world-weary', 'subzero', 'Neatly', 'reenacting', 'malarkey', 'wisecracking', 'bungle', 'artless', 'blacklight', 'full-blooded', 'Michèle', 'meatier', 'roughage', 'dullest', 'Poignant', 'Fessenden', 'waif', 'doles', 'cresting', 'Passer', 'Perceptive', 'misfiring', 'Galan', 'Resourceful', 'workaday', 'enthuse', 'Elling', 'Guzmán', 'thirteen-year-old', 'divining', 'stoically', 'one-note', 'torpor', 'Katzenberg', 'bleakness', 'large-screen', 'day-old', 'helmer', 'recapitulation', 'Byatt', 'melancholia', 'shambling', 'soppy', 'lamer', 'Hopelessly', 'guffaw', 'blessedly', 'self-satisfaction', 'slam-dunk', 'Bailly', 'time-wasting', 'Flamboyant', 'inchoate', 'comradeship', 'inhalant', 'Skillful', 'curmudgeonly', 'psychopathy', 'zingers', 'send-up', 'hyphenate', 'enlivens', 'inanity', 'sidesteps', 'page-turning', 'fallibility', 'Kirshner', 'exploitive', 'Babak', 'inescapably', 'girl-on-girl', 'SONNY', 'cluelessness', 'preordained', 'whetted', 'b-ball', 'Astonishingly', 'Fassbinder', 'free-wheeling', 'extravaganzas', 'startles', 'Thornberry', 'homages', 'ouija', 'unexceptional', 'one-trick', 'Fubar', 'unfulfilling', 'Danis', 'warm-blooded', 'preciousness', 'crowd-pleaser', 'dumbed-down', 'methamphetamines', 'Estela', 'tediously', 'rag-tag', 'deflates', 'patois', 'over-reliance', 'tour-de-force', 'Intensely', 'twaddle', 'pretentiousness', 'leanest', 'Meandering', 'dulls', 'murk', 'hooey', 'Groen', 'reel-to-reel', 'warpath', 'Razzie', 'ill-timed', 'fleetingly', 'tongue-tied', 're-working', 'slumming', 'set-piece', 'imitator', 'Bogdanovich', 'improbability', 'Top-notch', 'hourlong', 'Collinwood', 'Choppy', 'yammering', 'Rhames', 'self-absorption', 'nonconformity', 'desultory', 'Orlean', 'refracting', 'accomodates', 'chides', 'waltzed', 'slow-paced', 'Tautou', '12-Step', 'unmentionable', 'Liman', 'wades', 'G-rated', 'inelegant', 'hankies', 'near-fatal', 'bona-fide', 'ladles', 'Idiotic', 'junctures', 'dominatrixes', 'fizzles', 'amnesiac', 'self-critical', 'half-a-dozen', 'Dalloway', 'ambitiously', 'shadings', 'Bledel', 'ill-considered', 'Caviezel', 'daringly', 'pomposity', 'playas', 'heartbreakingly', 'art-house', 'recoiling', 'Scarcely', 'Marxian', 'Arthouse', 'fitfully', 'hamming', 'bad-boy', 'turfs', 'goofiness', 'rollerball', 'extols', 'self-aggrandizing', 'dreamscape', 'Flavorful', 'open-mouthed', 'Pretentious', 'unrelentingly', 'coarseness', 'titillation', 'Hilariously', 'Unofficially', 'engagingly', 'Hemmingway', 'geeked', 'mournfully', 'movie-making', 'direct-to-video', 'jags', 'illogic', 'entertainingly', 'Deserving', 'decorous', 'bang-up', 'Rymer', 'situates', 'lived-in', 'artificiality', 'grandiosity', 'marshaled', 'reawaken', 'cultist', 'deriding', 'crooned', 'burnt-out', 'cash-in', 'Rampling', 'talky', 'respectably', 'glibly', 'LaBute', 'doodled', 'largest-ever', 'languidly', 'half-an-hour', 'irritatingly', 'soporific', 'high-strung', 'rough-hewn', 'third-rate', 'allying', 'lynchings', 'engendering', 'Jagjit', 'enthusiasms', 'Skolnick', 'Mattei', 'Wanders', 'Devoid', 'uproariously', 'Quills', 'catapulting', 'whir', 'Cattaneo', 'standard-issue', 'midlevel', 'Fangoria', 'overindulgence', 'Wanker', 'One-of-a-kind', 'wackiness', 'keenest', 'Verbinski', 'Bisset', 'classism', 'seductiveness', 'interminably', 'jell', 'exuberantly', 'outpaces', 'hot-blooded', 'Karmen', 'invitingly', 'fervid', 'conceits', 'satyr', 'dismember', 'heartrending', 'Lends', 'buffoonery', 'Simplistic', 'mixed-up', 'potshots', 'Derailed', 'molehill', 'gross-out', 'stolid', 'fidgeted', 'numbs', 'Shiri', 'Spall', 'Ribisi', 'disarmingly', 'slogged', 'overplay', 'Turnabout', 'fabulousness', 'high-concept', 'duking', 'tonally', 'hitmen', 'flamboyance', 'lower-class', 'sputters', 'mother/daughter', 'dazzlingly', 'tone-deaf', 'exoticism', 'Indian-American', 'odorous', 'anciently', 'Prancing', 'cheapened', 'laugher', 'Aptly', 'appealingly', 'dawdle', 'outdoes', 'Stylistically', 'Soulless', 'miscalculations', 'Sprecher', 'quietude', 'lawmen', 'knickknacks', 'tendentious', 'amiably', 'lector', 'Giggling', 'trumped-up', 'Sonnenfeld', 'Mary-Louise', 'payola', 'Broca', 'Yimou', 'Bladerunner', 'flesh-and-blood', 'Splashes', 'lip-synching', 'hollowness', 'whooshing', 'Nickleby', 'ingratiating', 'Touché', 'big-hearted', 'Downright', 'fulsome', 'slickest', 'nonconformist', 'Defies', 'gang-raped', 'Navajos', 'gushy', 'virulently', 'honks', 'bailiwick', 'circularity', 'scattershot', 'robotically', 'Almodóvar', 'in-jokes', 'non-Jew', 'mind-numbingly', 'sugar-coated', 'idiosyncrasy', 'overproduced', 'bait-and-switch', 'rollerblades', 'blazingly', 'oes', 'wondrously', 'beause', 'basest', 'unsubtle', 'brûlée', 'clownish', 'Dignified', 'flag-waving', 'nonjudgmental', 'reworks', 'Alternates', 'self-involved', 'affronted', 'schmucks', 'cribbing', 'bone-chilling', 'Buñuel', 'repugnance', 'slickly', 'toe-tapping', 'sloughs', 'Vaguely', 'slickness', 'shockers', 'road-trip', 'Slapstick', 'Fast-paced', 'globalizing', 'nail-biter', 'Kiarostami', 'Amini', 'newsreels', 'self-mutilation', 'well-paced', 'vibrance', 'haughtiness', 'Narc', 'overachieving', 'Repulsion', 'Tedious', 'winces', 'actioner', 'blaxploitation', 'Benigni', 'hardscrabble', 'hypnotically', 'devotedly', 'Clearasil', 'shallowly', 'crescendos', 'Succeeds', 'vertiginous', 'revelled', 'crawlies', 'underachiever', 'flails', 'varmints', 'Schweiger', 'mends', 'Impostor', 'expressionistic', 'angst-ridden', 'Illiterate', 'likability', 'wilts', 'navel-gazing', 'statecraft', 'companionable', 'Bluto', 'prostituted', 'ham-fisted', 'gentility', 'raptures', 'huckster', 'Scouse', 'Stainton', 'Reeses', 'hit-and-miss', 'stupefying', 'Manoel', 'Meara', 'horrifyingly', 'showboating', 'oddballs', 'anti-feminist', 'truth-telling', 'Petrovich', 'eighth-grader', 'computer-animated', 'underplayed', 'grade-school', 'Desplat', 'sudsy', 'lucks', 'Piccoli', 'Kafkaesque', 'misconceived', 'minute-by-minute', 'disassociation', 'rainwear', 'scriptwriters', 'lushness', 'telegraphs', 'punny', 'triviality', 'well-produced', 'slapdash', 'Inherently', 'Depicts', 'hard-driving', 'standoffish', 'Khouri', 'unforgettably', 'broaches', 'scatological', 'once-over', 'pointlessness', 'gawky', 'hour-and-a-half', 'melodramas', 'schlepping', 'XFL', 'Scorcese', 'movie-going', 'Silberstein', 'peekaboo', 'somebodies', 'self-analysis', 'same-old', 'disgracefully', 'Plunges', 'war-ravaged', 'Drang', 'inter-racial', 'Droll', 'self-possessed', 'Crammed', 'charmers', 'Jeunet', 'dimness', 'Goddammit', 'vulgarities', 'Coughs', 'pixilated', 'Goldmember', 'full-throated', 'good-naturedly', 'psychodrama', 'irrelevancy', 'reedy', 'foundering', 'Terminally', 'monosyllabic', 'peevish', 'Cliches', 'bonbon', 'valedictory', 'Ludicrous', 'low-brow', 'cribbed', 'Dazzles', 'passably', 'atavistic', 'Gayton', 'near-miss', 'schmaltz', 'bedeviled', 'camouflaging', 'bug-eyed', 'Egoyan', 'inquisitiveness', 'Perabo', 'sleight-of-hand', 'Concubine', 'unromantic', 'soft-core', 'Borscht', 'gussied', 'sadists', 'tearjerker', 'cheesiness', 'chiaroscuro', 'rugrats', 'character-based', 'colonics', 'well-acted', 'bespeaks', 'unburdened', 'E.T', 'intercut', 'defoliation', 'Borchardt', 'simpering', 'Nalin', 'quandaries', 'jokester', 'rancorous', 'Yosuke', 'thrillingly', 'moviegoer', 'Masseur', 'Nijinsky', 'distressingly', 'unfurls', 'Shamelessly', 'well-drawn', 'hard-hearted', 'rediscovers', 'suey', 'lapdance', 'Fulfills', 'Grainy', 'picaresque', 'fixating', 'subtlest', 'Exhilarating', 'all-too-familiar', 'Feeble', 'Slob', 'pandered', 'eye-rolling', 'disorientated', 'hedonist', 'hypocrisies', 're-assess', 'in-joke', 'Thewlis', 'sabotages', 'TUCK', 'open-faced', 'staleness', 'keening', 'misbegotten', \"'53\", 'Chabrol', 'unfree', 'unschooled', 'erects', 'Lucía', 'sleekly', 'hokum', 'Methodical', 'doe-eyed', 'Flaunts', 'flounders', 'fandango', 'tumbleweeds', 'electrocute', 'martial-arts', 'Widowmaker', 'Christelle', 'one-star', 'oppressively', 'pre-9', 'Affectionately', 'milquetoast', 'bilked', '4Ever', 'ingenue', 'unmemorable', 'counter-cultural', 'doshas', 'Sirk', 'freak-out', 'Chaykin', 'well-conceived', 'slipshod', 'evenhanded', 'concocts', 'unrewarding', 'Draggin', 'bombards', 'street-smart', 'Well-written', 'unlistenable', 'schmaltzy', 'seamy', 'pablum', 'schizo', 'urbanity', 'Tsukamoto', 'convolutions', 'Maik', 'underdone', 'new/old', 'forgoes', 'engross', 'formalist', 'unstinting', 'vocalized', 'self-pitying', 'Broomsticks', 'graceless', 'moviegoing', 'argot', 'slimed', 'Weighty', 'forcefulness', 'urinates', 'Admirers', 'Philosophically', 'contorting', 'salvos', 'unpersuasive', 'Devos', 'constrictive', 'clamorous', 'louts', 'touchingly', 'stylishness', 'phlegmatic', 'Cloaks', 'mid-seventies', 'money-grubbing', 'silver-haired', 'true-blue', 'drive-ins', 'stultifying', 'shoot-em-up', 'freakshow', 'Nanook', 'moralism', 'filmgoers', 'poo-poo', 'sensationalize', 'scorns', 'eldritch', 'maladjusted', 'Reinforces', 'dumbness', 'lovefest', 'Wendigo', 'daredevils', 'halfhearted', 'misanthropy', 'romanced', 'trivializing', 'swashbuckler', 'lethally', 'unrelieved', 'falseness', 'rouses', 'Imamura', 'good-humored', 'Bille', 'Frailty', 'rehashes', '75-minute', 'low-cal', 'Ruggero', 'xtc', 'botching', 'nit-picky', 'cornball', 'Open-ended', 'cinematically', 'languorous', 'Distinctly', 'half-step', 'late-summer', 'hackery', 'movie-goers', 'neverland', 'self-parody', 'cheesiest', 'intermissions', 'Waterboy', 'Overcomes', 'reimagine', 'solipsistic', 'lampoons', 'dramatizing', 'expedience', 'giddily', 'rekindles', 'bromides', 'flakiness', 'infectiously', 'McTiernan', 'slashers', 'depersonalization', 'sleepwalk', 'unmentionables', 'blown-out', 'sexualization', 'lugubrious', 'deckhand', 'imbecilic', 'Eurotrash', 'Escapism', 'naïveté', 'glumly', 'agitprop', 'Jarecki', 'Cuaron', 'villainess', 'raunch', 'fine-looking', 'dimwits', 'anomie', 'misty-eyed', 'manically', 'Watchable', 'Shandling', 'moviemakers', 'mawkish', 'druggy', 'well-honed', 'cooly', 'rah-rah', 'sleep-inducing', 'Maudlin', 'rose-tinted', 'Apted', 'blisteringly', 'full-frontal', 'preposterously', 'right-thinking', 'Laconic', 'Abandons', 'jaw-droppingly', 'eclair', 'Unfolds', 'open-hearted', 'cackles', 'TAY', '20th-Century', 'rhapsodic', 'bass-heavy', 'blood-curdling', 'commodified', 'overinflated', 'ricocheting', 'Iranian-American', 'cheapening', 'idiotically', 'child-centered', 'screwed-up', 'dramaturgy', 'persnickety', 'humourless', 'styx', 'servicable', 'Koepp', 'souvlaki', 'sorrowfully', 'front-loaded', 'half-asleep', 'atrociously', 'special-effects', 'infuriatingly', 'Lagaan', 'hipness', 'bargain-basement', 'Observant', 'outrunning', 'cockeyed', 'P.O.W.', 'unnerve', 'frittered', 'subdues', 'Skillfully', 'Raimondi', 'Shrewd', 'derring-do', 'Solondz', 'all-too', 'irredeemably', 'Disappointingly', 'sturdiest', 'Iwai', 'well-told', 'avenges', 'ex-Marine', 'amalgamating', 'élan', 'libidinous', 'Grown-up', 'Snide', 'fiascos', 'good-time', 'croaks', 'Entertains', 'plainness', 'accident-prone', 'gender-bending', 'skin-deep', 'Tykwer', 'Willams', 'contriving', '19th-Century', 'Arliss', 'better-than-average', 'risk-takers', 'Ya-Ya', 'Ouzo', 'plods', 'wending', 'Glib', 'Losin', 'curtsy', 'puffery', 'avuncular', 'get-out', 'fetishistic', 'Schnitzler', 'telegraphing', 'palaver', 'Hunnam', 'moviemaker', 'Anne-Sophie', 'snoozer', 'ditsy', 'Kieslowski', 'nine-tenths', 'recasts', 'fresh-squeezed', 'pseudo-intellectual', 'Good-looking', 'co-writers', 'lika', 'insufferably', 'novelistic', 'soul-stirring', 'ZigZag', 'indulgently', 'obscurities', 'muckraking', '50-something', 'kidlets', 'draggy', 'Ontiveros', 'Aurelie', 'thuds', 'beachcombing', 'Floria', 'outshined', 'strong-minded', 'verite', 'McCoist', 'numbingly', 'clobbering', 'rampantly', 'by-the-numbers', 'Romanek', 'two-fifths', 'well-characterized', 'promisingly', 'botches', 'near-impossible', 'monsterous', 'howlers', 'Impresses', 'disconcertingly', 'Hennings', 'torpid', 'Byler', 'Bolstered', 're-hash', 'retch', 'atypically', 'sociologically', 'skullduggery', 'Writer-director', 'right-on', 'preciously', 'Dissing', 'small-screen', 'Writer/director', 'pummels', 'mystification', 'Videodrome', 'Auteuil', 'Thoughtless', 'Impeccably', 'back-stabbing', 'tear-jerking', 'completist', 'savvier', 'Kilner', 'deviously', 'late-inning', 'Wickedly', 'squanders', 'single-mindedness', 'crudeness', 'literarily', 'Milder', 'by-the-book', 'wafer-thin', 'sleekness', 'wretchedly', 'fetishized', 'complexly', 'MacNaughton', 'rara', 'septuagenarian', 'ayatollah', 'straight-faced', '80-minute', 'trivializes', 'hidebound', 'commiserating', 'B-grade', 'Philibert', 'edge-of-your-seat', 'nonprofessional', 'plumbs', 'Lavishly', 'Krawczyk', 'frights', 'animé', 'Brainless', 'patrolmen', 'insultingly', 'crushingly', 'temptingly', 'bluescreen', 'insouciance', 'fifteen-minute', 'Preposterous', 'Must-see', 'cringe-inducing', 'unendurable', 'pleasurably', 'obliviousness', 'erotics', 'overstimulated', 'Lothario', 'Morlocks', 'careens', 'Crummy', 'Jewison', 'Tomcats', 'black-owned', 'Gheorghiu', 'ineptly', 'Blaxploitation', 'balletic', 'EVERLASTING', 'Precocious', 'scene-stealing', 'Diverting', 'haranguing', 'Wimps', 'Wannabes', 'pratfalls', 'unindicted', 'Reassuring', 'unconventionally', 'Pompous', 'dingoes', 'stupidities', 'overeager', 'doddering', 'Niccol', 'Dowse', 'Piscopo', 'actor/director', 'Adroit', 'puréed', 'shoot-outs', 'upends', 'Symbolically', 'Toback', 'affability', 'LaPaglia', 'razzle-dazzle', 'incurably', 'amorality', 'action-comedy', 'icily', 'forbearing', 'disrobed', 'fleshed-out', 'inquisitions', 'sturm', 'kilted', 'venality', 'vainglorious', 'savviest', 'completists', 'soliloquies', 'self-flagellation', 'double-barreled', 'insightfully', 'nincompoop', 'bloodsucker', 'slopped', 'Sandeman', 'turntablism', 'boogaloo', 'tarted', 'super-powers', 'cross-shaped', 'fistfights', 'wide-awake', 'Molested', 'Alagna', 'cheap-looking', 'foot-dragging', 'well-shaped', 'psychoanalytical', 'percolates', 'grandness', 'Predecessors', 'Vardalos', 'copout', 'cloyingly', 'stammers', 'soap-opera', 'double-cross', 'potboiler', 'horrifies', 'personifying', 'Parmentier', 'Crackerjack', 'Avary', 'whippersnappers', 'bone-dry', 'blarney', 'enthronement', 'Ringu', 'good-for-you', 'Breckin', 'knowingness', 'six-packs', 'serious-minded', 'screamingly', 'disquisition', 'dullard', 'Banal', 'half-wit', 'pinheads', 're-creations', 'sanctimony', 'Assayas', 'tap-dancing', 'poky', 'action-filled', 'So-so', 'Wladyslaw', 'scuzzy', 'Treebeard', 'kvetch', 'career-defining', 'ricochets', 'becalmed', 'self-congratulation', 'cockamamie', 'emigre', 'breezily', 'Resembles', 'hard-bitten', 'zags', 'deceivingly', 'Thought-provoking', 'Oscar-worthy', 'single-mindedly', 'lobotomized', 'flashbulbs', 'earthshaking', 'inventively', 'Scoob', 'sophisticates', 'inanities', 'scathingly', 'hoo-ha', 'pretentiously', 'somnolent', 'bling-bling', 'highfalutin', 'love-struck', 'Upsetting', 'must-own', 'clambake', 'Antwone', 'dyspeptic', 'Wiel', 'cross-promotion', 'narratively', 'hairier', 'relentlessness', 'sociopathy', 'blobby', 'self-reflexive', 'sexploitation', 'enervating', 'proctologist', 'perceptively', 'Dogme', 'CHiPs', 'war-weary', 'Consummate', 'CliffsNotes', 'perspicacious', 'Ryosuke', 'neo-noir', 'characterisations', 'punchier', 'implausibility', 'Spectacularly', 'cinephile', 'unremittingly', 'head-banging', 'preciseness', 'bleakly', 'perceptiveness', 'hoofing', 'stomach-churning', 'Westfeldt', 'fly-on-the-wall', 'Hitchcockian', 'Nonsensical', 'glacially', 'smack-dab', 'Koyaanisqatsi', 'scotches', 'Cardellini', 'Morrissette', 'extemporaneously', '25-cent', 'decrepitude', 'Kidnapper', 'ultra-violent', 'outrageousness', 'demonizes', 'super-simple', 'Abagnale', 'Garbus', 'paint-by-numbers', 'teenybopper', 'innuendoes', 'screwups', 'Witless', 'hews', 'drawling', 'movie-star', 'galled', 'Cuarón', 'huggy', 'greatest-hits', 'paunchy', 'modernizes', 'charmless', 'Freundlich', 'Pyromania', 'sweet-natured', 'hanky-panky', 'enervated', 'piffle', 'divertissement', 'nonthreatening', 'bellyaching', 'pop-music', 'unforgivably', 'befuddling', 'spookily', 'Muddled', 'sledgehammers', '3/4th', 'Elfriede', 'pre-WWII', 'Shindler', 'nauseatingly', 'Implicitly', 'fleet-footed', 'amped-up', 'scalds', 'hubristic', 'tick-tock', 'Dadaist', 'chomps', 'goofiest', 'upper-crust', 'Frenetic', 'dilithium', 'Mamá', 'grimness', 'star-making', 'lumpen', 'consciousness-raising', 'Disturbingly', 'GoodFellas', 'post-September', 'Girardot', 'decipherable', 'raucously', 'outer-space', 'lisping', 'hardass', 'true-crime', 'force-feed', 'Reeks', 'schlocky', 'spiffing', 'Audiard', 'Galinsky', 'PG-rated', 'off-the-rack', 'substitutable', 'TV-movie', 'Koury', 'slipperiness', 'Rinzler', 'befuddlement', 'headbanger', 'regurgitates', 'cheesier', 'venturesome', 'wittier', 'comedy/drama', 'Borrows', 'Saeko', 'Sustains', 'sterotypes', 'down-and-dirty', 'Buries', 'tuneless', 'docu-drama', 'documentarians', 'One-sided', 'Discursive', 'despairingly', 'evincing', 'fantasti', 'doggedness', 'co-winner', 'Jacquot', 'closed-off', 'oafish', 'Playfully', 'Preaches', 'Staggers', 'outre', 'paeans', 'show-biz', 'video/DVD', 'amiability', 'tear-stained', 'well-edited', 'Chaiken', 'empathizes', 'DeMeo', 'no-budget', 'fish-out-of-water', 'Aloof', 'stagings', 'kegger', 'Graced', 'well-directed', 'Serviceable', 'lacerating', 'moodily', 'assaultive', 'half-formed', 'phoniness', 'Greek-American', 'Eerily', 'incarnates', 'wolfish', 'bone-crushing', 'subtexts', 'hoity-toity', 'gambol', 'Confounding', 'hack-and-slash', 'Thornberrys', 'treacly', 'inter-species', 'fusty', 'crudity', 'boffo', 'Ecks', 'inanely', 'Blethyn', 'Kitschy', 'Jar-Jar', 'incurious', 'plotless', 'spiritless', 'Greenfingers', 'elliptically', 'Anemic', 'Papin', 'hard-sell', 'squareness', 'hobnail', 'junk-food', 'Puritanical', 'Aggravating', 'halfwit', 'WWII-era', 'mood-altering', 'métier', 'pell-mell', 'manchild', 'choppiness', 'simpleminded', 'unessential', 'Shohei', 'spookiness', 'amours', 'hard-partying', 'comic-strip', 'Punch-Drunk', 'Gloriously', 'sweet-and-sour', 'Etoiles', '50-million', 'hideousness', 'backrooms', 'stubbly', 'larded', 'También', 'Dankworth', 'winningly', 'Berling', 'appétit', 'Confuses', 'Enormously', 'Tartakovsky', 'Saddled', 'straight-to-video', 'self-promoter', 'Molony', 'blighter', 'KOK', 'ensnaring', 'jazzman', 'Lurid', 'dullards', 'Vividly', 'Israeli/Palestinian', 'ankle-deep', 'mishandle', 'warmed-over', 'slogs', 'father-and-son', 'too-long', 'Twohy', 'outré', 'megaplex', 'parsec', 'Engrossing', 'Evokes', 'gut-busting', 'archly', 'unselfconscious', 'funniness', 'lighter-than-air', 'moldering', 'crassly', 'gasbag', 'jacked-up', 'drek', 'mateys', 'Deflated', 'whip-smart', 'odoriferous', 'horror-comedy', 'careworn', 'Borstal', 'Krige', 'Uncommonly', 'hyper-realistic', 'fuddy-duddy', 'Shadyac', 'bang-bang', 'Frustratingly', 'Smoochy', 'Falters', 'Solomonic', 'Flounders', 'fudges', 'boosterism', 'Breillat', 'Trite', 'latently', 'cowrote', 'smarty-pants', 'Hampered', 'Nachtwey', 'harangues', 'Highbrow', 'Unintelligible', 'wind-tunnel', 'RINGING', 'crassness', 'Leontine', 'yawner', 'lovably', 'assuredness', 'not-quite', 's/m', 'dreaminess', 'drang', 'Clayburgh', 'Hard-core', 'sermonizing', 'Kirkegaard', 'bathos', 'phantasms', 'knockabout', 'head-turner', 'tartly', 'sytle', 'white-knuckled', 'consigliere', 'Viveka', 'meddles', 'cutes', 'ponderously', 'Hudlin', 'all-too-human', 'Kouyate', 'Dooby', 'hit-man', 'over-dramatic', 'half-bad', 'mopes', 'K-19', 'pretention', 'Succumbs', 'pabulum', 'Pootie', 'Contradicts', 'geniality', 'non-techies', 'Enthusiastically', 'Schnieder', 'real-live', 'bio-pic', 'white-trash', 'Purposefully', 'leers', 'sad-sack', 'sugar-coating', 'pretty-boy', 'junior-high', 'defuses', 'Writhing', 'wheedling', 'dynamited', 'Contrived', '90-plus', 'Israeli-occupied', 'Accorsi', 'flim-flam', 'codswallop', 'swaggers', 'meat-and-potatoes', 'less-is-more', 'transferral', 'gullets', 'unfilmable', 'be-bop', 'Boisterous', 'grandiloquent', 'Scarpia', 'Igby', 'pulchritude', 'SWEPT', 'fatalist', 'bewilderingly', 'Yasujiro', 'Missteps', 'Szpilman', 'Makhmalbaf', 'frat-boy', 'Abbass', 'masterpeice', 'irrigates', 'Presson', 'Musker', 'wankery', 'bagatelle', 'sorriest', 'Over-the-top', 'Tornatore', 'Open-minded', 'scarifying', 'Headly', 'untuned', 'aimlessness', 'Bedknobs', 'Forages', 'spangle', 'Carlen', 'aggrandizing', 'one-sidedness', 'post-feminist', 'early-on', 'skippable', 'Talky', 'bracingly', 'MacGraw', 'fluxing', 'Crimen', 'tantalizes', 'non-narrative', 'bizzarre', 'Flaccid', 'double-crosses', 'leonine', 'Ratcatcher', 'Well-done', 'unpicked', 'self-regarding', 'heart-tugging', 'sentimentalist', 'rotoscope', 'yuks', 'hyper-real', 'scripters', 'Unfunny', 'super-wealthy', 'transmogrification', 'bullfighters', 'exhilarate', 'flashbulb', 'ill-starred', 'dizzily', 'kitchen-sink', 'Sabara', 'Elizabethans', 'Veers', 'Windtalkers', 'grand-scale', 'gelati', 'debases', 'tinseltown', 'horror/thriller', 'neurotics', 'Passable', 'postapocalyptic', 'Keenly', 'zings', 'Immersing', 'sugarcoated', 'romantic-comedy', 'smart-aleck', 'Herek', 'stress-reducing', 'sinuously', 'Musset', 'Kaige', 'chortles', 'Friday-night', 'pencil-thin', 'Cremaster', 'Forgettable', 'sheerly', 'Prurient', 'exhuming', 'slam-bang', 'Jam-packed', 'raffish', 'blood-drenched', 'Iben', 'pressure-cooker', 'flabbergasting', 'dull-witted', 'Morvern', 'candy-like', 'Attal', 'Gadzooks', 'nailbiter', 'smeary', 'unsatisfactorily', 'Shunji', 'south-of-the-border', 'dolorous', 'overstays', 'chick-flick', 'Earnhart', 'lip-gloss', 'stomach-turning', 'chateaus', 'disposible', 'Tashlin', 'martinet', 'sleaziness', 'nymphette', 'glad-handing', 'Affable', 'Well-made', 'brush-up', 'Disjointed', 'zigs', 'malapropisms', 'Pimental', 'Desplechin', 'Bluer', 'three-to-one', 'Gaghan', 'Transcends', 'Falsehoods', 'all-woman', 'off-handed', 'underplays', 'flatfooted', 'heavy-handedness', 'pyschological', 'sober-minded', 'Rubenesque', 'light-heartedness', 'didacticism', 'SANDLER', 'unsettlingly', 'Tufano', 'unrepentantly', 'intoxicatingly', 'multi-character', 'swashbucklers', 'Well-meaning', 'low-heat', 'even-handedness', 'Csokas', 'Ballhaus', 'non-actors', 'windbags', 'improbabilities', 'non-fan', 'human-scale', 'deliberateness', 'amuse-bouche', 'grittiest', 'hamfisted', 'undramatic', 'Scherfig', 'even-toned', 'Burkinabe', 'hagiographic', 'Laurice', 'sun-splashed', 'self-mocking', 'big-wave', 'Incoherence', 'connect-the-dots', 'kittenish', 'retitle', 'worldly-wise', 'Z-Boys', 'malediction', 'low-wattage', 'parapsychological', 'plot-wise', 'Baader-Meinhof', 'setpieces', 'ultraviolent', 'flimsier', 'coheres', 'Petroni', 'played-out', 'hopped-up', 'uncommercial', 'perkiness', 'Holofcener', 'idealistically', 'teeny-bopper', 'Tatou', 'white-on-black', 'belly-dancing', 'talking-head', 'action-movie', '10th-grade', 'new-agey', 'non-Disney', 'unhidden', 'fourteen-year', 'comedically', 'Formulaic', 'frissons', 'unoriginality', 'Ho-Tep', 'overacted', 'corniest', 'fastidiousness', 'loosey-goosey', 'Leery', 'Gaitskill', 'straight-shooting', 'Ahola', 'excrescence', 'quirkily', 'suavity', 'Cavaradossi', 'ages-old', 'high-wattage', 'stagey', 'Uruk-Hai', 'Blackboards', 'respites', 'dead-eyed', 'creepy-crawly', 'nonagenarian', 'Francophiles', 'dime-store', 'Belinsky', 'captivatingly', 'Jaglom', 'Seigner', 'Bloodwork', 'Decter', 'mass-murdering', 'swoony', 'mythmaking', 'mystery/thriller', 'unimaginatively', 'jettisons', 'lionize', 'thornier', 'salt-of-the-earth', 'Splendidly', 'unblinkingly', 'Kuras', 'spell-casting', 'bigger-than-life', 'tastelessness', 'defecates', 'post-breakup', 'sprinklings', 'congeals', 'Dolgin', 'corniness', 'anthropologically', 'uninvolving', 'sidesplitting', 'leatherbound', 'bedevils', 'ever-escalating', 'Kozmo', 'rockumentary', 'light-footed', 'Verdu', 'substance-free', 'Brimful', 'Christmas-tree', 'Majidi', 'overreaches', 'mirthless', 'jazzes', 'Silberling', 'Muccino', 'gratingly', 'sappiness', 'freak-outs', 'Savoca', 'jostles', 'luridly', 'mean-spiritedness', 'dictums', 'goofily', 'politesse', 'poster-boy', 'Pellington', 'Sidey', 'mythologizing', 'through-line', 'made-for-cable', 'pep-talk', 'Innocuous', 'doltish', 'Oozes', 'tradition-bound', 'sparklingly', 'Brims', 'lip-reading', 'Serry', 'byplay', 'Sexpot', 'Admirably', 'tiresomely', 'co-dependence', 'inexpressive', 'Medem', 'drabness', 'Rabbit-Proof', 'Paymer', 'Disreputable', 'Woefully', 'Vibrantly', 'Münch', 'Fresnadillo', 'sword-and-sorcery', 'well-detailed', 'fabuleux', 'timewaster', 'Cletis', 'Schepisi', '100-minute', 'Blutarsky', 'u-boat', 'dewy-eyed', 'Befuddled', 'unspool', 'open-endedness', 'bottom-feeder', 'groaner', 'Absurdities', 'swordfights', 'semi-coherent', 'neorealism', 'amateurishly', 'Partway', 'homiletic', 'Marvelously', 'sweet-tempered', 'Suffocated', 'Opportunists', 'Aspires', 'date-night', 'Hundert', 'eroticized', 'pile-ups', 'Jirí', 'soft-porn', 'Thulani', 'espite', 'Hatosy', 'Cantet', 'award-worthy', 'prep-school', 'Plodding', 'rootlessness', 'Degenerates', 'boorishness', 'Laggard', 'incinerates', 'Bleibtreu', 'gorefest', 'Oliviera', 'teen-oriented', 'cutting-room', 'fiascoes', 're-invents', 'fictionalize', 'guilt-trip', 'enrapturing', 'age-wise', 'stagy', 'repulsively', 'slummy', 'twenty-some', 'lucratively', 'well-wrought', 'fear-inducing', '800-page', 'self-glorification', 'clunkiness', 'snoozy', 'lethargically', 'Soapdish', 'unengaging', 'well-observed', 'Strident', 'fantasy-adventure', 'star-power', 'zzzzzzzzz', 'shellshock', 'turntablists', 'uncharismatic', 'exhaustingly', 'Bearable', 'Christian-themed', 'stiflingly', 'girl-power', 'Croze', 'under-12', 'wiseacre', 'Gutterball', 'verismo', 'dead-center', 'Rubbo', 'genre-busting', 'crosscuts', 'Besco', 'romancer', 'Flatman', 'TV-style', 'festooning', 'way-cool', 'Oversexed', 'guessable', 'over-blown', 'scorchingly', 'hardhearted', 'walled-off', 'Otar', 'Rusi', 'old-hat', 'triteness', 'top-billed', 'sucker-punch', 'paint-by-number', 'not-so-hot', 'woe-is-me', 'setpiece', 'go-for-broke', 'Breheny', 'Swimfan', 'rhapsodize', 'Pythonesque', 'well-shot', 'beer-soaked', 'laddish', 'laser-beam', 'deep-sixed', 'seesawing', 'fuddled', 'Meeropol', 'Pretension', 'luvvies', 'affectingly', 'Depressingly', 'dry-eyed', 'multi-layers', 'out-sized', 'sunbaked', 'Lazily', 'funnybone', 'undeterminable', 'Schwentke', 'Laughably', 'not-so-small', 'Squandering', 'showiness', 'Inconsequential', 'Festers', 'Zaidan', 'amusedly', 'exhilaratingly', 'crappola', 'profundities', 'naïf', 'Made-Up', \"L'Avventura\", 'self-empowering', 'bigotries', 'Callar', 'self-serious', 'over-indulgent', 'McCrudden', 'be-all-end-all', 'boy-meets-girl', 'Freudianism', 'Peploe', 'emptily', 'meanspirited', 'Janszen', 'one-joke', 'flower-power', 'pushiness', 'Fleder', 'well-trod', 'pillages', 'Marivaux', 'Merchant-Ivory', 'sogginess', 'Fairy-tale', 'sketchiest', 'Nolden', 'blank-faced', 'greasiest', 'action/comedy', 'Schweig', 'Ponderous', 'yawp', 'rap-metal', 'skeeved', 'thesps', 'small-budget', 'ragbag', 'slap-happy', 'groaners', 'time-killer', 'Büttner', 'exasperatingly', 'snail-like', 'encumbers', 'B-minus', 'Oedekerk', 'action/thriller', 'TelePrompTer', 'highly-praised', 'self-revealing', 't-tell', 'Knockaround', 'Exudes', 'jived', 'infantilized', 'adrenalized', 'port-of-call', 'cheap-shot', 'Yakusho', 'squaddie', 'rough-around-the-edges', 'Captivates', 'Anspaugh', 'screenful', 'Grabowsky', 'guilty-pleasure', 'exotic-looking', 'coltish', 'Giler', 'you-are-there', 'documentary-like', 'directress', 'heartstring', 'Romijn-Stamos', 'thrown-together', 'Deblois', 'uninflected', 'spates', 'not-so-bright', 'community-college', 'neo-realist', 'writer/director/producer', 'post-adolescent', 'Believability', 'high-adrenaline', 'superheroics', 'Godawful', '4/5ths', 'sermonize', 'so-bad-it', '7th-century', 'spring-break', 'somnambulant', 'costumey', 'camera-work', 'teeth-gnashing', 'slaloming', 'Irwins', 'Excruciatingly', 'Compulsively', 'Traffics', 'Well-intentioned', 'dysfunctionally', 'impetuousness', 'rusted-out', 'romanticization', 'uninventive', 'salaciously', 'ever-watchful', 'Italian-language', 'sentimentalized', 'rat-a-tat', 'prankish', 'pre-credit', 'seesawed', 'seriocomic', 'self-destructiveness', 'dislikable', 'oh-so-important', 'boom-box', 'beseechingly', 'not-so-big', 'sticky-sweet', 'Elicits', 'moppets', 'vengefulness', 'crudities', 'Besotted', 'non-porn', 'side-splittingly', 'Abderrahmane', 'not-so-funny', 'Phocion', 'cliche-ridden', 'breeziness', 'poignance', 'Competently', '125-year', 'nature/nurture', 'restage', 'Schütte', 'mind-bender', 'plot-lines', 'stop-and-start', 'Shainberg', 'gal-pal', 'Exploitative', 'Béart', 'Bolado', 'writer/directors', 'neo-Nazism', 'courageousness', 'rejiggering', 'stop-go', 'well-realized', 'mordantly', 'cornpone', 'amateurishness', 'spycraft', 'strip-mined', 'holiday-season', 'reconceptualize', 'delibrately', 'transfigures', 'rejigger', 'Melds', 'Nohe', 'bow-wow', 'actioners', 'trailer-trash', 'overladen', 'niftiest', 'third-act', 'Payami', 'ugly-looking', 'near-disaster', 'buddy-cop', 'odd-couple', 'Cockettes', 'all-enveloping', 'teen-pop', 'Testud', 'live-wire', 'crossing-over', 'Overwrought', '26-episode', 'Staggeringly', 'Guei', 'overpraised', 'outlandishness', 'self-mutilating', 'heart-breakingly', 'preposterousness', 'Gulpilil', 'laugh-a-minute', 'farcically', 'groan-inducing', 'soullessness', 'soul-killing', 'shoot-em-ups', 'good-bad', 'wish-fulfilling', 'Sodden', 'dead-eye', 'Filipino-Americans', 'howlingly', 'middle-America', 'brusqueness', 'flame-like', 'lumpish', 'Far-fetched', 'backmasking', 'dreadfulness', 'ho-ho-ho', 'Næss', 'haunted-house', 'desecrations', 'Deutchland', 'actorly', 'unentertaining', 'Nervy', 'Euro-trash', 'summer-camp', 'fiftysomething', 'Hashiguchi', 'Intacto', 'Russos', 'silly-looking', 'under-10', 'whimsicality', 'super-serious', 'Rechy', 'Carion', 'cremaster', 'Nonchalantly', '10-course', 'uncompelling', 'neurasthenic', 'Kazmierski', 'Tanovic', '65-minute', 'untidily', 'not-being', 'Ming-liang', 'Joffé', 'unforgivingly', 'First-timer', 'coma-like', 'Hirosue', 'well-put-together', 'Sensitively', 'murkiest', 'spoofy', 'Juergensen', 'been-there', 'zero-dimensional', 'Humorless', 'ransacks', 'meet-cute', 'embroils', 'Corcuera', 'Disney-style', 'tissue-thin', 'Clockstoppers', 'Ruh-roh', 'melodramatics', 'Daringly', 'Juwanna', 'all-French', 'bodice-ripper', 'hypermasculine', 'elaborateness', 'director/co-writer', 'Wertmuller', 'middle-brow', '15-cent', 'Ellefsen', 'Snoots', '85-minute', 'filmgoing', 'Disney-fied', 'Fudges', 'Nenette', 'sugar-sweet', 'Powaqqatsi', 'roundelay', 'Limps', 'Gedeck', 'silent-movie', 'bad-luck', 'ear-pleasing', 'psychologizing', 'gooeyness', 'unreligious', 'half-lit', 'Caton-Jones', 'throat-singing', 'party-hearty', 'half-sleep', 'art-directed', 'GUNFIRE', 'Mouglalis', 'fourth-rate', 'shrieky', 'giant-screen', 'Bible-study', 'Spielbergian', 'movie-of-the-week', 'fire-red', 'quick-cut', 'Frankenstein-like', 'Naqoyqatsi', 'long-faced', 'nowheresville', 'miscalculates', 'co-writer/director', 'world-at-large', 'ball-and-chain', 'work-hours', 'rhapsodizes', 'unamusing', 'hard-to-believe', 'semi-improvised', 'Blithely', 'not-great', 'undogmatic', 'sanctimoniousness', 'uni-dimensional', 'Chou-Chou', 'ticket-buyers', 'Louiso', 'eyeball-to-eyeball', 'Serrault', 'Heavy-handed', '37-minute', 'crapulence', 'character-oriented', 'unshapely', 'mortarboards', 'Ferzan', 'Magimel', 'flibbertigibbet', 'creature-feature', 'thriller/horror', 'loopiness', 'Reigen', 'semi-stable', 'dorkier', 'cartoonlike', 'transfixes', 'Ohlinger', 'medium-grade', 'grittily', 'crime-busting', '95-minute', 'irony-free', 'haplessness', 'political-action', 'Deconstructionist', 'Gymkata', 'Wildean', 'Sorimachi', 'Ya-Yas', 'VelJohnson', 'Cacoyannis', 'CHASES', 'shmear', 'ploddingly', 'done-that', 'Liyan', 'shoplifts', 'Steadfastly', 'pentacostal', 'soaper', 'inter-family', 'Compassionately', 'chick-flicks', 'Kosminsky', 'Baby-faced', 'fillm', 'pop-influenced', 'laugh-filled', 'Hjejle', 'Unwieldy', 'truth-in-advertising', 'stiff-upper-lip', 'morning-glory', 'peerlessly', 'Ballesta', 'a-knocking', 'unflaggingly', 'extreme-sports', 'period-piece', 'under-rehearsed', 'Jolting', 'Everlyn', 'kid-pleasing', 'neo-fascism', 'focus-grouped', 'moviehouse', 'narcotized', 'extra-dry', 'wham-bam', 'haphazardness', 'disquietingly', 'Narratively', 'drably', 'culture-clash', 'Pollyana', 'by-the-books', 'food-for-thought', 'stumblings', 'gang-infested', 'hard-eyed', 'shticks', 'unimpressively', 'Kalesniko', 'Spinotti', 'Bogdanich', 'spy-thriller', 'fun-seeking', 'anteing', 'Oscar-caliber', 'perfervid', 'sentimentalizing', 'megaplexes', 'American-Russian', 'Hypnotically', 'squirm-inducing', 'over-familiarity', 'uplifter', 'middle-agers', 'quasi-documentary', 'handsome-looking', 'Shakesperean', 'Ruzowitzky', 'Enjoyably', 'feel-bad', 'Gussied', 'Laugh-out-loud', 'saucer-eyed', 'sex-reassignment', 'Harks', 'mid-to-low', 'Sampi', 'thrift-shop', 'Engagingly', 'Nettelbeck', 'water-born', 'denouements', 'wised-up', 'money-oriented', 'Meyjes', 'Wolodarsky', 'Oscar-winners', 'joylessly', 'Dogwalker', 'baseball-playing', 'spirit-crushing', 'Ozpetek', 'kilt-wearing', 'Crummles', 'critic-proof', 'water-bound', 'common-man', 'powerment', 'stultifyingly', 'Control-Alt-Delete', 'niblet', 'migraine-inducing', 'suspenser', 'siuation', 'sepia-tinted', 'bigger-name', 'patient/doctor', 'actory', 'pussy-ass', 'Peppering', 'rise-and-fall', 'head-trip', 'Sha-Na-Na', 'juiceless', 'claustrophic', 'dog-tag', 'gasp-inducing', 'sub-aquatic', 'cannier', 'indomitability', 'Hanussen', 'updatings', 'stumblebum', 'sob-story', 'Ah-nuld', 'mistaken-identity', 'exporing', 'larky', 'Sissako', 'Decasia', 'out-of-field', 'skid-row', 'goombah', 'PG-13-rated', 'Two-bit', 'beer-fueled', 'Kurys', 'no-bull', 'wincingly', 'hat-in-hand', 'giggle-inducing', 'B-film', 'pin-like', 'campaign-trail', 'frightfest', 'opera-ish', 'hard-to-swallow', 'done-to-death', 'toolbags', 'aboul', 'ivans', 'semi-humorous', 'glass-shattering', 'string-pulling', 'anti-Hollywood', 'Dridi', 'Picpus', 'witlessness', 'loose-jointed', '72-minute', 'laboriousness', 'crowdpleaser', 'pan-American', 'heartwarmingly', 'ineptitudes', 'Horrendously', 'riot-control', 'Qatsi', 'encomia', 'bedevilling', 'decent-enough', 'sweaty-palmed', 'horror/action', 'likably', 'Hungry-Man', '20-car', 'Soliah', 'Famuyiwa', 'poorly-constructed', 'Purports', 'plaintiveness', 'Scherick', 'studio-produced', 'datedness', 'large-frame', 'Satisfyingly', 'Portentous', 'gut-bustingly', 'platinum-blonde', 'bug-eye', 'well-mounted', 'off-puttingly', 'obviation', 'Xiaoshuai', 'fever-pitched', 'body-switching', 'candy-coat', 'car-wreck', 'Compellingly', 'Sillier', 'self-dramatizing', 'rosily', 'manipulativeness', 'Coriat', 'animaton', 'sappier', 'stuffiest', 'Hermocrates', 'field-sized', 'Romoli', 'shapable', 'drung', 'copyof', 'little-remembered', 'Chouraqui', 'fountainheads', 'decades-spanning', 'inconsequentiality', 'Bollywood/Hollywood', 'homo-eroticism', 'hard-to-predict', 'narcotizing', 'schticky', 'Mollà', 'Viterelli', 'A.E.W.', 'Execrable', 'Schmaltzy', 'testosterone-charged', '88-minute', 'anti-Darwinian', 'Zhuangzhuang', 'action-fantasy', 'Wishy-washy', 'video-viewing', 'Bielinsky', 'humbuggery', 'pouty-lipped', 'Bleakly', 'Pratfalls', 'ventually', 'shiver-inducing', 'Runteldat', 'near-masterpiece', 'Workmanlike', 'book-on-tape', 'ultra-low-budget', 'Light-years', 'wise-beyond-her-years', 'loosely-connected', 'IHOPs', 'post-camp', 'McKlusky', 're-voiced', 'romance-novel', 'mid-film', 'miscasts', 'Blandly', 'eye-boggling', 'swimfan', '77-minute', 'soaringly', 'period-perfect', 'Chardonne', 'Maelström', 'poor-me', 'eye-filling', 'Plods', 'forgettably', 'vidgame', 'CleanFlicks', 'Direct-to-Video', 'dearly-loved', 'self-caricature', 'Blisteringly', 'snazzy-looking', 'quick-buck', 'Benshan', 'shapelessly', 'Allodi', 'whip-crack', 'snore-fest', 'underconfident', 'Dismally', 'girl-woman', 'gut-buster', 'ugly-duckling', 'mind-destroying', 'Iosseliani', 'teendom', 'Vietnamese-born', 'C.H.O.', 'precollegiate', 'manga-like', 'hotdogging', 'gang-member', 'softheaded', '93-minute', 'Goldbacher', 'strung-together', 'out-of-kilter', 'self-infatuated', 'italicizes', 'derivativeness', 'documentary-making', 'nerve-rattling', 'Næs', 'give-a-damn', 'shimmeringly', 'writer-producer-director', 'post-colonialist', '87-minute', 'non-God', 'twinkly-eyed', 'show-tunes', '76-minute', 'beat-the-clock', 'movie-esque', 'Art-house', 'Well-acted', 'self-exploitation', 'good-naturedness', 'the-night', '99-minute', 'Unflinchingly', 'clutchy', 'heart-string', 'overplotted', 'teen-targeted', 'Jaw-droppingly', 'Kalvert', 'Plotless', 'laugh-free', '94-minute', 'nonjudgmentally', 'Hollywood-ized', 'comedy/thriller', 'peace-and-love', 'bohos', 'chopsocky', 'laugther', 'gorefests', 'teeth-clenching', 'Addessi', 'Montias', 'Bergmanesque', 'slam-bam', 'RINGU', 'hypertime', 'all-over-the-map', 'walking-dead', 'Nuttgens', 'Penotti', 'police-procedural', 'writer-actor', 'less-than-thrilling', 'thumpingly', 'greaseballs', 'movie-industry', 'ill-constructed', 'celebrityhood', 'Abysmally', 'baaaaaaaaad', 'scene-chewing', 'future-world', 'sixties-style', 'hole-ridden', \"hors-d'oeuvre\", 'AM-radio', 'Cirulnick', 'Piesiewicz', 'BarberShop'])\n",
            "There are 17579 words in the training, dev, test set that are also in the vector set\n",
            "There are 699 words that are not here\n"
          ]
        }
      ],
      "source": [
        "words_found = set()\n",
        "words_not_found = set()\n",
        "\n",
        "pretrained_tokens = v.w2i.keys()\n",
        "print(pretrained_tokens)\n",
        "\n",
        "for text in train_data:\n",
        "  for token in text.tokens:\n",
        "    if token in pretrained_tokens:\n",
        "      words_found.add(token)\n",
        "    else:\n",
        "      words_not_found.add(token)\n",
        "\n",
        "print(f\"There are {len(words_found)} words in the training, dev, test set that are also in the vector set\")\n",
        "print(f\"There are {len(words_not_found)} words that are not here\")"
      ]
    },
    {
      "cell_type": "code",
      "execution_count": 204,
      "metadata": {
        "id": "AVt1tMq9Zr-x"
      },
      "outputs": [],
      "source": []
    },
    {
      "cell_type": "markdown",
      "metadata": {
        "id": "BfEd38W0NnAI"
      },
      "source": [
        "#### Exercise: train Deep CBOW with (fixed) pre-trained embeddings\n",
        "\n",
        "Now train Deep CBOW again using the pre-trained word vectors.\n"
      ]
    },
    {
      "cell_type": "code",
      "execution_count": 205,
      "metadata": {
        "id": "z_6ooqgEsB20"
      },
      "outputs": [],
      "source": [
        "# We define a new class that inherits from DeepCBOW.\n",
        "class PTDeepCBOW(DeepCBOW):\n",
        "  def __init__(self, vocab_size, embedding_dim, hidden_dim, output_dim, vocab):\n",
        "    super(PTDeepCBOW, self).__init__(\n",
        "        vocab_size, embedding_dim, hidden_dim, output_dim, vocab)"
      ]
    },
    {
      "cell_type": "code",
      "execution_count": 206,
      "metadata": {
        "colab": {
          "base_uri": "https://localhost:8080/"
        },
        "id": "JfIh4Ni6yuAh",
        "outputId": "f97198c5-a7e2-4853-ec5d-6f0d397574c5"
      },
      "outputs": [
        {
          "output_type": "stream",
          "name": "stdout",
          "text": [
            "Shuffling training data\n",
            "Iter 1000: loss=1508.8820, time=1.90s\n",
            "iter 1000: dev acc=0.3624\n",
            "new highscore\n",
            "Iter 2000: loss=1391.7061, time=4.27s\n",
            "iter 2000: dev acc=0.4114\n",
            "new highscore\n",
            "Iter 3000: loss=1397.2859, time=6.56s\n",
            "iter 3000: dev acc=0.3606\n",
            "Iter 4000: loss=1334.2451, time=8.86s\n",
            "iter 4000: dev acc=0.3887\n",
            "Iter 5000: loss=1314.1111, time=11.08s\n",
            "iter 5000: dev acc=0.4087\n",
            "Iter 6000: loss=1320.4510, time=13.32s\n",
            "iter 6000: dev acc=0.3851\n",
            "Iter 7000: loss=1326.7700, time=15.56s\n",
            "iter 7000: dev acc=0.3978\n",
            "Iter 8000: loss=1359.5455, time=17.80s\n",
            "iter 8000: dev acc=0.3915\n",
            "Shuffling training data\n",
            "Iter 9000: loss=1288.8036, time=20.06s\n",
            "iter 9000: dev acc=0.4096\n",
            "Iter 10000: loss=1282.8715, time=22.29s\n",
            "iter 10000: dev acc=0.4133\n",
            "new highscore\n",
            "Iter 11000: loss=1299.0201, time=24.55s\n",
            "iter 11000: dev acc=0.3851\n",
            "Iter 12000: loss=1298.1214, time=26.75s\n",
            "iter 12000: dev acc=0.4051\n",
            "Iter 13000: loss=1298.0764, time=28.97s\n",
            "iter 13000: dev acc=0.4151\n",
            "new highscore\n",
            "Iter 14000: loss=1298.9590, time=31.20s\n",
            "iter 14000: dev acc=0.3660\n",
            "Iter 15000: loss=1291.3640, time=33.35s\n",
            "iter 15000: dev acc=0.3860\n",
            "Iter 16000: loss=1302.2447, time=35.52s\n",
            "iter 16000: dev acc=0.4160\n",
            "new highscore\n",
            "Iter 17000: loss=1336.9227, time=37.75s\n",
            "iter 17000: dev acc=0.4015\n",
            "Shuffling training data\n",
            "Iter 18000: loss=1317.9478, time=39.89s\n",
            "iter 18000: dev acc=0.4287\n",
            "new highscore\n",
            "Iter 19000: loss=1233.8339, time=42.10s\n",
            "iter 19000: dev acc=0.4169\n",
            "Iter 20000: loss=1289.4503, time=44.23s\n",
            "iter 20000: dev acc=0.4314\n",
            "new highscore\n",
            "Iter 21000: loss=1310.2302, time=46.44s\n",
            "iter 21000: dev acc=0.4260\n",
            "Iter 22000: loss=1254.0146, time=48.66s\n",
            "iter 22000: dev acc=0.4233\n",
            "Iter 23000: loss=1309.0946, time=50.89s\n",
            "iter 23000: dev acc=0.3869\n",
            "Iter 24000: loss=1290.6902, time=53.07s\n",
            "iter 24000: dev acc=0.3924\n",
            "Iter 25000: loss=1256.2758, time=55.29s\n",
            "iter 25000: dev acc=0.3969\n",
            "Shuffling training data\n",
            "Iter 26000: loss=1286.3012, time=57.52s\n",
            "iter 26000: dev acc=0.4269\n",
            "Iter 27000: loss=1259.6068, time=59.71s\n",
            "iter 27000: dev acc=0.4169\n",
            "Iter 28000: loss=1247.4965, time=61.88s\n",
            "iter 28000: dev acc=0.4251\n",
            "Iter 29000: loss=1261.1928, time=64.10s\n",
            "iter 29000: dev acc=0.4242\n",
            "Iter 30000: loss=1273.6132, time=66.29s\n",
            "iter 30000: dev acc=0.4042\n",
            "Iter 31000: loss=1257.8060, time=68.49s\n",
            "iter 31000: dev acc=0.3996\n",
            "Iter 32000: loss=1281.1294, time=70.74s\n",
            "iter 32000: dev acc=0.4269\n",
            "Iter 33000: loss=1255.3448, time=72.96s\n",
            "iter 33000: dev acc=0.3960\n",
            "Iter 34000: loss=1265.8485, time=75.20s\n",
            "iter 34000: dev acc=0.3924\n",
            "Shuffling training data\n",
            "Iter 35000: loss=1207.8590, time=77.44s\n",
            "iter 35000: dev acc=0.4151\n",
            "Iter 36000: loss=1199.0963, time=79.82s\n",
            "iter 36000: dev acc=0.4196\n",
            "Iter 37000: loss=1264.6700, time=84.75s\n",
            "iter 37000: dev acc=0.3669\n",
            "Iter 38000: loss=1233.0350, time=87.40s\n",
            "iter 38000: dev acc=0.3815\n",
            "Iter 39000: loss=1242.8250, time=89.61s\n",
            "iter 39000: dev acc=0.4096\n",
            "Iter 40000: loss=1289.1356, time=92.10s\n",
            "iter 40000: dev acc=0.4233\n",
            "Iter 41000: loss=1236.6028, time=94.81s\n",
            "iter 41000: dev acc=0.4387\n",
            "new highscore\n",
            "Iter 42000: loss=1228.3813, time=97.07s\n",
            "iter 42000: dev acc=0.4314\n",
            "Shuffling training data\n",
            "Iter 43000: loss=1240.0517, time=99.23s\n",
            "iter 43000: dev acc=0.4005\n",
            "Iter 44000: loss=1282.9710, time=101.42s\n",
            "iter 44000: dev acc=0.3969\n",
            "Iter 45000: loss=1247.9828, time=103.57s\n",
            "iter 45000: dev acc=0.4323\n",
            "Iter 46000: loss=1223.9583, time=105.74s\n",
            "iter 46000: dev acc=0.4169\n",
            "Iter 47000: loss=1223.4040, time=107.91s\n",
            "iter 47000: dev acc=0.4223\n",
            "Iter 48000: loss=1246.1866, time=110.06s\n",
            "iter 48000: dev acc=0.4278\n",
            "Iter 49000: loss=1244.4097, time=112.20s\n",
            "iter 49000: dev acc=0.4251\n",
            "Iter 50000: loss=1256.3407, time=114.33s\n",
            "iter 50000: dev acc=0.3969\n",
            "Iter 51000: loss=1245.1646, time=116.49s\n",
            "iter 51000: dev acc=0.4242\n",
            "Shuffling training data\n",
            "Iter 52000: loss=1232.9107, time=118.63s\n",
            "iter 52000: dev acc=0.4160\n",
            "Iter 53000: loss=1203.7482, time=120.80s\n",
            "iter 53000: dev acc=0.4214\n",
            "Iter 54000: loss=1220.1936, time=122.94s\n",
            "iter 54000: dev acc=0.4187\n",
            "Iter 55000: loss=1224.1812, time=125.05s\n",
            "iter 55000: dev acc=0.4051\n",
            "Iter 56000: loss=1233.9183, time=127.21s\n",
            "iter 56000: dev acc=0.4214\n",
            "Iter 57000: loss=1227.9086, time=129.36s\n",
            "iter 57000: dev acc=0.4360\n",
            "Iter 58000: loss=1235.0548, time=131.58s\n",
            "iter 58000: dev acc=0.4178\n",
            "Iter 59000: loss=1228.7450, time=133.71s\n",
            "iter 59000: dev acc=0.4278\n",
            "Shuffling training data\n",
            "Iter 60000: loss=1181.7125, time=135.81s\n",
            "iter 60000: dev acc=0.4305\n",
            "Iter 61000: loss=1201.3555, time=137.83s\n",
            "iter 61000: dev acc=0.4178\n",
            "Iter 62000: loss=1189.1288, time=139.84s\n",
            "iter 62000: dev acc=0.4051\n",
            "Iter 63000: loss=1177.7097, time=142.27s\n",
            "iter 63000: dev acc=0.4124\n",
            "Iter 64000: loss=1203.5943, time=144.88s\n",
            "iter 64000: dev acc=0.4287\n",
            "Iter 65000: loss=1228.5255, time=146.95s\n",
            "iter 65000: dev acc=0.4242\n",
            "Iter 66000: loss=1235.9527, time=148.96s\n",
            "iter 66000: dev acc=0.4332\n",
            "Iter 67000: loss=1179.4083, time=150.99s\n",
            "iter 67000: dev acc=0.4060\n",
            "Iter 68000: loss=1233.6699, time=153.05s\n",
            "iter 68000: dev acc=0.4378\n",
            "Shuffling training data\n",
            "Iter 69000: loss=1184.7693, time=155.07s\n",
            "iter 69000: dev acc=0.3896\n",
            "Iter 70000: loss=1134.5723, time=157.10s\n",
            "iter 70000: dev acc=0.4187\n",
            "Iter 71000: loss=1186.4072, time=159.11s\n",
            "iter 71000: dev acc=0.4042\n",
            "Iter 72000: loss=1200.0938, time=161.14s\n",
            "iter 72000: dev acc=0.4196\n",
            "Iter 73000: loss=1232.8266, time=163.15s\n",
            "iter 73000: dev acc=0.4114\n",
            "Iter 74000: loss=1233.9127, time=165.21s\n",
            "iter 74000: dev acc=0.4269\n",
            "Iter 75000: loss=1161.3554, time=167.24s\n",
            "iter 75000: dev acc=0.4233\n",
            "Iter 76000: loss=1230.8136, time=169.25s\n",
            "iter 76000: dev acc=0.4087\n",
            "Shuffling training data\n",
            "Iter 77000: loss=1189.7397, time=171.33s\n",
            "iter 77000: dev acc=0.4105\n",
            "Iter 78000: loss=1161.3730, time=173.39s\n",
            "iter 78000: dev acc=0.4096\n",
            "Iter 79000: loss=1168.3054, time=175.49s\n",
            "iter 79000: dev acc=0.4042\n",
            "Iter 80000: loss=1150.1784, time=177.61s\n",
            "iter 80000: dev acc=0.4214\n",
            "Iter 81000: loss=1168.9577, time=179.74s\n",
            "iter 81000: dev acc=0.4142\n",
            "Iter 82000: loss=1193.1083, time=181.91s\n",
            "iter 82000: dev acc=0.3824\n",
            "Iter 83000: loss=1163.5194, time=184.11s\n",
            "iter 83000: dev acc=0.4178\n",
            "Iter 84000: loss=1205.5302, time=186.28s\n",
            "iter 84000: dev acc=0.4105\n",
            "Iter 85000: loss=1199.6226, time=188.52s\n",
            "iter 85000: dev acc=0.4242\n",
            "Shuffling training data\n",
            "Iter 86000: loss=1134.3414, time=190.75s\n",
            "iter 86000: dev acc=0.4096\n",
            "Iter 87000: loss=1135.3993, time=192.89s\n",
            "iter 87000: dev acc=0.4205\n",
            "Iter 88000: loss=1124.6859, time=194.99s\n",
            "iter 88000: dev acc=0.3960\n",
            "Iter 89000: loss=1156.4402, time=197.08s\n",
            "iter 89000: dev acc=0.4251\n",
            "Iter 90000: loss=1160.2606, time=199.17s\n",
            "iter 90000: dev acc=0.4015\n",
            "Iter 91000: loss=1164.7582, time=201.23s\n",
            "iter 91000: dev acc=0.4114\n",
            "Iter 92000: loss=1225.0547, time=203.31s\n",
            "iter 92000: dev acc=0.4114\n",
            "Iter 93000: loss=1167.0084, time=205.65s\n",
            "iter 93000: dev acc=0.3851\n",
            "Shuffling training data\n",
            "Iter 94000: loss=1199.9834, time=207.74s\n",
            "iter 94000: dev acc=0.3960\n",
            "Iter 95000: loss=1120.0623, time=209.84s\n",
            "iter 95000: dev acc=0.4105\n",
            "Iter 96000: loss=1157.3865, time=211.92s\n",
            "iter 96000: dev acc=0.4196\n",
            "Iter 97000: loss=1192.4942, time=214.02s\n",
            "iter 97000: dev acc=0.4178\n",
            "Iter 98000: loss=1137.7311, time=216.10s\n",
            "iter 98000: dev acc=0.4114\n",
            "Iter 99000: loss=1160.2149, time=218.14s\n",
            "iter 99000: dev acc=0.4205\n",
            "Iter 100000: loss=1143.3796, time=220.19s\n",
            "iter 100000: dev acc=0.4069\n",
            "Done training\n",
            "Loading best model\n",
            "best model iter 41000: train acc=0.4829, dev acc=0.4387, test acc=0.4416\n"
          ]
        }
      ],
      "source": [
        "# Create a Deep CBOW model with pre-trained embeddings\n",
        "# YOUR CODE HERE\n",
        "pt_deep_cbow_model = PTDeepCBOW(len(v.w2i.keys()), 300, 100, 5, vocab=v)\n",
        "\n",
        "# copy pre-trained word vectors into embeddings table\n",
        "pt_deep_cbow_model.embed.weight.data.copy_(torch.from_numpy(vectors))\n",
        "\n",
        "# disable training the pre-trained embeddings\n",
        "pt_deep_cbow_model.embed.weight.requires_grad = False\n",
        "\n",
        "# move model to specified device\n",
        "pt_deep_cbow_model = pt_deep_cbow_model.to(device)\n",
        "\n",
        "# train the model\n",
        "optimizer = optim.Adam(pt_deep_cbow_model.parameters(), lr=0.0005)\n",
        "pt_deep_cbow_losses, pt_deep_cbow_accuracies = train_model(\n",
        "    pt_deep_cbow_model, optimizer, num_iterations=100000, \n",
        "    print_every=1000, eval_every=1000)"
      ]
    },
    {
      "cell_type": "code",
      "execution_count": 207,
      "metadata": {
        "colab": {
          "base_uri": "https://localhost:8080/",
          "height": 105
        },
        "id": "Ufujv3x31ufD",
        "outputId": "f0e396b7-719f-4152-f392-1f362dd62515"
      },
      "outputs": [
        {
          "output_type": "execute_result",
          "data": {
            "text/plain": [
              "[<matplotlib.lines.Line2D at 0x7f3af1ddc190>]"
            ]
          },
          "metadata": {},
          "execution_count": 207
        },
        {
          "output_type": "display_data",
          "data": {
            "text/plain": [
              "<Figure size 640x480 with 1 Axes>"
            ],
            "image/png": "[encoded data removed]"
          },
          "metadata": {}
        }
      ],
      "source": [
        "# plot dev accuracies\n",
        "plt.plot(pt_deep_cbow_accuracies)"
      ]
    },
    {
      "cell_type": "code",
      "execution_count": 208,
      "metadata": {
        "colab": {
          "base_uri": "https://localhost:8080/",
          "height": 105
        },
        "id": "YTJtKBzd7Qjr",
        "outputId": "323d4eaf-b515-4767-82c1-e2cd8cec25bd"
      },
      "outputs": [
        {
          "output_type": "execute_result",
          "data": {
            "text/plain": [
              "[<matplotlib.lines.Line2D at 0x7f3b071f1c10>]"
            ]
          },
          "metadata": {},
          "execution_count": 208
        },
        {
          "output_type": "display_data",
          "data": {
            "text/plain": [
              "<Figure size 640x480 with 1 Axes>"
            ],
            "image/png": "[encoded data removed]"
          },
          "metadata": {}
        }
      ],
      "source": [
        "# plot train loss\n",
        "plt.plot(pt_deep_cbow_losses)"
      ]
    },
    {
      "cell_type": "markdown",
      "metadata": {
        "id": "yFu8xzCy9XDW"
      },
      "source": [
        "**It looks like we've hit what is possible with just using words.**\n",
        "Let's move on by incorporating word order!"
      ]
    },
    {
      "cell_type": "markdown",
      "metadata": {
        "id": "g41yW4PL9jG0"
      },
      "source": [
        "# LSTM"
      ]
    },
    {
      "cell_type": "markdown",
      "metadata": {
        "id": "ODzXEH0MaGpa"
      },
      "source": [
        "It is time to get more serious. Even with pre-trained word embeddings and multiple layers, we still seem to do pretty badly at sentiment classification. \n",
        "The next step we can take is to introduce word order again, dropping our independence assumptions. In this way, we can get a representation of the sentence as an ordered set of tokens.\n",
        "\n",
        "We will get this representation using a **Long Short-Term Memory** (LSTM). As an exercise, we will code our own LSTM cell, so that we get comfortable with its inner workings.\n",
        "Once we have an LSTM cell, we can call it repeatedly, updating its hidden state one word at a time:\n",
        "\n",
        "```python\n",
        "rnn = MyLSTMCell(input_size, hidden_size)\n",
        "\n",
        "hx = torch.zeros(1, hidden_size)  # initial hidden state\n",
        "cx = torch.zeros(1, hidden_size)  # initial memory cell\n",
        "output = []                       # to save intermediate LSTM states\n",
        "\n",
        "# feed one word at a time\n",
        "for i in range(n_timesteps):\n",
        "  hx, cx = rnn(input[i], (hx, cx))\n",
        "  output.append(hx)\n",
        "```\n",
        "\n",
        "If you need some more help understanding LSTMs, you can check out these resources:\n",
        "- Blog post (highly recommended): http://colah.github.io/posts/2015-08-Understanding-LSTMs/\n",
        "- Paper covering LSTM formulas in detail: https://arxiv.org/abs/1503.04069 \n"
      ]
    },
    {
      "cell_type": "markdown",
      "metadata": {
        "id": "v9f4b45BXKFC"
      },
      "source": [
        "#### Exercise: Finish the LSTM cell below. \n",
        "You will need to implement the LSTM formulas:\n",
        "\n",
        "$$\n",
        "\\begin{array}{ll}\n",
        "        i = \\sigma(W_{ii} x + b_{ii} + W_{hi} h + b_{hi}) \\\\\n",
        "        f = \\sigma(W_{if} x + b_{if} + W_{hf} h + b_{hf}) \\\\\n",
        "        g = \\tanh(W_{ig} x + b_{ig} + W_{hg} h + b_{hg}) \\\\\n",
        "        o = \\sigma(W_{io} x + b_{io} + W_{ho} h + b_{ho}) \\\\\n",
        "        c' = f * c + i * g \\\\\n",
        "        h' = o \\tanh(c') \\\\\n",
        "\\end{array}\n",
        " $$\n",
        "\n",
        "where $\\sigma$ is the sigmoid function.\n",
        "\n",
        "*Note that the LSTM formulas can differ slightly between different papers. We use the PyTorch LSTM formulation here.*"
      ]
    },
    {
      "cell_type": "code",
      "execution_count": 209,
      "metadata": {
        "id": "zJ9m5kLMd7-v"
      },
      "outputs": [],
      "source": [
        "class MyLSTMCell(nn.Module):\n",
        "  \"\"\"Our own LSTM cell\"\"\"\n",
        "\n",
        "  def __init__(self, input_size, hidden_size, bias=True):\n",
        "    \"\"\"Creates the weights for this LSTM\"\"\"\n",
        "    super(MyLSTMCell, self).__init__()\n",
        "\n",
        "    self.input_size = input_size\n",
        "    self.hidden_size = hidden_size\n",
        "    self.bias = bias\n",
        "    \n",
        "    # Optimized version of above code\n",
        "    self.Wi = nn.Linear(input_size, 4 * hidden_size, bias=bias)\n",
        "    self.Wh = nn.Linear(hidden_size, 4 * hidden_size, bias=bias)\n",
        "\n",
        "    self.reset_parameters()\n",
        "\n",
        "  def reset_parameters(self):\n",
        "    \"\"\"This is PyTorch's default initialization method\"\"\"\n",
        "    stdv = 1.0 / math.sqrt(self.hidden_size)\n",
        "    for weight in self.parameters():\n",
        "      weight.data.uniform_(-stdv, stdv)  \n",
        "\n",
        "  def forward(self, input_, hx, mask=None):\n",
        "    \"\"\"\n",
        "    input is (batch, input_size)\n",
        "    hx is ((batch, hidden_size), (batch, hidden_size))\n",
        "    \"\"\"\n",
        "    prev_h, prev_c = hx\n",
        "\n",
        "    # project input and prev state\n",
        "    projected_input = self.Wi(input_)\n",
        "    projected_h = self.Wh(prev_h)\n",
        "\n",
        "    # main LSTM computation\n",
        "    gates = torch.sigmoid(projected_input + projected_h)\n",
        "    i = gates[:, :self.hidden_size]\n",
        "    f = gates[:, self.hidden_size:2*self.hidden_size]\n",
        "    g = torch.tanh(projected_input[:, 2*self.hidden_size:3*self.hidden_size] + projected_h[:, 2*self.hidden_size:3*self.hidden_size])\n",
        "    o = gates[:, 3*self.hidden_size:]\n",
        "\n",
        "    c = f * prev_c + i * g\n",
        "    h = o * torch.tanh(c)\n",
        "\n",
        "    return h, c\n",
        "  \n",
        "  def __repr__(self):\n",
        "    return \"{}({:d}, {:d})\".format(\n",
        "        self.__class__.__name__, self.input_size, self.hidden_size)"
      ]
    },
    {
      "cell_type": "markdown",
      "metadata": {
        "id": "4JM7xPhkQeE5"
      },
      "source": [
        "#### Optional: Efficient Matrix Multiplication\n",
        "\n",
        "It is more efficient to do a few big matrix multiplications than to do many smaller ones. So we will implement the above cell using just **two** linear layers.\n",
        "\n",
        "This is possible because the eight linear transformations contained in one forward pass through an LSTM cell can be reduced to just two:\n",
        "$$W_h h + b_h$$\n",
        "$$W_i x + b_i $$ \n",
        "\n",
        "with $h = $ `prev_h` and $x = $ `input_`.\n",
        "\n",
        "and where: \n",
        "\n",
        "$W_h =  \\begin{pmatrix}\n",
        "W_{hi}\\\\ \n",
        "W_{hf}\\\\ \n",
        "W_{hg}\\\\ \n",
        "W_{ho}\n",
        "\\end{pmatrix}$, $b_h = \\begin{pmatrix}\n",
        "b_{hi}\\\\ \n",
        "b_{hf}\\\\ \n",
        "b_{hg}\\\\ \n",
        "b_{ho}\n",
        "\\end{pmatrix}$,  $W_i = \\begin{pmatrix}\n",
        "W_{ii}\\\\ \n",
        "W_{if}\\\\ \n",
        "W_{ig}\\\\ \n",
        "W_{io}\n",
        "\\end{pmatrix}$ and $b_i = \\begin{pmatrix}\n",
        "b_{ii}\\\\ \n",
        "b_{if}\\\\ \n",
        "b_{ig}\\\\ \n",
        "b_{io}\n",
        "\\end{pmatrix}$.\n",
        "\n",
        "Convince yourself that, after chunking with [torch.chunk](https://pytorch.org/docs/stable/torch.html?highlight=chunk#torch.chunk), the output of those two linear transformations is equivalent to the output of the eight linear transformations in the LSTM cell calculations above."
      ]
    },
    {
      "cell_type": "markdown",
      "metadata": {
        "id": "X9gA-UcqSBe0"
      },
      "source": [
        "#### LSTM Classifier\n",
        "\n",
        "Having an LSTM cell is not enough: we still need some code that calls it repeatedly, and then makes a prediction from the final hidden state. \n",
        "You will find that code below. Make sure that you understand it."
      ]
    },
    {
      "cell_type": "code",
      "execution_count": 210,
      "metadata": {
        "id": "3iuYZm5poEn5"
      },
      "outputs": [],
      "source": [
        "class LSTMClassifier(nn.Module):\n",
        "  \"\"\"Encodes sentence with an LSTM and projects final hidden state\"\"\"\n",
        "\n",
        "  def __init__(self, vocab_size, embedding_dim, hidden_dim, output_dim, vocab):\n",
        "    super(LSTMClassifier, self).__init__()\n",
        "    self.vocab = vocab\n",
        "    self.hidden_dim = hidden_dim\n",
        "    self.embed = nn.Embedding(vocab_size, embedding_dim, padding_idx=1)\n",
        "    self.rnn = MyLSTMCell(embedding_dim, hidden_dim)\n",
        "    \n",
        "    self.output_layer = nn.Sequential(     \n",
        "        nn.Dropout(p=0.5),  # explained later\n",
        "        nn.Linear(hidden_dim, output_dim)\n",
        "    )\n",
        "\n",
        "  def forward(self, x):\n",
        "    \n",
        "    B = x.size(0)  # batch size (this is 1 for now, i.e. 1 single example)\n",
        "    T = x.size(1)  # timesteps (the number of words in the sentence)\n",
        "    \n",
        "    input_ = self.embed(x)\n",
        "\n",
        "    # here we create initial hidden states containing zeros\n",
        "    # we use a trick here so that, if input is on the GPU, then so are hx and cx\n",
        "    hx = input_.new_zeros(B, self.rnn.hidden_size)\n",
        "    cx = input_.new_zeros(B, self.rnn.hidden_size)\n",
        "    \n",
        "    # process input sentences one word/timestep at a time\n",
        "    # input is batch-major (i.e., batch size is the first dimension)\n",
        "    # so the first word(s) is (are) input_[:, 0]\n",
        "    outputs = []   \n",
        "    for i in range(T):\n",
        "      hx, cx = self.rnn(input_[:, i], (hx, cx))\n",
        "      outputs.append(hx)\n",
        "    \n",
        "    # if we have a single example, our final LSTM state is the last hx\n",
        "    if B == 1:\n",
        "      final = hx\n",
        "    else:\n",
        "      #\n",
        "      # This part is explained in next section, ignore this else-block for now.\n",
        "      #\n",
        "      # We processed sentences with different lengths, so some of the sentences\n",
        "      # had already finished and we have been adding padding inputs to hx.\n",
        "      # We select the final state based on the length of each sentence.\n",
        "      \n",
        "      # two lines below not needed if using LSTM from pytorch\n",
        "      outputs = torch.stack(outputs, dim=0)           # [T, B, D]\n",
        "      outputs = outputs.transpose(0, 1).contiguous()  # [B, T, D]\n",
        "      \n",
        "      # to be super-sure we're not accidentally indexing the wrong state\n",
        "      # we zero out positions that are invalid\n",
        "      pad_positions = (x == 1).unsqueeze(-1)\n",
        "      \n",
        "      outputs = outputs.contiguous()      \n",
        "      outputs = outputs.masked_fill_(pad_positions, 0.)\n",
        "        \n",
        "      mask = (x != 1)  # true for valid positions [B, T]\n",
        "      lengths = mask.sum(dim=1)                 # [B, 1]\n",
        "\n",
        "      indexes = (lengths - 1) + torch.arange(B, device=x.device, dtype=x.dtype) * T\n",
        "      final = outputs.view(-1, self.hidden_dim)[indexes]  # [B, D]\n",
        "    \n",
        "    # we use the last hidden state to classify the sentence\n",
        "    logits = self.output_layer(final)\n",
        "    return logits"
      ]
    },
    {
      "cell_type": "markdown",
      "metadata": {
        "id": "FxFoVpvMPB6g"
      },
      "source": [
        "#### Dropout\n",
        "\n",
        "Data sparsity and a small data set can cause *overfitting*. This is a phenomenom that is very likely to occur when training strong and expressive models, like LSTMs, on small data. In practice, if your model overfits, this means that it will be very good at predicting (or \"remembering\") the sentiment of the training set, but unable to generalise to new, unseen data in the test set. This is undesirable and one technique to mitigate this issue is *dropout*. \n",
        "\n",
        "A dropout layer is defined by the following formula, which can be applied, for example, to a linear layer:\n",
        "\n",
        "$$\\text{tanh}(W(\\mathbf{h}\\odot \\mathbf{d}) + \\mathbf{b})$$\n",
        "\n",
        "where $\\mathbf{d} \\in \\{0, 1\\}^n$, with $d_j \\sim \\text{Bernoulli}(p)$, \n",
        "\n",
        "These formula simply means that we *drop* certain parameters during training (by setting them to zero). Which parameters we drop is stochastically determined by a Bernoulli distribution and the probability of each parameter being dropped is set to $p = 0.5$ in our experiments (see the previous cell of code where we define our output layer). A dropout layer can be applied at many different places in our models. This technique helps against the undesirable effect that a model relies on single parameters for prediction (e.g. if $h^{\\prime}_j$ is large, always predict positive). If we use dropout, the model needs to learn to rely on different parameters, which is desirable to obtain better generalisation to unseen data."
      ]
    },
    {
      "cell_type": "markdown",
      "metadata": {
        "id": "XQjEjLt9z0XW"
      },
      "source": [
        "**Let's train our LSTM!** Note that is will be a lot slower than previous models because we need to do many more computations per sentence.\n",
        "\n",
        "#### Training"
      ]
    },
    {
      "cell_type": "code",
      "execution_count": 211,
      "metadata": {
        "id": "LgZoSPD4fsf_",
        "outputId": "98d21c61-8451-47e5-fba5-9d349d830c25",
        "colab": {
          "base_uri": "https://localhost:8080/",
          "height": 1000
        }
      },
      "outputs": [
        {
          "output_type": "stream",
          "name": "stdout",
          "text": [
            "LSTMClassifier(\n",
            "  (embed): Embedding(20727, 300, padding_idx=1)\n",
            "  (rnn): MyLSTMCell(300, 168)\n",
            "  (output_layer): Sequential(\n",
            "    (0): Dropout(p=0.5, inplace=False)\n",
            "    (1): Linear(in_features=168, out_features=5, bias=True)\n",
            "  )\n",
            ")\n",
            "embed.weight             [20727, 300] requires_grad=False\n",
            "rnn.Wi.weight            [672, 300]   requires_grad=True\n",
            "rnn.Wi.bias              [672]        requires_grad=True\n",
            "rnn.Wh.weight            [672, 168]   requires_grad=True\n",
            "rnn.Wh.bias              [672]        requires_grad=True\n",
            "output_layer.1.weight    [5, 168]     requires_grad=True\n",
            "output_layer.1.bias      [5]          requires_grad=True\n",
            "\n",
            "Total number of parameters: 6534785\n",
            "\n",
            "Shuffling training data\n",
            "Iter 250: loss=392.6519, time=3.84s\n",
            "Iter 500: loss=391.7966, time=7.73s\n",
            "Iter 750: loss=377.7349, time=11.78s\n",
            "Iter 1000: loss=387.2357, time=16.04s\n",
            "iter 1000: dev acc=0.3560\n",
            "new highscore\n",
            "Iter 1250: loss=367.8590, time=24.53s\n",
            "Iter 1500: loss=372.4199, time=29.20s\n",
            "Iter 1750: loss=348.6800, time=34.06s\n",
            "Iter 2000: loss=364.6359, time=38.22s\n",
            "iter 2000: dev acc=0.3724\n",
            "new highscore\n",
            "Iter 2250: loss=357.8867, time=46.54s\n",
            "Iter 2500: loss=351.6351, time=50.41s\n",
            "Iter 2750: loss=361.4763, time=54.43s\n",
            "Iter 3000: loss=330.8107, time=58.23s\n",
            "iter 3000: dev acc=0.4033\n",
            "new highscore\n",
            "Iter 3250: loss=369.8644, time=66.17s\n",
            "Iter 3500: loss=346.5389, time=70.11s\n",
            "Iter 3750: loss=347.0705, time=74.11s\n",
            "Iter 4000: loss=355.9047, time=78.07s\n",
            "iter 4000: dev acc=0.3924\n",
            "Iter 4250: loss=335.6282, time=85.93s\n",
            "Iter 4500: loss=341.8965, time=89.89s\n",
            "Iter 4750: loss=337.9791, time=94.03s\n",
            "Iter 5000: loss=337.1047, time=98.01s\n",
            "iter 5000: dev acc=0.4187\n",
            "new highscore\n",
            "Iter 5250: loss=351.8931, time=106.28s\n",
            "Iter 5500: loss=337.5014, time=110.32s\n",
            "Iter 5750: loss=332.1812, time=114.40s\n",
            "Iter 6000: loss=350.3254, time=118.54s\n",
            "iter 6000: dev acc=0.4060\n",
            "Iter 6250: loss=356.3360, time=126.72s\n",
            "Iter 6500: loss=337.8481, time=130.74s\n",
            "Iter 6750: loss=352.2935, time=135.07s\n",
            "Iter 7000: loss=332.8966, time=138.99s\n",
            "iter 7000: dev acc=0.3906\n",
            "Iter 7250: loss=334.8019, time=147.07s\n",
            "Iter 7500: loss=324.1663, time=151.13s\n",
            "Iter 7750: loss=334.0701, time=155.15s\n",
            "Iter 8000: loss=349.7009, time=159.57s\n",
            "iter 8000: dev acc=0.3824\n",
            "Iter 8250: loss=317.5755, time=167.62s\n",
            "Iter 8500: loss=329.8767, time=171.53s\n",
            "Shuffling training data\n",
            "Iter 8750: loss=316.9658, time=175.84s\n",
            "Iter 9000: loss=324.9438, time=179.74s\n",
            "iter 9000: dev acc=0.4233\n",
            "new highscore\n",
            "Iter 9250: loss=328.7097, time=187.96s\n",
            "Iter 9500: loss=310.0988, time=193.34s\n",
            "Iter 9750: loss=303.8779, time=197.29s\n",
            "Iter 10000: loss=317.2751, time=201.35s\n",
            "iter 10000: dev acc=0.4351\n",
            "new highscore\n",
            "Iter 10250: loss=334.9178, time=209.40s\n",
            "Iter 10500: loss=315.2094, time=213.49s\n",
            "Iter 10750: loss=321.7787, time=217.26s\n",
            "Iter 11000: loss=314.0753, time=221.40s\n",
            "iter 11000: dev acc=0.3996\n",
            "Iter 11250: loss=303.4850, time=229.33s\n",
            "Iter 11500: loss=299.8037, time=233.48s\n",
            "Iter 11750: loss=301.6106, time=237.58s\n",
            "Iter 12000: loss=327.0582, time=241.67s\n",
            "iter 12000: dev acc=0.4378\n",
            "new highscore\n",
            "Iter 12250: loss=306.7242, time=249.76s\n",
            "Iter 12500: loss=320.8980, time=253.77s\n",
            "Iter 12750: loss=326.5383, time=258.00s\n",
            "Iter 13000: loss=315.5854, time=262.50s\n",
            "iter 13000: dev acc=0.4233\n",
            "Iter 13250: loss=309.4334, time=271.23s\n",
            "Iter 13500: loss=305.3867, time=275.53s\n",
            "Iter 13750: loss=343.2663, time=279.63s\n",
            "Iter 14000: loss=316.9931, time=284.03s\n"
          ]
        },
        {
          "output_type": "error",
          "ename": "KeyboardInterrupt",
          "evalue": "ignored",
          "traceback": [
            "\u001b[0;31m---------------------------------------------------------------------------\u001b[0m",
            "\u001b[0;31mKeyboardInterrupt\u001b[0m                         Traceback (most recent call last)",
            "\u001b[0;32m<ipython-input-211-c0646372a799>\u001b[0m in \u001b[0;36m<module>\u001b[0;34m\u001b[0m\n\u001b[1;32m     12\u001b[0m \u001b[0moptimizer\u001b[0m \u001b[0;34m=\u001b[0m \u001b[0moptim\u001b[0m\u001b[0;34m.\u001b[0m\u001b[0mAdam\u001b[0m\u001b[0;34m(\u001b[0m\u001b[0mlstm_model\u001b[0m\u001b[0;34m.\u001b[0m\u001b[0mparameters\u001b[0m\u001b[0;34m(\u001b[0m\u001b[0;34m)\u001b[0m\u001b[0;34m,\u001b[0m \u001b[0mlr\u001b[0m\u001b[0;34m=\u001b[0m\u001b[0;36m3e-4\u001b[0m\u001b[0;34m)\u001b[0m\u001b[0;34m\u001b[0m\u001b[0;34m\u001b[0m\u001b[0m\n\u001b[1;32m     13\u001b[0m \u001b[0;34m\u001b[0m\u001b[0m\n\u001b[0;32m---> 14\u001b[0;31m lstm_losses, lstm_accuracies = train_model(\n\u001b[0m\u001b[1;32m     15\u001b[0m     \u001b[0mlstm_model\u001b[0m\u001b[0;34m,\u001b[0m \u001b[0moptimizer\u001b[0m\u001b[0;34m,\u001b[0m \u001b[0mnum_iterations\u001b[0m\u001b[0;34m=\u001b[0m\u001b[0;36m25000\u001b[0m\u001b[0;34m,\u001b[0m\u001b[0;34m\u001b[0m\u001b[0;34m\u001b[0m\u001b[0m\n\u001b[1;32m     16\u001b[0m     print_every=250, eval_every=1000)\n",
            "\u001b[0;32m<ipython-input-192-572d99e0c0f3>\u001b[0m in \u001b[0;36mtrain_model\u001b[0;34m(model, optimizer, num_iterations, print_every, eval_every, batch_fn, prep_fn, eval_fn, batch_size, eval_batch_size)\u001b[0m\n\u001b[1;32m     61\u001b[0m       \u001b[0;31m# evaluate\u001b[0m\u001b[0;34m\u001b[0m\u001b[0;34m\u001b[0m\u001b[0;34m\u001b[0m\u001b[0m\n\u001b[1;32m     62\u001b[0m       \u001b[0;32mif\u001b[0m \u001b[0miter_i\u001b[0m \u001b[0;34m%\u001b[0m \u001b[0meval_every\u001b[0m \u001b[0;34m==\u001b[0m \u001b[0;36m0\u001b[0m\u001b[0;34m:\u001b[0m\u001b[0;34m\u001b[0m\u001b[0;34m\u001b[0m\u001b[0m\n\u001b[0;32m---> 63\u001b[0;31m         _, _, accuracy = eval_fn(model, dev_data, batch_size=eval_batch_size,\n\u001b[0m\u001b[1;32m     64\u001b[0m                                  batch_fn=batch_fn, prep_fn=prep_fn)\n\u001b[1;32m     65\u001b[0m         \u001b[0maccuracies\u001b[0m\u001b[0;34m.\u001b[0m\u001b[0mappend\u001b[0m\u001b[0;34m(\u001b[0m\u001b[0maccuracy\u001b[0m\u001b[0;34m)\u001b[0m\u001b[0;34m\u001b[0m\u001b[0;34m\u001b[0m\u001b[0m\n",
            "\u001b[0;32m<ipython-input-189-758dfad2aaab>\u001b[0m in \u001b[0;36msimple_evaluate\u001b[0;34m(model, data, prep_fn, **kwargs)\u001b[0m\n\u001b[1;32m     13\u001b[0m     \u001b[0;31m# get the output from the neural network for input x\u001b[0m\u001b[0;34m\u001b[0m\u001b[0;34m\u001b[0m\u001b[0;34m\u001b[0m\u001b[0m\n\u001b[1;32m     14\u001b[0m     \u001b[0;32mwith\u001b[0m \u001b[0mtorch\u001b[0m\u001b[0;34m.\u001b[0m\u001b[0mno_grad\u001b[0m\u001b[0;34m(\u001b[0m\u001b[0;34m)\u001b[0m\u001b[0;34m:\u001b[0m\u001b[0;34m\u001b[0m\u001b[0;34m\u001b[0m\u001b[0m\n\u001b[0;32m---> 15\u001b[0;31m       \u001b[0mlogits\u001b[0m \u001b[0;34m=\u001b[0m \u001b[0mmodel\u001b[0m\u001b[0;34m(\u001b[0m\u001b[0mx\u001b[0m\u001b[0;34m)\u001b[0m\u001b[0;34m\u001b[0m\u001b[0;34m\u001b[0m\u001b[0m\n\u001b[0m\u001b[1;32m     16\u001b[0m \u001b[0;34m\u001b[0m\u001b[0m\n\u001b[1;32m     17\u001b[0m     \u001b[0;31m# get the prediction\u001b[0m\u001b[0;34m\u001b[0m\u001b[0;34m\u001b[0m\u001b[0;34m\u001b[0m\u001b[0m\n",
            "\u001b[0;32m/usr/local/lib/python3.8/dist-packages/torch/nn/modules/module.py\u001b[0m in \u001b[0;36m_call_impl\u001b[0;34m(self, *input, **kwargs)\u001b[0m\n\u001b[1;32m   1188\u001b[0m         if not (self._backward_hooks or self._forward_hooks or self._forward_pre_hooks or _global_backward_hooks\n\u001b[1;32m   1189\u001b[0m                 or _global_forward_hooks or _global_forward_pre_hooks):\n\u001b[0;32m-> 1190\u001b[0;31m             \u001b[0;32mreturn\u001b[0m \u001b[0mforward_call\u001b[0m\u001b[0;34m(\u001b[0m\u001b[0;34m*\u001b[0m\u001b[0minput\u001b[0m\u001b[0;34m,\u001b[0m \u001b[0;34m**\u001b[0m\u001b[0mkwargs\u001b[0m\u001b[0;34m)\u001b[0m\u001b[0;34m\u001b[0m\u001b[0;34m\u001b[0m\u001b[0m\n\u001b[0m\u001b[1;32m   1191\u001b[0m         \u001b[0;31m# Do not call functions when jit is used\u001b[0m\u001b[0;34m\u001b[0m\u001b[0;34m\u001b[0m\u001b[0;34m\u001b[0m\u001b[0m\n\u001b[1;32m   1192\u001b[0m         \u001b[0mfull_backward_hooks\u001b[0m\u001b[0;34m,\u001b[0m \u001b[0mnon_full_backward_hooks\u001b[0m \u001b[0;34m=\u001b[0m \u001b[0;34m[\u001b[0m\u001b[0;34m]\u001b[0m\u001b[0;34m,\u001b[0m \u001b[0;34m[\u001b[0m\u001b[0;34m]\u001b[0m\u001b[0;34m\u001b[0m\u001b[0;34m\u001b[0m\u001b[0m\n",
            "\u001b[0;32m<ipython-input-210-4f0f3b89d320>\u001b[0m in \u001b[0;36mforward\u001b[0;34m(self, x)\u001b[0m\n\u001b[1;32m     31\u001b[0m     \u001b[0moutputs\u001b[0m \u001b[0;34m=\u001b[0m \u001b[0;34m[\u001b[0m\u001b[0;34m]\u001b[0m\u001b[0;34m\u001b[0m\u001b[0;34m\u001b[0m\u001b[0m\n\u001b[1;32m     32\u001b[0m     \u001b[0;32mfor\u001b[0m \u001b[0mi\u001b[0m \u001b[0;32min\u001b[0m \u001b[0mrange\u001b[0m\u001b[0;34m(\u001b[0m\u001b[0mT\u001b[0m\u001b[0;34m)\u001b[0m\u001b[0;34m:\u001b[0m\u001b[0;34m\u001b[0m\u001b[0;34m\u001b[0m\u001b[0m\n\u001b[0;32m---> 33\u001b[0;31m       \u001b[0mhx\u001b[0m\u001b[0;34m,\u001b[0m \u001b[0mcx\u001b[0m \u001b[0;34m=\u001b[0m \u001b[0mself\u001b[0m\u001b[0;34m.\u001b[0m\u001b[0mrnn\u001b[0m\u001b[0;34m(\u001b[0m\u001b[0minput_\u001b[0m\u001b[0;34m[\u001b[0m\u001b[0;34m:\u001b[0m\u001b[0;34m,\u001b[0m \u001b[0mi\u001b[0m\u001b[0;34m]\u001b[0m\u001b[0;34m,\u001b[0m \u001b[0;34m(\u001b[0m\u001b[0mhx\u001b[0m\u001b[0;34m,\u001b[0m \u001b[0mcx\u001b[0m\u001b[0;34m)\u001b[0m\u001b[0;34m)\u001b[0m\u001b[0;34m\u001b[0m\u001b[0;34m\u001b[0m\u001b[0m\n\u001b[0m\u001b[1;32m     34\u001b[0m       \u001b[0moutputs\u001b[0m\u001b[0;34m.\u001b[0m\u001b[0mappend\u001b[0m\u001b[0;34m(\u001b[0m\u001b[0mhx\u001b[0m\u001b[0;34m)\u001b[0m\u001b[0;34m\u001b[0m\u001b[0;34m\u001b[0m\u001b[0m\n\u001b[1;32m     35\u001b[0m \u001b[0;34m\u001b[0m\u001b[0m\n",
            "\u001b[0;32m/usr/local/lib/python3.8/dist-packages/torch/nn/modules/module.py\u001b[0m in \u001b[0;36m_call_impl\u001b[0;34m(self, *input, **kwargs)\u001b[0m\n\u001b[1;32m   1188\u001b[0m         if not (self._backward_hooks or self._forward_hooks or self._forward_pre_hooks or _global_backward_hooks\n\u001b[1;32m   1189\u001b[0m                 or _global_forward_hooks or _global_forward_pre_hooks):\n\u001b[0;32m-> 1190\u001b[0;31m             \u001b[0;32mreturn\u001b[0m \u001b[0mforward_call\u001b[0m\u001b[0;34m(\u001b[0m\u001b[0;34m*\u001b[0m\u001b[0minput\u001b[0m\u001b[0;34m,\u001b[0m \u001b[0;34m**\u001b[0m\u001b[0mkwargs\u001b[0m\u001b[0;34m)\u001b[0m\u001b[0;34m\u001b[0m\u001b[0;34m\u001b[0m\u001b[0m\n\u001b[0m\u001b[1;32m   1191\u001b[0m         \u001b[0;31m# Do not call functions when jit is used\u001b[0m\u001b[0;34m\u001b[0m\u001b[0;34m\u001b[0m\u001b[0;34m\u001b[0m\u001b[0m\n\u001b[1;32m   1192\u001b[0m         \u001b[0mfull_backward_hooks\u001b[0m\u001b[0;34m,\u001b[0m \u001b[0mnon_full_backward_hooks\u001b[0m \u001b[0;34m=\u001b[0m \u001b[0;34m[\u001b[0m\u001b[0;34m]\u001b[0m\u001b[0;34m,\u001b[0m \u001b[0;34m[\u001b[0m\u001b[0;34m]\u001b[0m\u001b[0;34m\u001b[0m\u001b[0;34m\u001b[0m\u001b[0m\n",
            "\u001b[0;32m<ipython-input-209-748805c7532a>\u001b[0m in \u001b[0;36mforward\u001b[0;34m(self, input_, hx, mask)\u001b[0m\n\u001b[1;32m     30\u001b[0m \u001b[0;34m\u001b[0m\u001b[0m\n\u001b[1;32m     31\u001b[0m     \u001b[0;31m# project input and prev state\u001b[0m\u001b[0;34m\u001b[0m\u001b[0;34m\u001b[0m\u001b[0;34m\u001b[0m\u001b[0m\n\u001b[0;32m---> 32\u001b[0;31m     \u001b[0mprojected_input\u001b[0m \u001b[0;34m=\u001b[0m \u001b[0mself\u001b[0m\u001b[0;34m.\u001b[0m\u001b[0mWi\u001b[0m\u001b[0;34m(\u001b[0m\u001b[0minput_\u001b[0m\u001b[0;34m)\u001b[0m\u001b[0;34m\u001b[0m\u001b[0;34m\u001b[0m\u001b[0m\n\u001b[0m\u001b[1;32m     33\u001b[0m     \u001b[0mprojected_h\u001b[0m \u001b[0;34m=\u001b[0m \u001b[0mself\u001b[0m\u001b[0;34m.\u001b[0m\u001b[0mWh\u001b[0m\u001b[0;34m(\u001b[0m\u001b[0mprev_h\u001b[0m\u001b[0;34m)\u001b[0m\u001b[0;34m\u001b[0m\u001b[0;34m\u001b[0m\u001b[0m\n\u001b[1;32m     34\u001b[0m \u001b[0;34m\u001b[0m\u001b[0m\n",
            "\u001b[0;32m/usr/local/lib/python3.8/dist-packages/torch/nn/modules/module.py\u001b[0m in \u001b[0;36m_call_impl\u001b[0;34m(self, *input, **kwargs)\u001b[0m\n\u001b[1;32m   1188\u001b[0m         if not (self._backward_hooks or self._forward_hooks or self._forward_pre_hooks or _global_backward_hooks\n\u001b[1;32m   1189\u001b[0m                 or _global_forward_hooks or _global_forward_pre_hooks):\n\u001b[0;32m-> 1190\u001b[0;31m             \u001b[0;32mreturn\u001b[0m \u001b[0mforward_call\u001b[0m\u001b[0;34m(\u001b[0m\u001b[0;34m*\u001b[0m\u001b[0minput\u001b[0m\u001b[0;34m,\u001b[0m \u001b[0;34m**\u001b[0m\u001b[0mkwargs\u001b[0m\u001b[0;34m)\u001b[0m\u001b[0;34m\u001b[0m\u001b[0;34m\u001b[0m\u001b[0m\n\u001b[0m\u001b[1;32m   1191\u001b[0m         \u001b[0;31m# Do not call functions when jit is used\u001b[0m\u001b[0;34m\u001b[0m\u001b[0;34m\u001b[0m\u001b[0;34m\u001b[0m\u001b[0m\n\u001b[1;32m   1192\u001b[0m         \u001b[0mfull_backward_hooks\u001b[0m\u001b[0;34m,\u001b[0m \u001b[0mnon_full_backward_hooks\u001b[0m \u001b[0;34m=\u001b[0m \u001b[0;34m[\u001b[0m\u001b[0;34m]\u001b[0m\u001b[0;34m,\u001b[0m \u001b[0;34m[\u001b[0m\u001b[0;34m]\u001b[0m\u001b[0;34m\u001b[0m\u001b[0;34m\u001b[0m\u001b[0m\n",
            "\u001b[0;32m/usr/local/lib/python3.8/dist-packages/torch/nn/modules/linear.py\u001b[0m in \u001b[0;36mforward\u001b[0;34m(self, input)\u001b[0m\n\u001b[1;32m    112\u001b[0m \u001b[0;34m\u001b[0m\u001b[0m\n\u001b[1;32m    113\u001b[0m     \u001b[0;32mdef\u001b[0m \u001b[0mforward\u001b[0m\u001b[0;34m(\u001b[0m\u001b[0mself\u001b[0m\u001b[0;34m,\u001b[0m \u001b[0minput\u001b[0m\u001b[0;34m:\u001b[0m \u001b[0mTensor\u001b[0m\u001b[0;34m)\u001b[0m \u001b[0;34m->\u001b[0m \u001b[0mTensor\u001b[0m\u001b[0;34m:\u001b[0m\u001b[0;34m\u001b[0m\u001b[0;34m\u001b[0m\u001b[0m\n\u001b[0;32m--> 114\u001b[0;31m         \u001b[0;32mreturn\u001b[0m \u001b[0mF\u001b[0m\u001b[0;34m.\u001b[0m\u001b[0mlinear\u001b[0m\u001b[0;34m(\u001b[0m\u001b[0minput\u001b[0m\u001b[0;34m,\u001b[0m \u001b[0mself\u001b[0m\u001b[0;34m.\u001b[0m\u001b[0mweight\u001b[0m\u001b[0;34m,\u001b[0m \u001b[0mself\u001b[0m\u001b[0;34m.\u001b[0m\u001b[0mbias\u001b[0m\u001b[0;34m)\u001b[0m\u001b[0;34m\u001b[0m\u001b[0;34m\u001b[0m\u001b[0m\n\u001b[0m\u001b[1;32m    115\u001b[0m \u001b[0;34m\u001b[0m\u001b[0m\n\u001b[1;32m    116\u001b[0m     \u001b[0;32mdef\u001b[0m \u001b[0mextra_repr\u001b[0m\u001b[0;34m(\u001b[0m\u001b[0mself\u001b[0m\u001b[0;34m)\u001b[0m \u001b[0;34m->\u001b[0m \u001b[0mstr\u001b[0m\u001b[0;34m:\u001b[0m\u001b[0;34m\u001b[0m\u001b[0;34m\u001b[0m\u001b[0m\n",
            "\u001b[0;31mKeyboardInterrupt\u001b[0m: "
          ]
        }
      ],
      "source": [
        "lstm_model = LSTMClassifier(len(v.w2i), 300, 168, len(t2i), v)\n",
        "\n",
        "# copy pre-trained word vectors into embeddings table\n",
        "with torch.no_grad():\n",
        "  lstm_model.embed.weight.data.copy_(torch.from_numpy(vectors))\n",
        "  lstm_model.embed.weight.requires_grad = False\n",
        "\n",
        "print(lstm_model)\n",
        "print_parameters(lstm_model)\n",
        "\n",
        "lstm_model = lstm_model.to(device)\n",
        "optimizer = optim.Adam(lstm_model.parameters(), lr=3e-4)\n",
        "\n",
        "lstm_losses, lstm_accuracies = train_model(\n",
        "    lstm_model, optimizer, num_iterations=25000, \n",
        "    print_every=250, eval_every=1000)"
      ]
    },
    {
      "cell_type": "code",
      "execution_count": null,
      "metadata": {
        "id": "2BKVnyg0Hq5E"
      },
      "outputs": [],
      "source": [
        "# plot validation accuracy\n",
        "plt.plot(lstm_accuracies)"
      ]
    },
    {
      "cell_type": "code",
      "execution_count": null,
      "metadata": {
        "id": "ZowTV0EBTb3z"
      },
      "outputs": [],
      "source": [
        "# plot training loss\n",
        "plt.plot(lstm_losses)"
      ]
    },
    {
      "cell_type": "markdown",
      "metadata": {
        "id": "YEw6XHQY_AAQ"
      },
      "source": [
        "# Mini-batching\n",
        "\n"
      ]
    },
    {
      "cell_type": "markdown",
      "metadata": {
        "id": "FPf96wGzBTQJ"
      },
      "source": [
        "**Why is the LSTM so slow?** Despite our best efforts, we still need to make a lot of matrix multiplications per example (linear in the length of the example) just to get a single classification, and we can only process the 2nd word once we have computed the hidden state for the 1st word (sequential computation).\n",
        "\n",
        "GPUs are more efficient if we do a few big matrix multiplications, rather than lots of small ones. If we could process multiple examples at the same time, then we could exploit that. That is, we could still process the input sequentially, but doing so for multiple sentences at the same time.\n",
        "\n",
        "Up to now our \"mini-batches\" consisted of a single example. This was for a reason: the sentences in our data sets have **different lengths**, and this makes it difficult to process them at the same time.\n",
        "\n",
        "Consider a batch of 2 sentences:\n",
        "\n",
        "```\n",
        "this movie is bad\n",
        "this movie is super cool !\n",
        "```\n",
        "\n",
        "Let's say the IDs for these sentences are:\n",
        "\n",
        "```\n",
        "2 3 4 5\n",
        "2 3 4 6 7 8\n",
        "```\n",
        "\n",
        "We cannot feed PyTorch an object with rows of variable length! We need to turn this into a matrix.\n",
        "\n",
        "The solution is to add **padding values** to our mini-batch:\n",
        "\n",
        "```\n",
        "2 3 4 5 1 1\n",
        "2 3 4 6 7 8\n",
        "```\n",
        "\n",
        "Whenever a sentence is shorter than the longest sentence in a mini-batch, we just use a padding value (here: 1) to fill the matrix.\n",
        "\n",
        "In our computation, we should **ignore** the padding positions (e.g. mask them out) so that paddings do not contribute to the loss.\n",
        "\n",
        "#### Mini-batch feed\n",
        "We will now implement a `get_minibatch` function which will replace `get_example` and returns a mini-batch of the requested size."
      ]
    },
    {
      "cell_type": "code",
      "execution_count": 212,
      "metadata": {
        "id": "IoAE2JBiXJ3P"
      },
      "outputs": [],
      "source": [
        "def get_minibatch(data, batch_size=25, shuffle=True):\n",
        "  \"\"\"Return minibatches, optional shuffling\"\"\"\n",
        "  \n",
        "  if shuffle:\n",
        "    print(\"Shuffling training data\")\n",
        "    random.shuffle(data)  # shuffle training data each epoch\n",
        "  \n",
        "  batch = []\n",
        "  \n",
        "  # yield minibatches\n",
        "  for example in data:\n",
        "    batch.append(example)\n",
        "    \n",
        "    if len(batch) == batch_size:\n",
        "      yield batch\n",
        "      batch = []\n",
        "      \n",
        "  # in case there is something left\n",
        "  if len(batch) > 0:\n",
        "    yield batch"
      ]
    },
    {
      "cell_type": "markdown",
      "metadata": {
        "id": "DwZM-XYkT8Zx"
      },
      "source": [
        "#### Padding function\n",
        "We will need a function that adds padding 1s to a sequence of IDs so that\n",
        "it becomes as long as the longest sequence in the minibatch."
      ]
    },
    {
      "cell_type": "code",
      "execution_count": 213,
      "metadata": {
        "id": "sp0sK1ghw4Ft",
        "outputId": "aa310819-8c98-4a2d-ab7d-eaec80fcf048",
        "colab": {
          "base_uri": "https://localhost:8080/"
        }
      },
      "outputs": [
        {
          "output_type": "execute_result",
          "data": {
            "text/plain": [
              "[2, 3, 4, 1, 1]"
            ]
          },
          "metadata": {},
          "execution_count": 213
        }
      ],
      "source": [
        "def pad(tokens, length, pad_value=1):\n",
        "  \"\"\"add padding 1s to a sequence to that it has the desired length\"\"\"\n",
        "  return tokens + [pad_value] * (length - len(tokens))\n",
        "\n",
        "# example\n",
        "tokens = [2, 3, 4]\n",
        "pad(tokens, 5)"
      ]
    },
    {
      "cell_type": "markdown",
      "metadata": {
        "id": "SL2iixMYUgfh"
      },
      "source": [
        "#### New `prepare` function\n",
        "\n",
        "We will also need a new function that turns a mini-batch into PyTorch tensors."
      ]
    },
    {
      "cell_type": "code",
      "execution_count": 214,
      "metadata": {
        "id": "ZID0cqozWks8"
      },
      "outputs": [],
      "source": [
        "def prepare_minibatch(mb, vocab):\n",
        "  \"\"\"\n",
        "  Minibatch is a list of examples.\n",
        "  This function converts words to IDs and returns\n",
        "  torch tensors to be used as input/targets.\n",
        "  \"\"\"\n",
        "  batch_size = len(mb)\n",
        "  maxlen = max([len(ex.tokens) for ex in mb])\n",
        "  \n",
        "  # vocab returns 0 if the word is not there\n",
        "  x = [pad([vocab.w2i.get(t, 0) for t in ex.tokens], maxlen) for ex in mb]\n",
        "  \n",
        "  x = torch.LongTensor(x)\n",
        "  x = x.to(device)\n",
        "  \n",
        "  y = [ex.label for ex in mb]\n",
        "  y = torch.LongTensor(y)\n",
        "  y = y.to(device)\n",
        "  \n",
        "  return x, y"
      ]
    },
    {
      "cell_type": "code",
      "execution_count": 215,
      "metadata": {
        "id": "OwDAtCv1x2hB",
        "outputId": "774d9283-a306-447c-dc27-0671bc3e957e",
        "colab": {
          "base_uri": "https://localhost:8080/"
        }
      },
      "outputs": [
        {
          "output_type": "stream",
          "name": "stdout",
          "text": [
            "Example(tokens=['An', 'energizing', ',', 'intoxicating', 'documentary', 'charting', 'the', 'rise', 'of', 'hip-hop', 'culture', 'in', 'general', 'and', 'the', 'art', 'of', 'scratching', '-LRB-', 'or', 'turntablism', '-RRB-', 'in', 'particular', '.'], tree=Tree('4', [Tree('3', [Tree('3', [Tree('3', [Tree('2', ['An']), Tree('4', ['energizing'])]), Tree('2', [','])]), Tree('3', [Tree('3', [Tree('3', ['intoxicating']), Tree('2', ['documentary'])]), Tree('3', [Tree('2', ['charting']), Tree('2', [Tree('2', [Tree('2', ['the']), Tree('2', ['rise'])]), Tree('2', [Tree('2', ['of']), Tree('2', [Tree('2', [Tree('2', [Tree('2', [Tree('2', ['hip-hop']), Tree('2', ['culture'])]), Tree('2', [Tree('2', ['in']), Tree('2', ['general'])])]), Tree('2', ['and'])]), Tree('2', [Tree('2', [Tree('2', ['the']), Tree('2', ['art'])]), Tree('2', [Tree('2', ['of']), Tree('2', [Tree('2', ['scratching']), Tree('2', [Tree('2', [Tree('1', ['-LRB-']), Tree('2', [Tree('2', [Tree('2', ['or']), Tree('3', ['turntablism'])]), Tree('3', ['-RRB-'])])]), Tree('2', [Tree('2', ['in']), Tree('2', ['particular'])])])])])])])])])])])]), Tree('2', ['.'])]), label=4, transitions=[0, 0, 1, 0, 1, 0, 0, 1, 0, 0, 0, 1, 0, 0, 0, 1, 0, 0, 1, 1, 0, 1, 0, 0, 1, 0, 0, 0, 0, 0, 1, 0, 1, 1, 0, 0, 1, 1, 1, 1, 1, 1, 1, 1, 1, 1, 1, 0, 1])\n",
            "Example(tokens=['Often', 'silly', '--', 'and', 'gross', '--', 'but', 'it', \"'s\", 'rarely', 'as', 'moronic', 'as', 'some', 'campus', 'gross-out', 'films', '.'], tree=Tree('1', [Tree('2', ['Often']), Tree('1', [Tree('2', [Tree('0', [Tree('3', ['silly']), Tree('1', [Tree('1', [Tree('2', [Tree('2', ['--']), Tree('2', ['and'])]), Tree('0', ['gross'])]), Tree('2', ['--'])])]), Tree('2', [Tree('2', ['but']), Tree('2', ['it'])])]), Tree('2', [Tree('1', [Tree('2', [Tree('2', [\"'s\"]), Tree('2', ['rarely'])]), Tree('0', [Tree('0', [Tree('2', ['as']), Tree('0', [Tree('0', ['moronic']), Tree('2', [Tree('2', ['as']), Tree('2', [Tree('2', ['some']), Tree('2', ['campus'])])])])]), Tree('2', [Tree('2', ['gross-out']), Tree('2', ['films'])])])]), Tree('2', ['.'])])])]), label=1, transitions=[0, 0, 0, 0, 1, 0, 1, 0, 1, 1, 0, 0, 1, 1, 0, 0, 1, 0, 0, 0, 0, 0, 1, 1, 1, 1, 0, 0, 1, 1, 1, 0, 1, 1, 1])\n",
            "Example(tokens=['There', \"'s\", 'a', 'sheer', 'unbridled', 'delight', 'in', 'the', 'way', 'the', 'story', 'unfurls', '...'], tree=Tree('3', [Tree('4', [Tree('2', ['There']), Tree('3', [Tree('2', [\"'s\"]), Tree('4', [Tree('4', [Tree('2', ['a']), Tree('4', [Tree('2', ['sheer']), Tree('3', [Tree('2', ['unbridled']), Tree('4', ['delight'])])])]), Tree('2', [Tree('2', ['in']), Tree('2', [Tree('2', ['the']), Tree('2', ['way'])])])])])]), Tree('2', [Tree('2', [Tree('2', ['the']), Tree('2', ['story'])]), Tree('2', [Tree('2', ['unfurls']), Tree('2', ['...'])])])]), label=3, transitions=[0, 0, 0, 0, 0, 0, 1, 1, 1, 0, 0, 0, 1, 1, 1, 1, 1, 0, 0, 1, 0, 0, 1, 1, 1])\n"
          ]
        }
      ],
      "source": [
        "# Let's test our new function.\n",
        "# This should give us 3 examples.\n",
        "mb = next(get_minibatch(train_data, batch_size=3, shuffle=False))\n",
        "for ex in mb:\n",
        "  print(ex)"
      ]
    },
    {
      "cell_type": "code",
      "execution_count": 217,
      "metadata": {
        "id": "dg8zEK8zyUCH",
        "outputId": "261fb8de-2f00-4f9b-c5d9-e285d0a3600c",
        "colab": {
          "base_uri": "https://localhost:8080/"
        }
      },
      "outputs": [
        {
          "output_type": "stream",
          "name": "stdout",
          "text": [
            "x tensor([[  519, 13636,     2, 13020,  4513, 12100,     4,  2149,     7,  7967,\n",
            "          1479,     9,   773,     5,     4,   645,     7,  9006,     0,    33,\n",
            "         19040,     0,     9,   931,     3],\n",
            "        [ 5327,  4218,   158,     5,  4985,   158,    43,    22,    21,  3827,\n",
            "            29, 13745,    29,    83,  3030, 18265,  2268,     3,     1,     1,\n",
            "             1,     1,     1,     1,     1],\n",
            "        [  189,    21,     8,  5606, 13952,  5584,     9,     4,   125,     4,\n",
            "           414, 18553,    34,     1,     1,     1,     1,     1,     1,     1,\n",
            "             1,     1,     1,     1,     1]], device='cuda:0')\n",
            "y tensor([4, 1, 3], device='cuda:0')\n"
          ]
        }
      ],
      "source": [
        "# We should find padding 1s at the end\n",
        "x, y = prepare_minibatch(mb, v)\n",
        "print(\"x\", x)\n",
        "print(\"y\", y)"
      ]
    },
    {
      "cell_type": "markdown",
      "metadata": {
        "id": "xYBJEoSNUwI0"
      },
      "source": [
        "#### Evaluate (mini-batch version)\n",
        "\n",
        "We can now update our evaluation function to use mini-batches"
      ]
    },
    {
      "cell_type": "code",
      "execution_count": 246,
      "metadata": {
        "id": "eiZZpEghzqou"
      },
      "outputs": [],
      "source": [
        "avglength = []\n",
        "def evaluate(model, data, \n",
        "             batch_fn=get_minibatch, prep_fn=prepare_minibatch,\n",
        "             batch_size=16):\n",
        "  \"\"\"Accuracy of a model on given data set (using mini-batches)\"\"\"\n",
        "  correct = 0\n",
        "  total = 0\n",
        "  model.eval()  # disable dropout\n",
        "  for mb in batch_fn(data, batch_size=batch_size, shuffle=False):\n",
        "    avglen = np.mean([len(ex.tokens) for ex in mb])\n",
        "    x, targets = prep_fn(mb, model.vocab)\n",
        "    global avglength \n",
        "    avglength += [avglen]\n",
        "    with torch.no_grad():\n",
        "      logits = model(x)\n",
        "      \n",
        "\n",
        "    predictions = logits.argmax(dim=-1).view(-1)\n",
        "    \n",
        "    # add the number of correct predictions to the total correct\n",
        "    correct += (predictions == targets.view(-1)).sum().item()\n",
        "    total += targets.size(0)\n",
        "\n",
        "  return correct, total, correct / float(total)"
      ]
    },
    {
      "cell_type": "markdown",
      "metadata": {
        "id": "23wAZomozh_2"
      },
      "source": [
        "# LSTM (Mini-batched)"
      ]
    },
    {
      "cell_type": "markdown",
      "metadata": {
        "id": "B-gkPU7jzBe2"
      },
      "source": [
        "With this, let's run the LSTM again but now using mini-batches!"
      ]
    },
    {
      "cell_type": "code",
      "execution_count": null,
      "metadata": {
        "id": "226Xg9OPzFbA"
      },
      "outputs": [],
      "source": [
        "lstm_model = LSTMClassifier(\n",
        "    len(v.w2i), 300, 168, len(t2i), v)\n",
        "\n",
        "# copy pre-trained vectors into embeddings table\n",
        "with torch.no_grad():\n",
        "  lstm_model.embed.weight.data.copy_(torch.from_numpy(vectors))\n",
        "  lstm_model.embed.weight.requires_grad = False\n",
        "\n",
        "print(lstm_model)\n",
        "print_parameters(lstm_model)  \n",
        "  \n",
        "lstm_model = lstm_model.to(device)\n",
        "\n",
        "batch_size = 25\n",
        "optimizer = optim.Adam(lstm_model.parameters(), lr=2e-4)\n",
        "\n",
        "lstm_losses, lstm_accuracies = train_model(\n",
        "    lstm_model, optimizer, num_iterations=10000, \n",
        "    print_every=250, eval_every=50,\n",
        "    batch_size=batch_size,\n",
        "    batch_fn=get_minibatch, \n",
        "    prep_fn=prepare_minibatch,\n",
        "    eval_fn=evaluate)"
      ]
    },
    {
      "cell_type": "code",
      "execution_count": null,
      "metadata": {
        "id": "ymj1rLDMvyhp"
      },
      "outputs": [],
      "source": [
        "print(avglength)"
      ]
    },
    {
      "cell_type": "code",
      "execution_count": null,
      "metadata": {
        "id": "1je5S1RHVC5R"
      },
      "outputs": [],
      "source": [
        "plt.hist(avglength)"
      ]
    },
    {
      "cell_type": "markdown",
      "metadata": {
        "id": "q7WjcxXntMi5"
      },
      "source": [
        "# Tree-LSTM"
      ]
    },
    {
      "cell_type": "markdown",
      "metadata": {
        "id": "jyj_UD6GtO5M"
      },
      "source": [
        "In the final part of this lab we will exploit the tree structure of the SST data. \n",
        "Until now we only used the surface tokens, but remember that our data examples include binary trees with a sentiment score at every node.\n",
        "\n",
        "In particular, we will implement **N-ary Tree-LSTMs** which are described in:\n",
        "\n",
        "> Kai Sheng Tai, Richard Socher, and Christopher D. Manning. [Improved Semantic Representations From Tree-Structured Long Short-Term Memory Networks](http://aclweb.org/anthology/P/P15/P15-1150.pdf) ACL 2015.\n",
        "\n",
        "Since our trees are binary (i.e., N=2), we can refer to these as *Binary Tree-LSTMs*. If you study equations (9) to (14) in the paper, you will find that they are not all too different from the original LSTM that you already have.\n",
        "\n",
        "You should read this paper carefully and make sure that you understand the approach. You will also find our LSTM baseline there.\n",
        "Note however that Tree-LSTMs were proposed around the same time by two other groups:\n",
        "\n",
        "> Phong Le and Willem Zuidema. [Compositional distributional semantics with long short term memory](http://anthology.aclweb.org/S/S15/S15-1002.pdf). *SEM 2015.\n",
        "\n",
        "> Xiaodan Zhu, Parinaz Sobihani,  and Hongyu Guo. [Long short-term memory over recursive structures](http://proceedings.mlr.press/v37/zhub15.pdf). ICML 2015.\n",
        "\n",
        "It is good scientific practice to cite all three papers in your report.\n",
        "\n",
        "\n"
      ]
    },
    {
      "cell_type": "markdown",
      "metadata": {
        "id": "1rDzvSos3JFp"
      },
      "source": [
        "## Computation\n",
        "\n",
        "Do you remember the `transitions_from_treestring` function all the way in the beginning of this lab? Every example contains a **transition sequence** produced by this function. Let's look at it again:\n",
        "\n"
      ]
    },
    {
      "cell_type": "code",
      "execution_count": 219,
      "metadata": {
        "id": "5pg0Xumc3ZUS",
        "outputId": "7509761f-b42d-4dfe-df4d-57030aa00f5b",
        "colab": {
          "base_uri": "https://localhost:8080/"
        }
      },
      "outputs": [
        {
          "output_type": "stream",
          "name": "stdout",
          "text": [
            "              3                                                                     \n",
            "  ____________|____________________                                                  \n",
            " |                                 4                                                \n",
            " |        _________________________|______________________________________________   \n",
            " |       4                                                                        | \n",
            " |    ___|______________                                                          |  \n",
            " |   |                  4                                                         | \n",
            " |   |         _________|__________                                               |  \n",
            " |   |        |                    3                                              | \n",
            " |   |        |               _____|______________________                        |  \n",
            " |   |        |              |                            4                       | \n",
            " |   |        |              |            ________________|_______                |  \n",
            " |   |        |              |           |                        2               | \n",
            " |   |        |              |           |                 _______|___            |  \n",
            " |   |        3              |           |                |           2           | \n",
            " |   |    ____|_____         |           |                |        ___|_____      |  \n",
            " |   |   |          4        |           3                |       2         |     | \n",
            " |   |   |     _____|___     |      _____|_______         |    ___|___      |     |  \n",
            " 2   2   2    3         2    2     3             2        2   2       2     2     2 \n",
            " |   |   |    |         |    |     |             |        |   |       |     |     |  \n",
            " It  's  a  lovely     film with lovely     performances  by Buy     and Accorsi  . \n",
            "\n",
            "Transitions:\n",
            "[0, 0, 0, 0, 0, 1, 1, 0, 0, 0, 1, 0, 0, 0, 1, 0, 1, 1, 1, 1, 1, 1, 0, 1, 1]\n"
          ]
        },
        {
          "output_type": "stream",
          "name": "stderr",
          "text": [
            "<ipython-input-219-0d63b35e49bd>:2: DeprecationWarning: \n",
            "    Class TreePrettyPrinter has been deprecated.  Import\n",
            "    `TreePrettyPrinter` using `from nltk.tree import\n",
            "    TreePrettyPrinter` instead.\n",
            "  print(TreePrettyPrinter(ex.tree))\n"
          ]
        }
      ],
      "source": [
        "ex = next(examplereader(\"trees/dev.txt\"))\n",
        "print(TreePrettyPrinter(ex.tree))\n",
        "print(\"Transitions:\")\n",
        "print(ex.transitions)"
      ]
    },
    {
      "cell_type": "markdown",
      "metadata": {
        "id": "ceBFe9fU4BI_"
      },
      "source": [
        "Note that the tree is **binary**. Every node has two children, except for pre-terminal nodes.\n",
        "\n",
        "A tree like this can be described by a sequence of **SHIFT (0)** and **REDUCE (1)** actions.\n",
        "\n",
        "To construct a tree, we can use the transitions as follows:\n",
        "- **reverse** the sentence (a list of tokens) and call this the **buffer**\n",
        "   - the first word is now on top (last in the list), and we would get it when calling pop() on the buffer\n",
        "- create an empty list and call it the **stack**\n",
        "- iterate through the transition sequence:\n",
        "  - if it says SHIFT(0), we pop a word from the buffer, and push it to the stack\n",
        "  - if it says REDUCE(1), we pop the **top two items** from the stack, and combine them (e.g. with a Tree-LSTM!), creating a new node that we push back on the stack\n",
        "  \n",
        "Convince yourself that going through the transition sequence above will result in the tree that you see.\n",
        "For example, we would start by putting the following words on the stack (by shifting 5 times, starting with `It`):\n",
        "\n",
        "```\n",
        "Top of the stack:\n",
        "-----------------\n",
        "film\n",
        "lovely\n",
        "a \n",
        "'s  \n",
        "It\n",
        "```\n",
        "Now we find a REDUCE in the transition sequence, so we get the top two words (film and lovely), and combine them, so our new stack becomes:\n",
        "```\n",
        "Top of the stack:\n",
        "-----------------\n",
        "lovely film\n",
        "a \n",
        "'s  \n",
        "It\n",
        "```\n",
        "\n",
        "We will use this approach when encoding sentences with our Tree-LSTM.\n",
        "Now, our sentence is a reversed list of word embeddings.\n",
        "When we shift, we move a word embedding to the stack.\n",
        "When we reduce, we apply the Tree-LSTM to the top two vectors, and the result is a single vector that we put back on the stack.\n",
        "After going through the whole transition sequence, we will have the root node on our stack! We can use that to classify the sentence.\n",
        "\n"
      ]
    },
    {
      "cell_type": "markdown",
      "metadata": {
        "id": "pDWKShm1AfmR"
      },
      "source": [
        "## Obtaining the transition sequence\n"
      ]
    },
    {
      "cell_type": "markdown",
      "metadata": {
        "id": "fO7VKWVpAbWj"
      },
      "source": [
        "\n",
        "So what goes on in the `transitions_from_treestring` function?\n",
        "\n",
        "The idea ([explained in this blog post](https://devblogs.nvidia.com/recursive-neural-networks-pytorch/)) is that, if we had a tree, we could traverse through the tree, and every time that we find a node containing only a word, we output a SHIFT.\n",
        "Every time **after** we have finished visiting the children of a node, we output a REDUCE.\n",
        "(What is this tree traversal called?)\n",
        "\n",
        "However, our `transitions_from_treestring` function operates directly on the string representation. It works as follows.\n",
        "\n",
        "We start with the representation:\n",
        "\n",
        "```\n",
        "(3 (2 It) (4 (4 (2 's) (4 (3 (2 a) (4 (3 lovely) (2 film))) (3 (2 with) (4 (3 (3 lovely) (2 performances)) (2 (2 by) (2 (2 (2 Buy) (2 and)) (2 Accorsi))))))) (2 .)))\n",
        "```\n",
        "\n",
        "First we remove pre-terminal nodes (and add spaces before closing brackets):\n",
        "\n",
        "```\n",
        "(3 It (4 (4 's (4 (3 a (4 lovely film ) ) (3 with (4 (3 lovely performances ) (2 by (2 (2 Buy and )  Accorsi ) ) ) ) ) ) . ) )\n",
        "```\n",
        "\n",
        "Then we remove node labels:\n",
        "\n",
        "```\n",
        "( It ( ( 's ( ( a ( lovely film ) ) ( with ( ( lovely performances) ( by ( ( Buy and )  Accorsi ) ) ) ) ) ) . ) )\n",
        "```\n",
        "\n",
        "Then we remove opening brackets:\n",
        "\n",
        "```\n",
        "It 's a lovely film ) ) with lovely performances ) by Buy and ) Accorsi ) ) ) ) ) ) . ) )\n",
        "```\n",
        "\n",
        "Now we replace words by S (for SHIFT), and closing brackets by R (for REDUCE):\n",
        "\n",
        "```\n",
        "S S S S S R R S S S R S S S R S R R R R R R S R R\n",
        "0 0 0 0 0 1 1 0 0 0 1 0 0 0 1 0 1 1 1 1 1 1 0 1 1 \n",
        "```\n",
        "\n",
        "Et voilà. We just obtained the transition sequence!"
      ]
    },
    {
      "cell_type": "code",
      "execution_count": 220,
      "metadata": {
        "id": "1y069gM4_v64",
        "outputId": "06faf622-1d34-4398-cdb0-30b7792aa718",
        "colab": {
          "base_uri": "https://localhost:8080/"
        }
      },
      "outputs": [
        {
          "output_type": "stream",
          "name": "stdout",
          "text": [
            "S S S S S R R S S S R S S S R S R R R R R R S R R\n",
            "0 0 0 0 0 1 1 0 0 0 1 0 0 0 1 0 1 1 1 1 1 1 0 1 1\n"
          ]
        }
      ],
      "source": [
        "# for comparison\n",
        "seq = ex.transitions\n",
        "s = \" \".join([\"S\" if t == 0 else \"R\" for t in seq])\n",
        "print(s)\n",
        "print(\" \".join(map(str, seq)))"
      ]
    },
    {
      "cell_type": "markdown",
      "metadata": {
        "id": "d-qOuKbDAiBn"
      },
      "source": [
        "## Coding the Tree-LSTM\n",
        "\n",
        "The code below contains a Binary Tree-LSTM cell.\n",
        "It is used in the TreeLSTM class below it, which in turn is used in the TreeLSTMClassifier.\n",
        "The job of the TreeLSTM class is to encode a complete sentence and return the root node.\n",
        "The job of the TreeLSTMCell is to return a new state when provided with two children (a reduce action). By repeatedly calling the TreeLSTMCell, the TreeLSTM will encode a sentence. This can be done for multiple sentences at the same time.\n",
        "\n",
        "\n",
        "#### Exercise \n",
        "Check the `forward` function and complete the Tree-LSTM formulas.\n",
        "You can see that we defined a large linear layer for you, that projects the *concatenation* of the left and right child into the input gate, left forget gate, right forget gate, candidate, and output gate."
      ]
    },
    {
      "cell_type": "code",
      "execution_count": 221,
      "metadata": {
        "id": "J9b9mjMlN7Pb"
      },
      "outputs": [],
      "source": [
        "class TreeLSTMCell(nn.Module):\n",
        "  \"\"\"A Binary Tree LSTM cell\"\"\"\n",
        "\n",
        "  def __init__(self, input_size, hidden_size, bias=True):\n",
        "    \"\"\"Creates the weights for this LSTM\"\"\"\n",
        "    super(TreeLSTMCell, self).__init__()\n",
        "\n",
        "    self.input_size = input_size\n",
        "    self.hidden_size = hidden_size\n",
        "    self.bias = bias\n",
        "\n",
        "    self.reduce_layer = nn.Linear(2 * hidden_size, 5 * hidden_size)\n",
        "    self.dropout_layer = nn.Dropout(p=0.25)\n",
        "\n",
        "    self.reset_parameters()\n",
        "\n",
        "  def reset_parameters(self):\n",
        "    \"\"\"This is PyTorch's default initialization method\"\"\"\n",
        "    stdv = 1.0 / math.sqrt(self.hidden_size)\n",
        "    for weight in self.parameters():\n",
        "      weight.data.uniform_(-stdv, stdv)  \n",
        "\n",
        "  def forward(self, hx_l, hx_r, mask=None):\n",
        "    \"\"\"\n",
        "    hx_l is ((batch, hidden_size), (batch, hidden_size))\n",
        "    hx_r is ((batch, hidden_size), (batch, hidden_size))    \n",
        "    \"\"\"\n",
        "    prev_h_l, prev_c_l = hx_l  # left child\n",
        "    prev_h_r, prev_c_r = hx_r  # right child\n",
        "\n",
        "    B = prev_h_l.size(0)\n",
        "\n",
        "    # we concatenate the left and right children\n",
        "    # you can also project from them separately and then sum\n",
        "    children = torch.cat([prev_h_l, prev_h_r], dim=1)\n",
        "    \n",
        "    # project the combined children into a 5D tensor for i,fl,fr,g,o\n",
        "    # this is done for speed, and you could also do it separately\n",
        "    proj = self.reduce_layer(children)  # shape: B x 5D\n",
        "\n",
        "    # each shape: B x D\n",
        "    i, f_l, f_r, g, o = torch.chunk(proj, 5, dim=-1)\n",
        "\n",
        "    # main Tree LSTM computation\n",
        "    \n",
        "    # The shape of each of these is [batch_size, hidden_size]\n",
        "\n",
        "    i = torch.sigmoid(i)\n",
        "    f_l = torch.sigmoid(f_l)\n",
        "    f_r = torch.sigmoid(f_r)\n",
        "    g = torch.tanh(g)\n",
        "    o = torch.sigmoid(o)\n",
        "\n",
        "    c = i * g + f_l * prev_c_l + f_r * prev_c_r\n",
        "    h = o * torch.tanh(c)\n",
        "    \n",
        "    return h, c\n",
        "  \n",
        "  def __repr__(self):\n",
        "    return \"{}({:d}, {:d})\".format(\n",
        "        self.__class__.__name__, self.input_size, self.hidden_size)"
      ]
    },
    {
      "cell_type": "markdown",
      "metadata": {
        "id": "Dj5dYSGh_643"
      },
      "source": [
        "## Explanation of the TreeLSTM class\n",
        "\n",
        "\n",
        "The code below contains the TreeLSTM class, which implements everything we need in order to encode a sentence from word embeddings. The calculations are the same as in the paper, implemented such that the class `TreeLSTMCell` above is as general as possible and only takes two children to reduce them into a parent. \n",
        "\n",
        "\n",
        "**Initialize $\\mathbf{h}$ and $\\mathbf{c}$ outside of the cell for the leaves**\n",
        "\n",
        "At the leaves of each tree the children nodes are **empty**, whereas in higher levels the nodes are binary tree nodes that *do* have a left and right child (but no input $x$). By initializing the leaf nodes outside of the cell class (`TreeLSTMCell`), we avoid if-else statements in the forward pass.\n",
        "\n",
        "The `TreeLSTM` class (among other things) pre-calculates an initial $h$ and $c$ for every word in the sentence. Since the initial left and right child are 0, the only calculations we need to do are based on $x$, and we can drop the forget gate calculation (`prev_c_l` and `prev_c_r` are zero). The calculations we do in order to initalize $h$ and $c$ are then:\n",
        "\n",
        "$$\n",
        "c_1 =  W^{(u)}x_1 \\\\\n",
        "o_1 = \\sigma (W^{(i)}x_1) \\\\\n",
        "h_1 = o_1 \\odot \\text{tanh}(c_1)$$\n",
        "*NB: note that these equations are chosen as initializations of $c$ and $h$, other initializations are possible and might work equally well.*\n",
        "\n",
        "**Sentence Representations**\n",
        "\n",
        "All our leaf nodes are now initialized, so we can start processing the sentence in its tree form. Each sentence is represented by a buffer (initially a list with a concatenation of $[h_1, c_1]$ for every word in the reversed sentence), a stack (initially an empty list) and a transition sequence. To encode our sentence, we construct the tree from its transition sequence as explained earlier. \n",
        "\n",
        "*A short example that constructs a tree:*\n",
        "\n",
        "We loop over the time dimension of the batched transition sequences (i.e. row by row), which contain values of 0's, 1's and 2's (representing SHIFT, REDUCE and padding respectively). If we have a batch of size 2 where the first example has a transition sequence given by [0, 0, 1, 0, 0, 0, 1] and the second by [0, 0, 1, 0, 0, 1], our transition batch will be given by the following two-dimensional numpy array:\n",
        "\n",
        "$$\n",
        "\\text{transitions} = \n",
        "\\begin{pmatrix}\n",
        "0 & 0\\\\ \n",
        "0 & 0\\\\ \n",
        "1 & 1\\\\ \n",
        "0 & 0\\\\ \n",
        "0 & 0\\\\ \n",
        "0 & 1\\\\ \n",
        "1 & 2\n",
        "\\end{pmatrix}\n",
        "$$\n",
        "The inner loop (`for transition, buffer, stack in zip(t_batch, buffers, stacks)`) goes over each example in the batch and updates its buffer and stack. The nested loop for this example will then do roughy the following:\n",
        "\n",
        "```\n",
        "Time = 0:  t_batch = [0, 0], the inner loop performs 2 SHIFTs. \n",
        "\n",
        "Time = 1:  t_batch = [0, 0], \"..\"\n",
        "\n",
        "Time = 2:  t_batch = [1, 1], causing the inner loop to fill the list child_l and child_r for both examples in the batch. Now the statement if child_l will return True, triggering a REDUCE action to be performed by our Tree LSTM cell with a batch size of 2. \n",
        "\n",
        "Time = 3:  t_batch = [0, 0], \"..\".\n",
        "\n",
        "Time = 4:  t_batch = [0, 0], \"..\"\n",
        "\n",
        "Time = 5:  t_batch = [0, 1], one SHIFT will be done and another REDUCE action will be performed by our Tree LSTM, this time of batch size 1.  \n",
        "\n",
        "Time = 6:  t_batch = [1, 2], triggering another REDUCE action with batch size 1.\n",
        "```\n",
        "*NB: note that this was an artificial example for the purpose of demonstrating parts of the code, the transition sequences do not necessarily represent actual trees.*\n",
        "\n",
        "**Batching and Unbatching**\n",
        "\n",
        "Within the body of the outer loop over time, we use the functions for batching and unbatching. \n",
        "\n",
        "*Batching*\n",
        "\n",
        "Before passing two lists of children to the reduce layer (an instance of `TreeLSTMCell`), we batch the children as they are at this point a list of tensors of variable length based on how many REDUCE actions there are to perform at a certain time step across the batch (let's call the length `L`). To do an efficient forward pass we want to transform the list to a pair of tensors of shape `([L, D], [L, D])`, which the function `batch` achieves. \n",
        "\n",
        "*Unbatching*\n",
        "\n",
        "In the same line where we batched the children, we unbatch the output of the forward pass to become a list of states of length `L` again. We do this because we need to loop over each example's transition at the current time step and push the children that are reduced into a parent to the stack.\n",
        "\n",
        "*The batch and unbatch functions let us switch between the \"PyTorch world\" (Tensors) and the Python world (easy to manipulate lists).*\n"
      ]
    },
    {
      "cell_type": "code",
      "execution_count": 222,
      "metadata": {
        "id": "5PixvTd4AqsQ"
      },
      "outputs": [],
      "source": [
        "# Helper functions for batching and unbatching states\n",
        "# For speed we want to combine computations by batching, but \n",
        "# for processing logic we want to turn the output into lists again\n",
        "# to easily manipulate.\n",
        "\n",
        "def batch(states):\n",
        "  \"\"\"\n",
        "  Turns a list of states into a single tensor for fast processing. \n",
        "  This function also chunks (splits) each state into a (h, c) pair\"\"\"\n",
        "  return torch.cat(states, 0).chunk(2, 1)\n",
        "\n",
        "def unbatch(state):\n",
        "  \"\"\"\n",
        "  Turns a tensor back into a list of states.\n",
        "  First, (h, c) are merged into a single state.\n",
        "  Then the result is split into a list of sentences.\n",
        "  \"\"\"\n",
        "  return torch.split(torch.cat(state, 1), 1, 0)"
      ]
    },
    {
      "cell_type": "code",
      "source": [],
      "metadata": {
        "id": "yzBavf8VQGNg",
        "outputId": "09876808-c260-403d-f8c3-a2e9ffe6144e",
        "colab": {
          "base_uri": "https://localhost:8080/",
          "height": 130
        }
      },
      "execution_count": 223,
      "outputs": [
        {
          "output_type": "error",
          "ename": "SyntaxError",
          "evalue": "ignored",
          "traceback": [
            "\u001b[0;36m  File \u001b[0;32m\"<ipython-input-223-dc20e0540f1a>\"\u001b[0;36m, line \u001b[0;32m1\u001b[0m\n\u001b[0;31m    def extract_subtree()\u001b[0m\n\u001b[0m                         ^\u001b[0m\n\u001b[0;31mSyntaxError\u001b[0m\u001b[0;31m:\u001b[0m invalid syntax\n"
          ]
        }
      ]
    },
    {
      "cell_type": "markdown",
      "metadata": {
        "id": "CynltDasaLPt"
      },
      "source": [
        "Take some time to understand the class below, having read the explanation above."
      ]
    },
    {
      "cell_type": "code",
      "execution_count": 224,
      "metadata": {
        "id": "rQOqMXG4gX5G"
      },
      "outputs": [],
      "source": [
        "class TreeLSTM(nn.Module):\n",
        "  \"\"\"Encodes a sentence using a TreeLSTMCell\"\"\"\n",
        "\n",
        "  def __init__(self, input_size, hidden_size, bias=True):\n",
        "    \"\"\"Creates the weights for this LSTM\"\"\"\n",
        "    super(TreeLSTM, self).__init__()\n",
        "\n",
        "    self.input_size = input_size\n",
        "    self.hidden_size = hidden_size\n",
        "    self.bias = bias\n",
        "    self.reduce = TreeLSTMCell(input_size, hidden_size)\n",
        "\n",
        "    # project word to initial c\n",
        "    self.proj_x = nn.Linear(input_size, hidden_size)\n",
        "    self.proj_x_gate = nn.Linear(input_size, hidden_size)\n",
        "    \n",
        "    self.buffers_dropout = nn.Dropout(p=0.5)\n",
        "\n",
        "  def forward(self, x, transitions):\n",
        "    \"\"\"\n",
        "    WARNING: assuming x is reversed!\n",
        "    :param x: word embeddings [B, T, E]\n",
        "    :param transitions: [2T-1, B]\n",
        "    :return: root states\n",
        "    \"\"\"\n",
        "\n",
        "    B = x.size(0)  # batch size\n",
        "    T = x.size(1)  # time\n",
        "\n",
        "    # compute an initial c and h for each word\n",
        "    # Note: this corresponds to input x in the Tai et al. Tree LSTM paper.\n",
        "    # We do not handle input x in the TreeLSTMCell itself.\n",
        "    buffers_c = self.proj_x(x)\n",
        "    buffers_h = buffers_c.tanh()\n",
        "    buffers_h_gate = self.proj_x_gate(x).sigmoid()\n",
        "    buffers_h = buffers_h_gate * buffers_h\n",
        "    \n",
        "    # concatenate h and c for each word\n",
        "    buffers = torch.cat([buffers_h, buffers_c], dim=-1)\n",
        "\n",
        "    D = buffers.size(-1) // 2\n",
        "\n",
        "    # we turn buffers into a list of stacks (1 stack for each sentence)\n",
        "    # first we split buffers so that it is a list of sentences (length B)\n",
        "    # then we split each sentence to be a list of word vectors\n",
        "    buffers = buffers.split(1, dim=0)  # Bx[T, 2D]\n",
        "    buffers = [list(b.squeeze(0).split(1, dim=0)) for b in buffers]  # BxTx[2D]\n",
        "\n",
        "    # create B empty stacks\n",
        "    stacks = [[] for _ in buffers]\n",
        "\n",
        "    # t_batch holds 1 transition for each sentence\n",
        "    for t_batch in transitions:\n",
        "\n",
        "      child_l = []  # contains the left child for each sentence with reduce action\n",
        "      child_r = []  # contains the corresponding right child\n",
        "\n",
        "      # iterate over sentences in the batch\n",
        "      # each has a transition t, a buffer and a stack\n",
        "      for transition, buffer, stack in zip(t_batch, buffers, stacks):\n",
        "        if transition == SHIFT:\n",
        "          stack.append(buffer.pop())\n",
        "        elif transition == REDUCE:\n",
        "          assert len(stack) >= 2, \\\n",
        "            \"Stack too small! Should not happen with valid transition sequences\"\n",
        "          child_r.append(stack.pop())  # right child is on top\n",
        "          child_l.append(stack.pop())\n",
        "\n",
        "      # if there are sentences with reduce transition, perform them batched\n",
        "      if child_l:\n",
        "        reduced = iter(unbatch(self.reduce(batch(child_l), batch(child_r))))\n",
        "        for transition, stack in zip(t_batch, stacks):\n",
        "          if transition == REDUCE:\n",
        "            stack.append(next(reduced))\n",
        "\n",
        "    final = [stack.pop().chunk(2, -1)[0] for stack in stacks]\n",
        "    final = torch.cat(final, dim=0)  # tensor [B, D]\n",
        "\n",
        "    return final"
      ]
    },
    {
      "cell_type": "markdown",
      "metadata": {
        "id": "s4EzbVzqaXkw"
      },
      "source": [
        "Just like the LSTM before, we will need an extra class that does the classifications."
      ]
    },
    {
      "cell_type": "code",
      "execution_count": 225,
      "metadata": {
        "id": "nLxpYRvtQKge"
      },
      "outputs": [],
      "source": [
        "class TreeLSTMClassifier(nn.Module):\n",
        "  \"\"\"Encodes sentence with a TreeLSTM and projects final hidden state\"\"\"\n",
        "\n",
        "  def __init__(self, vocab_size, embedding_dim, hidden_dim, output_dim, vocab):\n",
        "    super(TreeLSTMClassifier, self).__init__()\n",
        "    self.vocab = vocab\n",
        "    self.hidden_dim = hidden_dim\n",
        "    self.embed = nn.Embedding(vocab_size, embedding_dim, padding_idx=1)\n",
        "    self.treelstm = TreeLSTM(embedding_dim, hidden_dim)\n",
        "    self.output_layer = nn.Sequential(     \n",
        "        nn.Dropout(p=0.5),\n",
        "        nn.Linear(hidden_dim, output_dim, bias=True)\n",
        "    )\n",
        "\n",
        "  def forward(self, x):\n",
        "    \n",
        "    # x is a pair here of words and transitions; we unpack it here.\n",
        "    # x is batch-major: [B, T], transitions is time major [2T-1, B]\n",
        "    x, transitions = x\n",
        "    emb = self.embed(x)\n",
        "    \n",
        "    # we use the root/top state of the Tree LSTM to classify the sentence\n",
        "    root_states = self.treelstm(emb, transitions)\n",
        "\n",
        "    # we use the last hidden state to classify the sentence\n",
        "    logits = self.output_layer(root_states)\n",
        "    return logits"
      ]
    },
    {
      "cell_type": "markdown",
      "metadata": {
        "id": "gh9RbhGwaiLg"
      },
      "source": [
        "## Special `prepare` function for Tree-LSTM\n",
        "\n",
        "We need yet another `prepare` function. For our implementation, sentences need to be *reversed*. We will do that here."
      ]
    },
    {
      "cell_type": "code",
      "execution_count": 226,
      "metadata": {
        "id": "DiqH-_2xdm9H"
      },
      "outputs": [],
      "source": [
        "def prepare_treelstm_minibatch(mb, vocab):\n",
        "  \"\"\"\n",
        "  Returns sentences reversed (last word first)\n",
        "  Returns transitions together with the sentences.  \n",
        "  \"\"\"\n",
        "  batch_size = len(mb)\n",
        "  maxlen = max([len(ex.tokens) for ex in mb])\n",
        "  # vocab returns 0 if the word is not there\n",
        "  # NOTE: reversed sequence!\n",
        "  x = [pad([vocab.w2i.get(t, 0) for t in ex.tokens], maxlen)[::-1] for ex in mb]\n",
        "  \n",
        "  x = torch.LongTensor(x)\n",
        "  x = x.to(device)\n",
        "  \n",
        "  y = [ex.label for ex in mb]\n",
        "  y = torch.LongTensor(y)\n",
        "  y = y.to(device)\n",
        "  \n",
        "  maxlen_t = max([len(ex.transitions) for ex in mb])\n",
        "  transitions = [pad(ex.transitions, maxlen_t, pad_value=2) for ex in mb]\n",
        "  transitions = np.array(transitions)\n",
        "  transitions = transitions.T  # time-major\n",
        "  \n",
        "  return (x, transitions), y"
      ]
    },
    {
      "cell_type": "markdown",
      "metadata": {
        "id": "IMUsrlL9ayVe"
      },
      "source": [
        "## Training"
      ]
    },
    {
      "cell_type": "code",
      "execution_count": 247,
      "metadata": {
        "id": "IpOYUdg2D3v0",
        "outputId": "5d0e6844-4ad2-41be-acbf-72244e3bcc4e",
        "colab": {
          "base_uri": "https://localhost:8080/"
        }
      },
      "outputs": [
        {
          "output_type": "stream",
          "name": "stdout",
          "text": [
            "TreeLSTMClassifier(\n",
            "  (embed): Embedding(20727, 300, padding_idx=1)\n",
            "  (treelstm): TreeLSTM(\n",
            "    (reduce): TreeLSTMCell(300, 150)\n",
            "    (proj_x): Linear(in_features=300, out_features=150, bias=True)\n",
            "    (proj_x_gate): Linear(in_features=300, out_features=150, bias=True)\n",
            "    (buffers_dropout): Dropout(p=0.5, inplace=False)\n",
            "  )\n",
            "  (output_layer): Sequential(\n",
            "    (0): Dropout(p=0.5, inplace=False)\n",
            "    (1): Linear(in_features=150, out_features=5, bias=True)\n",
            "  )\n",
            ")\n",
            "embed.weight             [20727, 300] requires_grad=False\n",
            "treelstm.reduce.reduce_layer.weight [750, 300]   requires_grad=True\n",
            "treelstm.reduce.reduce_layer.bias [750]        requires_grad=True\n",
            "treelstm.proj_x.weight   [150, 300]   requires_grad=True\n",
            "treelstm.proj_x.bias     [150]        requires_grad=True\n",
            "treelstm.proj_x_gate.weight [150, 300]   requires_grad=True\n",
            "treelstm.proj_x_gate.bias [150]        requires_grad=True\n",
            "output_layer.1.weight    [5, 150]     requires_grad=True\n",
            "output_layer.1.bias      [5]          requires_grad=True\n",
            "\n",
            "Total number of parameters: 6534905\n",
            "\n",
            "Shuffling training data\n",
            "Iter 250: loss=379.3960, time=17.50s\n",
            "iter 250: dev acc=0.4015\n",
            "new highscore\n",
            "Shuffling training data\n",
            "Iter 500: loss=334.8735, time=36.31s\n",
            "iter 500: dev acc=0.4142\n",
            "new highscore\n",
            "Shuffling training data\n",
            "Iter 750: loss=322.9133, time=53.97s\n",
            "iter 750: dev acc=0.4269\n",
            "new highscore\n",
            "Iter 1000: loss=316.3028, time=72.24s\n",
            "iter 1000: dev acc=0.4223\n",
            "Shuffling training data\n",
            "Iter 1250: loss=308.9990, time=90.98s\n",
            "iter 1250: dev acc=0.4396\n",
            "new highscore\n",
            "Shuffling training data\n",
            "Iter 1500: loss=304.2331, time=109.25s\n",
            "iter 1500: dev acc=0.4432\n",
            "new highscore\n",
            "Shuffling training data\n",
            "Iter 1750: loss=299.3084, time=127.76s\n",
            "iter 1750: dev acc=0.4469\n",
            "new highscore\n",
            "Iter 2000: loss=294.1165, time=144.79s\n",
            "iter 2000: dev acc=0.4505\n",
            "new highscore\n",
            "Shuffling training data\n",
            "Iter 2250: loss=290.6536, time=162.58s\n",
            "iter 2250: dev acc=0.4532\n",
            "new highscore\n",
            "Shuffling training data\n",
            "Iter 2500: loss=290.3093, time=180.05s\n",
            "iter 2500: dev acc=0.4623\n",
            "new highscore\n",
            "Shuffling training data\n",
            "Iter 2750: loss=284.8700, time=198.37s\n",
            "iter 2750: dev acc=0.4487\n",
            "Iter 3000: loss=280.2232, time=216.96s\n",
            "iter 3000: dev acc=0.4659\n",
            "new highscore\n",
            "Shuffling training data\n",
            "Iter 3250: loss=275.6530, time=235.22s\n",
            "iter 3250: dev acc=0.4632\n",
            "Shuffling training data\n",
            "Iter 3500: loss=273.4088, time=252.94s\n",
            "iter 3500: dev acc=0.4432\n",
            "Iter 3750: loss=271.5781, time=271.29s\n",
            "iter 3750: dev acc=0.4696\n",
            "new highscore\n",
            "Shuffling training data\n",
            "Iter 4000: loss=261.9934, time=288.84s\n",
            "iter 4000: dev acc=0.4723\n",
            "new highscore\n",
            "Shuffling training data\n",
            "Iter 4250: loss=260.3899, time=306.90s\n",
            "iter 4250: dev acc=0.4550\n",
            "Shuffling training data\n",
            "Iter 4500: loss=265.0073, time=325.25s\n",
            "iter 4500: dev acc=0.4478\n",
            "Iter 4750: loss=255.6651, time=343.65s\n",
            "iter 4750: dev acc=0.4505\n",
            "Shuffling training data\n",
            "Iter 5000: loss=246.8997, time=361.76s\n",
            "iter 5000: dev acc=0.4514\n",
            "Shuffling training data\n",
            "Iter 5250: loss=246.9266, time=379.42s\n",
            "iter 5250: dev acc=0.4405\n",
            "Shuffling training data\n",
            "Iter 5500: loss=241.3377, time=396.83s\n",
            "iter 5500: dev acc=0.4423\n",
            "Iter 5750: loss=238.0208, time=415.01s\n",
            "iter 5750: dev acc=0.4632\n",
            "Shuffling training data\n",
            "Iter 6000: loss=229.3121, time=433.30s\n",
            "iter 6000: dev acc=0.4587\n",
            "Shuffling training data\n",
            "Iter 6250: loss=225.7463, time=451.86s\n",
            "iter 6250: dev acc=0.4387\n",
            "Shuffling training data\n",
            "Iter 6500: loss=224.4244, time=470.12s\n",
            "iter 6500: dev acc=0.4432\n",
            "Iter 6750: loss=215.2349, time=488.20s\n",
            "iter 6750: dev acc=0.4378\n",
            "Shuffling training data\n",
            "Iter 7000: loss=208.3331, time=505.14s\n",
            "iter 7000: dev acc=0.4323\n",
            "Shuffling training data\n",
            "Iter 7250: loss=203.9003, time=522.87s\n",
            "iter 7250: dev acc=0.4342\n",
            "Iter 7500: loss=199.6799, time=541.01s\n",
            "iter 7500: dev acc=0.4269\n",
            "Shuffling training data\n",
            "Iter 7750: loss=194.4719, time=560.23s\n",
            "iter 7750: dev acc=0.4214\n",
            "Shuffling training data\n",
            "Iter 8000: loss=186.1212, time=578.84s\n",
            "iter 8000: dev acc=0.4369\n",
            "Shuffling training data\n",
            "Iter 8250: loss=185.0551, time=597.08s\n",
            "iter 8250: dev acc=0.4223\n",
            "Iter 8500: loss=175.4882, time=614.95s\n",
            "iter 8500: dev acc=0.4478\n",
            "Shuffling training data\n",
            "Iter 8750: loss=167.3895, time=632.12s\n",
            "iter 8750: dev acc=0.4305\n",
            "Shuffling training data\n",
            "Iter 9000: loss=160.7495, time=649.71s\n",
            "iter 9000: dev acc=0.4178\n",
            "Shuffling training data\n",
            "Iter 9250: loss=159.4182, time=667.59s\n",
            "iter 9250: dev acc=0.4151\n",
            "Iter 9500: loss=150.9220, time=685.93s\n",
            "iter 9500: dev acc=0.4151\n",
            "Shuffling training data\n",
            "Iter 9750: loss=147.2483, time=705.29s\n",
            "iter 9750: dev acc=0.4105\n",
            "Shuffling training data\n",
            "Iter 10000: loss=137.3121, time=723.62s\n",
            "iter 10000: dev acc=0.4078\n",
            "Iter 10250: loss=138.2544, time=741.00s\n",
            "iter 10250: dev acc=0.4233\n",
            "Shuffling training data\n",
            "Iter 10500: loss=126.4466, time=758.45s\n",
            "iter 10500: dev acc=0.4214\n",
            "Shuffling training data\n",
            "Iter 10750: loss=120.7908, time=775.68s\n",
            "iter 10750: dev acc=0.4124\n",
            "Shuffling training data\n",
            "Iter 11000: loss=120.5135, time=793.84s\n",
            "iter 11000: dev acc=0.4069\n",
            "Iter 11250: loss=112.4813, time=812.21s\n",
            "iter 11250: dev acc=0.3987\n",
            "Shuffling training data\n",
            "Iter 11500: loss=106.8682, time=830.59s\n",
            "iter 11500: dev acc=0.4105\n",
            "Shuffling training data\n",
            "Iter 11750: loss=102.8364, time=849.63s\n",
            "iter 11750: dev acc=0.4060\n",
            "Shuffling training data\n",
            "Iter 12000: loss=97.8510, time=866.69s\n",
            "iter 12000: dev acc=0.4087\n",
            "Iter 12250: loss=92.7675, time=884.60s\n",
            "iter 12250: dev acc=0.4042\n",
            "Shuffling training data\n",
            "Iter 12500: loss=90.3885, time=901.62s\n",
            "iter 12500: dev acc=0.4142\n",
            "Shuffling training data\n",
            "Iter 12750: loss=83.7749, time=920.23s\n",
            "iter 12750: dev acc=0.3833\n",
            "Shuffling training data\n",
            "Iter 13000: loss=84.5891, time=938.63s\n",
            "iter 13000: dev acc=0.4051\n",
            "Iter 13250: loss=72.0945, time=956.76s\n",
            "iter 13250: dev acc=0.3960\n",
            "Shuffling training data\n",
            "Iter 13500: loss=71.0352, time=974.86s\n",
            "iter 13500: dev acc=0.3996\n",
            "Shuffling training data\n",
            "Iter 13750: loss=73.4444, time=991.95s\n",
            "iter 13750: dev acc=0.3951\n",
            "Iter 14000: loss=65.6272, time=1011.04s\n",
            "iter 14000: dev acc=0.4024\n",
            "Shuffling training data\n",
            "Iter 14250: loss=58.2429, time=1028.65s\n",
            "iter 14250: dev acc=0.3906\n",
            "Shuffling training data\n",
            "Iter 14500: loss=53.9048, time=1046.95s\n",
            "iter 14500: dev acc=0.3960\n",
            "Shuffling training data\n",
            "Iter 14750: loss=60.7887, time=1065.24s\n",
            "iter 14750: dev acc=0.3878\n",
            "Iter 15000: loss=54.5096, time=1083.44s\n",
            "iter 15000: dev acc=0.3969\n",
            "Shuffling training data\n",
            "Iter 15250: loss=48.6881, time=1100.80s\n",
            "iter 15250: dev acc=0.4087\n",
            "Shuffling training data\n",
            "Iter 15500: loss=54.3427, time=1118.08s\n",
            "iter 15500: dev acc=0.3869\n",
            "Shuffling training data\n",
            "Iter 15750: loss=51.8829, time=1134.99s\n",
            "iter 15750: dev acc=0.3924\n",
            "Iter 16000: loss=44.8045, time=1154.28s\n",
            "iter 16000: dev acc=0.3978\n",
            "Shuffling training data\n",
            "Iter 16250: loss=45.4345, time=1172.52s\n",
            "iter 16250: dev acc=0.3878\n",
            "Shuffling training data\n",
            "Iter 16500: loss=39.4545, time=1190.68s\n",
            "iter 16500: dev acc=0.4069\n",
            "Iter 16750: loss=37.6701, time=1208.90s\n",
            "iter 16750: dev acc=0.3769\n",
            "Shuffling training data\n",
            "Iter 17000: loss=35.8037, time=1225.77s\n",
            "iter 17000: dev acc=0.3878\n",
            "Shuffling training data\n",
            "Iter 17250: loss=36.9934, time=1243.39s\n",
            "iter 17250: dev acc=0.3824\n",
            "Shuffling training data\n",
            "Iter 17500: loss=50.7324, time=1260.14s\n",
            "iter 17500: dev acc=0.3987\n",
            "Iter 17750: loss=35.4202, time=1278.53s\n",
            "iter 17750: dev acc=0.3860\n",
            "Shuffling training data\n",
            "Iter 18000: loss=28.9184, time=1297.75s\n",
            "iter 18000: dev acc=0.3933\n",
            "Shuffling training data\n",
            "Iter 18250: loss=26.5875, time=1315.82s\n",
            "iter 18250: dev acc=0.3851\n",
            "Shuffling training data\n",
            "Iter 18500: loss=34.8124, time=1333.88s\n",
            "iter 18500: dev acc=0.3896\n",
            "Iter 18750: loss=34.2432, time=1350.64s\n",
            "iter 18750: dev acc=0.3987\n",
            "Shuffling training data\n",
            "Iter 19000: loss=28.6880, time=1368.22s\n",
            "iter 19000: dev acc=0.4096\n",
            "Shuffling training data\n",
            "Iter 19250: loss=25.8786, time=1385.49s\n",
            "iter 19250: dev acc=0.3960\n",
            "Shuffling training data\n",
            "Iter 19500: loss=23.6969, time=1403.65s\n",
            "iter 19500: dev acc=0.3951\n",
            "Iter 19750: loss=18.6089, time=1421.98s\n",
            "iter 19750: dev acc=0.3878\n",
            "Shuffling training data\n",
            "Iter 20000: loss=17.3868, time=1440.89s\n",
            "iter 20000: dev acc=0.3806\n",
            "Shuffling training data\n",
            "Iter 20250: loss=19.5818, time=1458.70s\n",
            "iter 20250: dev acc=0.3960\n",
            "Iter 20500: loss=22.7751, time=1476.71s\n",
            "iter 20500: dev acc=0.4033\n",
            "Shuffling training data\n",
            "Iter 20750: loss=32.8939, time=1493.90s\n",
            "iter 20750: dev acc=0.3842\n",
            "Shuffling training data\n",
            "Iter 21000: loss=25.6136, time=1511.38s\n",
            "iter 21000: dev acc=0.4005\n",
            "Shuffling training data\n",
            "Iter 21250: loss=27.5919, time=1529.82s\n",
            "iter 21250: dev acc=0.3697\n",
            "Iter 21500: loss=21.1927, time=1548.30s\n",
            "iter 21500: dev acc=0.3787\n",
            "Shuffling training data\n",
            "Iter 21750: loss=27.1077, time=1566.43s\n",
            "iter 21750: dev acc=0.3824\n",
            "Shuffling training data\n",
            "Iter 22000: loss=19.4544, time=1584.72s\n",
            "iter 22000: dev acc=0.3842\n",
            "Shuffling training data\n",
            "Iter 22250: loss=15.0699, time=1602.12s\n",
            "iter 22250: dev acc=0.3751\n",
            "Iter 22500: loss=12.2407, time=1619.64s\n",
            "iter 22500: dev acc=0.3833\n",
            "Shuffling training data\n",
            "Iter 22750: loss=14.4962, time=1637.75s\n",
            "iter 22750: dev acc=0.3797\n",
            "Shuffling training data\n",
            "Iter 23000: loss=11.7250, time=1655.99s\n",
            "iter 23000: dev acc=0.3760\n",
            "Iter 23250: loss=14.0118, time=1674.61s\n",
            "iter 23250: dev acc=0.3860\n",
            "Shuffling training data\n",
            "Iter 23500: loss=20.6962, time=1692.88s\n",
            "iter 23500: dev acc=0.4033\n",
            "Shuffling training data\n",
            "Iter 23750: loss=18.1575, time=1710.33s\n",
            "iter 23750: dev acc=0.3797\n",
            "Shuffling training data\n",
            "Iter 24000: loss=23.4990, time=1728.74s\n",
            "iter 24000: dev acc=0.3933\n",
            "Iter 24250: loss=22.1951, time=1745.82s\n",
            "iter 24250: dev acc=0.3851\n",
            "Shuffling training data\n",
            "Iter 24500: loss=21.6641, time=1764.39s\n",
            "iter 24500: dev acc=0.3860\n",
            "Shuffling training data\n",
            "Iter 24750: loss=12.5290, time=1782.84s\n",
            "iter 24750: dev acc=0.3842\n",
            "Shuffling training data\n",
            "Iter 25000: loss=8.4055, time=1801.30s\n",
            "iter 25000: dev acc=0.4042\n",
            "Iter 25250: loss=7.5274, time=1819.59s\n",
            "iter 25250: dev acc=0.3878\n",
            "Shuffling training data\n",
            "Iter 25500: loss=5.9950, time=1836.84s\n",
            "iter 25500: dev acc=0.3887\n",
            "Shuffling training data\n",
            "Iter 25750: loss=16.9135, time=1855.09s\n",
            "iter 25750: dev acc=0.3924\n",
            "Shuffling training data\n",
            "Iter 26000: loss=23.7315, time=1872.87s\n",
            "iter 26000: dev acc=0.3969\n",
            "Iter 26250: loss=17.5195, time=1891.22s\n",
            "iter 26250: dev acc=0.3924\n",
            "Shuffling training data\n",
            "Iter 26500: loss=19.6041, time=1909.97s\n",
            "iter 26500: dev acc=0.3915\n",
            "Shuffling training data\n",
            "Iter 26750: loss=18.1343, time=1928.50s\n",
            "iter 26750: dev acc=0.3924\n",
            "Iter 27000: loss=13.2317, time=1946.25s\n",
            "iter 27000: dev acc=0.4005\n",
            "Shuffling training data\n",
            "Iter 27250: loss=7.1751, time=1964.43s\n",
            "iter 27250: dev acc=0.3942\n",
            "Shuffling training data\n",
            "Iter 27500: loss=6.6665, time=1981.59s\n",
            "iter 27500: dev acc=0.3960\n",
            "Shuffling training data\n",
            "Iter 27750: loss=8.5613, time=2000.59s\n",
            "iter 27750: dev acc=0.3878\n",
            "Iter 28000: loss=13.4015, time=2018.85s\n",
            "iter 28000: dev acc=0.3860\n",
            "Shuffling training data\n",
            "Iter 28250: loss=19.8782, time=2037.37s\n",
            "iter 28250: dev acc=0.3942\n",
            "Shuffling training data\n",
            "Iter 28500: loss=11.1583, time=2055.39s\n",
            "iter 28500: dev acc=0.3787\n",
            "Shuffling training data\n",
            "Iter 28750: loss=6.5359, time=2072.61s\n",
            "iter 28750: dev acc=0.3869\n",
            "Iter 29000: loss=4.7710, time=2090.11s\n",
            "iter 29000: dev acc=0.3787\n",
            "Shuffling training data\n",
            "Iter 29250: loss=6.0296, time=2107.10s\n",
            "iter 29250: dev acc=0.3778\n",
            "Shuffling training data\n",
            "Iter 29500: loss=23.7286, time=2125.54s\n",
            "iter 29500: dev acc=0.3860\n",
            "Iter 29750: loss=14.5826, time=2144.70s\n",
            "iter 29750: dev acc=0.3942\n",
            "Shuffling training data\n",
            "Iter 30000: loss=7.9662, time=2162.82s\n",
            "iter 30000: dev acc=0.3978\n",
            "Done training\n",
            "Loading best model\n",
            "best model iter 4000: train acc=0.5749, dev acc=0.4723, test acc=0.4697\n"
          ]
        }
      ],
      "source": [
        "# Now let's train the Tree LSTM!\n",
        "\n",
        "tree_model = TreeLSTMClassifier(\n",
        "    len(v.w2i), 300, 150, len(t2i), v)\n",
        "\n",
        "with torch.no_grad():\n",
        "  tree_model.embed.weight.data.copy_(torch.from_numpy(vectors))\n",
        "  tree_model.embed.weight.requires_grad = False\n",
        "  \n",
        "def do_train(model):\n",
        "  \n",
        "  print(model)\n",
        "  print_parameters(model)\n",
        "\n",
        "  model = model.to(device)\n",
        "\n",
        "  optimizer = optim.Adam(model.parameters(), lr=2e-4)\n",
        "  \n",
        "  return train_model(\n",
        "      model, optimizer, num_iterations=30000, \n",
        "      print_every=250, eval_every=250,\n",
        "      prep_fn=prepare_treelstm_minibatch,\n",
        "      eval_fn=evaluate,\n",
        "      batch_fn=get_minibatch,\n",
        "      batch_size=25, eval_batch_size=25)\n",
        "  \n",
        "results = do_train(tree_model)"
      ]
    },
    {
      "cell_type": "code",
      "execution_count": 248,
      "metadata": {
        "id": "DHcHHaLtguUg",
        "outputId": "72511f02-70d9-46de-91ed-d23eacd1bf88",
        "colab": {
          "base_uri": "https://localhost:8080/"
        }
      },
      "outputs": [
        {
          "output_type": "stream",
          "name": "stdout",
          "text": [
            "([379.39601135253906, 334.8734769821167, 322.9133369922638, 316.3027855157852, 308.99904584884644, 304.2331029176712, 299.3084127306938, 294.11653488874435, 290.65362173318863, 290.3092755675316, 284.87003433704376, 280.22321915626526, 275.65302377939224, 273.4087932109833, 271.57813054323196, 261.9933508634567, 260.3898626565933, 265.0073217153549, 255.66508728265762, 246.89972120523453, 246.9265947341919, 241.33773028850555, 238.0207924246788, 229.31207370758057, 225.74629014730453, 224.42442899942398, 215.23494270443916, 208.33309823274612, 203.90029841661453, 199.6799263060093, 194.47185271978378, 186.12117159366608, 185.05508270859718, 175.4882141649723, 167.3895492553711, 160.74946758151054, 159.4181569814682, 150.92196214199066, 147.24832805991173, 137.31205567717552, 138.2543722242117, 126.44663086533546, 120.79076305031776, 120.51348924636841, 112.48132237792015, 106.86818416416645, 102.83644426614046, 97.85097190737724, 92.76749607175589, 90.38850538432598, 83.77490073442459, 84.58912172168493, 72.09450627118349, 71.03521821275353, 73.44441960006952, 65.62717692553997, 58.24287922307849, 53.90476802736521, 60.788650311529636, 54.50961161404848, 48.688096810132265, 54.342706207185984, 51.88287925347686, 44.80445753596723, 45.43445070460439, 39.45451687090099, 37.670069087296724, 35.80366730876267, 36.993363946676254, 50.73236360959709, 35.42015972547233, 28.918352127075195, 26.587505400180817, 34.812352100387216, 34.243218316696584, 28.688027292490005, 25.878605562262237, 23.696881436742842, 18.608912934549153, 17.386783208698034, 19.581781281158328, 22.775054206606, 32.89391861530021, 25.61364548280835, 27.59186092019081, 21.192712602671236, 27.107661365997046, 19.45440244860947, 15.069876445224509, 12.240650655701756, 14.496170021826401, 11.724988876841962, 14.011815321166068, 20.696185005363077, 18.157495722174644, 23.499028352089226, 22.195147055201232, 21.664076226064935, 12.528988764155656, 8.405518427491188, 7.527417924371548, 5.995014393876772, 16.913534705294296, 23.73154274467379, 17.519515020772815, 19.60414852388203, 18.134291771566495, 13.231728195445612, 7.175119663821533, 6.666451565281022, 8.561293789301999, 13.401477379375137, 19.878219809383154, 11.158258830197155, 6.53586200485006, 4.770976904081181, 6.029587423428893, 23.728625630843453, 14.582560525275767, 7.9661723404424265], [0.4014532243415077, 0.4141689373297003, 0.4268846503178928, 0.4223433242506812, 0.4396003633060854, 0.44323342415985467, 0.44686648501362397, 0.45049954586739327, 0.45322434150772023, 0.4623069936421435, 0.44868301544050865, 0.4659400544959128, 0.46321525885558584, 0.44323342415985467, 0.4695731153496821, 0.47229791099000906, 0.4550408719346049, 0.4477747502270663, 0.45049954586739327, 0.4514078110808356, 0.4405086285195277, 0.44232515894641233, 0.46321525885558584, 0.4586739327883742, 0.43869209809264303, 0.44323342415985467, 0.43778383287920075, 0.4323342415985468, 0.43415077202543145, 0.4268846503178928, 0.4214350590372389, 0.4368755676657584, 0.4223433242506812, 0.4477747502270663, 0.4305177111716621, 0.4178019981834696, 0.4150772025431426, 0.4150772025431426, 0.410535876475931, 0.407811080835604, 0.4232515894641235, 0.4214350590372389, 0.4123524069028156, 0.4069028156221617, 0.39872842870118075, 0.410535876475931, 0.40599455040871935, 0.4087193460490463, 0.40417801998183467, 0.4141689373297003, 0.3832879200726612, 0.405086285195277, 0.3960036330608538, 0.3996366939146231, 0.39509536784741145, 0.40236148955495005, 0.3905540417801998, 0.3960036330608538, 0.38782924613987285, 0.39691189827429607, 0.4087193460490463, 0.3869209809264305, 0.3923705722070845, 0.3978201634877384, 0.38782924613987285, 0.4069028156221617, 0.37693006357856496, 0.38782924613987285, 0.3823796548592189, 0.39872842870118075, 0.3860127157129882, 0.3932788374205268, 0.3851044504995459, 0.3896457765667575, 0.39872842870118075, 0.40962761126248864, 0.3960036330608538, 0.39509536784741145, 0.38782924613987285, 0.38056312443233425, 0.3960036330608538, 0.4032697547683924, 0.38419618528610355, 0.40054495912806537, 0.36966394187102636, 0.3787465940054496, 0.3823796548592189, 0.38419618528610355, 0.3751135331516803, 0.3832879200726612, 0.3796548592188919, 0.3760217983651226, 0.3860127157129882, 0.4032697547683924, 0.3796548592188919, 0.3932788374205268, 0.3851044504995459, 0.3860127157129882, 0.38419618528610355, 0.40417801998183467, 0.38782924613987285, 0.3887375113533152, 0.3923705722070845, 0.39691189827429607, 0.3923705722070845, 0.39146230699364215, 0.3923705722070845, 0.40054495912806537, 0.3941871026339691, 0.3960036330608538, 0.38782924613987285, 0.3860127157129882, 0.3941871026339691, 0.3787465940054496, 0.3869209809264305, 0.3787465940054496, 0.37783832879200724, 0.3860127157129882, 0.3941871026339691, 0.3978201634877384])\n",
            "0.47229791099000906\n"
          ]
        }
      ],
      "source": [
        "print(results)\n",
        "print(np.max(results[1]))"
      ]
    },
    {
      "cell_type": "code",
      "source": [
        "import matplotlib.pyplot as plt\n",
        "\n",
        "plt.plot(results[0])\n",
        "plt.title(\"Loss Tree-LSTM with node sentiments\")\n",
        "plt.xlabel(\"Epochs\")\n",
        "plt.ylabel(\"Loss\")\n",
        "plt.grid()\n",
        "plt.savefig(\"Loss_TreeLSTM_with_nodeSentiments.png\")\n",
        "plt.show()"
      ],
      "metadata": {
        "id": "uONJiXantxT3",
        "outputId": "547ae470-c9a2-46b8-c794-89c050a06d81",
        "colab": {
          "base_uri": "https://localhost:8080/",
          "height": 472
        }
      },
      "execution_count": 241,
      "outputs": [
        {
          "output_type": "display_data",
          "data": {
            "text/plain": [
              "<Figure size 640x480 with 1 Axes>"
            ],
            "image/png": "[encoded data removed]"
          },
          "metadata": {}
        }
      ]
    },
    {
      "cell_type": "markdown",
      "source": [
        "30000 iters: LSTMTREE with sentiment nodes\n",
        "test acc:  0.4641235240690282\n",
        "\n"
      ],
      "metadata": {
        "id": "bIWaZTs_xSgu"
      }
    },
    {
      "cell_type": "code",
      "source": [
        "plt.plot(results[1])\n",
        "plt.title(\"Accuracy Tree-LSTM with node sentiments\")\n",
        "plt.xlabel(\"Epochs\")\n",
        "plt.ylabel(\"Accuracy\")\n",
        "plt.grid()\n",
        "plt.savefig(\"Accuracy_TreeLSTM_with_nodeSentiments.png\")\n",
        "plt.show()"
      ],
      "metadata": {
        "id": "wixku2GOvPXJ",
        "outputId": "f3409aaa-bac8-4e43-ba6e-e94f4cdfb602",
        "colab": {
          "base_uri": "https://localhost:8080/",
          "height": 472
        }
      },
      "execution_count": 242,
      "outputs": [
        {
          "output_type": "display_data",
          "data": {
            "text/plain": [
              "<Figure size 640x480 with 1 Axes>"
            ],
            "image/png": "[encoded data removed]"
          },
          "metadata": {}
        }
      ]
    },
    {
      "cell_type": "code",
      "source": [
        "result_with_node_sentiments = results\n"
      ],
      "metadata": {
        "id": "-QkUMhzc2zOU"
      },
      "execution_count": 244,
      "outputs": []
    },
    {
      "cell_type": "code",
      "source": [
        "print(np.max(result_with_node_sentiments[0]), np.max(result_with_node_sentiments[1]))"
      ],
      "metadata": {
        "id": "0lRMOvfO4oih",
        "outputId": "f9c204a1-2adc-471d-d68d-e4d0548ecd01",
        "colab": {
          "base_uri": "https://localhost:8080/"
        }
      },
      "execution_count": 249,
      "outputs": [
        {
          "output_type": "stream",
          "name": "stdout",
          "text": [
            "282.28125590085983 0.4641235240690282\n"
          ]
        }
      ]
    },
    {
      "cell_type": "code",
      "source": [
        "result_without_node_sentiments = results"
      ],
      "metadata": {
        "id": "Kw0bBfY326eY"
      },
      "execution_count": 250,
      "outputs": []
    },
    {
      "cell_type": "code",
      "source": [
        "plt.plot(result_with_node_sentiments[0], label = \"With node sentiments\")\n",
        "plt.plot(result_without_node_sentiments[0], label = \"Without node sentiments\")\n",
        "plt.title(\"Loss Tree-LSTM\")\n",
        "plt.xlabel(\"Epochs\")\n",
        "plt.ylabel(\"Loss\")\n",
        "plt.grid()\n",
        "plt.legend()\n",
        "plt.savefig(\"Loss_TreeLSTM_with_nodeSentiments_comparison.png\")\n",
        "plt.show()"
      ],
      "metadata": {
        "id": "e3XaGbPT2_ln",
        "outputId": "9f7e56eb-0690-4374-a4e4-13fb69ec1fb9",
        "colab": {
          "base_uri": "https://localhost:8080/",
          "height": 472
        }
      },
      "execution_count": 251,
      "outputs": [
        {
          "output_type": "display_data",
          "data": {
            "text/plain": [
              "<Figure size 640x480 with 1 Axes>"
            ],
            "image/png": "[encoded data removed]"
          },
          "metadata": {}
        }
      ]
    },
    {
      "cell_type": "code",
      "source": [
        "plt.plot(result_with_node_sentiments[1], label = \"With node sentiments\")\n",
        "plt.plot(result_without_node_sentiments[1], label = \"Without node sentiments\")\n",
        "plt.title(\"Accuracy Tree-LSTM\")\n",
        "plt.xlabel(\"Epochs\")\n",
        "plt.ylabel(\"Accuracy\")\n",
        "plt.legend()\n",
        "plt.grid()\n",
        "plt.savefig(\"Accuracy_TreeLSTM_with_nodeSentiments_comparison.png\")\n",
        "plt.show()"
      ],
      "metadata": {
        "id": "CChVaQlE3-vF",
        "outputId": "f03c204e-142a-49a2-b019-a306fc574cf1",
        "colab": {
          "base_uri": "https://localhost:8080/",
          "height": 472
        }
      },
      "execution_count": 252,
      "outputs": [
        {
          "output_type": "display_data",
          "data": {
            "text/plain": [
              "<Figure size 640x480 with 1 Axes>"
            ],
            "image/png": "[encoded data removed]"
          },
          "metadata": {}
        }
      ]
    },
    {
      "cell_type": "markdown",
      "metadata": {
        "id": "f7QZZH86eHqu"
      },
      "source": [
        "# Further experiments and report\n",
        "\n",
        "For your report, you are expected to answer research questions by doing further experiments.\n",
        "\n",
        "## Research Questions\n",
        "\n",
        "Make sure you cover at least the following:\n",
        "\n",
        "- How important is word order for this task?\n",
        "- Does the tree structure help to get a better accuracy?\n",
        "- How does performance depend on the sentence length? Compare the various models. Is there a model that does better on longer sentences? If so, why?\n",
        "- Do you get better performance if you supervise the sentiment **at each node in the tree**? You can extract more training examples by treating every node in each tree as a separate tree. You will need to write a function that extracts all subtrees given a treestring. \n",
        "    - Warning: NLTK's Tree function seems to result in invalid trees in some cases, so be careful if you want to parse the string to a tree structure before extraction the phrases.\n",
        "\n",
        "**To be able to obtain a full grade (10), you should conduct further investigations.** For example, you can also investigate one the following:\n",
        "\n",
        "- When making a wrong prediction, can you figure out at what point in the tree (sentence) the model fails? You can make a prediction at each node to investigate.\n",
        "- How does N-ary Tree LSTM compare to the Child-Sum Tree LSTM? \n",
        "- How do the Tai et al. Tree LSTMs compare to Le & Zuidema's formulation?\n",
        "- Or... your own research question!\n",
        "\n",
        "These examples should give you an idea of the expected scope of your further investigations.\n",
        "\n",
        "In general:\n",
        "\n",
        "- ***When you report numbers, please report the mean accuracy across 3 (or more) runs with different random seed, together with the standard deviation.*** This is because the final performance may vary per random seed. \n",
        "More precisely, you should run each model with 3 different seeds, and for each of these 3 runs, evaluate the best model (according to the validation) on the test dataset. The validation dataset is used for finding the best model over iterations, but the accuracy you report should be on the test dataset.\n",
        "\n",
        "## Report instructions\n",
        "\n",
        "Your report needs to be written in LaTeX. You are required to use the ACL 2020 template which you can download from or edit directly on [Overleaf](https://www.overleaf.com/latex/templates/instructions-for-acl-2018-proceedings/xzmhqgnmkppc). Make sure your names and student numbers are visible at the top. (Tip: you need to uncomment `\\aclfinalcopy`).\n",
        "You can find some general tips about writing a research paper [here](https://www.microsoft.com/en-us/research/academic-program/write-great-research-paper/), but note that you need to make your own judgment about what is appropriate for this project. \n",
        "\n",
        "We expect you to use the following structure:\n",
        "1. Introduction (~1 page) - describe the problem, your research questions and goals, a summary of your findings and contributions. Please cite related work (models, data set) as part of your introduction here, since this is a short paper.\n",
        "    - Introduce the task and the main goal\n",
        "    - Present your research questions\n",
        "    - Motivate the importance of the questions\n",
        "    - Present and explain your expectations\n",
        "    - Make clear whether the research questions are addressed or not addressed in the literature\n",
        "    - Describe the approach you use to answer the research questions\n",
        "    - Summarise your findings\n",
        "2. Background (~1/2-1 page) -\n",
        "cover the main techniques (\"building blocks\") used in your project (e.g. word embeddings, LSTM, Tree-LSTM) and intuitions behind them. Be accurate and concise.\n",
        "    - How does each technique work? (Don't just copy the formulas)\n",
        "    - What is the relation between the techniques?\n",
        "3. Models (~1/2 page) - Describe the architecture of the final models.\n",
        "    - How do you use LSTM or Tree-LSTM for the sentiment classification task? \n",
        "    - What layers do you have, how do you do classification? \n",
        "    - What is your loss function?\n",
        "    - Etc.\n",
        "4. Experiments (~1/2 page) - Describe your experimental setup. This section should allow someone else to reproduce your experiments. Describe how you evaluate the models.\n",
        "    - Task and the data\n",
        "    - Training (model, data, parameters and hyper parameters, training algorithms, supervision signals, etc.)\n",
        "    - Evaluation (e.g. metrics)\n",
        "5. Results and Analysis (~1 page). Present the results and analyse your findings.\n",
        "    - Answer each of the research questions you raised in the introduction.\n",
        "    - Use figures and tables to highlight interesting patterns\n",
        "    - What are the factors that make model A better than model B in task C? Investigate to prove their effect!\n",
        "6. Conclusion (~1/4 page). Present the conclusions that can be drawn from your experiments.\n",
        "    - What have you learned from you experiments?\n",
        "    - How do your findings relate to what is already known in the literature?\n",
        "    - Were the results as expected? Any surprising results? Why?\n",
        "    - Based on what you learned, what would you suggest doing next?\n",
        "\n",
        "\n",
        "General Tips:\n",
        "\n",
        "- Math notation – define each variable (either in running text, or in a pseudo-legenda after or before the equation).\n",
        "- Define technical terminology you need.\n",
        "- Avoid colloquial language – everything can be said in a scientific-sounding way.\n",
        "- Avoid lengthy sentences, stay to the point.\n",
        "- Do not spend space on \"obvious\" things.\n",
        "- Do not go over the page limit. (We will deduct points for that.)\n",
        "- The page limit is 4 pages excluding references and appendix. This is a strict limit; points will be deducted for longer reports. \n",
        "- There is no strict limit to references and appendix. However, the report needs to remain fully self-contained: the appendix should only include content that is not necessary to understand your work. For example, preprocessing decisions, model parameters, pseudocode, sample system inputs/outputs, and other details that are necessary for the exact replication of your work can be put into the appendix. \n",
        "\n",
        "\n",
        "An ideal report:\n",
        "- Precise, scientific-sounding, technical, to the point \n",
        "  - Little general “waffle”/chit-chat\n",
        "- Not boring – because you don’t explain obvious things too much\n",
        "- Efficient delivery of (only) the facts that we need to know to understand/reimplement\n",
        "- Results visually well-presented and described with the correct priority of importance of sub-results\n",
        "- Insightful analysis – speculation should connect to something interesting and not be too much; the reader “learns something new”\n",
        "- No typos, no colloquialisms – well-considered language\n",
        "- This normally means several re-draftings (re-orderings of information)\n"
      ]
    },
    {
      "cell_type": "markdown",
      "metadata": {
        "id": "xCDGjQ0xEB-s"
      },
      "source": []
    }
  ],
  "metadata": {
    "accelerator": "GPU",
    "colab": {
      "provenance": []
    },
    "gpuClass": "standard",
    "kernelspec": {
      "display_name": "Python 3.10.6 ('nlp1')",
      "language": "python",
      "name": "python3"
    },
    "language_info": {
      "codemirror_mode": {
        "name": "ipython",
        "version": 3
      },
      "file_extension": ".py",
      "mimetype": "text/x-python",
      "name": "python",
      "nbconvert_exporter": "python",
      "pygments_lexer": "ipython3",
      "version": "3.10.6"
    },
    "vscode": {
      "interpreter": {
        "hash": "b046196e79d13057a1e899176eb3e219f0bd1adae78ef5ddaf046d28f570e8e9"
      }
    }
  },
  "nbformat": 4,
  "nbformat_minor": 0
}