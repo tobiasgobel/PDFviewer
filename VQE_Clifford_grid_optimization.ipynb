{
  "nbformat": 4,
  "nbformat_minor": 0,
  "metadata": {
    "colab": {
      "name": "VQE_Clifford-grid optimization.ipynb",
      "provenance": [],
      "collapsed_sections": [],
      "authorship_tag": "ABX9TyNkGhYKiGmAtzKyNr6md0FW",
      "include_colab_link": true
    },
    "kernelspec": {
      "name": "python3",
      "display_name": "Python 3"
    },
    "language_info": {
      "name": "python"
    },
    "gpuClass": "standard"
  },
  "cells": [
    {
      "cell_type": "markdown",
      "metadata": {
        "id": "view-in-github",
        "colab_type": "text"
      },
      "source": [
        "<a href=\"https://colab.research.google.com/github/tobiasgobel/PDFviewer/blob/main/VQE_Clifford_grid_optimization.ipynb\" target=\"_parent\"><img src=\"https://colab.research.google.com/assets/colab-badge.svg\" alt=\"Open In Colab\"/></a>"
      ]
    },
    {
      "cell_type": "code",
      "execution_count": 180,
      "metadata": {
        "id": "HOWsR9LirocD"
      },
      "outputs": [],
      "source": [
        "from sympy.series import series\n",
        "from scipy.optimize import minimize, NonlinearConstraint\n",
        "import time\n",
        "import itertools\n",
        "from sympy import symbols, Matrix, SparseMatrix, cos, sin, expand, lambdify, O\n",
        "from sympy.utilities.iterables import multiset_permutations\n",
        "\n",
        "from functools import *\n",
        "from operator import *\n",
        "import scipy\n",
        "import sympy\n",
        "import numpy as np\n",
        "import random\n",
        "import math\n",
        "from numba import jit"
      ]
    },
    {
      "cell_type": "code",
      "source": [
        "from functools import wraps\n",
        "from time import time\n",
        "\n",
        "def timing(f):\n",
        "    @wraps(f)\n",
        "    def wrap(*args, **kw):\n",
        "        ts = time()\n",
        "        result = f(*args, **kw)\n",
        "        te = time()\n",
        "        print('func:%r  took: %2.4f sec' %(f.__name__, te-ts))\n",
        "        return result\n",
        "    return wrap"
      ],
      "metadata": {
        "id": "7GwGc9Vde2Z6"
      },
      "execution_count": 181,
      "outputs": []
    },
    {
      "cell_type": "code",
      "source": [
        ""
      ],
      "metadata": {
        "id": "1GQzTEcvfk5c"
      },
      "execution_count": 181,
      "outputs": []
    },
    {
      "cell_type": "markdown",
      "source": [
        "Functions"
      ],
      "metadata": {
        "id": "SVNI_Y5Q1sWH"
      }
    },
    {
      "cell_type": "markdown",
      "source": [
        "We denote the ansatz as following:\n",
        "ansatz = [\"X0Y1\",\"X1Y2\",\"X0X1Y2\"]"
      ],
      "metadata": {
        "id": "d1_Qx0m6i18M"
      }
    },
    {
      "cell_type": "code",
      "source": [
        "class Operators:\n",
        "  def __init__(self, ansatz, N):\n",
        "    self.ansatz = ansatz\n",
        "    self.N = N\n",
        "  def split(self):\n",
        "      paulis = []\n",
        "      positions = []\n",
        "      for i in range(len(self.ansatz)):\n",
        "          pauli_lst = []\n",
        "          pos_lst = []\n",
        "          #creating lists of operators and corresponding positions\n",
        "          prev_int = False\n",
        "          for k in self.ansatz[i]:\n",
        "              if k.isdigit():\n",
        "                  if not prev_int:\n",
        "                      pos_lst.append(k)\n",
        "                  else:\n",
        "                      pos_lst[-1] += k\n",
        "                  prev_int = True\n",
        "              else:\n",
        "                  pauli_lst.append(k)\n",
        "                  prev_int = False\n",
        "          paulis.append(pauli_lst)\n",
        "          positions.append(pos_lst)\n",
        "      return positions, paulis\n",
        "  @jit(nopython = True)\n",
        "  def matrix_repr(self):\n",
        "    positions, paulis = self.split()\n",
        "    matrices = []\n",
        "    for i in range(len(self.ansatz)):\n",
        "      Kron = 1\n",
        "      counter = 0\n",
        "      for j in range(self.N):\n",
        "        if counter == len(positions[i]):\n",
        "          for _ in range(self.N-j):\n",
        "            Kron = np.kron(Kron, Pauli[\"I\"])\n",
        "          break\n",
        "        elif j == int(positions[i][counter]):\n",
        "          Kron = np.kron(Kron, Pauli[paulis[i][counter]])\n",
        "          counter+=1\n",
        "        else:\n",
        "          Kron = np.kron(Kron, Pauli[\"I\"])\n",
        "      matrices += [Kron]\n",
        "    return matrices\n",
        "\n",
        "def pauli_on_pauli(p1,p2):\n",
        "    \n",
        "    if p1 == 'X' and p2 == 'Y':\n",
        "        return 1j, 'Z'\n",
        "    elif p1 == 'X' and p2 == 'X':\n",
        "        return 1, 'I'\n",
        "    elif p1 == 'Y' and p2 == 'Y':\n",
        "        return 1, 'I'\n",
        "    elif p1 == 'Z' and p2 == 'Z':\n",
        "        return 1, 'I'\n",
        "    elif p1 == 'Z' and p2 == 'X':\n",
        "        return 1j, 'Y'\n",
        "    elif p1 == 'Z' and p2 == 'Y':\n",
        "        return -1j, 'X'\n",
        "    elif p1 == 'I':\n",
        "        return 1, p2\n",
        "    elif p2 == 'I':\n",
        "        return 1, p1\n",
        "    else:\n",
        "        a, p = pauli_on_pauli(p2,p1)\n",
        "        return -1*a, p\n",
        "\n",
        "def single_pauli_action(pauli, spin):\n",
        "    \n",
        "    if pauli=='X':\n",
        "        return((spin+1)%2, 1)\n",
        "    elif pauli=='Y':\n",
        "        return((spin+1)%2, 1j*(-1)**spin)\n",
        "    elif pauli=='Z':\n",
        "        return(spin, (-1)**spin)\n",
        "    elif pauli=='I':\n",
        "        return(spin, 1)\n",
        "    else:\n",
        "        print('wrong pauli!')\n",
        "        return(None)\n",
        "\n",
        "def findCombinationsUtil(li, arr, index, num, reducedNum):\n",
        "    z = []\n",
        "    if (reducedNum < 0): \n",
        "        return; \n",
        "    if (reducedNum == 0): \n",
        "  \n",
        "        for i in range(index): \n",
        "            z = z + [arr[i]]\n",
        "        li.append(z) \n",
        "        return;\n",
        "\n",
        "    prev = 1 if (index == 0) else arr[index - 1]; \n",
        "  \n",
        "    for k in range(prev, num + 1): \n",
        "          \n",
        "\n",
        "        arr[index] = k; \n",
        "  \n",
        "        findCombinationsUtil(li,arr, index + 1, num,  \n",
        "                                 reducedNum - k); \n",
        "    return li\n",
        "\n",
        "def k_all(N, generators, order): \n",
        "      \n",
        "    # array to store the combinations \n",
        "    # It can contain max n elements\n",
        "    out = []\n",
        "    k_length = len(generators)\n",
        "    for k in range(1, order+1):\n",
        "        arr = [0] * k;\n",
        "        output = []\n",
        "        a =  findCombinationsUtil([], arr, 0, k, k);\n",
        "        for i in a:\n",
        "            if len(i)<= k_length:\n",
        "                i = i.extend((k_length-len(i))*[0])\n",
        "        for j in a:\n",
        "            if len(j) == k_length:\n",
        "#                 if k_vector(N, interactions,j).state()[1] != N*[0]:\n",
        "                output = output + list(multiset_permutations(j))\n",
        "        out =  out+ output\n",
        "    return [tuple(p) for p in [[0]*k_length] + out]\n",
        "\n",
        "def power_product(x,y):\n",
        "    out = 1\n",
        "    for i in range(len(x)):\n",
        "         out*= x[i]**y[i]\n",
        "    return out\n",
        "\n"
      ],
      "metadata": {
        "id": "F_q9EbKbmwAz"
      },
      "execution_count": 207,
      "outputs": []
    },
    {
      "cell_type": "code",
      "source": [
        "class pauli:\n",
        "  def __init__(self,string, N, factor = 1):\n",
        "    self.string = string\n",
        "    self.factor = factor\n",
        "    self.N = N\n",
        "    self.starting_state = np.array([0]*self.N)\n",
        "\n",
        "  def __str__(self):\n",
        "    return self.string+\".   factor: \"+str(self.factor)\n",
        "    \n",
        "  #define multiplying by a constant (on left hand side)\n",
        "  def __rmul__(self, c):\n",
        "    self.factor *= c\n",
        "    return self\n",
        "\n",
        "  #define the power of a pauli string\n",
        "  def __pow__(self, c): \n",
        "    C = pauli(\"I0\",self.N)\n",
        "    for i in range(abs(c)):\n",
        "      C = C*self\n",
        "    return C\n",
        "\n",
        "  #define multiplying two pauli strings\n",
        "  def __mul__(self, x):\n",
        "    pos1, pauli1 = self.split()\n",
        "    pos2, pauli2 = x.split()\n",
        "    factor = self.factor*x.factor\n",
        "    string = \"\"\n",
        "    counter1 =0\n",
        "    counter2 =0\n",
        "\n",
        "    for j in range(self.N):\n",
        "      end1 = counter1 == len(pos1)\n",
        "      end2 = counter2 == len(pos2)\n",
        "\n",
        "      if not end1 and not end2:\n",
        "        if int(pos1[counter1]) == j and int(pos2[counter2]) == j:\n",
        "          a, p= pauli_on_pauli(pauli1[counter1],pauli2[counter2])\n",
        "          factor *= a\n",
        "          string+= p+str(j)\n",
        "          counter1+=1\n",
        "          counter2+=1\n",
        "        elif int(pos1[counter1]) == j:\n",
        "          string+=pauli1[counter1]+str(j)\n",
        "          counter1+=1\n",
        "        elif int(pos2[counter2]) == j:\n",
        "          string+=pauli2[counter2]+str(j)\n",
        "          counter2+=1\n",
        "      elif not end1:\n",
        "        if int(pos1[counter1]) == j:\n",
        "          string+=pauli1[counter1]+str(j)\n",
        "          counter1+=1\n",
        "      elif not end2:\n",
        "          if int(pos2[counter2]) == j:\n",
        "            string+=pauli2[counter2]+str(j)\n",
        "            counter2+=1\n",
        "      else:\n",
        "        pass\n",
        "      \n",
        "    return pauli(string, self.N, factor)\n",
        "\n",
        "  #calculate resulting state of paulistring when acted upon initial_state  \n",
        "  def state(self, initial_state = 0):\n",
        "    pos, pauli = self.split()\n",
        "    init_state = self.starting_state + initial_state\n",
        "    a = self.factor\n",
        "    for j in range(len(pos)):\n",
        "      Pauli = pauli[j]\n",
        "      spin = init_state[int(pos[j])]\n",
        "      new_spin, factor = single_pauli_action(Pauli,spin)\n",
        "      init_state[int(pos[j])] = new_spin\n",
        "      a *= factor\n",
        "    return a, tuple(init_state)\n",
        "\n",
        "    \n",
        "#creating lists of operators and corresponding positions\n",
        "  def split(self):\n",
        "    pauli_lst = []\n",
        "    pos_lst = []\n",
        "    prev_int = False\n",
        "    for k in self.string:\n",
        "        if k.isdigit():\n",
        "            if not prev_int:\n",
        "                pos_lst.append(k)\n",
        "            else:\n",
        "                pos_lst[-1] += k\n",
        "            prev_int = True\n",
        "        else:\n",
        "            pauli_lst.append(k)\n",
        "            prev_int = False\n",
        "    return pos_lst, pauli_lst\n",
        "  \n",
        "\n",
        "  "
      ],
      "metadata": {
        "id": "huyNk0fAVhVn"
      },
      "execution_count": 192,
      "outputs": []
    },
    {
      "cell_type": "code",
      "source": [
        "#gives result of transformation exp(-i*T1)*T2*exp(i*T2)\n",
        "def Clifford_map(T1, T2, reversed_arguments = True):\n",
        "  T1T2 = T1*T2\n",
        "  T2T1 = T2*T1\n",
        "\n",
        "  if T1T2.factor == T2T1.factor:\n",
        "    if reversed_arguments:\n",
        "      return T1\n",
        "    else:\n",
        "      return T2\n",
        "  elif T1T2.factor == -T2T1.factor:\n",
        "    if reversed_arguments:\n",
        "      return -1j*T2T1\n",
        "    else:\n",
        "      return -1j*T1T2\n",
        "  else:\n",
        "    return \"something wrong here\"\n",
        "\n",
        "\n",
        "#returns list of pauli objects that are the result \n",
        "#of pulling all clifford gates to the left\n",
        "def pull_cliffords_through(ansatz, K, N):\n",
        "  T_K = [ansatz[0]]\n",
        "  \n",
        "  for j in range(1, len(ansatz)):\n",
        "    T = ansatz[j]\n",
        "    for i in range(j-1,-1,-1):\n",
        "      for _ in range(K[i]):\n",
        "        T = Clifford_map(T,ansatz[i])\n",
        "    T_K += [T] \n",
        "  return T_K\n",
        "\n",
        "\n",
        "\n"
      ],
      "metadata": {
        "id": "ZSJxM8x8pPg3"
      },
      "execution_count": 184,
      "outputs": []
    },
    {
      "cell_type": "code",
      "source": [
        "#creates a dictionary of states that contain contributions\n",
        "\n",
        "def s_dict(N, ansatz, K, order):\n",
        "\n",
        "  lst = list(map(list, itertools.product([0, 1], repeat=N))) #all possible bitstrings\n",
        "  s_dict = {} #keys: possible bitstrings, values dictionary with orders\n",
        "  T_K = pull_cliffords_through(ansatz, K, N)\n",
        "  K_all = k_all(N, ansatz, order)\n",
        "\n",
        "  for i in K_all: #loop through all \n",
        "\n",
        "    #calculate state that is produced by T_i\n",
        "    pauli_string = power_product(T_K[::-1], i[::-1])\n",
        "    factor, state = pauli_string.state()\n",
        "\n",
        "    #calculate magnitude of term\n",
        "    factorial = np.prod(np.array([math.factorial(j) for j in i]))\n",
        "    term = (1j)**sum(i)*factor/factorial\n",
        "\n",
        "    #check whether binary string is in dictionary, otherwise add\n",
        "    if state not in s_dict:\n",
        "      s_dict[state] = {}\n",
        "    if sum(i) not in s_dict[state]:\n",
        "      s_dict[state][sum(i)] = {}\n",
        "\n",
        "    #add to right place in dictionary\n",
        "    s_dict[state][sum(i)][i]= term\n",
        "\n",
        "  return s_dict\n",
        "\n",
        "\n",
        "def G_k(N, H, ansatz, K):\n",
        "  g_k = []\n",
        "  for P in H:\n",
        "    #Initialize list of Clifford gates with respective power of K.\n",
        "    G_K = [ansatz[i]**K[i] for i in range(len(K))]\n",
        "\n",
        "    #Apply nested Clifford Map to obtain G^-K P_a G^K\n",
        "    paulistring = reduce(Clifford_map, [P]+G_K[::-1])\n",
        "\n",
        "    g_k += [paulistring]\n",
        "  return g_k\n",
        "\n",
        "\n",
        "def dict_add(d, thetas):\n",
        "  a = 0\n",
        "  \n",
        "  for i in d:\n",
        "    a+= power_product(thetas, i)*d[i]\n",
        "  np.sum(thetas**d)\n",
        "  return a\n"
      ],
      "metadata": {
        "id": "4xB0HTgqegS5"
      },
      "execution_count": 212,
      "outputs": []
    },
    {
      "cell_type": "code",
      "source": [
        "@timing\n",
        "def energy(thetas, H,ansatz, s_dict, K,G_K, order):\n",
        "  E = 0\n",
        "  s_dict1 = s_dict\n",
        "  for paulistring in G_K: #loop through terms in Hamiltonian\n",
        "    E_a = 0\n",
        "\n",
        "    #loop over basis states\n",
        "    for s in s_dict1:\n",
        "      E_a_s = 0\n",
        "    \n",
        "      #Calculate G^-K P_a G^K |s>\n",
        "      a, state = paulistring.state(s)\n",
        "\n",
        "      #Define contributions of |s> and |s'>\n",
        "      psi_s1 = s_dict1[s]\n",
        "      psi_s2 = s_dict1[state]\n",
        "      #Double for loop to take the right orders in perturbation theory\n",
        "      for o1 in psi_s1:\n",
        "        for o2 in range(order - o1 +1):\n",
        "          if o2 in psi_s2:\n",
        "            A = dict_add(psi_s1[o1],thetas)\n",
        "            B = dict_add(psi_s2[o2],thetas)\n",
        "            E_a_s += A*np.conj(B)\n",
        "\n",
        "      E_a_s *= a\n",
        "      E_a += E_a_s\n",
        "    \n",
        "    E += E_a\n",
        "  return np.real(E)\n"
      ],
      "metadata": {
        "id": "ioP9CYUN5iYq"
      },
      "execution_count": 216,
      "outputs": []
    },
    {
      "cell_type": "code",
      "source": [
        "class K_hopping:\n",
        "  def __init__(self,N, ansatz, H, order, K_init):\n",
        "    self.N = N\n",
        "    self.ansatz = ansatz\n",
        "    self.H = H\n",
        "    self.order = order\n",
        "    self.K = K_init\n",
        "    self.path = [K_init.copy()]\n",
        "    self.len = len(ansatz)\n",
        "\n",
        "  def evaluate(self):\n",
        "    #init thetas\n",
        "    initial_guess = [0]*self.len\n",
        "\n",
        "    #initializing s-dictionary and clifford gates\n",
        "    s = s_dict(self.N, self.ansatz, self.K, self.order)\n",
        "    G_K = G_k(self.N, self.H, self.ansatz, self.K)\n",
        "\n",
        "    #scipy minimize around self.K\n",
        "    result = scipy.optimize.minimize(energy, initial_guess,jac = False, args = (self.H,self.ansatz,s,self.K,G_K,self.order))\n",
        "\n",
        "    return result\n",
        "\n",
        "  def step(self, result):\n",
        "    #determine index largest angle\n",
        "    thetas = result.x\n",
        "    index = np.argmax(np.abs(thetas))\n",
        "    print(result.x)\n",
        "    if thetas[index] >= np.pi/8:\n",
        "      self.K[index] += 1\n",
        "    elif thetas[index] <= -np.pi/8:\n",
        "      self.K[index] += 3\n",
        "    else:\n",
        "      return False\n",
        "    self.path += [self.K.copy()]\n",
        "    print(self.K)\n",
        "    return True\n",
        "\n",
        "  @timing\n",
        "  def hopping(self,iters=10):\n",
        "    next = True\n",
        "    for _ in range(iters):\n",
        "      result = self.evaluate()\n",
        "      next = self.step(result)\n",
        "      if not next:\n",
        "        return result\n",
        "    return result\n",
        "\n",
        "\n",
        "\n"
      ],
      "metadata": {
        "id": "GGeBFHlIoitA"
      },
      "execution_count": 187,
      "outputs": []
    },
    {
      "cell_type": "code",
      "source": [
        "N = 2\n",
        "ansatz = [pauli(\"X0Y1\",N)]#,pauli(\"X1Y2\",N),pauli(\"X2Y3\",N)]\n",
        "\n",
        "Z_h = -.01\n",
        "X_h = -1\n",
        "H = [pauli(\"Z0\",N,Z_h),pauli(\"Z1\",N,Z_h)]#,pauli(\"Z2\",N,Z_h),pauli(\"Z3\",N,Z_h),pauli(\"X0X1\",N,X_h),pauli(\"X1X2\",N,X_h),pauli(\"X2X3\",N,X_h)]\n",
        "H+= [pauli(\"X0X1\",N,X_h)]\n",
        "K = [0]\n",
        "order = 3\n",
        "\n",
        "# instance = K_hopping(N,ansatz, H, order, K)\n",
        "# print(instance.hopping(), instance.path)"
      ],
      "metadata": {
        "id": "p3T40plh8rHG"
      },
      "execution_count": 197,
      "outputs": []
    },
    {
      "cell_type": "code",
      "source": [
        "print(1.23664/np.pi)\n",
        "np.pi**2/8\n",
        "\n",
        "0.80873673/np.pi"
      ],
      "metadata": {
        "colab": {
          "base_uri": "https://localhost:8080/"
        },
        "id": "A_xGyrjs9gMI",
        "outputId": "56b2b03d-9188-4743-d776-42437b403a4d"
      },
      "execution_count": 189,
      "outputs": [
        {
          "output_type": "stream",
          "name": "stdout",
          "text": [
            "0.3936347376503229\n"
          ]
        },
        {
          "output_type": "execute_result",
          "data": {
            "text/plain": [
              "0.25742889647895106"
            ]
          },
          "metadata": {},
          "execution_count": 189
        }
      ]
    },
    {
      "cell_type": "code",
      "source": [
        "N = 4\n",
        "ansatz = [pauli(\"X0Y1\",N),pauli(\"X1Y2\",N),pauli(\"X2Y3\",N)]\n",
        "\n",
        "Z_h = -.1\n",
        "X_h = -1\n",
        "H = [pauli(\"Z0\",N,Z_h),pauli(\"Z1\",N,Z_h),pauli(\"Z2\",N,Z_h),pauli(\"Z3\",N,Z_h),pauli(\"X0X1\",N,X_h),pauli(\"X1X2\",N,X_h),pauli(\"X2X3\",N,X_h)]\n",
        "# H+= [pauli(\"X0X1\",N,X_h)]\n",
        "K = [0,0,0]\n",
        "order = 9\n",
        "thetas=[0,0,0]\n",
        "s = s_dict(N, ansatz, K, order)\n",
        "G_K = G_k(N, H, ansatz, K)\n",
        "\n",
        "print(s)\n",
        "# print([str(i) for i in G_K])\n",
        "\n",
        "print(energy(thetas, H, ansatz, s, K, G_K, order))"
      ],
      "metadata": {
        "id": "mr6YLanr7snr",
        "colab": {
          "base_uri": "https://localhost:8080/"
        },
        "outputId": "b036bf89-c9f9-455e-8ab1-6405de90dd70"
      },
      "execution_count": 217,
      "outputs": [
        {
          "output_type": "stream",
          "name": "stdout",
          "text": [
            "{(0, 0, 0, 0): {0: {(0, 0, 0): (1+0j)}, 2: {(0, 0, 2): (-0.5+0j), (0, 2, 0): (-0.5+0j), (2, 0, 0): (-0.5+0j)}, 4: {(0, 2, 2): (0.25+0j), (2, 0, 2): (0.25+0j), (2, 2, 0): (0.25+0j), (0, 0, 4): (0.041666666666666664+0j), (0, 4, 0): (0.041666666666666664+0j), (4, 0, 0): (0.041666666666666664+0j)}, 6: {(2, 2, 2): (-0.125+0j), (0, 2, 4): (-0.020833333333333332+0j), (0, 4, 2): (-0.020833333333333332+0j), (2, 0, 4): (-0.020833333333333332+0j), (2, 4, 0): (-0.020833333333333332+0j), (4, 0, 2): (-0.020833333333333332+0j), (4, 2, 0): (-0.020833333333333332+0j), (0, 0, 6): (-0.001388888888888889+0j), (0, 6, 0): (-0.001388888888888889+0j), (6, 0, 0): (-0.001388888888888889+0j)}, 8: {(2, 2, 4): (0.010416666666666666+0j), (2, 4, 2): (0.010416666666666666+0j), (4, 2, 2): (0.010416666666666666+0j), (0, 2, 6): (0.0006944444444444445+0j), (0, 6, 2): (0.0006944444444444445+0j), (2, 0, 6): (0.0006944444444444445+0j), (2, 6, 0): (0.0006944444444444445+0j), (6, 0, 2): (0.0006944444444444445+0j), (6, 2, 0): (0.0006944444444444445+0j), (0, 4, 4): (0.001736111111111111+0j), (4, 0, 4): (0.001736111111111111+0j), (4, 4, 0): (0.001736111111111111+0j), (0, 0, 8): (2.48015873015873e-05+0j), (0, 8, 0): (2.48015873015873e-05+0j), (8, 0, 0): (2.48015873015873e-05+0j)}}, (0, 0, 1, 1): {1: {(0, 0, 1): (-1+0j)}, 3: {(0, 2, 1): (0.5-0j), (2, 0, 1): (0.5-0j), (0, 0, 3): (0.16666666666666666-0j)}, 5: {(2, 2, 1): (-0.25+0j), (0, 4, 1): (-0.041666666666666664+0j), (4, 0, 1): (-0.041666666666666664+0j), (0, 2, 3): (-0.08333333333333333+0j), (2, 0, 3): (-0.08333333333333333+0j), (0, 0, 5): (-0.008333333333333333+0j)}, 7: {(2, 4, 1): (0.020833333333333332-0j), (4, 2, 1): (0.020833333333333332-0j), (0, 6, 1): (0.001388888888888889-0j), (6, 0, 1): (0.001388888888888889-0j), (2, 2, 3): (0.041666666666666664-0j), (0, 2, 5): (0.004166666666666667-0j), (2, 0, 5): (0.004166666666666667-0j), (0, 4, 3): (0.006944444444444444-0j), (4, 0, 3): (0.006944444444444444-0j), (0, 0, 7): (0.0001984126984126984-0j)}, 9: {(2, 6, 1): (-0.0006944444444444445+0j), (6, 2, 1): (-0.0006944444444444445+0j), (4, 4, 1): (-0.001736111111111111+0j), (0, 8, 1): (-2.48015873015873e-05+0j), (8, 0, 1): (-2.48015873015873e-05+0j), (2, 2, 5): (-0.0020833333333333333+0j), (2, 4, 3): (-0.003472222222222222+0j), (4, 2, 3): (-0.003472222222222222+0j), (0, 2, 7): (-9.92063492063492e-05+0j), (2, 0, 7): (-9.92063492063492e-05+0j), (0, 6, 3): (-0.0002314814814814815+0j), (6, 0, 3): (-0.0002314814814814815+0j), (0, 4, 5): (-0.00034722222222222224+0j), (4, 0, 5): (-0.00034722222222222224+0j), (0, 0, 9): (-2.7557319223985893e-06+0j)}}, (0, 1, 1, 0): {1: {(0, 1, 0): (-1+0j)}, 3: {(0, 1, 2): (0.5-0j), (2, 1, 0): (0.5-0j), (0, 3, 0): (0.16666666666666666-0j)}, 5: {(2, 1, 2): (-0.25+0j), (0, 1, 4): (-0.041666666666666664+0j), (4, 1, 0): (-0.041666666666666664+0j), (0, 3, 2): (-0.08333333333333333+0j), (2, 3, 0): (-0.08333333333333333+0j), (0, 5, 0): (-0.008333333333333333+0j)}, 7: {(2, 1, 4): (0.020833333333333332-0j), (4, 1, 2): (0.020833333333333332-0j), (0, 1, 6): (0.001388888888888889-0j), (6, 1, 0): (0.001388888888888889-0j), (2, 3, 2): (0.041666666666666664-0j), (0, 5, 2): (0.004166666666666667-0j), (2, 5, 0): (0.004166666666666667-0j), (0, 3, 4): (0.006944444444444444-0j), (4, 3, 0): (0.006944444444444444-0j), (0, 7, 0): (0.0001984126984126984-0j)}, 9: {(2, 1, 6): (-0.0006944444444444445+0j), (6, 1, 2): (-0.0006944444444444445+0j), (4, 1, 4): (-0.001736111111111111+0j), (0, 1, 8): (-2.48015873015873e-05+0j), (8, 1, 0): (-2.48015873015873e-05+0j), (2, 5, 2): (-0.0020833333333333333+0j), (2, 3, 4): (-0.003472222222222222+0j), (4, 3, 2): (-0.003472222222222222+0j), (0, 7, 2): (-9.92063492063492e-05+0j), (2, 7, 0): (-9.92063492063492e-05+0j), (0, 3, 6): (-0.0002314814814814815+0j), (6, 3, 0): (-0.0002314814814814815+0j), (0, 5, 4): (-0.00034722222222222224+0j), (4, 5, 0): (-0.00034722222222222224+0j), (0, 9, 0): (-2.7557319223985893e-06+0j)}}, (1, 1, 0, 0): {1: {(1, 0, 0): (-1+0j)}, 3: {(1, 0, 2): (0.5-0j), (1, 2, 0): (0.5-0j), (3, 0, 0): (0.16666666666666666-0j)}, 5: {(1, 2, 2): (-0.25+0j), (1, 0, 4): (-0.041666666666666664+0j), (1, 4, 0): (-0.041666666666666664+0j), (3, 0, 2): (-0.08333333333333333+0j), (3, 2, 0): (-0.08333333333333333+0j), (5, 0, 0): (-0.008333333333333333+0j)}, 7: {(1, 2, 4): (0.020833333333333332-0j), (1, 4, 2): (0.020833333333333332-0j), (1, 0, 6): (0.001388888888888889-0j), (1, 6, 0): (0.001388888888888889-0j), (3, 2, 2): (0.041666666666666664-0j), (5, 0, 2): (0.004166666666666667-0j), (5, 2, 0): (0.004166666666666667-0j), (3, 0, 4): (0.006944444444444444-0j), (3, 4, 0): (0.006944444444444444-0j), (7, 0, 0): (0.0001984126984126984-0j)}, 9: {(1, 2, 6): (-0.0006944444444444445+0j), (1, 6, 2): (-0.0006944444444444445+0j), (1, 4, 4): (-0.001736111111111111+0j), (1, 0, 8): (-2.48015873015873e-05+0j), (1, 8, 0): (-2.48015873015873e-05+0j), (5, 2, 2): (-0.0020833333333333333+0j), (3, 2, 4): (-0.003472222222222222+0j), (3, 4, 2): (-0.003472222222222222+0j), (7, 0, 2): (-9.92063492063492e-05+0j), (7, 2, 0): (-9.92063492063492e-05+0j), (3, 0, 6): (-0.0002314814814814815+0j), (3, 6, 0): (-0.0002314814814814815+0j), (5, 0, 4): (-0.00034722222222222224+0j), (5, 4, 0): (-0.00034722222222222224+0j), (9, 0, 0): (-2.7557319223985893e-06+0j)}}, (0, 1, 0, 1): {2: {(0, 1, 1): (1-0j)}, 4: {(2, 1, 1): (-0.5+0j), (0, 1, 3): (-0.16666666666666666+0j), (0, 3, 1): (-0.16666666666666666+0j)}, 6: {(4, 1, 1): (0.041666666666666664-0j), (2, 1, 3): (0.08333333333333333-0j), (2, 3, 1): (0.08333333333333333-0j), (0, 1, 5): (0.008333333333333333-0j), (0, 5, 1): (0.008333333333333333-0j), (0, 3, 3): (0.027777777777777776-0j)}, 8: {(6, 1, 1): (-0.001388888888888889+0j), (2, 1, 5): (-0.004166666666666667+0j), (2, 5, 1): (-0.004166666666666667+0j), (4, 1, 3): (-0.006944444444444444+0j), (4, 3, 1): (-0.006944444444444444+0j), (0, 1, 7): (-0.0001984126984126984+0j), (0, 7, 1): (-0.0001984126984126984+0j), (2, 3, 3): (-0.013888888888888888+0j), (0, 3, 5): (-0.001388888888888889+0j), (0, 5, 3): (-0.001388888888888889+0j)}}, (1, 1, 1, 1): {2: {(1, 0, 1): (1-0j)}, 4: {(1, 2, 1): (-0.5+0j), (1, 0, 3): (-0.16666666666666666+0j), (3, 0, 1): (-0.16666666666666666+0j)}, 6: {(1, 4, 1): (0.041666666666666664-0j), (1, 2, 3): (0.08333333333333333-0j), (3, 2, 1): (0.08333333333333333-0j), (1, 0, 5): (0.008333333333333333-0j), (5, 0, 1): (0.008333333333333333-0j), (3, 0, 3): (0.027777777777777776-0j)}, 8: {(1, 6, 1): (-0.001388888888888889+0j), (1, 2, 5): (-0.004166666666666667+0j), (5, 2, 1): (-0.004166666666666667+0j), (1, 4, 3): (-0.006944444444444444+0j), (3, 4, 1): (-0.006944444444444444+0j), (1, 0, 7): (-0.0001984126984126984+0j), (7, 0, 1): (-0.0001984126984126984+0j), (3, 2, 3): (-0.013888888888888888+0j), (3, 0, 5): (-0.001388888888888889+0j), (5, 0, 3): (-0.001388888888888889+0j)}}, (1, 0, 1, 0): {2: {(1, 1, 0): (1-0j)}, 4: {(1, 1, 2): (-0.5+0j), (1, 3, 0): (-0.16666666666666666+0j), (3, 1, 0): (-0.16666666666666666+0j)}, 6: {(1, 1, 4): (0.041666666666666664-0j), (1, 3, 2): (0.08333333333333333-0j), (3, 1, 2): (0.08333333333333333-0j), (1, 5, 0): (0.008333333333333333-0j), (5, 1, 0): (0.008333333333333333-0j), (3, 3, 0): (0.027777777777777776-0j)}, 8: {(1, 1, 6): (-0.001388888888888889+0j), (1, 5, 2): (-0.004166666666666667+0j), (5, 1, 2): (-0.004166666666666667+0j), (1, 3, 4): (-0.006944444444444444+0j), (3, 1, 4): (-0.006944444444444444+0j), (1, 7, 0): (-0.0001984126984126984+0j), (7, 1, 0): (-0.0001984126984126984+0j), (3, 3, 2): (-0.013888888888888888+0j), (3, 5, 0): (-0.001388888888888889+0j), (5, 3, 0): (-0.001388888888888889+0j)}}, (1, 0, 0, 1): {3: {(1, 1, 1): (-1+0j)}, 5: {(1, 1, 3): (0.16666666666666666-0j), (1, 3, 1): (0.16666666666666666-0j), (3, 1, 1): (0.16666666666666666-0j)}, 7: {(1, 1, 5): (-0.008333333333333333+0j), (1, 5, 1): (-0.008333333333333333+0j), (5, 1, 1): (-0.008333333333333333+0j), (1, 3, 3): (-0.027777777777777776+0j), (3, 1, 3): (-0.027777777777777776+0j), (3, 3, 1): (-0.027777777777777776+0j)}, 9: {(1, 1, 7): (0.0001984126984126984-0j), (1, 7, 1): (0.0001984126984126984-0j), (7, 1, 1): (0.0001984126984126984-0j), (1, 3, 5): (0.001388888888888889-0j), (1, 5, 3): (0.001388888888888889-0j), (3, 1, 5): (0.001388888888888889-0j), (3, 5, 1): (0.001388888888888889-0j), (5, 1, 3): (0.001388888888888889-0j), (5, 3, 1): (0.001388888888888889-0j), (3, 3, 3): (0.004629629629629629-0j)}}}\n",
            "func:'energy'  took: 0.0084 sec\n",
            "-0.4\n"
          ]
        }
      ]
    },
    {
      "cell_type": "code",
      "source": [
        "initial_guess = [0]*len(ansatz)\n",
        "result = scipy.optimize.minimize(energy, initial_guess,jac = False, args = (H,ansatz,s,K,G_K,order))"
      ],
      "metadata": {
        "colab": {
          "base_uri": "https://localhost:8080/"
        },
        "id": "nFQ7aIzxpA-q",
        "outputId": "15d5ee04-0000-4405-8968-4651797682f6"
      },
      "execution_count": 218,
      "outputs": [
        {
          "output_type": "stream",
          "name": "stdout",
          "text": [
            "func:'energy'  took: 0.0289 sec\n",
            "func:'energy'  took: 0.0222 sec\n",
            "func:'energy'  took: 0.0206 sec\n",
            "func:'energy'  took: 0.0218 sec\n",
            "func:'energy'  took: 0.0207 sec\n",
            "func:'energy'  took: 0.0212 sec\n",
            "func:'energy'  took: 0.0216 sec\n",
            "func:'energy'  took: 0.0220 sec\n",
            "func:'energy'  took: 0.0210 sec\n",
            "func:'energy'  took: 0.0216 sec\n",
            "func:'energy'  took: 0.0278 sec\n",
            "func:'energy'  took: 0.0226 sec\n",
            "func:'energy'  took: 0.0204 sec\n",
            "func:'energy'  took: 0.0230 sec\n",
            "func:'energy'  took: 0.0220 sec\n",
            "func:'energy'  took: 0.0223 sec\n",
            "func:'energy'  took: 0.0217 sec\n",
            "func:'energy'  took: 0.0217 sec\n",
            "func:'energy'  took: 0.0233 sec\n",
            "func:'energy'  took: 0.0202 sec\n",
            "func:'energy'  took: 0.0241 sec\n",
            "func:'energy'  took: 0.0231 sec\n",
            "func:'energy'  took: 0.0232 sec\n",
            "func:'energy'  took: 0.0224 sec\n",
            "func:'energy'  took: 0.0208 sec\n",
            "func:'energy'  took: 0.0217 sec\n",
            "func:'energy'  took: 0.0218 sec\n",
            "func:'energy'  took: 0.0249 sec\n",
            "func:'energy'  took: 0.0207 sec\n",
            "func:'energy'  took: 0.0219 sec\n",
            "func:'energy'  took: 0.0256 sec\n",
            "func:'energy'  took: 0.0201 sec\n",
            "func:'energy'  took: 0.0203 sec\n",
            "func:'energy'  took: 0.0202 sec\n",
            "func:'energy'  took: 0.0222 sec\n",
            "func:'energy'  took: 0.0272 sec\n"
          ]
        }
      ]
    },
    {
      "cell_type": "code",
      "source": [
        "1/6"
      ],
      "metadata": {
        "colab": {
          "base_uri": "https://localhost:8080/"
        },
        "id": "0VbYx5yZR1y2",
        "outputId": "97baa48f-52bc-4314-dc63-e8dbd16759dc"
      },
      "execution_count": 154,
      "outputs": [
        {
          "output_type": "execute_result",
          "data": {
            "text/plain": [
              "0.16666666666666666"
            ]
          },
          "metadata": {},
          "execution_count": 154
        }
      ]
    },
    {
      "cell_type": "code",
      "source": [
        "print(result)"
      ],
      "metadata": {
        "colab": {
          "base_uri": "https://localhost:8080/"
        },
        "id": "ikTlQhYbuuQQ",
        "outputId": "f8ebb72b-ff60-47fe-add3-7a4adeb228dc"
      },
      "execution_count": 124,
      "outputs": [
        {
          "output_type": "stream",
          "name": "stdout",
          "text": [
            "      fun: -1.500455998397633\n",
            " hess_inv: array([[ 0.12452819, -0.00018407,  0.00102221],\n",
            "       [-0.00018407,  0.06356769, -0.00111826],\n",
            "       [ 0.00102221, -0.00111826,  0.06275287]])\n",
            "      jac: array([-4.47034836e-08, -1.78813934e-07, -1.19209290e-07])\n",
            "  message: 'Optimization terminated successfully.'\n",
            "     nfev: 132\n",
            "      nit: 13\n",
            "     njev: 33\n",
            "   status: 0\n",
            "  success: True\n",
            "        x: array([-1.21980401,  0.00618522, -1.22226686])\n"
          ]
        }
      ]
    },
    {
      "cell_type": "code",
      "source": [
        "np.pi/4"
      ],
      "metadata": {
        "colab": {
          "base_uri": "https://localhost:8080/"
        },
        "id": "Oz3fC9GioqFN",
        "outputId": "796ee792-1e5c-4dc6-c01a-0ebc366be8d4"
      },
      "execution_count": 193,
      "outputs": [
        {
          "output_type": "execute_result",
          "data": {
            "text/plain": [
              "0.7853981633974483"
            ]
          },
          "metadata": {},
          "execution_count": 193
        }
      ]
    },
    {
      "cell_type": "code",
      "source": [
        ""
      ],
      "metadata": {
        "id": "c_lk7oo8eqoL"
      },
      "execution_count": 124,
      "outputs": []
    },
    {
      "cell_type": "code",
      "source": [
        "print(sum(dict['aa']))"
      ],
      "metadata": {
        "colab": {
          "base_uri": "https://localhost:8080/",
          "height": 164
        },
        "id": "5tr9iKoUUYm3",
        "outputId": "a2a2b463-a456-4d17-e612-85b05fe19880"
      },
      "execution_count": 153,
      "outputs": [
        {
          "output_type": "error",
          "ename": "TypeError",
          "evalue": "ignored",
          "traceback": [
            "\u001b[0;31m---------------------------------------------------------------------------\u001b[0m",
            "\u001b[0;31mTypeError\u001b[0m                                 Traceback (most recent call last)",
            "\u001b[0;32m<ipython-input-153-dc58f30f55af>\u001b[0m in \u001b[0;36m<module>\u001b[0;34m()\u001b[0m\n\u001b[0;32m----> 1\u001b[0;31m \u001b[0mprint\u001b[0m\u001b[0;34m(\u001b[0m\u001b[0msum\u001b[0m\u001b[0;34m(\u001b[0m\u001b[0mdict\u001b[0m\u001b[0;34m[\u001b[0m\u001b[0;34m'aa'\u001b[0m\u001b[0;34m]\u001b[0m\u001b[0;34m)\u001b[0m\u001b[0;34m)\u001b[0m\u001b[0;34m\u001b[0m\u001b[0;34m\u001b[0m\u001b[0m\n\u001b[0m",
            "\u001b[0;31mTypeError\u001b[0m: unsupported operand type(s) for +: 'int' and 'str'"
          ]
        }
      ]
    },
    {
      "cell_type": "code",
      "source": [
        ""
      ],
      "metadata": {
        "id": "AY7ejKC1UZgM"
      },
      "execution_count": null,
      "outputs": []
    }
  ]
}