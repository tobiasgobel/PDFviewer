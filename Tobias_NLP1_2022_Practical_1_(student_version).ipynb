{
  "cells": [
    {
      "cell_type": "markdown",
      "metadata": {
        "id": "1-aRiOgl4nHg"
      },
      "source": [
        "------\n",
        "**You cannot save any changes you make to this file, so please make sure to save it on your Google Colab drive or download it as a .ipynb file.**\n",
        "\n",
        "------\n",
        "\n",
        " "
      ]
    },
    {
      "cell_type": "markdown",
      "metadata": {
        "id": "lIZrAUx57vsM"
      },
      "source": [
        "Practical 1: Sentiment Detection in Movie Reviews\n",
        "========================================\n",
        "\n"
      ]
    },
    {
      "cell_type": "markdown",
      "metadata": {
        "id": "J4kXPMhyngZW"
      },
      "source": [
        "This practical concerns detecting sentiment in movie reviews. This is a typical NLP classification task.\n",
        "In [this file](https://gist.githubusercontent.com/bastings/d47423301cca214e3930061a5a75e177/raw/5113687382919e22b1f09ce71a8fecd1687a5760/reviews.json) (80MB) you will find 1000 positive and 1000 negative **movie reviews**.\n",
        "Each review is a **document** and consists of one or more sentences.\n",
        "\n",
        "To prepare yourself for this practical, you should\n",
        "have a look at a few of these texts to understand the difficulties of\n",
        "the task: how might one go about classifying the texts? You will write\n",
        "code that decides whether a movie review conveys positive or\n",
        "negative sentiment.\n",
        "\n",
        "Please make sure you have read the following paper:\n",
        "\n",
        ">   Bo Pang, Lillian Lee, and Shivakumar Vaithyanathan\n",
        "(2002). \n",
        "[Thumbs up? Sentiment Classification using Machine Learning\n",
        "Techniques](https://dl.acm.org/citation.cfm?id=1118704). EMNLP.\n",
        "\n",
        "Bo Pang et al. introduced the movie review sentiment\n",
        "classification task, and the above paper was one of the first papers on\n",
        "the topic. The first version of your sentiment classifier will do\n",
        "something similar to Pang et al.'s system. If you have questions about it,\n",
        "you should resolve you doubts as soon as possible with your TA.\n"
      ]
    },
    {
      "cell_type": "markdown",
      "metadata": {
        "id": "cb7errgRASzZ"
      },
      "source": [
        "**Advice**\n",
        "\n",
        "Please read through the entire practical and familiarise\n",
        "yourself with all requirements before you start coding or otherwise\n",
        "solving the tasks. Writing clean and concise code can make the difference\n",
        "between solving the assignment in a matter of hours, and taking days to\n",
        "run all experiments.\n",
        "\n",
        "## Environment\n",
        "\n",
        "All code should be written in **Python 3**. \n",
        "This is the default in Google Colab."
      ]
    },
    {
      "cell_type": "code",
      "execution_count": 1,
      "metadata": {
        "id": "SaZnxptMJiD7",
        "outputId": "aeae8638-8f62-46a8-9f91-4ec9322ca11e",
        "colab": {
          "base_uri": "https://localhost:8080/"
        }
      },
      "outputs": [
        {
          "output_type": "stream",
          "name": "stdout",
          "text": [
            "Python 3.7.15\n"
          ]
        }
      ],
      "source": [
        "!python --version"
      ]
    },
    {
      "cell_type": "markdown",
      "metadata": {
        "id": "BYZyIF7lJnGn"
      },
      "source": [
        "If you want to run code on your own computer, then download this notebook through `File -> Download .ipynb`.\n",
        "The easiest way to\n",
        "install Python is through downloading\n",
        "[Anaconda](https://www.anaconda.com/download). \n",
        "After installation, you can start the notebook by typing `jupyter notebook filename.ipynb`.\n",
        "You can also use an IDE\n",
        "such as [PyCharm](https://www.jetbrains.com/pycharm/download/) to make\n",
        "coding and debugging easier. It is good practice to create a [virtual\n",
        "environment](https://docs.python.org/3/tutorial/venv.html) for this\n",
        "project, so that any Python packages don’t interfere with other\n",
        "projects. \n",
        " \n",
        "\n",
        "**Learning Python 3**\n",
        "\n",
        "If you are new to Python 3, you may want to check out a few of these resources:\n",
        "- https://learnxinyminutes.com/docs/python3/\n",
        "- https://www.learnpython.org/\n",
        "- https://docs.python.org/3/tutorial/"
      ]
    },
    {
      "cell_type": "code",
      "execution_count": 3,
      "metadata": {
        "id": "hok-BFu9lGoK"
      },
      "outputs": [],
      "source": [
        "import math\n",
        "import os\n",
        "import sys\n",
        "from subprocess import call\n",
        "from nltk import FreqDist\n",
        "from nltk.util import ngrams\n",
        "from nltk.stem.porter import PorterStemmer\n",
        "import sklearn as sk\n",
        "from google.colab import drive\n",
        "import pickle\n",
        "import json\n",
        "from collections import Counter\n",
        "import requests\n",
        "import matplotlib.pyplot as plt\n",
        "import numpy as np\n",
        "import re"
      ]
    },
    {
      "cell_type": "markdown",
      "metadata": {
        "id": "bXWyGHwE-ieQ"
      },
      "source": [
        "## Loading the data\n",
        "\n",
        "**Download the sentiment lexicon and the movie reviews dataset.**"
      ]
    },
    {
      "cell_type": "code",
      "execution_count": 7,
      "metadata": {
        "id": "lm-rakqtlMOT",
        "outputId": "af14cc8c-ff53-4f04-c86d-fa92565d9a1e",
        "colab": {
          "base_uri": "https://localhost:8080/"
        }
      },
      "outputs": [
        {
          "output_type": "stream",
          "name": "stdout",
          "text": [
            "--2022-11-08 20:22:22--  https://gist.githubusercontent.com/bastings/d6f99dcb6c82231b94b013031356ba05/raw/f80a0281eba8621b122012c89c8b5e2200b39fd6/sent_lexicon\n",
            "Resolving gist.githubusercontent.com (gist.githubusercontent.com)... 185.199.109.133, 185.199.111.133, 185.199.108.133, ...\n",
            "Connecting to gist.githubusercontent.com (gist.githubusercontent.com)|185.199.109.133|:443... connected.\n",
            "HTTP request sent, awaiting response... 200 OK\n",
            "Length: 662577 (647K) [text/plain]\n",
            "Saving to: ‘sent_lexicon.1’\n",
            "\n",
            "\rsent_lexicon.1        0%[                    ]       0  --.-KB/s               \rsent_lexicon.1      100%[===================>] 647.05K  --.-KB/s    in 0.03s   \n",
            "\n",
            "2022-11-08 20:22:22 (22.9 MB/s) - ‘sent_lexicon.1’ saved [662577/662577]\n",
            "\n",
            "--2022-11-08 20:22:22--  https://gist.githubusercontent.com/bastings/d47423301cca214e3930061a5a75e177/raw/5113687382919e22b1f09ce71a8fecd1687a5760/reviews.json\n",
            "Resolving gist.githubusercontent.com (gist.githubusercontent.com)... 185.199.108.133, 185.199.109.133, 185.199.110.133, ...\n",
            "Connecting to gist.githubusercontent.com (gist.githubusercontent.com)|185.199.108.133|:443... connected.\n",
            "HTTP request sent, awaiting response... 200 OK\n",
            "Length: 83503869 (80M) [text/plain]\n",
            "Saving to: ‘reviews.json.1’\n",
            "\n",
            "reviews.json.1      100%[===================>]  79.63M   264MB/s    in 0.3s    \n",
            "\n",
            "2022-11-08 20:22:22 (264 MB/s) - ‘reviews.json.1’ saved [83503869/83503869]\n",
            "\n"
          ]
        }
      ],
      "source": [
        "# download sentiment lexicon\n",
        "!wget https://gist.githubusercontent.com/bastings/d6f99dcb6c82231b94b013031356ba05/raw/f80a0281eba8621b122012c89c8b5e2200b39fd6/sent_lexicon\n",
        "# download review data\n",
        "!wget https://gist.githubusercontent.com/bastings/d47423301cca214e3930061a5a75e177/raw/5113687382919e22b1f09ce71a8fecd1687a5760/reviews.json"
      ]
    },
    {
      "cell_type": "markdown",
      "metadata": {
        "id": "AkPwuHp5LSuQ"
      },
      "source": [
        "**Load the movie reviews.**\n",
        "\n",
        "Each word in a review comes with its part-of-speech tag. For documentation on POS-tags, see https://catalog.ldc.upenn.edu/docs/LDC99T42/tagguid1.pdf.\n"
      ]
    },
    {
      "cell_type": "code",
      "execution_count": 8,
      "metadata": {
        "id": "careEKj-mRpl",
        "outputId": "576bd351-2bae-41c3-beae-b1987e8c54b0",
        "colab": {
          "base_uri": "https://localhost:8080/"
        }
      },
      "outputs": [
        {
          "output_type": "stream",
          "name": "stdout",
          "text": [
            "Total number of reviews: 2000 \n",
            "\n",
            "0 NEG 29\n",
            "Two/CD teen/JJ couples/NNS go/VBP to/TO a/DT church/NN party/NN ,/, drink/NN and/CC then/RB drive/NN ./.\n",
            "1 NEG 11\n",
            "Damn/JJ that/IN Y2K/CD bug/NN ./.\n",
            "2 NEG 24\n",
            "It/PRP is/VBZ movies/NNS like/IN these/DT that/WDT make/VBP a/DT jaded/JJ movie/NN viewer/NN thankful/JJ for/IN the/DT invention/NN of/IN the/DT Timex/NNP IndiGlo/NNP watch/NN ./.\n",
            "3 NEG 19\n",
            "QUEST/NN FOR/IN CAMELOT/NNP ``/`` Quest/NNP for/IN Camelot/NNP ''/'' is/VBZ Warner/NNP Bros./NNP '/POS first/JJ feature-length/JJ ,/, fully-animated/JJ attempt/NN to/TO steal/VB clout/NN from/IN Disney/NNP 's/POS cartoon/NN empire/NN ,/, but/CC the/DT mouse/NN has/VBZ no/DT reason/NN to/TO be/VB worried/VBN ./.\n",
            "4 NEG 38\n",
            "Synopsis/NNPS :/: A/DT mentally/RB unstable/JJ man/NN undergoing/VBG psychotherapy/NN saves/VBZ a/DT boy/NN from/IN a/DT potentially/RB fatal/JJ accident/NN and/CC then/RB falls/VBZ in/IN love/NN with/IN the/DT boy/NN 's/POS mother/NN ,/, a/DT fledgling/NN restauranteur/NN ./.\n",
            "\n",
            "Number of word types: 47743\n",
            "Number of word tokens: 1512359\n",
            "\n",
            "Most common tokens:\n",
            "         , :    77842\n",
            "       the :    75948\n",
            "         . :    59027\n",
            "         a :    37583\n",
            "       and :    35235\n",
            "        of :    33864\n",
            "        to :    31601\n",
            "        is :    25972\n",
            "        in :    21563\n",
            "        's :    18043\n",
            "        it :    15904\n",
            "      that :    15820\n",
            "     -rrb- :    11768\n",
            "     -lrb- :    11670\n",
            "        as :    11312\n",
            "      with :    10739\n",
            "       for :     9816\n",
            "       his :     9542\n",
            "      this :     9497\n",
            "      film :     9404\n"
          ]
        }
      ],
      "source": [
        "# file structure:\n",
        "# [\n",
        "#  {\"cv\": integer, \"sentiment\": str, \"content\": list} \n",
        "#  {\"cv\": integer, \"sentiment\": str, \"content\": list} \n",
        "#   ..\n",
        "# ]\n",
        "# where `content` is a list of sentences, \n",
        "# with a sentence being a list of (token, pos_tag) pairs.\n",
        "\n",
        "\n",
        "with open(\"reviews.json\", mode=\"r\", encoding=\"utf-8\") as f:\n",
        "  reviews = json.load(f)\n",
        "  \n",
        "print(\"Total number of reviews:\", len(reviews), '\\n')\n",
        "\n",
        "def print_sentence_with_pos(s):\n",
        "  print(\" \".join(\"%s/%s\" % (token, pos_tag) for token, pos_tag in s))\n",
        "\n",
        "for i, r in enumerate(reviews):\n",
        "  print(r[\"cv\"], r[\"sentiment\"], len(r[\"content\"]))  # cv, sentiment, num sents\n",
        "  print_sentence_with_pos(r[\"content\"][0])\n",
        "  if i == 4: \n",
        "    break\n",
        "    \n",
        "c = Counter()\n",
        "for review in reviews:\n",
        "  for sentence in review[\"content\"]:\n",
        "    for token, pos_tag in sentence:\n",
        "      c[token.lower()] += 1\n",
        "      \n",
        "print(\"\\nNumber of word types:\", len(c))\n",
        "print(\"Number of word tokens:\", sum(c.values()))\n",
        "\n",
        "print(\"\\nMost common tokens:\")\n",
        "for token, count in c.most_common(20):\n",
        "  print(\"%10s : %8d\" % (token, count))\n",
        "  "
      ]
    },
    {
      "cell_type": "markdown",
      "metadata": {
        "id": "E6PWaEoh8B34"
      },
      "source": [
        "#(1) Lexicon-based approach (3.5pts)\n",
        "\n"
      ]
    },
    {
      "cell_type": "markdown",
      "metadata": {
        "id": "JsTSMb6ma4E8"
      },
      "source": [
        "A traditional approach to classify documents according to their sentiment is the lexicon-based approach. To implement this approach, you need a **sentiment lexicon**, i.e., a list of words annotated with a sentiment label (e.g., positive and negative, or a score from 0 to 5).\n",
        "\n",
        "In this practical, you will use the sentiment\n",
        "lexicon released by Wilson et al. (2005).\n",
        "\n",
        "> Theresa Wilson, Janyce Wiebe, and Paul Hoffmann\n",
        "(2005). [Recognizing Contextual Polarity in Phrase-Level Sentiment\n",
        "Analysis](http://www.aclweb.org/anthology/H/H05/H05-1044.pdf). HLT-EMNLP.\n",
        "\n",
        "Pay attention to all the information available in the sentiment lexicon. The field *word1* contains the lemma, *priorpolarity* contains the sentiment label (positive, negative, both, or neutral), *type* gives you the magnitude of the word's sentiment (strong or weak), and *pos1* gives you the part-of-speech tag of the lemma. Some lemmas can have multiple part-of-speech tags and thus multiple entries in the lexicon. The path of the lexicon file is `\"sent_lexicon\"`.\n"
      ]
    },
    {
      "cell_type": "code",
      "execution_count": 10,
      "metadata": {
        "id": "Ogq0Eq2hQglh",
        "outputId": "c92ed9e9-5db7-4b8d-884a-1c4c66e34d22",
        "colab": {
          "base_uri": "https://localhost:8080/"
        }
      },
      "outputs": [
        {
          "output_type": "stream",
          "name": "stdout",
          "text": [
            "type=weaksubj len=1 word1=abandoned pos1=adj stemmed1=n priorpolarity=negative\n",
            "type=weaksubj len=1 word1=abandonment pos1=noun stemmed1=n priorpolarity=negative\n",
            "type=weaksubj len=1 word1=abandon pos1=verb stemmed1=y priorpolarity=negative\n",
            "type=strongsubj len=1 word1=abase pos1=verb stemmed1=y priorpolarity=negative\n",
            "type=strongsubj len=1 word1=abasement pos1=anypos stemmed1=y priorpolarity=negative\n"
          ]
        }
      ],
      "source": [
        "with open(\"sent_lexicon\", mode=\"r\", encoding=\"utf-8\") as f:\n",
        "  line_cnt = 0\n",
        "  for line in f:\n",
        "    print(line.strip())\n",
        "    line_cnt += 1\n",
        "    if line_cnt > 4:\n",
        "      break"
      ]
    },
    {
      "cell_type": "markdown",
      "metadata": {
        "id": "Mml4nOtIUBhn"
      },
      "source": [
        "Lexica such as this can be used to solve\n",
        "the classification task without using Machine Learning. For example, one might look up every word $w_1 ... w_n$ in a document, and compute a **binary score**\n",
        "$S_{binary}$ by counting how many words have a positive or a\n",
        "negative label in the sentiment lexicon $SLex$.\n",
        "\n",
        "$$S_{binary}(w_1 w_2 ... w_n) = \\sum_{i = 1}^{n}\\text{sign}(SLex\\big[w_i\\big])$$\n",
        "\n",
        "where $\\text{sign}(SLex\\big[w_i\\big])$ refers to the polarity of $w_i$.\n",
        "\n",
        "**Threshold.** On average, there are more positive than negative words per review (~7.13 more positive than negative per review) to take this bias into account you should use a threshold of **8** (roughly the bias itself) to make it harder to classify as positive.\n",
        "\n",
        "$$\n",
        "\\text{classify}(S_{binary}(w_1 w_2 ... w_n)) = \\bigg\\{\\begin{array}{ll}\n",
        "        \\text{positive} & \\text{if } S_{binary}(w_1w_2...w_n) > threshold\\\\\n",
        "        \\text{negative} & \\text{otherwise}\n",
        "        \\end{array}\n",
        "$$\n"
      ]
    },
    {
      "cell_type": "markdown",
      "metadata": {
        "id": "tOFnMvbeeZrc"
      },
      "source": [
        "#### (Q1.1) Implement this approach and report its classification accuracy. (1 pt)"
      ]
    },
    {
      "cell_type": "code",
      "execution_count": 12,
      "metadata": {
        "id": "ED2aTEYutW1-",
        "outputId": "d1a90f7b-59f4-4a91-d7ab-764383735604",
        "colab": {
          "base_uri": "https://localhost:8080/"
        }
      },
      "outputs": [
        {
          "output_type": "stream",
          "name": "stdout",
          "text": [
            "{'polarity': 'negative', 'subjectivity': 1}\n"
          ]
        }
      ],
      "source": [
        "def load_lexicon(file):\n",
        "    lexicon = {}\n",
        "    with open(file, mode=\"r\", encoding=\"utf-8\") as f:\n",
        "        for line in f:\n",
        "            token = re.search('word1=(.*) pos', line).group(1)\n",
        "            polarity = re.search('priorpolarity=(.*)', line).group(1)\n",
        "            subjectivity = re.search('type=(.*) len', line).group(1)\n",
        "            if subjectivity == 'weaksubj':\n",
        "                subj = 1\n",
        "            elif subjectivity == 'strongsubj':\n",
        "                subj = 2\n",
        "            lexicon[token] = {\"polarity\": polarity, \"subjectivity\": subj}\n",
        "            \n",
        "    return lexicon\n",
        "\n",
        "lexicon = load_lexicon(\"sent_lexicon\")\n",
        "print(lexicon['abandoned'])"
      ]
    },
    {
      "cell_type": "code",
      "execution_count": 13,
      "metadata": {
        "id": "ae6tyLrp5Bdw"
      },
      "outputs": [],
      "source": [
        "def compute_sentiment(review, lexicon, method=\"normal\"):\n",
        "    sentiment = 0\n",
        "\n",
        "    for word in review:\n",
        "        w = word.lower()\n",
        "        if w in lexicon:\n",
        "            if method == \"weighted\":\n",
        "                magnitude = lexicon[w]['subjectivity']\n",
        "            else:\n",
        "                magnitude = 1\n",
        "            if lexicon[w][\"polarity\"] == \"positive\":\n",
        "                sentiment += magnitude\n",
        "            elif lexicon[w][\"polarity\"] == \"negative\":\n",
        "                sentiment -= magnitude\n",
        "\n",
        "    return sentiment"
      ]
    },
    {
      "cell_type": "code",
      "execution_count": 14,
      "metadata": {
        "id": "M-zwn3g15Bdx"
      },
      "outputs": [],
      "source": [
        "def compute_token_results(reviews, lexicon, method=\"normal\"):\n",
        "    token_results = []\n",
        "    sentiments = []\n",
        "    total_sentiment = 0\n",
        "    for review in reviews:\n",
        "        # Create list of all words.\n",
        "        full_sentence = []\n",
        "        for sentence in review[\"content\"]:\n",
        "            for token, _ in sentence:\n",
        "                full_sentence.append(token)\n",
        "                \n",
        "        sentiment = compute_sentiment(full_sentence, lexicon, method)\n",
        "        sentiments.append(sentiment)\n",
        "        total_sentiment += sentiment\n",
        "\n",
        "    if method == \"weighted\":\n",
        "        threshold = np.round(total_sentiment / 2000)\n",
        "    else:\n",
        "        threshold = 8\n",
        "        \n",
        "    for review, sentiment in zip(reviews, sentiments):\n",
        "        if sentiment > threshold:\n",
        "            sent = \"POS\"\n",
        "        else:\n",
        "            sent = \"NEG\"\n",
        "\n",
        "        if sent == review[\"sentiment\"]:\n",
        "            token_results.append(1)\n",
        "        else:\n",
        "            token_results.append(0)\n",
        "\n",
        "    return token_results\n"
      ]
    },
    {
      "cell_type": "code",
      "execution_count": 20,
      "metadata": {
        "id": "iy528EUTphz5",
        "outputId": "8f5af4af-995f-48ae-9dba-bc20a7902431",
        "colab": {
          "base_uri": "https://localhost:8080/"
        }
      },
      "outputs": [
        {
          "output_type": "stream",
          "name": "stdout",
          "text": [
            "{'cv': 0, 'sentiment': 'NEG', 'content': [[['Two', 'CD'], ['teen', 'JJ'], ['couples', 'NNS'], ['go', 'VBP'], ['to', 'TO'], ['a', 'DT'], ['church', 'NN'], ['party', 'NN'], [',', ','], ['drink', 'NN'], ['and', 'CC'], ['then', 'RB'], ['drive', 'NN'], ['.', '.']], [['They', 'PRP'], ['get', 'VBP'], ['into', 'IN'], ['an', 'DT'], ['accident', 'NN'], ['.', '.']], [['One', 'CD'], ['of', 'IN'], ['the', 'DT'], ['guys', 'NNS'], ['dies', 'VBZ'], [',', ','], ['but', 'CC'], ['his', 'PRP$'], ['girlfriend', 'NN'], ['continues', 'VBZ'], ['to', 'TO'], ['see', 'VB'], ['him', 'PRP'], ['in', 'IN'], ['her', 'PRP$'], ['life', 'NN'], [',', ','], ['and', 'CC'], ['has', 'VBZ'], ['nightmares', 'NNS'], ['.', '.']], [['What', 'WP'], [\"'s\", 'VBZ'], ['the', 'DT'], ['deal', 'NN'], ['?', '.']], [['Watch', 'VB'], ['the', 'DT'], ['movie', 'NN'], ['and', 'CC'], ['``', '``'], ['sorta', 'NN'], [\"''\", \"''\"], ['find', 'VB'], ['out', 'RP'], ['...', ':'], ['CRITIQUE', 'NNP'], [':', ':'], ['A', 'NNP'], ['mind-fuck', 'JJ'], ['movie', 'NN'], ['for', 'IN'], ['the', 'DT'], ['teen', 'NN'], ['generation', 'NN'], ['that', 'WDT'], ['touches', 'NNS'], ['on', 'IN'], ['a', 'DT'], ['very', 'RB'], ['cool', 'JJ'], ['idea', 'NN'], [',', ','], ['but', 'CC'], ['presents', 'VBZ'], ['it', 'PRP'], ['in', 'IN'], ['a', 'DT'], ['very', 'RB'], ['bad', 'JJ'], ['package', 'NN'], ['.', '.']], [['Which', 'WDT'], ['is', 'VBZ'], ['what', 'WP'], ['makes', 'VBZ'], ['this', 'DT'], ['review', 'NN'], ['an', 'DT'], ['even', 'RB'], ['harder', 'RBR'], ['one', 'CD'], ['to', 'TO'], ['write', 'VB'], [',', ','], ['since', 'IN'], ['I', 'PRP'], ['generally', 'RB'], ['applaud', 'VBP'], ['films', 'NNS'], ['which', 'WDT'], ['attempt', 'VBP'], ['to', 'TO'], ['break', 'VB'], ['the', 'DT'], ['mold', 'NN'], [',', ','], ['mess', 'NN'], ['with', 'IN'], ['your', 'PRP$'], ['head', 'NN'], ['and', 'CC'], ['such', 'JJ'], ['-LRB-', '-LRB-'], ['LOST', 'JJ'], ['HIGHWAY', 'NNP'], ['&', 'CC'], ['MEMENTO', 'NNP'], ['-RRB-', '-RRB-'], [',', ','], ['but', 'CC'], ['there', 'EX'], ['are', 'VBP'], ['good', 'JJ'], ['and', 'CC'], ['bad', 'JJ'], ['ways', 'NNS'], ['of', 'IN'], ['making', 'VBG'], ['all', 'DT'], ['types', 'NNS'], ['of', 'IN'], ['films', 'NNS'], [',', ','], ['and', 'CC'], ['these', 'DT'], ['folks', 'NNS'], ['just', 'RB'], ['did', 'VBD'], [\"n't\", 'RB'], ['snag', 'NN'], ['this', 'DT'], ['one', 'CD'], ['correctly', 'RB'], ['.', '.']], [['They', 'PRP'], ['seem', 'VBP'], ['to', 'TO'], ['have', 'VB'], ['taken', 'VBN'], ['this', 'DT'], ['pretty', 'RB'], ['neat', 'JJ'], ['concept', 'NN'], [',', ','], ['but', 'CC'], ['executed', 'VBD'], ['it', 'PRP'], ['terribly', 'RB'], ['.', '.']], [['So', 'RB'], ['what', 'WP'], ['are', 'VBP'], ['the', 'DT'], ['problems', 'NNS'], ['with', 'IN'], ['the', 'DT'], ['movie', 'NN'], ['?', '.']], [['Well', 'RB'], [',', ','], ['its', 'PRP$'], ['main', 'JJ'], ['problem', 'NN'], ['is', 'VBZ'], ['that', 'IN'], ['it', 'PRP'], [\"'s\", 'VBZ'], ['simply', 'RB'], ['too', 'RB'], ['jumbled', 'JJ'], ['.', '.']], [['It', 'PRP'], ['starts', 'VBZ'], ['off', 'RP'], ['``', '``'], ['normal', 'JJ'], [\"''\", \"''\"], ['but', 'CC'], ['then', 'RB'], ['downshifts', 'VBZ'], ['into', 'IN'], ['this', 'DT'], ['``', '``'], ['fantasy', 'NN'], [\"''\", \"''\"], ['world', 'NN'], ['in', 'IN'], ['which', 'WDT'], ['you', 'PRP'], [',', ','], ['as', 'IN'], ['an', 'DT'], ['audience', 'NN'], ['member', 'NN'], [',', ','], ['have', 'VBP'], ['no', 'DT'], ['idea', 'NN'], ['what', 'WP'], [\"'s\", 'VBZ'], ['going', 'VBG'], ['on', 'RP'], ['.', '.']], [['There', 'EX'], ['are', 'VBP'], ['dreams', 'NNS'], [',', ','], ['there', 'EX'], ['are', 'VBP'], ['characters', 'NNS'], ['coming', 'VBG'], ['back', 'RB'], ['from', 'IN'], ['the', 'DT'], ['dead', 'JJ'], [',', ','], ['there', 'EX'], ['are', 'VBP'], ['others', 'NNS'], ['who', 'WP'], ['look', 'VBP'], ['like', 'IN'], ['the', 'DT'], ['dead', 'JJ'], [',', ','], ['there', 'EX'], ['are', 'VBP'], ['strange', 'JJ'], ['apparitions', 'NNS'], [',', ','], ['there', 'EX'], ['are', 'VBP'], ['disappearances', 'NNS'], [',', ','], ['there', 'EX'], ['are', 'VBP'], ['a', 'DT'], ['looooot', 'NN'], ['of', 'IN'], ['chase', 'NN'], ['scenes', 'NNS'], [',', ','], ['there', 'EX'], ['are', 'VBP'], ['tons', 'NNS'], ['of', 'IN'], ['weird', 'JJ'], ['things', 'NNS'], ['that', 'WDT'], ['happen', 'VBP'], [',', ','], ['and', 'CC'], ['most', 'JJS'], ['of', 'IN'], ['it', 'PRP'], ['is', 'VBZ'], ['simply', 'RB'], ['not', 'RB'], ['explained', 'VBN'], ['.', '.']], [['Now', 'RB'], ['I', 'PRP'], ['personally', 'RB'], ['do', 'VBP'], [\"n't\", 'RB'], ['mind', 'VB'], ['trying', 'VBG'], ['to', 'TO'], ['unravel', 'VB'], ['a', 'DT'], ['film', 'NN'], ['every', 'DT'], ['now', 'RB'], ['and', 'CC'], ['then', 'RB'], [',', ','], ['but', 'CC'], ['when', 'WRB'], ['all', 'DT'], ['it', 'PRP'], ['does', 'VBZ'], ['is', 'VBZ'], ['give', 'VB'], ['me', 'PRP'], ['the', 'DT'], ['same', 'JJ'], ['clue', 'NN'], ['over', 'IN'], ['and', 'CC'], ['over', 'IN'], ['again', 'RB'], [',', ','], ['I', 'PRP'], ['get', 'VBP'], ['kind', 'NN'], ['of', 'IN'], ['fed', 'VBN'], ['up', 'RP'], ['after', 'IN'], ['a', 'DT'], ['while', 'NN'], [',', ','], ['which', 'WDT'], ['is', 'VBZ'], ['this', 'DT'], ['film', 'NN'], [\"'s\", 'POS'], ['biggest', 'JJS'], ['problem', 'NN'], ['.', '.']], [['It', 'PRP'], [\"'s\", 'VBZ'], ['obviously', 'RB'], ['got', 'VBN'], ['this', 'DT'], ['big', 'JJ'], ['secret', 'NN'], ['to', 'TO'], ['hide', 'VB'], [',', ','], ['but', 'CC'], ['it', 'PRP'], ['seems', 'VBZ'], ['to', 'TO'], ['want', 'VB'], ['to', 'TO'], ['hide', 'VB'], ['it', 'PRP'], ['completely', 'RB'], ['until', 'IN'], ['its', 'PRP$'], ['final', 'JJ'], ['five', 'CD'], ['minutes', 'NNS'], ['.', '.']], [['And', 'CC'], ['do', 'VBP'], ['they', 'PRP'], ['make', 'VBP'], ['things', 'NNS'], ['entertaining', 'JJ'], [',', ','], ['thrilling', 'JJ'], ['or', 'CC'], ['even', 'RB'], ['engaging', 'JJ'], [',', ','], ['in', 'IN'], ['the', 'DT'], ['meantime', 'NN'], ['?', '.']], [['Not', 'RB'], ['really', 'RB'], ['.', '.']], [['The', 'DT'], ['sad', 'JJ'], ['part', 'NN'], ['is', 'VBZ'], ['that', 'IN'], ['the', 'DT'], ['Arrow', 'NNP'], ['and', 'CC'], ['I', 'PRP'], ['both', 'DT'], ['dig', 'NN'], ['on', 'IN'], ['flicks', 'NNS'], ['like', 'IN'], ['this', 'DT'], [',', ','], ['so', 'IN'], ['we', 'PRP'], ['actually', 'RB'], ['figured', 'VBD'], ['most', 'JJS'], ['of', 'IN'], ['it', 'PRP'], ['out', 'RP'], ['by', 'IN'], ['the', 'DT'], ['half-way', 'NN'], ['point', 'NN'], [',', ','], ['so', 'RB'], ['all', 'DT'], ['of', 'IN'], ['the', 'DT'], ['strangeness', 'NN'], ['after', 'IN'], ['that', 'DT'], ['did', 'VBD'], ['start', 'VB'], ['to', 'TO'], ['make', 'VB'], ['a', 'DT'], ['little', 'JJ'], ['bit', 'NN'], ['of', 'IN'], ['sense', 'NN'], [',', ','], ['but', 'CC'], ['it', 'PRP'], ['still', 'RB'], ['did', 'VBD'], [\"n't\", 'RB'], ['the', 'DT'], ['make', 'VB'], ['the', 'DT'], ['film', 'NN'], ['all', 'DT'], ['that', 'IN'], ['more', 'JJR'], ['entertaining', 'JJ'], ['.', '.']], [['I', 'PRP'], ['guess', 'VBP'], ['the', 'DT'], ['bottom', 'JJ'], ['line', 'NN'], ['with', 'IN'], ['movies', 'NNS'], ['like', 'IN'], ['this', 'DT'], ['is', 'VBZ'], ['that', 'IN'], ['you', 'PRP'], ['should', 'MD'], ['always', 'RB'], ['make', 'VB'], ['sure', 'JJ'], ['that', 'IN'], ['the', 'DT'], ['audience', 'NN'], ['is', 'VBZ'], ['``', '``'], ['into', 'IN'], ['it', 'PRP'], [\"''\", \"''\"], ['even', 'RB'], ['before', 'IN'], ['they', 'PRP'], ['are', 'VBP'], ['given', 'VBN'], ['the', 'DT'], ['secret', 'JJ'], ['password', 'NN'], ['to', 'TO'], ['enter', 'VB'], ['your', 'PRP$'], ['world', 'NN'], ['of', 'IN'], ['understanding', 'NN'], ['.', '.']], [['I', 'PRP'], ['mean', 'VBP'], [',', ','], ['showing', 'VBG'], ['Melissa', 'NNP'], ['Sagemiller', 'NNP'], ['running', 'VBG'], ['away', 'RB'], ['from', 'IN'], ['visions', 'NNS'], ['for', 'IN'], ['about', 'RB'], ['20', 'CD'], ['minutes', 'NNS'], ['throughout', 'IN'], ['the', 'DT'], ['movie', 'NN'], ['is', 'VBZ'], ['just', 'RB'], ['plain', 'JJ'], ['lazy', 'JJ'], ['!!', 'NN']], [['Okay', 'UH'], [',', ','], ['we', 'PRP'], ['get', 'VBP'], ['it', 'PRP'], ['...', ':'], ['there', 'EX'], ['are', 'VBP'], ['people', 'NNS'], ['chasing', 'VBG'], ['her', 'PRP'], ['and', 'CC'], ['we', 'PRP'], ['do', 'VBP'], [\"n't\", 'RB'], ['know', 'VB'], ['who', 'WP'], ['they', 'PRP'], ['are', 'VBP'], ['.', '.']], [['Do', 'VB'], ['we', 'PRP'], ['really', 'RB'], ['need', 'VBP'], ['to', 'TO'], ['see', 'VB'], ['it', 'PRP'], ['over', 'IN'], ['and', 'CC'], ['over', 'IN'], ['again', 'RB'], ['?', '.']], [['How', 'WRB'], ['about', 'RB'], ['giving', 'VBG'], ['us', 'PRP'], ['different', 'JJ'], ['scenes', 'NNS'], ['offering', 'VBG'], ['further', 'JJ'], ['insight', 'NN'], ['into', 'IN'], ['all', 'DT'], ['of', 'IN'], ['the', 'DT'], ['strangeness', 'NN'], ['going', 'VBG'], ['down', 'RB'], ['in', 'IN'], ['the', 'DT'], ['movie', 'NN'], ['?', '.']], [['Apparently', 'RB'], [',', ','], ['the', 'DT'], ['studio', 'NN'], ['took', 'VBD'], ['this', 'DT'], ['film', 'NN'], ['away', 'RB'], ['from', 'IN'], ['its', 'PRP$'], ['director', 'NN'], ['and', 'CC'], ['chopped', 'VBD'], ['it', 'PRP'], ['up', 'RP'], ['themselves', 'PRP'], [',', ','], ['and', 'CC'], ['it', 'PRP'], ['shows', 'VBZ'], ['.', '.']], [['There', 'EX'], ['might', 'MD'], [\"'ve\", 'VB'], ['been', 'VBN'], ['a', 'DT'], ['pretty', 'RB'], ['decent', 'JJ'], ['teen', 'NN'], ['mind-fuck', 'NN'], ['movie', 'NN'], ['in', 'IN'], ['here', 'RB'], ['somewhere', 'RB'], [',', ','], ['but', 'CC'], ['I', 'PRP'], ['guess', 'VBP'], ['``', '``'], ['the', 'DT'], ['suits', 'NNS'], [\"''\", \"''\"], ['decided', 'VBD'], ['that', 'IN'], ['turning', 'VBG'], ['it', 'PRP'], ['into', 'IN'], ['a', 'DT'], ['music', 'NN'], ['video', 'NN'], ['with', 'IN'], ['little', 'JJ'], ['edge', 'NN'], [',', ','], ['would', 'MD'], ['make', 'VB'], ['more', 'JJR'], ['sense', 'NN'], ['.', '.']], [['The', 'DT'], ['actors', 'NNS'], ['are', 'VBP'], ['pretty', 'RB'], ['good', 'JJ'], ['for', 'IN'], ['the', 'DT'], ['most', 'JJS'], ['part', 'NN'], [',', ','], ['although', 'IN'], ['Wes', 'NNP'], ['Bentley', 'NNP'], ['just', 'RB'], ['seemed', 'VBD'], ['to', 'TO'], ['be', 'VB'], ['playing', 'VBG'], ['the', 'DT'], ['exact', 'JJ'], ['same', 'JJ'], ['character', 'NN'], ['that', 'IN'], ['he', 'PRP'], ['did', 'VBD'], ['in', 'IN'], ['AMERICAN', 'NNP'], ['BEAUTY', 'NNP'], [',', ','], ['only', 'RB'], ['in', 'IN'], ['a', 'DT'], ['new', 'JJ'], ['neighborhood', 'NN'], ['.', '.']], [['But', 'CC'], ['my', 'PRP$'], ['biggest', 'JJS'], ['kudos', 'NNS'], ['go', 'VBP'], ['out', 'RP'], ['to', 'TO'], ['Sagemiller', 'NNP'], [',', ','], ['who', 'WP'], ['holds', 'VBZ'], ['her', 'PRP$'], ['own', 'JJ'], ['throughout', 'IN'], ['the', 'DT'], ['entire', 'JJ'], ['film', 'NN'], [',', ','], ['and', 'CC'], ['actually', 'RB'], ['has', 'VBZ'], ['you', 'PRP'], ['feeling', 'VBG'], ['her', 'PRP$'], ['character', 'NN'], [\"'s\", 'POS'], ['unraveling', 'NN'], ['.', '.']], [['Overall', 'RB'], [',', ','], ['the', 'DT'], ['film', 'NN'], ['does', 'VBZ'], [\"n't\", 'RB'], ['stick', 'VB'], ['because', 'IN'], ['it', 'PRP'], ['does', 'VBZ'], [\"n't\", 'RB'], ['entertain', 'VB'], [',', ','], ['it', 'PRP'], [\"'s\", 'VBZ'], ['confusing', 'JJ'], [',', ','], ['it', 'PRP'], ['rarely', 'RB'], ['excites', 'VBZ'], ['and', 'CC'], ['it', 'PRP'], ['feels', 'VBZ'], ['pretty', 'RB'], ['redundant', 'JJ'], ['for', 'IN'], ['most', 'JJS'], ['of', 'IN'], ['its', 'PRP$'], ['runtime', 'NN'], [',', ','], ['despite', 'IN'], ['a', 'DT'], ['pretty', 'RB'], ['cool', 'JJ'], ['ending', 'VBG'], ['and', 'CC'], ['explanation', 'NN'], ['to', 'TO'], ['all', 'DT'], ['of', 'IN'], ['the', 'DT'], ['craziness', 'NN'], ['that', 'WDT'], ['came', 'VBD'], ['before', 'IN'], ['it', 'PRP'], ['.', '.']], [['Oh', 'UH'], [',', ','], ['and', 'CC'], ['by', 'IN'], ['the', 'DT'], ['way', 'NN'], [',', ','], ['this', 'DT'], ['is', 'VBZ'], ['not', 'RB'], ['a', 'DT'], ['horror', 'NN'], ['or', 'CC'], ['teen', 'JJ'], ['slasher', 'NN'], ['flick', 'NN'], ['...', ':'], ['it', 'PRP'], [\"'s\", 'VBZ'], ['just', 'RB'], ['packaged', 'VBN'], ['to', 'TO'], ['look', 'VB'], ['that', 'DT'], ['way', 'NN'], ['because', 'IN'], ['someone', 'NN'], ['is', 'VBZ'], ['apparently', 'RB'], ['assuming', 'VBG'], ['that', 'IN'], ['the', 'DT'], ['genre', 'NN'], ['is', 'VBZ'], ['still', 'RB'], ['hot', 'JJ'], ['with', 'IN'], ['the', 'DT'], ['kids', 'NNS'], ['.', '.']], [['It', 'PRP'], ['also', 'RB'], ['wrapped', 'VBD'], ['production', 'NN'], ['two', 'CD'], ['years', 'NNS'], ['ago', 'RB'], ['and', 'CC'], ['has', 'VBZ'], ['been', 'VBN'], ['sitting', 'VBG'], ['on', 'IN'], ['the', 'DT'], ['shelves', 'NNS'], ['ever', 'RB'], ['since', 'IN'], ['.', '.']], [['Whatever', 'WDT'], ['...', ':'], ['skip', 'VB'], ['it', 'PRP'], ['!', '.']]]}\n",
            "Accuracy: 0.68\n"
          ]
        }
      ],
      "source": [
        "# token_results should be a list of binary indicators; for example [1, 0, 1, ...] \n",
        "# where 1 indicates a correct classification and 0 an incorrect classification.\n",
        "token_results = compute_token_results(reviews, lexicon)\n",
        "token_accuracy = np.sum(token_results) / len(token_results)\n",
        "print(reviews[0])\n",
        "print(\"Accuracy: %0.2f\" % token_accuracy)"
      ]
    },
    {
      "cell_type": "markdown",
      "metadata": {
        "id": "Twox0s_3eS0V"
      },
      "source": [
        "As the sentiment lexicon also has information about the **magnitude** of\n",
        "sentiment (e.g., *“excellent\"* has the same sentiment _polarity_ as *“good\"* but it has a higher magnitude), we can take a more fine-grained approach by adding up all\n",
        "sentiment scores, and deciding the polarity of the movie review using\n",
        "the sign of the weighted score $S_{weighted}$.\n",
        "\n",
        "$$S_{weighted}(w_1w_2...w_n) = \\sum_{i = 1}^{n}SLex\\big[w_i\\big]$$\n",
        "\n",
        "\n",
        "Make sure you define an appropriate threshold for this approach.\n",
        "\n",
        "#### (Q1.2) Now incorporate magnitude information and report the classification accuracy. Don't forget to use the threshold. (1pt)"
      ]
    },
    {
      "cell_type": "code",
      "execution_count": 16,
      "metadata": {
        "id": "9vVk7CvDpyka",
        "outputId": "ff2af135-024c-4814-c7a3-8b2ab8155ef2",
        "colab": {
          "base_uri": "https://localhost:8080/"
        }
      },
      "outputs": [
        {
          "output_type": "stream",
          "name": "stdout",
          "text": [
            "Accuracy: 0.70\n"
          ]
        }
      ],
      "source": [
        "magnitude_results = compute_token_results(reviews, lexicon, method=\"weighted\")\n",
        "magnitude_accuracy = np.sum(magnitude_results) / len(magnitude_results)\n",
        "print(\"Accuracy: %0.2f\" % magnitude_accuracy)"
      ]
    },
    {
      "cell_type": "markdown",
      "metadata": {
        "id": "h9SHoGPfsAHV"
      },
      "source": [
        "#### (Q.1.3) Make a barplot of the two results (0.5pt)"
      ]
    },
    {
      "cell_type": "code",
      "execution_count": 17,
      "metadata": {
        "id": "8LgBcYcXsEk3",
        "outputId": "06d27f8f-f950-4506-f7dd-26ee6fc1e9cd",
        "colab": {
          "base_uri": "https://localhost:8080/",
          "height": 281
        }
      },
      "outputs": [
        {
          "output_type": "display_data",
          "data": {
            "text/plain": [
              "<Figure size 432x288 with 1 Axes>"
            ],
            "image/png": "[encoded data removed]"
          },
          "metadata": {
            "needs_background": "light"
          }
        }
      ],
      "source": [
        "plt.bar([\"Non-weighted\", \"Weighted\"], [token_accuracy, magnitude_accuracy])\n",
        "plt.title(\"Accuracy of sentiment classification\")\n",
        "plt.show()"
      ]
    },
    {
      "cell_type": "markdown",
      "metadata": {
        "id": "sNhS8OCVxMHd"
      },
      "source": [
        "#### (Q1.4) A better threshold (1pt)\n",
        "Above we have defined a threshold to account for an inherent bias in the dataset: there are more positive than negative words per review.\n",
        "However, that threshold does not take into account *document length*. Explain why this is a problem and implement an alternative way to compute the threshold."
      ]
    },
    {
      "cell_type": "markdown",
      "metadata": {
        "id": "xo7gk1I-omLI"
      },
      "source": [
        "We can divide the sentiment for each sentiment by the length of the review, and then multiply the final threshold by the average length of the reviews. This way, we can account for the length of the review, and the bias in the dataset."
      ]
    },
    {
      "cell_type": "code",
      "execution_count": null,
      "metadata": {
        "id": "Dwt0B8h8aKjr"
      },
      "outputs": [],
      "source": []
    },
    {
      "cell_type": "markdown",
      "metadata": {
        "id": "LibV4nR89BXb"
      },
      "source": [
        "# (2) Naive Bayes (9.5pts)"
      ]
    },
    {
      "cell_type": "markdown",
      "metadata": {
        "id": "fnF9adQnuwia"
      },
      "source": [
        "\n",
        "Your second task is to program a simple Machine Learning approach that operates\n",
        "on a simple Bag-of-Words (BoW) representation of the text data, as\n",
        "described by Pang et al. (2002). In this approach, the only features we\n",
        "will consider are the words in the text themselves, without bringing in\n",
        "external sources of information. The BoW model is a popular way of\n",
        "representing texts as vectors, making it\n",
        "easy to apply classical Machine Learning algorithms on NLP tasks.\n",
        "However, the BoW representation is also very crude, since it discards\n",
        "all information related to word order and grammatical structure in the\n",
        "original text—as the name suggests.\n",
        "\n",
        "## Writing your own classifier (4pts)\n",
        "\n",
        "Write your own code to implement the Naive Bayes (NB) classifier. As\n",
        "a reminder, the Naive Bayes classifier works according to the following\n",
        "equation:\n",
        "$$\\hat{c} = \\operatorname*{arg\\,max}_{c \\in C} P(c|\\bar{f}) = \\operatorname*{arg\\,max}_{c \\in C} P(c)\\prod^n_{i=1} P(f_i|c)$$\n",
        "where $C = \\{ \\text{POS}, \\text{NEG} \\}$ is the set of possible classes,\n",
        "$\\hat{c} \\in C$ is the most probable class, and $\\bar{f}$ is the feature\n",
        "vector. Remember that we use the log of these probabilities when making\n",
        "a prediction:\n",
        "$$\\hat{c} = \\operatorname*{arg\\,max}_{c \\in C} \\Big\\{\\log P(c) + \\sum^n_{i=1} \\log P(f_i|c)\\Big\\}$$\n",
        "\n",
        "You can find more details about Naive Bayes in [Jurafsky &\n",
        "Martin](https://web.stanford.edu/~jurafsky/slp3/). You can also look at\n",
        "this helpful\n",
        "[pseudo-code](https://nlp.stanford.edu/IR-book/html/htmledition/naive-bayes-text-classification-1.html).\n",
        "\n",
        "*Note: this section and the next aim to put you in a position to replicate\n",
        "    Pang et al.'s Naive Bayes results. However, your numerical results\n",
        "    will differ from theirs, as they used different data.*\n",
        "\n",
        "**You must write the Naive Bayes training and prediction code from\n",
        "scratch.** You will not be given credit for using off-the-shelf Machine\n",
        "Learning libraries.\n",
        "\n",
        "The data contains the text of the reviews, where each document consists\n",
        "of the sentences in the review, the sentiment of the review and an index\n",
        "(cv) that you will later use for cross-validation. The\n",
        "text has already been tokenised and POS-tagged for you. Your algorithm\n",
        "should read in the text, **lowercase it**, store the words and their\n",
        "frequencies in an appropriate data structure that allows for easy\n",
        "computation of the probabilities used in the Naive Bayes algorithm, and\n",
        "then make predictions for new instances.\n"
      ]
    },
    {
      "cell_type": "markdown",
      "metadata": {
        "id": "vEpyQSBSkb33"
      },
      "source": [
        "#### (Q2.1) Unseen words (1pt)\n",
        "The presence of words in the test dataset that\n",
        "have not been seen during training can cause probabilities in the Naive Bayes classifier to equal $0$.\n",
        "These can be words which are unseen in both positive and negative training reviews (case 1), but also words which are seen in reviews _of only one sentiment class_ in the training dataset (case 2). In both cases, **you should skip these words for both classes**.  What would be the problem instead with skipping words only for one class in case 2? "
      ]
    },
    {
      "cell_type": "markdown",
      "metadata": {
        "id": "BanFiYYnoxDW"
      },
      "source": []
    },
    {
      "cell_type": "markdown",
      "metadata": {
        "id": "gsZRhaI3WvzC"
      },
      "source": [
        "#### (Q2.2) Train your classifier on (positive and negative) reviews with cv-value 000-899, and test it on the remaining (positive and negative) reviews cv900–cv999.  Report results using classification accuracy as your evaluation metric. Your  features are the word vocabulary. The value of a feature is the count of that feature (word) in the document. (2pts)\n"
      ]
    },
    {
      "cell_type": "code",
      "execution_count": 54,
      "metadata": {
        "id": "G7zaJYGFvIJ3",
        "outputId": "f685ab92-eb60-4c07-b0f1-25dd3b37de91",
        "colab": {
          "base_uri": "https://localhost:8080/"
        }
      },
      "outputs": [
        {
          "output_type": "stream",
          "name": "stdout",
          "text": [
            "Accuracy: 0.855\n"
          ]
        }
      ],
      "source": [
        "# YOUR CODE HERE\n",
        "\n",
        "def train_naive_bayes(reviews):\n",
        "    #create vocabulary\n",
        "    V = {}\n",
        "    for review in reviews:\n",
        "        for sentence in review[\"content\"]:\n",
        "            for token,_ in sentence:\n",
        "                if token.lower() not in V:\n",
        "                    V[token.lower()]={review[\"sentiment\"]:1}\n",
        "                elif review[\"sentiment\"] not in V[token.lower()]:\n",
        "                    V[token.lower()][review[\"sentiment\"]]=1\n",
        "                else:\n",
        "                    V[token.lower()][review[\"sentiment\"]]+=1\n",
        "\n",
        "    #create class vocabs\n",
        "    cp = {w:V[w][\"POS\"] for w in V if \"POS\" in V[w].keys()}\n",
        "    cn = {w:V[w][\"NEG\"] for w in V if \"NEG\" in V[w].keys()}\n",
        "\n",
        "    #calculate log-likelihoods\n",
        "    loglikelihood_p = {w:np.log(cp[w]/(sum(cp.values()))) for w in cp if \"NEG\" in V[w].keys()}\n",
        "    loglikelihood_n = {w:np.log(cn[w]/(sum(cn.values()))) for w in cn if \"POS\" in V[w].keys()}\n",
        "\n",
        "    return [loglikelihood_p, loglikelihood_n], V\n",
        "\n",
        "\n",
        "def test_naive_bayes(reviews, loglikelihoods:list, V):\n",
        "    right_predicted = 0\n",
        "    for review in reviews:\n",
        "        sum = np.zeros(2)\n",
        "        for index, c in enumerate(loglikelihoods):\n",
        "            for sentence in review[\"content\"]:\n",
        "                for word,_ in sentence:\n",
        "                    if word in c.keys():\n",
        "                        sum[index]+=c[word]\n",
        "        prediction = list([\"POS\",\"NEG\"])[np.argmax(sum)]\n",
        "        if review[\"sentiment\"]==prediction:\n",
        "            right_predicted+=1\n",
        "        \n",
        "    accuracy = right_predicted/len(reviews)\n",
        "    return accuracy\n",
        "\n",
        "\n",
        "\n",
        "train_reviews = [review for review in reviews if review[\"cv\"]<900]\n",
        "test_reviews = [review for review in reviews if review[\"cv\"]>=900]\n",
        "\n",
        "likelihoods, V = train_naive_bayes(train_reviews)\n",
        "\n",
        "\n",
        "print(f\"Accuracy: {test_naive_bayes(test_reviews, likelihoods,V)}\")\n",
        "\n",
        "\n",
        "    \n",
        "\n",
        "\n",
        "\n"
      ]
    },
    {
      "cell_type": "markdown",
      "metadata": {
        "id": "0INK-PBoM6CB"
      },
      "source": [
        "#### (Q2.3) Would you consider accuracy to also be a good way to evaluate your classifier in a situation where 90% of your data instances are of positive movie reviews? (1pt)\n",
        "\n",
        "Simulate this scenario by keeping the positive reviews\n",
        "data unchanged, but only using negative reviews cv000–cv089 for\n",
        "training, and cv900–cv909 for testing. Calculate the classification\n",
        "accuracy, and explain what changed."
      ]
    },
    {
      "cell_type": "markdown",
      "metadata": {
        "id": "oFbcsYlipBAw"
      },
      "source": [
        "*Write your answer here.*"
      ]
    },
    {
      "cell_type": "code",
      "execution_count": null,
      "metadata": {
        "id": "GWDkt5ZrrFGp"
      },
      "outputs": [],
      "source": [
        "# YOUR CODE HERE"
      ]
    },
    {
      "cell_type": "markdown",
      "metadata": {
        "id": "6wJzcHX3WUDm"
      },
      "source": [
        "## Smoothing (1pt)\n",
        "\n",
        "As mentioned above, the presence of words in the test dataset that\n",
        "have not been seen during training can cause probabilities in the Naive\n",
        "Bayes classifier to be $0$, thus making that particular test instance\n",
        "undecidable. The standard way to mitigate this effect (as well as to\n",
        "give more clout to rare words) is to use smoothing, in which the\n",
        "probability fraction\n",
        "$$\\frac{\\text{count}(w_i, c)}{\\sum\\limits_{w\\in V} \\text{count}(w, c)}$$ for a word\n",
        "$w_i$ becomes\n",
        "$$\\frac{\\text{count}(w_i, c) + \\text{smoothing}(w_i)}{\\sum\\limits_{w\\in V} \\text{count}(w, c) + \\sum\\limits_{w \\in V} \\text{smoothing}(w)}$$\n",
        "\n",
        "\n",
        "\n"
      ]
    },
    {
      "cell_type": "markdown",
      "metadata": {
        "id": "PBNIcbwUWphC"
      },
      "source": [
        "#### (Q2.4) Implement Laplace feature smoothing (1pt)\n",
        "Implement Laplace smoothing, i.e., smoothing with a constant value ($smoothing(w) = \\kappa, \\forall w \\in V$), in your Naive\n",
        "Bayes classifier’s code, and report the impact on performance. \n",
        "Use $\\kappa = 1$."
      ]
    },
    {
      "cell_type": "code",
      "execution_count": null,
      "metadata": {
        "id": "g03yflCc9kpW"
      },
      "outputs": [],
      "source": [
        "# YOUR CODE HERE"
      ]
    },
    {
      "cell_type": "markdown",
      "metadata": {
        "id": "ZiGcgwba87D5"
      },
      "source": [
        "## Cross-Validation (1.5pts)\n",
        "\n",
        "A serious danger in using Machine Learning on small datasets, with many\n",
        "iterations of slightly different versions of the algorithms, is ending up with Type III errors, also called the “testing hypotheses\n",
        "suggested by the data” errors. This type of error occurs when we make\n",
        "repeated improvements to our classifiers by playing with features and\n",
        "their processing, but we don’t get a fresh, never-before seen test\n",
        "dataset every time. Thus, we risk developing a classifier that gets better\n",
        "and better on our data, but only gets worse at generalizing to new, unseen data. In other words, we risk developping a classifier that overfits.\n",
        "\n",
        "A simple method to guard against Type III errors is to use\n",
        "Cross-Validation. In **N-fold Cross-Validation**, we divide the data into N\n",
        "distinct chunks, or folds. Then, we repeat the experiment N times: each\n",
        "time holding out one of the folds for testing, training our classifier\n",
        "on the remaining N - 1 data folds, and reporting performance on the\n",
        "held-out fold. We can use different strategies for dividing the data:\n",
        "\n",
        "-   Consecutive splitting:\n",
        "  - cv000–cv099 = Split 1\n",
        "  - cv100–cv199 = Split 2\n",
        "  - etc.\n",
        "  \n",
        "-   Round-robin splitting (mod 10):\n",
        "  - cv000, cv010, cv020, … = Split 1\n",
        "  - cv001, cv011, cv021, … = Split 2\n",
        "  - etc.\n",
        "\n",
        "-   Random sampling/splitting\n",
        "  - Not used here (but you may choose to split this way in a non-educational situation)\n",
        "\n"
      ]
    },
    {
      "cell_type": "markdown",
      "metadata": {
        "id": "8OeLcbSauGtR"
      },
      "source": [
        "#### (Q2.5) Write the code to implement 10-fold cross-validation using round-robin splitting for your Naive Bayes classifier from Q2.4 and compute the 10 accuracies. Report the final performance, which is the average of the performances per fold. If all splits perform equally well, this is a good sign. (1pt)"
      ]
    },
    {
      "cell_type": "code",
      "execution_count": null,
      "metadata": {
        "id": "3KeCGPa7Nuzx"
      },
      "outputs": [],
      "source": [
        "# YOUR CODE HERE"
      ]
    },
    {
      "cell_type": "markdown",
      "metadata": {
        "id": "otdlsDXBNyOa"
      },
      "source": [
        "#### (Q2.6) Report the variance of the 10 accuracy scores. (0.5pt)\n",
        "\n",
        "**Please report all future results using 10-fold cross-validation now\n",
        "(unless told to use the held-out test set).** Note: you're not allowed to use a library for computing the variance. "
      ]
    },
    {
      "cell_type": "code",
      "execution_count": null,
      "metadata": {
        "id": "ZoBQm1KuNzNR"
      },
      "outputs": [],
      "source": [
        "# YOUR CODE HERE"
      ]
    },
    {
      "cell_type": "markdown",
      "metadata": {
        "id": "s6A2zX9_BRKm"
      },
      "source": [
        "## Features, overfitting, and the curse of dimensionality\n",
        "\n",
        "In the Bag-of-Words model, ideally we would like each distinct word in\n",
        "the text to be mapped to its own dimension in the output vector\n",
        "representation. However, real world text is messy, and we need to decide\n",
        "on what we consider to be a word. For example, is “`word`\" different\n",
        "from “`Word`\", from “`word`”, or from “`words`\"? Too strict a\n",
        "definition, and the number of features explodes, while our algorithm\n",
        "fails to learn anything generalisable. Too lax, and we risk destroying\n",
        "our learning signal. In the following section, you will learn about\n",
        "confronting the feature sparsity and the overfitting problems as they\n",
        "occur in NLP classification tasks."
      ]
    },
    {
      "cell_type": "markdown",
      "metadata": {
        "id": "EKK8FNt8VtcZ"
      },
      "source": [
        "### Stemming (1.5pts)\n",
        "\n",
        "To make your algorithm more robust, use stemming and hash different inflections of a word to the same feature in the BoW vector space. Please use the [Porter stemming\n",
        "    algorithm](http://www.nltk.org/howto/stem.html) from NLTK.\n",
        "\n"
      ]
    },
    {
      "cell_type": "code",
      "execution_count": null,
      "metadata": {
        "id": "NxtCul1IrBi_"
      },
      "outputs": [],
      "source": [
        "# YOUR CODE HERE"
      ]
    },
    {
      "cell_type": "markdown",
      "metadata": {
        "id": "6SrJ1BeLXTnk"
      },
      "source": [
        "#### (Q2.7): How does the performance of your classifier change when you use stemming on your training and test datasets? (1pt)\n",
        "Use cross-validation to evaluate the classifier. \n"
      ]
    },
    {
      "cell_type": "code",
      "execution_count": null,
      "metadata": {
        "id": "gYqKBOiIrInT"
      },
      "outputs": [],
      "source": [
        "# YOUR ANSWER HERE"
      ]
    },
    {
      "cell_type": "markdown",
      "metadata": {
        "id": "JkDHVq_1XUVP"
      },
      "source": [
        "#### (Q2.8) What happens to the number of features (i.e., the size of the vocabulary) when using stemming as opposed to (Q2.4)? (0.5pt)\n",
        "Give actual numbers. You can use the held-out training set to determine these."
      ]
    },
    {
      "cell_type": "code",
      "execution_count": null,
      "metadata": {
        "id": "MA3vee5-rJyy"
      },
      "outputs": [],
      "source": [
        "# YOUR CODE HERE"
      ]
    },
    {
      "cell_type": "markdown",
      "metadata": {
        "id": "SoazfxbNV5Lq"
      },
      "source": [
        "### N-grams (1.5pts)\n",
        "\n",
        "A simple way of retaining some of the word\n",
        "order information when using bag-of-words representations is to use **n-gram** features. \n",
        "\n",
        "\n",
        "\n",
        "\n"
      ]
    },
    {
      "cell_type": "markdown",
      "metadata": {
        "id": "OHjy3I7-qWiu"
      },
      "source": [
        "#### (Q2.9) Retrain your classifier from (Q2.4) using **unigrams+bigrams** and **unigrams+bigrams+trigrams** as features. (1pt)\n",
        "Report accuracy and compare it with that of the approaches you have previously implemented. You are allowed to use NLTK to build n-grams from sentences."
      ]
    },
    {
      "cell_type": "code",
      "execution_count": null,
      "metadata": {
        "id": "eYuKMTOpq9jz"
      },
      "outputs": [],
      "source": [
        "# YOUR CODE HERE"
      ]
    },
    {
      "cell_type": "markdown",
      "metadata": {
        "id": "dVrGGArkrWoL"
      },
      "source": [
        "\n",
        "#### Q2.10: How many features does the BoW model have to take into account now? (0.5pt)\n",
        "How would you expect the number of features to increase theoretically (e.g., linear, square, cubed, exponential)? How does this number compare, in practice, to the number of features at (Q2.8)?\n",
        "\n",
        "Use the held-out training set once again for this.\n"
      ]
    },
    {
      "cell_type": "markdown",
      "metadata": {
        "id": "yEGZ9SV8pPaa"
      },
      "source": [
        "*Write your answer here.*"
      ]
    },
    {
      "cell_type": "code",
      "execution_count": null,
      "metadata": {
        "id": "_z8sAJeUrdtM"
      },
      "outputs": [],
      "source": [
        "# YOUR CODE HERE"
      ]
    },
    {
      "cell_type": "markdown",
      "metadata": {
        "id": "CHWKDL3YV6vh"
      },
      "source": [
        "# (3) Support Vector Machines (4pts)"
      ]
    },
    {
      "cell_type": "markdown",
      "metadata": {
        "id": "hJSYhcVaoJGt"
      },
      "source": [
        "Though simple to understand, implement, and debug, one\n",
        "major problem with the Naive Bayes classifier is that its performance\n",
        "deteriorates (becomes skewed) when it is being used with features which\n",
        "are not independent (i.e., are correlated). Another popular classifier\n",
        "that doesn’t scale as well to big data, and is not as simple to debug as\n",
        "Naive Bayes, but that doesn’t assume feature independence is the Support\n",
        "Vector Machine (SVM) classifier.\n",
        "\n",
        "You can find more details about SVMs in Chapter 7 of Bishop: Pattern Recognition and Machine Learning.\n",
        "Other sources for learning SVM:\n",
        "* http://web.mit.edu/zoya/www/SVM.pdf\n",
        "* http://www.cs.columbia.edu/~kathy/cs4701/documents/jason_svm_tutorial.pdf\n",
        "* https://pythonprogramming.net/support-vector-machine-intro-machine-learning-tutorial/\n",
        "\n",
        "\n",
        "\n",
        "\n",
        "\n",
        "\n",
        "\n",
        "Use the scikit-learn implementation of \n",
        "[SVM](http://scikit-learn.org/stable/modules/svm.html) with the default parameters. (You are not expected to perform any hyperparameter tuning, but feel free to do it if you think it gives you good insights for the discussion in question 5.)\n",
        "\n"
      ]
    },
    {
      "cell_type": "markdown",
      "metadata": {
        "id": "0LnzNtQBV8gr"
      },
      "source": [
        "#### (Q3.1): Train SVM and compare to Naive Bayes (2pts)\n",
        "\n",
        "Train an SVM classifier (sklearn.svm.LinearSVC) using the features collected for Naive Bayes. Compare the\n",
        "classification performance of the SVM classifier to that of the Naive\n",
        "Bayes classifier with smoothing.\n",
        "Use cross-validation to evaluate the performance of the classifiers.\n",
        "\n"
      ]
    },
    {
      "cell_type": "code",
      "execution_count": null,
      "metadata": {
        "id": "JBscui8Mvoz0"
      },
      "outputs": [],
      "source": [
        "# YOUR CODE HERE"
      ]
    },
    {
      "cell_type": "markdown",
      "metadata": {
        "id": "ifXVWcK0V9qY"
      },
      "source": [
        "### POS disambiguation (2pts)\n",
        "\n",
        "Now add in part-of-speech features. You will find the\n",
        "movie review dataset has already been POS-tagged for you ([here](https://catalog.ldc.upenn.edu/docs/LDC99T42/tagguid1.pdf) you find the tagset). Try to\n",
        "replicate the results obtained by Pang et al. (2002).\n",
        "\n"
      ]
    },
    {
      "cell_type": "markdown",
      "metadata": {
        "id": "xA3I82o4oWGu"
      },
      "source": [
        "####(Q3.2) Replace your features with word+POS features, and report performance with the SVM. Use cross-validation to evaluate the classifier and compare the results with (Q3.1). Does part-of-speech information help? Explain why this may be the case. (1pt)\n"
      ]
    },
    {
      "cell_type": "code",
      "execution_count": null,
      "metadata": {
        "id": "NOvjYe-t2Br6"
      },
      "outputs": [],
      "source": [
        "# YOUR CODE HERE"
      ]
    },
    {
      "cell_type": "markdown",
      "metadata": {
        "id": "L0dt_oQupUNe"
      },
      "source": [
        "*Write your answer here.*"
      ]
    },
    {
      "cell_type": "markdown",
      "metadata": {
        "id": "Su-3w87eMW0w"
      },
      "source": [
        "#### (Q3.3) Discard all closed-class words from your data (keep only nouns, verbs, adjectives, and adverbs), and report performance. Does this help? Use cross-validation to evaluate the classifier and compare the results with (Q3.2). Are closed-class words detrimental to the classifier? Explain why this may be the case. (1pt)"
      ]
    },
    {
      "cell_type": "code",
      "execution_count": null,
      "metadata": {
        "id": "CCUPlPozCYUX"
      },
      "outputs": [],
      "source": [
        "# YOUR CODE HERE"
      ]
    },
    {
      "cell_type": "markdown",
      "metadata": {
        "id": "YaxCVrs8pWSp"
      },
      "source": [
        "*Write your answer here.*"
      ]
    },
    {
      "cell_type": "markdown",
      "metadata": {
        "id": "nfwqOciAl2No"
      },
      "source": [
        "# (Q4) Discussion (max. 500 words). (5pts)\n",
        "\n",
        "> Based on your experiments, what are the effective features and techniques in sentiment analysis? What information do different features encode?\n",
        "Why is this important? What are the limitations of these features and techniques?\n",
        " \n"
      ]
    },
    {
      "cell_type": "markdown",
      "metadata": {
        "id": "ZYuse5WLmekZ"
      },
      "source": [
        "*Write your answer here in up to 500 words (-0.25pt for >50 extra words, -0.5 points for >100 extra words, ...)*.\n"
      ]
    },
    {
      "cell_type": "markdown",
      "metadata": {
        "id": "iwaKwfWQhRk_"
      },
      "source": [
        "# Submission \n"
      ]
    },
    {
      "cell_type": "code",
      "execution_count": null,
      "metadata": {
        "id": "aOUeaET5ijk-"
      },
      "outputs": [],
      "source": [
        "# Write your names and student numbers here:\n",
        "# Student 1 #12345\n",
        "# Student 2 #12345"
      ]
    },
    {
      "cell_type": "markdown",
      "metadata": {
        "id": "3A9K-H6Tii3X"
      },
      "source": [
        "**That's it!**\n",
        "\n",
        "- Check if you answered all questions fully and correctly. \n",
        "- Download your completed notebook using `File -> Download .ipynb` \n",
        "- Check if your answers are all included in the file you submit.\n",
        "- Submit your .ipynb file via *Canvas*. One submission per group. "
      ]
    },
    {
      "cell_type": "code",
      "execution_count": null,
      "metadata": {
        "id": "YHslatYAKBrF"
      },
      "outputs": [],
      "source": []
    }
  ],
  "metadata": {
    "colab": {
      "collapsed_sections": [],
      "provenance": []
    },
    "kernelspec": {
      "display_name": "Python 3.10.6 ('nlp1')",
      "language": "python",
      "name": "python3"
    },
    "language_info": {
      "codemirror_mode": {
        "name": "ipython",
        "version": 3
      },
      "file_extension": ".py",
      "mimetype": "text/x-python",
      "name": "python",
      "nbconvert_exporter": "python",
      "pygments_lexer": "ipython3",
      "version": "3.10.6"
    },
    "vscode": {
      "interpreter": {
        "hash": "b046196e79d13057a1e899176eb3e219f0bd1adae78ef5ddaf046d28f570e8e9"
      }
    }
  },
  "nbformat": 4,
  "nbformat_minor": 0
}